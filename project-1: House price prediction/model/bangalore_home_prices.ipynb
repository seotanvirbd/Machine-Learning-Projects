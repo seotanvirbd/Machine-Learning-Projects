<!DOCTYPE html>

<html lang="en">
<head><meta charset="utf-8"/>
<meta content="width=device-width, initial-scale=1.0" name="viewport"/>
<title>bangalore_home_prices</title><script src="https://cdnjs.cloudflare.com/ajax/libs/require.js/2.1.10/require.min.js"></script>
<style type="text/css">
    pre { line-height: 125%; }
td.linenos .normal { color: inherit; background-color: transparent; padding-left: 5px; padding-right: 5px; }
span.linenos { color: inherit; background-color: transparent; padding-left: 5px; padding-right: 5px; }
td.linenos .special { color: #000000; background-color: #ffffc0; padding-left: 5px; padding-right: 5px; }
span.linenos.special { color: #000000; background-color: #ffffc0; padding-left: 5px; padding-right: 5px; }
.highlight .hll { background-color: var(--jp-cell-editor-active-background) }
.highlight { background: var(--jp-cell-editor-background); color: var(--jp-mirror-editor-variable-color) }
.highlight .c { color: var(--jp-mirror-editor-comment-color); font-style: italic } /* Comment */
.highlight .err { color: var(--jp-mirror-editor-error-color) } /* Error */
.highlight .k { color: var(--jp-mirror-editor-keyword-color); font-weight: bold } /* Keyword */
.highlight .o { color: var(--jp-mirror-editor-operator-color); font-weight: bold } /* Operator */
.highlight .p { color: var(--jp-mirror-editor-punctuation-color) } /* Punctuation */
.highlight .ch { color: var(--jp-mirror-editor-comment-color); font-style: italic } /* Comment.Hashbang */
.highlight .cm { color: var(--jp-mirror-editor-comment-color); font-style: italic } /* Comment.Multiline */
.highlight .cp { color: var(--jp-mirror-editor-comment-color); font-style: italic } /* Comment.Preproc */
.highlight .cpf { color: var(--jp-mirror-editor-comment-color); font-style: italic } /* Comment.PreprocFile */
.highlight .c1 { color: var(--jp-mirror-editor-comment-color); font-style: italic } /* Comment.Single */
.highlight .cs { color: var(--jp-mirror-editor-comment-color); font-style: italic } /* Comment.Special */
.highlight .kc { color: var(--jp-mirror-editor-keyword-color); font-weight: bold } /* Keyword.Constant */
.highlight .kd { color: var(--jp-mirror-editor-keyword-color); font-weight: bold } /* Keyword.Declaration */
.highlight .kn { color: var(--jp-mirror-editor-keyword-color); font-weight: bold } /* Keyword.Namespace */
.highlight .kp { color: var(--jp-mirror-editor-keyword-color); font-weight: bold } /* Keyword.Pseudo */
.highlight .kr { color: var(--jp-mirror-editor-keyword-color); font-weight: bold } /* Keyword.Reserved */
.highlight .kt { color: var(--jp-mirror-editor-keyword-color); font-weight: bold } /* Keyword.Type */
.highlight .m { color: var(--jp-mirror-editor-number-color) } /* Literal.Number */
.highlight .s { color: var(--jp-mirror-editor-string-color) } /* Literal.String */
.highlight .ow { color: var(--jp-mirror-editor-operator-color); font-weight: bold } /* Operator.Word */
.highlight .pm { color: var(--jp-mirror-editor-punctuation-color) } /* Punctuation.Marker */
.highlight .w { color: var(--jp-mirror-editor-variable-color) } /* Text.Whitespace */
.highlight .mb { color: var(--jp-mirror-editor-number-color) } /* Literal.Number.Bin */
.highlight .mf { color: var(--jp-mirror-editor-number-color) } /* Literal.Number.Float */
.highlight .mh { color: var(--jp-mirror-editor-number-color) } /* Literal.Number.Hex */
.highlight .mi { color: var(--jp-mirror-editor-number-color) } /* Literal.Number.Integer */
.highlight .mo { color: var(--jp-mirror-editor-number-color) } /* Literal.Number.Oct */
.highlight .sa { color: var(--jp-mirror-editor-string-color) } /* Literal.String.Affix */
.highlight .sb { color: var(--jp-mirror-editor-string-color) } /* Literal.String.Backtick */
.highlight .sc { color: var(--jp-mirror-editor-string-color) } /* Literal.String.Char */
.highlight .dl { color: var(--jp-mirror-editor-string-color) } /* Literal.String.Delimiter */
.highlight .sd { color: var(--jp-mirror-editor-string-color) } /* Literal.String.Doc */
.highlight .s2 { color: var(--jp-mirror-editor-string-color) } /* Literal.String.Double */
.highlight .se { color: var(--jp-mirror-editor-string-color) } /* Literal.String.Escape */
.highlight .sh { color: var(--jp-mirror-editor-string-color) } /* Literal.String.Heredoc */
.highlight .si { color: var(--jp-mirror-editor-string-color) } /* Literal.String.Interpol */
.highlight .sx { color: var(--jp-mirror-editor-string-color) } /* Literal.String.Other */
.highlight .sr { color: var(--jp-mirror-editor-string-color) } /* Literal.String.Regex */
.highlight .s1 { color: var(--jp-mirror-editor-string-color) } /* Literal.String.Single */
.highlight .ss { color: var(--jp-mirror-editor-string-color) } /* Literal.String.Symbol */
.highlight .il { color: var(--jp-mirror-editor-number-color) } /* Literal.Number.Integer.Long */
  </style>
<style type="text/css">
/*-----------------------------------------------------------------------------
| Copyright (c) Jupyter Development Team.
| Distributed under the terms of the Modified BSD License.
|----------------------------------------------------------------------------*/

/*
 * Mozilla scrollbar styling
 */

/* use standard opaque scrollbars for most nodes */
[data-jp-theme-scrollbars='true'] {
  scrollbar-color: rgb(var(--jp-scrollbar-thumb-color))
    var(--jp-scrollbar-background-color);
}

/* for code nodes, use a transparent style of scrollbar. These selectors
 * will match lower in the tree, and so will override the above */
[data-jp-theme-scrollbars='true'] .CodeMirror-hscrollbar,
[data-jp-theme-scrollbars='true'] .CodeMirror-vscrollbar {
  scrollbar-color: rgba(var(--jp-scrollbar-thumb-color), 0.5) transparent;
}

/* tiny scrollbar */

.jp-scrollbar-tiny {
  scrollbar-color: rgba(var(--jp-scrollbar-thumb-color), 0.5) transparent;
  scrollbar-width: thin;
}

/* tiny scrollbar */

.jp-scrollbar-tiny::-webkit-scrollbar,
.jp-scrollbar-tiny::-webkit-scrollbar-corner {
  background-color: transparent;
  height: 4px;
  width: 4px;
}

.jp-scrollbar-tiny::-webkit-scrollbar-thumb {
  background: rgba(var(--jp-scrollbar-thumb-color), 0.5);
}

.jp-scrollbar-tiny::-webkit-scrollbar-track:horizontal {
  border-left: 0 solid transparent;
  border-right: 0 solid transparent;
}

.jp-scrollbar-tiny::-webkit-scrollbar-track:vertical {
  border-top: 0 solid transparent;
  border-bottom: 0 solid transparent;
}

/*
 * Lumino
 */

.lm-ScrollBar[data-orientation='horizontal'] {
  min-height: 16px;
  max-height: 16px;
  min-width: 45px;
  border-top: 1px solid #a0a0a0;
}

.lm-ScrollBar[data-orientation='vertical'] {
  min-width: 16px;
  max-width: 16px;
  min-height: 45px;
  border-left: 1px solid #a0a0a0;
}

.lm-ScrollBar-button {
  background-color: #f0f0f0;
  background-position: center center;
  min-height: 15px;
  max-height: 15px;
  min-width: 15px;
  max-width: 15px;
}

.lm-ScrollBar-button:hover {
  background-color: #dadada;
}

.lm-ScrollBar-button.lm-mod-active {
  background-color: #cdcdcd;
}

.lm-ScrollBar-track {
  background: #f0f0f0;
}

.lm-ScrollBar-thumb {
  background: #cdcdcd;
}

.lm-ScrollBar-thumb:hover {
  background: #bababa;
}

.lm-ScrollBar-thumb.lm-mod-active {
  background: #a0a0a0;
}

.lm-ScrollBar[data-orientation='horizontal'] .lm-ScrollBar-thumb {
  height: 100%;
  min-width: 15px;
  border-left: 1px solid #a0a0a0;
  border-right: 1px solid #a0a0a0;
}

.lm-ScrollBar[data-orientation='vertical'] .lm-ScrollBar-thumb {
  width: 100%;
  min-height: 15px;
  border-top: 1px solid #a0a0a0;
  border-bottom: 1px solid #a0a0a0;
}

.lm-ScrollBar[data-orientation='horizontal']
  .lm-ScrollBar-button[data-action='decrement'] {
  background-image: var(--jp-icon-caret-left);
  background-size: 17px;
}

.lm-ScrollBar[data-orientation='horizontal']
  .lm-ScrollBar-button[data-action='increment'] {
  background-image: var(--jp-icon-caret-right);
  background-size: 17px;
}

.lm-ScrollBar[data-orientation='vertical']
  .lm-ScrollBar-button[data-action='decrement'] {
  background-image: var(--jp-icon-caret-up);
  background-size: 17px;
}

.lm-ScrollBar[data-orientation='vertical']
  .lm-ScrollBar-button[data-action='increment'] {
  background-image: var(--jp-icon-caret-down);
  background-size: 17px;
}

/*
 * Copyright (c) Jupyter Development Team.
 * Distributed under the terms of the Modified BSD License.
 */

/*-----------------------------------------------------------------------------
| Copyright (c) Jupyter Development Team.
| Copyright (c) 2014-2017, PhosphorJS Contributors
|
| Distributed under the terms of the BSD 3-Clause License.
|
| The full license is in the file LICENSE, distributed with this software.
|----------------------------------------------------------------------------*/

.lm-Widget {
  box-sizing: border-box;
  position: relative;
  overflow: hidden;
}

.lm-Widget.lm-mod-hidden {
  display: none !important;
}

/*
 * Copyright (c) Jupyter Development Team.
 * Distributed under the terms of the Modified BSD License.
 */

.lm-AccordionPanel[data-orientation='horizontal'] > .lm-AccordionPanel-title {
  /* Title is rotated for horizontal accordion panel using CSS */
  display: block;
  transform-origin: top left;
  transform: rotate(-90deg) translate(-100%);
}

/*
 * Copyright (c) Jupyter Development Team.
 * Distributed under the terms of the Modified BSD License.
 */

/*-----------------------------------------------------------------------------
| Copyright (c) Jupyter Development Team.
| Copyright (c) 2014-2017, PhosphorJS Contributors
|
| Distributed under the terms of the BSD 3-Clause License.
|
| The full license is in the file LICENSE, distributed with this software.
|----------------------------------------------------------------------------*/

.lm-CommandPalette {
  display: flex;
  flex-direction: column;
  -webkit-user-select: none;
  -moz-user-select: none;
  -ms-user-select: none;
  user-select: none;
}

.lm-CommandPalette-search {
  flex: 0 0 auto;
}

.lm-CommandPalette-content {
  flex: 1 1 auto;
  margin: 0;
  padding: 0;
  min-height: 0;
  overflow: auto;
  list-style-type: none;
}

.lm-CommandPalette-header {
  overflow: hidden;
  white-space: nowrap;
  text-overflow: ellipsis;
}

.lm-CommandPalette-item {
  display: flex;
  flex-direction: row;
}

.lm-CommandPalette-itemIcon {
  flex: 0 0 auto;
}

.lm-CommandPalette-itemContent {
  flex: 1 1 auto;
  overflow: hidden;
}

.lm-CommandPalette-itemShortcut {
  flex: 0 0 auto;
}

.lm-CommandPalette-itemLabel {
  overflow: hidden;
  white-space: nowrap;
  text-overflow: ellipsis;
}

.lm-close-icon {
  border: 1px solid transparent;
  background-color: transparent;
  position: absolute;
  z-index: 1;
  right: 3%;
  top: 0;
  bottom: 0;
  margin: auto;
  padding: 7px 0;
  display: none;
  vertical-align: middle;
  outline: 0;
  cursor: pointer;
}
.lm-close-icon:after {
  content: 'X';
  display: block;
  width: 15px;
  height: 15px;
  text-align: center;
  color: #000;
  font-weight: normal;
  font-size: 12px;
  cursor: pointer;
}

/*
 * Copyright (c) Jupyter Development Team.
 * Distributed under the terms of the Modified BSD License.
 */

/*-----------------------------------------------------------------------------
| Copyright (c) Jupyter Development Team.
| Copyright (c) 2014-2017, PhosphorJS Contributors
|
| Distributed under the terms of the BSD 3-Clause License.
|
| The full license is in the file LICENSE, distributed with this software.
|----------------------------------------------------------------------------*/

.lm-DockPanel {
  z-index: 0;
}

.lm-DockPanel-widget {
  z-index: 0;
}

.lm-DockPanel-tabBar {
  z-index: 1;
}

.lm-DockPanel-handle {
  z-index: 2;
}

.lm-DockPanel-handle.lm-mod-hidden {
  display: none !important;
}

.lm-DockPanel-handle:after {
  position: absolute;
  top: 0;
  left: 0;
  width: 100%;
  height: 100%;
  content: '';
}

.lm-DockPanel-handle[data-orientation='horizontal'] {
  cursor: ew-resize;
}

.lm-DockPanel-handle[data-orientation='vertical'] {
  cursor: ns-resize;
}

.lm-DockPanel-handle[data-orientation='horizontal']:after {
  left: 50%;
  min-width: 8px;
  transform: translateX(-50%);
}

.lm-DockPanel-handle[data-orientation='vertical']:after {
  top: 50%;
  min-height: 8px;
  transform: translateY(-50%);
}

.lm-DockPanel-overlay {
  z-index: 3;
  box-sizing: border-box;
  pointer-events: none;
}

.lm-DockPanel-overlay.lm-mod-hidden {
  display: none !important;
}

/*
 * Copyright (c) Jupyter Development Team.
 * Distributed under the terms of the Modified BSD License.
 */

/*-----------------------------------------------------------------------------
| Copyright (c) Jupyter Development Team.
| Copyright (c) 2014-2017, PhosphorJS Contributors
|
| Distributed under the terms of the BSD 3-Clause License.
|
| The full license is in the file LICENSE, distributed with this software.
|----------------------------------------------------------------------------*/

.lm-Menu {
  z-index: 10000;
  position: absolute;
  white-space: nowrap;
  overflow-x: hidden;
  overflow-y: auto;
  outline: none;
  -webkit-user-select: none;
  -moz-user-select: none;
  -ms-user-select: none;
  user-select: none;
}

.lm-Menu-content {
  margin: 0;
  padding: 0;
  display: table;
  list-style-type: none;
}

.lm-Menu-item {
  display: table-row;
}

.lm-Menu-item.lm-mod-hidden,
.lm-Menu-item.lm-mod-collapsed {
  display: none !important;
}

.lm-Menu-itemIcon,
.lm-Menu-itemSubmenuIcon {
  display: table-cell;
  text-align: center;
}

.lm-Menu-itemLabel {
  display: table-cell;
  text-align: left;
}

.lm-Menu-itemShortcut {
  display: table-cell;
  text-align: right;
}

/*
 * Copyright (c) Jupyter Development Team.
 * Distributed under the terms of the Modified BSD License.
 */

/*-----------------------------------------------------------------------------
| Copyright (c) Jupyter Development Team.
| Copyright (c) 2014-2017, PhosphorJS Contributors
|
| Distributed under the terms of the BSD 3-Clause License.
|
| The full license is in the file LICENSE, distributed with this software.
|----------------------------------------------------------------------------*/

.lm-MenuBar {
  outline: none;
  -webkit-user-select: none;
  -moz-user-select: none;
  -ms-user-select: none;
  user-select: none;
}

.lm-MenuBar-content {
  margin: 0;
  padding: 0;
  display: flex;
  flex-direction: row;
  list-style-type: none;
}

.lm-MenuBar-item {
  box-sizing: border-box;
}

.lm-MenuBar-itemIcon,
.lm-MenuBar-itemLabel {
  display: inline-block;
}

/*
 * Copyright (c) Jupyter Development Team.
 * Distributed under the terms of the Modified BSD License.
 */

/*-----------------------------------------------------------------------------
| Copyright (c) Jupyter Development Team.
| Copyright (c) 2014-2017, PhosphorJS Contributors
|
| Distributed under the terms of the BSD 3-Clause License.
|
| The full license is in the file LICENSE, distributed with this software.
|----------------------------------------------------------------------------*/

.lm-ScrollBar {
  display: flex;
  -webkit-user-select: none;
  -moz-user-select: none;
  -ms-user-select: none;
  user-select: none;
}

.lm-ScrollBar[data-orientation='horizontal'] {
  flex-direction: row;
}

.lm-ScrollBar[data-orientation='vertical'] {
  flex-direction: column;
}

.lm-ScrollBar-button {
  box-sizing: border-box;
  flex: 0 0 auto;
}

.lm-ScrollBar-track {
  box-sizing: border-box;
  position: relative;
  overflow: hidden;
  flex: 1 1 auto;
}

.lm-ScrollBar-thumb {
  box-sizing: border-box;
  position: absolute;
}

/*
 * Copyright (c) Jupyter Development Team.
 * Distributed under the terms of the Modified BSD License.
 */

/*-----------------------------------------------------------------------------
| Copyright (c) Jupyter Development Team.
| Copyright (c) 2014-2017, PhosphorJS Contributors
|
| Distributed under the terms of the BSD 3-Clause License.
|
| The full license is in the file LICENSE, distributed with this software.
|----------------------------------------------------------------------------*/

.lm-SplitPanel-child {
  z-index: 0;
}

.lm-SplitPanel-handle {
  z-index: 1;
}

.lm-SplitPanel-handle.lm-mod-hidden {
  display: none !important;
}

.lm-SplitPanel-handle:after {
  position: absolute;
  top: 0;
  left: 0;
  width: 100%;
  height: 100%;
  content: '';
}

.lm-SplitPanel[data-orientation='horizontal'] > .lm-SplitPanel-handle {
  cursor: ew-resize;
}

.lm-SplitPanel[data-orientation='vertical'] > .lm-SplitPanel-handle {
  cursor: ns-resize;
}

.lm-SplitPanel[data-orientation='horizontal'] > .lm-SplitPanel-handle:after {
  left: 50%;
  min-width: 8px;
  transform: translateX(-50%);
}

.lm-SplitPanel[data-orientation='vertical'] > .lm-SplitPanel-handle:after {
  top: 50%;
  min-height: 8px;
  transform: translateY(-50%);
}

/*
 * Copyright (c) Jupyter Development Team.
 * Distributed under the terms of the Modified BSD License.
 */

/*-----------------------------------------------------------------------------
| Copyright (c) Jupyter Development Team.
| Copyright (c) 2014-2017, PhosphorJS Contributors
|
| Distributed under the terms of the BSD 3-Clause License.
|
| The full license is in the file LICENSE, distributed with this software.
|----------------------------------------------------------------------------*/

.lm-TabBar {
  display: flex;
  -webkit-user-select: none;
  -moz-user-select: none;
  -ms-user-select: none;
  user-select: none;
}

.lm-TabBar[data-orientation='horizontal'] {
  flex-direction: row;
  align-items: flex-end;
}

.lm-TabBar[data-orientation='vertical'] {
  flex-direction: column;
  align-items: flex-end;
}

.lm-TabBar-content {
  margin: 0;
  padding: 0;
  display: flex;
  flex: 1 1 auto;
  list-style-type: none;
}

.lm-TabBar[data-orientation='horizontal'] > .lm-TabBar-content {
  flex-direction: row;
}

.lm-TabBar[data-orientation='vertical'] > .lm-TabBar-content {
  flex-direction: column;
}

.lm-TabBar-tab {
  display: flex;
  flex-direction: row;
  box-sizing: border-box;
  overflow: hidden;
  touch-action: none; /* Disable native Drag/Drop */
}

.lm-TabBar-tabIcon,
.lm-TabBar-tabCloseIcon {
  flex: 0 0 auto;
}

.lm-TabBar-tabLabel {
  flex: 1 1 auto;
  overflow: hidden;
  white-space: nowrap;
}

.lm-TabBar-tabInput {
  user-select: all;
  width: 100%;
  box-sizing: border-box;
}

.lm-TabBar-tab.lm-mod-hidden {
  display: none !important;
}

.lm-TabBar-addButton.lm-mod-hidden {
  display: none !important;
}

.lm-TabBar.lm-mod-dragging .lm-TabBar-tab {
  position: relative;
}

.lm-TabBar.lm-mod-dragging[data-orientation='horizontal'] .lm-TabBar-tab {
  left: 0;
  transition: left 150ms ease;
}

.lm-TabBar.lm-mod-dragging[data-orientation='vertical'] .lm-TabBar-tab {
  top: 0;
  transition: top 150ms ease;
}

.lm-TabBar.lm-mod-dragging .lm-TabBar-tab.lm-mod-dragging {
  transition: none;
}

.lm-TabBar-tabLabel .lm-TabBar-tabInput {
  user-select: all;
  width: 100%;
  box-sizing: border-box;
  background: inherit;
}

/*
 * Copyright (c) Jupyter Development Team.
 * Distributed under the terms of the Modified BSD License.
 */

/*-----------------------------------------------------------------------------
| Copyright (c) Jupyter Development Team.
| Copyright (c) 2014-2017, PhosphorJS Contributors
|
| Distributed under the terms of the BSD 3-Clause License.
|
| The full license is in the file LICENSE, distributed with this software.
|----------------------------------------------------------------------------*/

.lm-TabPanel-tabBar {
  z-index: 1;
}

.lm-TabPanel-stackedPanel {
  z-index: 0;
}

/*
 * Copyright (c) Jupyter Development Team.
 * Distributed under the terms of the Modified BSD License.
 */

/*-----------------------------------------------------------------------------
| Copyright (c) Jupyter Development Team.
| Copyright (c) 2014-2017, PhosphorJS Contributors
|
| Distributed under the terms of the BSD 3-Clause License.
|
| The full license is in the file LICENSE, distributed with this software.
|----------------------------------------------------------------------------*/

/*-----------------------------------------------------------------------------
| Copyright (c) Jupyter Development Team.
| Distributed under the terms of the Modified BSD License.
|----------------------------------------------------------------------------*/

.jp-Collapse {
  display: flex;
  flex-direction: column;
  align-items: stretch;
}

.jp-Collapse-header {
  padding: 1px 12px;
  background-color: var(--jp-layout-color1);
  border-bottom: solid var(--jp-border-width) var(--jp-border-color2);
  color: var(--jp-ui-font-color1);
  cursor: pointer;
  display: flex;
  align-items: center;
  font-size: var(--jp-ui-font-size0);
  font-weight: 600;
  text-transform: uppercase;
  user-select: none;
}

.jp-Collapser-icon {
  height: 16px;
}

.jp-Collapse-header-collapsed .jp-Collapser-icon {
  transform: rotate(-90deg);
  margin: auto 0;
}

.jp-Collapser-title {
  line-height: 25px;
}

.jp-Collapse-contents {
  padding: 0 12px;
  background-color: var(--jp-layout-color1);
  color: var(--jp-ui-font-color1);
  overflow: auto;
}

/*-----------------------------------------------------------------------------
| Copyright (c) Jupyter Development Team.
| Distributed under the terms of the Modified BSD License.
|----------------------------------------------------------------------------*/

/* This file was auto-generated by ensureUiComponents() in @jupyterlab/buildutils */

/**
 * (DEPRECATED) Support for consuming icons as CSS background images
 */

/* Icons urls */

:root {
  --jp-icon-add-above: url(data:image/svg+xml;base64,PHN2ZyB3aWR0aD0iMTQiIGhlaWdodD0iMTQiIHZpZXdCb3g9IjAgMCAxNCAxNCIgZmlsbD0ibm9uZSIgeG1sbnM9Imh0dHA6Ly93d3cudzMub3JnLzIwMDAvc3ZnIj4KPGcgY2xpcC1wYXRoPSJ1cmwoI2NsaXAwXzEzN18xOTQ5MikiPgo8cGF0aCBjbGFzcz0ianAtaWNvbjMiIGQ9Ik00Ljc1IDQuOTMwNjZINi42MjVWNi44MDU2NkM2LjYyNSA3LjAxMTkxIDYuNzkzNzUgNy4xODA2NiA3IDcuMTgwNjZDNy4yMDYyNSA3LjE4MDY2IDcuMzc1IDcuMDExOTEgNy4zNzUgNi44MDU2NlY0LjkzMDY2SDkuMjVDOS40NTYyNSA0LjkzMDY2IDkuNjI1IDQuNzYxOTEgOS42MjUgNC41NTU2NkM5LjYyNSA0LjM0OTQxIDkuNDU2MjUgNC4xODA2NiA5LjI1IDQuMTgwNjZINy4zNzVWMi4zMDU2NkM3LjM3NSAyLjA5OTQxIDcuMjA2MjUgMS45MzA2NiA3IDEuOTMwNjZDNi43OTM3NSAxLjkzMDY2IDYuNjI1IDIuMDk5NDEgNi42MjUgMi4zMDU2NlY0LjE4MDY2SDQuNzVDNC41NDM3NSA0LjE4MDY2IDQuMzc1IDQuMzQ5NDEgNC4zNzUgNC41NTU2NkM0LjM3NSA0Ljc2MTkxIDQuNTQzNzUgNC45MzA2NiA0Ljc1IDQuOTMwNjZaIiBmaWxsPSIjNjE2MTYxIiBzdHJva2U9IiM2MTYxNjEiIHN0cm9rZS13aWR0aD0iMC43Ii8+CjwvZz4KPHBhdGggY2xhc3M9ImpwLWljb24zIiBmaWxsLXJ1bGU9ImV2ZW5vZGQiIGNsaXAtcnVsZT0iZXZlbm9kZCIgZD0iTTExLjUgOS41VjExLjVMMi41IDExLjVWOS41TDExLjUgOS41Wk0xMiA4QzEyLjU1MjMgOCAxMyA4LjQ0NzcyIDEzIDlWMTJDMTMgMTIuNTUyMyAxMi41NTIzIDEzIDEyIDEzTDIgMTNDMS40NDc3MiAxMyAxIDEyLjU1MjMgMSAxMlY5QzEgOC40NDc3MiAxLjQ0NzcxIDggMiA4TDEyIDhaIiBmaWxsPSIjNjE2MTYxIi8+CjxkZWZzPgo8Y2xpcFBhdGggaWQ9ImNsaXAwXzEzN18xOTQ5MiI+CjxyZWN0IGNsYXNzPSJqcC1pY29uMyIgd2lkdGg9IjYiIGhlaWdodD0iNiIgZmlsbD0id2hpdGUiIHRyYW5zZm9ybT0ibWF0cml4KC0xIDAgMCAxIDEwIDEuNTU1NjYpIi8+CjwvY2xpcFBhdGg+CjwvZGVmcz4KPC9zdmc+Cg==);
  --jp-icon-add-below: url(data:image/svg+xml;base64,PHN2ZyB3aWR0aD0iMTQiIGhlaWdodD0iMTQiIHZpZXdCb3g9IjAgMCAxNCAxNCIgZmlsbD0ibm9uZSIgeG1sbnM9Imh0dHA6Ly93d3cudzMub3JnLzIwMDAvc3ZnIj4KPGcgY2xpcC1wYXRoPSJ1cmwoI2NsaXAwXzEzN18xOTQ5OCkiPgo8cGF0aCBjbGFzcz0ianAtaWNvbjMiIGQ9Ik05LjI1IDEwLjA2OTNMNy4zNzUgMTAuMDY5M0w3LjM3NSA4LjE5NDM0QzcuMzc1IDcuOTg4MDkgNy4yMDYyNSA3LjgxOTM0IDcgNy44MTkzNEM2Ljc5Mzc1IDcuODE5MzQgNi42MjUgNy45ODgwOSA2LjYyNSA4LjE5NDM0TDYuNjI1IDEwLjA2OTNMNC43NSAxMC4wNjkzQzQuNTQzNzUgMTAuMDY5MyA0LjM3NSAxMC4yMzgxIDQuMzc1IDEwLjQ0NDNDNC4zNzUgMTAuNjUwNiA0LjU0Mzc1IDEwLjgxOTMgNC43NSAxMC44MTkzTDYuNjI1IDEwLjgxOTNMNi42MjUgMTIuNjk0M0M2LjYyNSAxMi45MDA2IDYuNzkzNzUgMTMuMDY5MyA3IDEzLjA2OTNDNy4yMDYyNSAxMy4wNjkzIDcuMzc1IDEyLjkwMDYgNy4zNzUgMTIuNjk0M0w3LjM3NSAxMC44MTkzTDkuMjUgMTAuODE5M0M5LjQ1NjI1IDEwLjgxOTMgOS42MjUgMTAuNjUwNiA5LjYyNSAxMC40NDQzQzkuNjI1IDEwLjIzODEgOS40NTYyNSAxMC4wNjkzIDkuMjUgMTAuMDY5M1oiIGZpbGw9IiM2MTYxNjEiIHN0cm9rZT0iIzYxNjE2MSIgc3Ryb2tlLXdpZHRoPSIwLjciLz4KPC9nPgo8cGF0aCBjbGFzcz0ianAtaWNvbjMiIGZpbGwtcnVsZT0iZXZlbm9kZCIgY2xpcC1ydWxlPSJldmVub2RkIiBkPSJNMi41IDUuNUwyLjUgMy41TDExLjUgMy41TDExLjUgNS41TDIuNSA1LjVaTTIgN0MxLjQ0NzcyIDcgMSA2LjU1MjI4IDEgNkwxIDNDMSAyLjQ0NzcyIDEuNDQ3NzIgMiAyIDJMMTIgMkMxMi41NTIzIDIgMTMgMi40NDc3MiAxMyAzTDEzIDZDMTMgNi41NTIyOSAxMi41NTIzIDcgMTIgN0wyIDdaIiBmaWxsPSIjNjE2MTYxIi8+CjxkZWZzPgo8Y2xpcFBhdGggaWQ9ImNsaXAwXzEzN18xOTQ5OCI+CjxyZWN0IGNsYXNzPSJqcC1pY29uMyIgd2lkdGg9IjYiIGhlaWdodD0iNiIgZmlsbD0id2hpdGUiIHRyYW5zZm9ybT0ibWF0cml4KDEgMS43NDg0NmUtMDcgMS43NDg0NmUtMDcgLTEgNCAxMy40NDQzKSIvPgo8L2NsaXBQYXRoPgo8L2RlZnM+Cjwvc3ZnPgo=);
  --jp-icon-add: url(data:image/svg+xml;base64,PHN2ZyB4bWxucz0iaHR0cDovL3d3dy53My5vcmcvMjAwMC9zdmciIHdpZHRoPSIxNiIgdmlld0JveD0iMCAwIDI0IDI0Ij4KICA8ZyBjbGFzcz0ianAtaWNvbjMiIGZpbGw9IiM2MTYxNjEiPgogICAgPHBhdGggZD0iTTE5IDEzaC02djZoLTJ2LTZINXYtMmg2VjVoMnY2aDZ2MnoiLz4KICA8L2c+Cjwvc3ZnPgo=);
  --jp-icon-bell: url(data:image/svg+xml;base64,PHN2ZyB4bWxucz0iaHR0cDovL3d3dy53My5vcmcvMjAwMC9zdmciIHdpZHRoPSIxNiIgdmlld0JveD0iMCAwIDE2IDE2IiB2ZXJzaW9uPSIxLjEiPgogICA8cGF0aCBjbGFzcz0ianAtaWNvbjIganAtaWNvbi1zZWxlY3RhYmxlIiBmaWxsPSIjMzMzMzMzIgogICAgICBkPSJtOCAwLjI5Yy0xLjQgMC0yLjcgMC43My0zLjYgMS44LTEuMiAxLjUtMS40IDMuNC0xLjUgNS4yLTAuMTggMi4yLTAuNDQgNC0yLjMgNS4zbDAuMjggMS4zaDVjMC4wMjYgMC42NiAwLjMyIDEuMSAwLjcxIDEuNSAwLjg0IDAuNjEgMiAwLjYxIDIuOCAwIDAuNTItMC40IDAuNi0xIDAuNzEtMS41aDVsMC4yOC0xLjNjLTEuOS0wLjk3LTIuMi0zLjMtMi4zLTUuMy0wLjEzLTEuOC0wLjI2LTMuNy0xLjUtNS4yLTAuODUtMS0yLjItMS44LTMuNi0xLjh6bTAgMS40YzAuODggMCAxLjkgMC41NSAyLjUgMS4zIDAuODggMS4xIDEuMSAyLjcgMS4yIDQuNCAwLjEzIDEuNyAwLjIzIDMuNiAxLjMgNS4yaC0xMGMxLjEtMS42IDEuMi0zLjQgMS4zLTUuMiAwLjEzLTEuNyAwLjMtMy4zIDEuMi00LjQgMC41OS0wLjcyIDEuNi0xLjMgMi41LTEuM3ptLTAuNzQgMTJoMS41Yy0wLjAwMTUgMC4yOCAwLjAxNSAwLjc5LTAuNzQgMC43OS0wLjczIDAuMDAxNi0wLjcyLTAuNTMtMC43NC0wLjc5eiIgLz4KPC9zdmc+Cg==);
  --jp-icon-bug-dot: url(data:image/svg+xml;base64,PHN2ZyB3aWR0aD0iMjQiIGhlaWdodD0iMjQiIHZpZXdCb3g9IjAgMCAyNCAyNCIgZmlsbD0ibm9uZSIgeG1sbnM9Imh0dHA6Ly93d3cudzMub3JnLzIwMDAvc3ZnIj4KICAgIDxnIGNsYXNzPSJqcC1pY29uMyBqcC1pY29uLXNlbGVjdGFibGUiIGZpbGw9IiM2MTYxNjEiPgogICAgICAgIDxwYXRoIGZpbGwtcnVsZT0iZXZlbm9kZCIgY2xpcC1ydWxlPSJldmVub2RkIiBkPSJNMTcuMTkgOEgyMFYxMEgxNy45MUMxNy45NiAxMC4zMyAxOCAxMC42NiAxOCAxMVYxMkgyMFYxNEgxOC41SDE4VjE0LjAyNzVDMTUuNzUgMTQuMjc2MiAxNCAxNi4xODM3IDE0IDE4LjVDMTQgMTkuMjA4IDE0LjE2MzUgMTkuODc3OSAxNC40NTQ5IDIwLjQ3MzlDMTMuNzA2MyAyMC44MTE3IDEyLjg3NTcgMjEgMTIgMjFDOS43OCAyMSA3Ljg1IDE5Ljc5IDYuODEgMThINFYxNkg2LjA5QzYuMDQgMTUuNjcgNiAxNS4zNCA2IDE1VjE0SDRWMTJINlYxMUM2IDEwLjY2IDYuMDQgMTAuMzMgNi4wOSAxMEg0VjhINi44MUM3LjI2IDcuMjIgNy44OCA2LjU1IDguNjIgNi4wNEw3IDQuNDFMOC40MSAzTDEwLjU5IDUuMTdDMTEuMDQgNS4wNiAxMS41MSA1IDEyIDVDMTIuNDkgNSAxMi45NiA1LjA2IDEzLjQyIDUuMTdMMTUuNTkgM0wxNyA0LjQxTDE1LjM3IDYuMDRDMTYuMTIgNi41NSAxNi43NCA3LjIyIDE3LjE5IDhaTTEwIDE2SDE0VjE0SDEwVjE2Wk0xMCAxMkgxNFYxMEgxMFYxMloiIGZpbGw9IiM2MTYxNjEiLz4KICAgICAgICA8cGF0aCBkPSJNMjIgMTguNUMyMiAyMC40MzMgMjAuNDMzIDIyIDE4LjUgMjJDMTYuNTY3IDIyIDE1IDIwLjQzMyAxNSAxOC41QzE1IDE2LjU2NyAxNi41NjcgMTUgMTguNSAxNUMyMC40MzMgMTUgMjIgMTYuNTY3IDIyIDE4LjVaIiBmaWxsPSIjNjE2MTYxIi8+CiAgICA8L2c+Cjwvc3ZnPgo=);
  --jp-icon-bug: url(data:image/svg+xml;base64,PHN2ZyB2aWV3Qm94PSIwIDAgMjQgMjQiIHdpZHRoPSIxNiIgeG1sbnM9Imh0dHA6Ly93d3cudzMub3JnLzIwMDAvc3ZnIj4KICA8ZyBjbGFzcz0ianAtaWNvbjMganAtaWNvbi1zZWxlY3RhYmxlIiBmaWxsPSIjNjE2MTYxIj4KICAgIDxwYXRoIGQ9Ik0yMCA4aC0yLjgxYy0uNDUtLjc4LTEuMDctMS40NS0xLjgyLTEuOTZMMTcgNC40MSAxNS41OSAzbC0yLjE3IDIuMTdDMTIuOTYgNS4wNiAxMi40OSA1IDEyIDVjLS40OSAwLS45Ni4wNi0xLjQxLjE3TDguNDEgMyA3IDQuNDFsMS42MiAxLjYzQzcuODggNi41NSA3LjI2IDcuMjIgNi44MSA4SDR2MmgyLjA5Yy0uMDUuMzMtLjA5LjY2LS4wOSAxdjFINHYyaDJ2MWMwIC4zNC4wNC42Ny4wOSAxSDR2MmgyLjgxYzEuMDQgMS43OSAyLjk3IDMgNS4xOSAzczQuMTUtMS4yMSA1LjE5LTNIMjB2LTJoLTIuMDljLjA1LS4zMy4wOS0uNjYuMDktMXYtMWgydi0yaC0ydi0xYzAtLjM0LS4wNC0uNjctLjA5LTFIMjBWOHptLTYgOGgtNHYtMmg0djJ6bTAtNGgtNHYtMmg0djJ6Ii8+CiAgPC9nPgo8L3N2Zz4K);
  --jp-icon-build: url(data:image/svg+xml;base64,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);
  --jp-icon-caret-down-empty-thin: url(data:image/svg+xml;base64,PHN2ZyB4bWxucz0iaHR0cDovL3d3dy53My5vcmcvMjAwMC9zdmciIHdpZHRoPSIxNiIgdmlld0JveD0iMCAwIDIwIDIwIj4KCTxnIGNsYXNzPSJqcC1pY29uMyIgZmlsbD0iIzYxNjE2MSIgc2hhcGUtcmVuZGVyaW5nPSJnZW9tZXRyaWNQcmVjaXNpb24iPgoJCTxwb2x5Z29uIGNsYXNzPSJzdDEiIHBvaW50cz0iOS45LDEzLjYgMy42LDcuNCA0LjQsNi42IDkuOSwxMi4yIDE1LjQsNi43IDE2LjEsNy40ICIvPgoJPC9nPgo8L3N2Zz4K);
  --jp-icon-caret-down-empty: url(data:image/svg+xml;base64,PHN2ZyB4bWxucz0iaHR0cDovL3d3dy53My5vcmcvMjAwMC9zdmciIHdpZHRoPSIxNiIgdmlld0JveD0iMCAwIDE4IDE4Ij4KICA8ZyBjbGFzcz0ianAtaWNvbjMiIGZpbGw9IiM2MTYxNjEiIHNoYXBlLXJlbmRlcmluZz0iZ2VvbWV0cmljUHJlY2lzaW9uIj4KICAgIDxwYXRoIGQ9Ik01LjIsNS45TDksOS43bDMuOC0zLjhsMS4yLDEuMmwtNC45LDVsLTQuOS01TDUuMiw1Ljl6Ii8+CiAgPC9nPgo8L3N2Zz4K);
  --jp-icon-caret-down: url(data:image/svg+xml;base64,PHN2ZyB4bWxucz0iaHR0cDovL3d3dy53My5vcmcvMjAwMC9zdmciIHdpZHRoPSIxNiIgdmlld0JveD0iMCAwIDE4IDE4Ij4KICA8ZyBjbGFzcz0ianAtaWNvbjMiIGZpbGw9IiM2MTYxNjEiIHNoYXBlLXJlbmRlcmluZz0iZ2VvbWV0cmljUHJlY2lzaW9uIj4KICAgIDxwYXRoIGQ9Ik01LjIsNy41TDksMTEuMmwzLjgtMy44SDUuMnoiLz4KICA8L2c+Cjwvc3ZnPgo=);
  --jp-icon-caret-left: url(data:image/svg+xml;base64,PHN2ZyB4bWxucz0iaHR0cDovL3d3dy53My5vcmcvMjAwMC9zdmciIHdpZHRoPSIxNiIgdmlld0JveD0iMCAwIDE4IDE4Ij4KCTxnIGNsYXNzPSJqcC1pY29uMyIgZmlsbD0iIzYxNjE2MSIgc2hhcGUtcmVuZGVyaW5nPSJnZW9tZXRyaWNQcmVjaXNpb24iPgoJCTxwYXRoIGQ9Ik0xMC44LDEyLjhMNy4xLDlsMy44LTMuOGwwLDcuNkgxMC44eiIvPgogIDwvZz4KPC9zdmc+Cg==);
  --jp-icon-caret-right: url(data:image/svg+xml;base64,PHN2ZyB4bWxucz0iaHR0cDovL3d3dy53My5vcmcvMjAwMC9zdmciIHdpZHRoPSIxNiIgdmlld0JveD0iMCAwIDE4IDE4Ij4KICA8ZyBjbGFzcz0ianAtaWNvbjMiIGZpbGw9IiM2MTYxNjEiIHNoYXBlLXJlbmRlcmluZz0iZ2VvbWV0cmljUHJlY2lzaW9uIj4KICAgIDxwYXRoIGQ9Ik03LjIsNS4yTDEwLjksOWwtMy44LDMuOFY1LjJINy4yeiIvPgogIDwvZz4KPC9zdmc+Cg==);
  --jp-icon-caret-up-empty-thin: url(data:image/svg+xml;base64,PHN2ZyB4bWxucz0iaHR0cDovL3d3dy53My5vcmcvMjAwMC9zdmciIHdpZHRoPSIxNiIgdmlld0JveD0iMCAwIDIwIDIwIj4KCTxnIGNsYXNzPSJqcC1pY29uMyIgZmlsbD0iIzYxNjE2MSIgc2hhcGUtcmVuZGVyaW5nPSJnZW9tZXRyaWNQcmVjaXNpb24iPgoJCTxwb2x5Z29uIGNsYXNzPSJzdDEiIHBvaW50cz0iMTUuNCwxMy4zIDkuOSw3LjcgNC40LDEzLjIgMy42LDEyLjUgOS45LDYuMyAxNi4xLDEyLjYgIi8+Cgk8L2c+Cjwvc3ZnPgo=);
  --jp-icon-caret-up: url(data:image/svg+xml;base64,PHN2ZyB4bWxucz0iaHR0cDovL3d3dy53My5vcmcvMjAwMC9zdmciIHdpZHRoPSIxNiIgdmlld0JveD0iMCAwIDE4IDE4Ij4KCTxnIGNsYXNzPSJqcC1pY29uMyIgZmlsbD0iIzYxNjE2MSIgc2hhcGUtcmVuZGVyaW5nPSJnZW9tZXRyaWNQcmVjaXNpb24iPgoJCTxwYXRoIGQ9Ik01LjIsMTAuNUw5LDYuOGwzLjgsMy44SDUuMnoiLz4KICA8L2c+Cjwvc3ZnPgo=);
  --jp-icon-case-sensitive: url(data:image/svg+xml;base64,PHN2ZyB4bWxucz0iaHR0cDovL3d3dy53My5vcmcvMjAwMC9zdmciIHdpZHRoPSIxNiIgdmlld0JveD0iMCAwIDIwIDIwIj4KICA8ZyBjbGFzcz0ianAtaWNvbjIiIGZpbGw9IiM0MTQxNDEiPgogICAgPHJlY3QgeD0iMiIgeT0iMiIgd2lkdGg9IjE2IiBoZWlnaHQ9IjE2Ii8+CiAgPC9nPgogIDxnIGNsYXNzPSJqcC1pY29uLWFjY2VudDIiIGZpbGw9IiNGRkYiPgogICAgPHBhdGggZD0iTTcuNiw4aDAuOWwzLjUsOGgtMS4xTDEwLDE0SDZsLTAuOSwySDRMNy42LDh6IE04LDkuMUw2LjQsMTNoMy4yTDgsOS4xeiIvPgogICAgPHBhdGggZD0iTTE2LjYsOS44Yy0wLjIsMC4xLTAuNCwwLjEtMC43LDAuMWMtMC4yLDAtMC40LTAuMS0wLjYtMC4yYy0wLjEtMC4xLTAuMi0wLjQtMC4yLTAuNyBjLTAuMywwLjMtMC42LDAuNS0wLjksMC43Yy0wLjMsMC4xLTAuNywwLjItMS4xLDAuMmMtMC4zLDAtMC41LDAtMC43LTAuMWMtMC4yLTAuMS0wLjQtMC4yLTAuNi0wLjNjLTAuMi0wLjEtMC4zLTAuMy0wLjQtMC41IGMtMC4xLTAuMi0wLjEtMC40LTAuMS0wLjdjMC0wLjMsMC4xLTAuNiwwLjItMC44YzAuMS0wLjIsMC4zLTAuNCwwLjQtMC41QzEyLDcsMTIuMiw2LjksMTIuNSw2LjhjMC4yLTAuMSwwLjUtMC4xLDAuNy0wLjIgYzAuMy0wLjEsMC41LTAuMSwwLjctMC4xYzAuMiwwLDAuNC0wLjEsMC42LTAuMWMwLjIsMCwwLjMtMC4xLDAuNC0wLjJjMC4xLTAuMSwwLjItMC4yLDAuMi0wLjRjMC0xLTEuMS0xLTEuMy0xIGMtMC40LDAtMS40LDAtMS40LDEuMmgtMC45YzAtMC40LDAuMS0wLjcsMC4yLTFjMC4xLTAuMiwwLjMtMC40LDAuNS0wLjZjMC4yLTAuMiwwLjUtMC4zLDAuOC0wLjNDMTMuMyw0LDEzLjYsNCwxMy45LDQgYzAuMywwLDAuNSwwLDAuOCwwLjFjMC4zLDAsMC41LDAuMSwwLjcsMC4yYzAuMiwwLjEsMC40LDAuMywwLjUsMC41QzE2LDUsMTYsNS4yLDE2LDUuNnYyLjljMCwwLjIsMCwwLjQsMCwwLjUgYzAsMC4xLDAuMSwwLjIsMC4zLDAuMmMwLjEsMCwwLjIsMCwwLjMsMFY5Ljh6IE0xNS4yLDYuOWMtMS4yLDAuNi0zLjEsMC4yLTMuMSwxLjRjMCwxLjQsMy4xLDEsMy4xLTAuNVY2Ljl6Ii8+CiAgPC9nPgo8L3N2Zz4K);
  --jp-icon-check: url(data:image/svg+xml;base64,PHN2ZyB4bWxucz0iaHR0cDovL3d3dy53My5vcmcvMjAwMC9zdmciIHdpZHRoPSIxNiIgdmlld0JveD0iMCAwIDI0IDI0Ij4KICA8ZyBjbGFzcz0ianAtaWNvbjMganAtaWNvbi1zZWxlY3RhYmxlIiBmaWxsPSIjNjE2MTYxIj4KICAgIDxwYXRoIGQ9Ik05IDE2LjE3TDQuODMgMTJsLTEuNDIgMS40MUw5IDE5IDIxIDdsLTEuNDEtMS40MXoiLz4KICA8L2c+Cjwvc3ZnPgo=);
  --jp-icon-circle-empty: url(data:image/svg+xml;base64,PHN2ZyB4bWxucz0iaHR0cDovL3d3dy53My5vcmcvMjAwMC9zdmciIHdpZHRoPSIxNiIgdmlld0JveD0iMCAwIDI0IDI0Ij4KICA8ZyBjbGFzcz0ianAtaWNvbjMiIGZpbGw9IiM2MTYxNjEiPgogICAgPHBhdGggZD0iTTEyIDJDNi40NyAyIDIgNi40NyAyIDEyczQuNDcgMTAgMTAgMTAgMTAtNC40NyAxMC0xMFMxNy41MyAyIDEyIDJ6bTAgMThjLTQuNDEgMC04LTMuNTktOC04czMuNTktOCA4LTggOCAzLjU5IDggOC0zLjU5IDgtOCA4eiIvPgogIDwvZz4KPC9zdmc+Cg==);
  --jp-icon-circle: url(data:image/svg+xml;base64,PHN2ZyB2aWV3Qm94PSIwIDAgMTggMTgiIHdpZHRoPSIxNiIgeG1sbnM9Imh0dHA6Ly93d3cudzMub3JnLzIwMDAvc3ZnIj4KICA8ZyBjbGFzcz0ianAtaWNvbjMiIGZpbGw9IiM2MTYxNjEiPgogICAgPGNpcmNsZSBjeD0iOSIgY3k9IjkiIHI9IjgiLz4KICA8L2c+Cjwvc3ZnPgo=);
  --jp-icon-clear: url(data:image/svg+xml;base64,PHN2ZyB4bWxucz0iaHR0cDovL3d3dy53My5vcmcvMjAwMC9zdmciIHdpZHRoPSIxNiIgdmlld0JveD0iMCAwIDI0IDI0Ij4KICA8bWFzayBpZD0iZG9udXRIb2xlIj4KICAgIDxyZWN0IHdpZHRoPSIyNCIgaGVpZ2h0PSIyNCIgZmlsbD0id2hpdGUiIC8+CiAgICA8Y2lyY2xlIGN4PSIxMiIgY3k9IjEyIiByPSI4IiBmaWxsPSJibGFjayIvPgogIDwvbWFzaz4KCiAgPGcgY2xhc3M9ImpwLWljb24zIiBmaWxsPSIjNjE2MTYxIj4KICAgIDxyZWN0IGhlaWdodD0iMTgiIHdpZHRoPSIyIiB4PSIxMSIgeT0iMyIgdHJhbnNmb3JtPSJyb3RhdGUoMzE1LCAxMiwgMTIpIi8+CiAgICA8Y2lyY2xlIGN4PSIxMiIgY3k9IjEyIiByPSIxMCIgbWFzaz0idXJsKCNkb251dEhvbGUpIi8+CiAgPC9nPgo8L3N2Zz4K);
  --jp-icon-close: url(data:image/svg+xml;base64,PHN2ZyB2aWV3Qm94PSIwIDAgMjQgMjQiIHdpZHRoPSIxNiIgeG1sbnM9Imh0dHA6Ly93d3cudzMub3JnLzIwMDAvc3ZnIj4KICA8ZyBjbGFzcz0ianAtaWNvbi1ub25lIGpwLWljb24tc2VsZWN0YWJsZS1pbnZlcnNlIGpwLWljb24zLWhvdmVyIiBmaWxsPSJub25lIj4KICAgIDxjaXJjbGUgY3g9IjEyIiBjeT0iMTIiIHI9IjExIi8+CiAgPC9nPgoKICA8ZyBjbGFzcz0ianAtaWNvbjMganAtaWNvbi1zZWxlY3RhYmxlIGpwLWljb24tYWNjZW50Mi1ob3ZlciIgZmlsbD0iIzYxNjE2MSI+CiAgICA8cGF0aCBkPSJNMTkgNi40MUwxNy41OSA1IDEyIDEwLjU5IDYuNDEgNSA1IDYuNDEgMTAuNTkgMTIgNSAxNy41OSA2LjQxIDE5IDEyIDEzLjQxIDE3LjU5IDE5IDE5IDE3LjU5IDEzLjQxIDEyeiIvPgogIDwvZz4KCiAgPGcgY2xhc3M9ImpwLWljb24tbm9uZSBqcC1pY29uLWJ1c3kiIGZpbGw9Im5vbmUiPgogICAgPGNpcmNsZSBjeD0iMTIiIGN5PSIxMiIgcj0iNyIvPgogIDwvZz4KPC9zdmc+Cg==);
  --jp-icon-code-check: url(data:image/svg+xml;base64,PHN2ZyB4bWxucz0iaHR0cDovL3d3dy53My5vcmcvMjAwMC9zdmciIHdpZHRoPSIyNCIgdmlld0JveD0iMCAwIDI0IDI0Ij4KICA8ZyBjbGFzcz0ianAtaWNvbjMganAtaWNvbi1zZWxlY3RhYmxlIiBmaWxsPSIjNjE2MTYxIiBzaGFwZS1yZW5kZXJpbmc9Imdlb21ldHJpY1ByZWNpc2lvbiI+CiAgICA8cGF0aCBkPSJNNi41OSwzLjQxTDIsOEw2LjU5LDEyLjZMOCwxMS4xOEw0LjgyLDhMOCw0LjgyTDYuNTksMy40MU0xMi40MSwzLjQxTDExLDQuODJMMTQuMTgsOEwxMSwxMS4xOEwxMi40MSwxMi42TDE3LDhMMTIuNDEsMy40MU0yMS41OSwxMS41OUwxMy41LDE5LjY4TDkuODMsMTZMOC40MiwxNy40MUwxMy41LDIyLjVMMjMsMTNMMjEuNTksMTEuNTlaIiAvPgogIDwvZz4KPC9zdmc+Cg==);
  --jp-icon-code: url(data:image/svg+xml;base64,PHN2ZyB3aWR0aD0iMjIiIGhlaWdodD0iMjIiIHZpZXdCb3g9IjAgMCAyOCAyOCIgeG1sbnM9Imh0dHA6Ly93d3cudzMub3JnLzIwMDAvc3ZnIj4KCTxnIGNsYXNzPSJqcC1pY29uMyIgZmlsbD0iIzYxNjE2MSI+CgkJPHBhdGggZD0iTTExLjQgMTguNkw2LjggMTRMMTEuNCA5LjRMMTAgOEw0IDE0TDEwIDIwTDExLjQgMTguNlpNMTYuNiAxOC42TDIxLjIgMTRMMTYuNiA5LjRMMTggOEwyNCAxNEwxOCAyMEwxNi42IDE4LjZWMTguNloiLz4KCTwvZz4KPC9zdmc+Cg==);
  --jp-icon-collapse-all: url(data:image/svg+xml;base64,PHN2ZyB4bWxucz0iaHR0cDovL3d3dy53My5vcmcvMjAwMC9zdmciIHdpZHRoPSIxNiIgdmlld0JveD0iMCAwIDI0IDI0Ij4KICAgIDxnIGNsYXNzPSJqcC1pY29uMyIgZmlsbD0iIzYxNjE2MSI+CiAgICAgICAgPHBhdGgKICAgICAgICAgICAgZD0iTTggMmMxIDAgMTEgMCAxMiAwczIgMSAyIDJjMCAxIDAgMTEgMCAxMnMwIDItMiAyQzIwIDE0IDIwIDQgMjAgNFMxMCA0IDYgNGMwLTIgMS0yIDItMnoiIC8+CiAgICAgICAgPHBhdGgKICAgICAgICAgICAgZD0iTTE4IDhjMC0xLTEtMi0yLTJTNSA2IDQgNnMtMiAxLTIgMmMwIDEgMCAxMSAwIDEyczEgMiAyIDJjMSAwIDExIDAgMTIgMHMyLTEgMi0yYzAtMSAwLTExIDAtMTJ6bS0yIDB2MTJINFY4eiIgLz4KICAgICAgICA8cGF0aCBkPSJNNiAxM3YyaDh2LTJ6IiAvPgogICAgPC9nPgo8L3N2Zz4K);
  --jp-icon-console: url(data:image/svg+xml;base64,PHN2ZyB4bWxucz0iaHR0cDovL3d3dy53My5vcmcvMjAwMC9zdmciIHdpZHRoPSIxNiIgdmlld0JveD0iMCAwIDIwMCAyMDAiPgogIDxnIGNsYXNzPSJqcC1jb25zb2xlLWljb24tYmFja2dyb3VuZC1jb2xvciBqcC1pY29uLXNlbGVjdGFibGUiIGZpbGw9IiMwMjg4RDEiPgogICAgPHBhdGggZD0iTTIwIDE5LjhoMTYwdjE1OS45SDIweiIvPgogIDwvZz4KICA8ZyBjbGFzcz0ianAtY29uc29sZS1pY29uLWNvbG9yIGpwLWljb24tc2VsZWN0YWJsZS1pbnZlcnNlIiBmaWxsPSIjZmZmIj4KICAgIDxwYXRoIGQ9Ik0xMDUgMTI3LjNoNDB2MTIuOGgtNDB6TTUxLjEgNzdMNzQgOTkuOWwtMjMuMyAyMy4zIDEwLjUgMTAuNSAyMy4zLTIzLjNMOTUgOTkuOSA4NC41IDg5LjQgNjEuNiA2Ni41eiIvPgogIDwvZz4KPC9zdmc+Cg==);
  --jp-icon-copy: url(data:image/svg+xml;base64,PHN2ZyB2aWV3Qm94PSIwIDAgMTggMTgiIHdpZHRoPSIxNiIgeG1sbnM9Imh0dHA6Ly93d3cudzMub3JnLzIwMDAvc3ZnIj4KICA8ZyBjbGFzcz0ianAtaWNvbjMiIGZpbGw9IiM2MTYxNjEiPgogICAgPHBhdGggZD0iTTExLjksMUgzLjJDMi40LDEsMS43LDEuNywxLjcsMi41djEwLjJoMS41VjIuNWg4LjdWMXogTTE0LjEsMy45aC04Yy0wLjgsMC0xLjUsMC43LTEuNSwxLjV2MTAuMmMwLDAuOCwwLjcsMS41LDEuNSwxLjVoOCBjMC44LDAsMS41LTAuNywxLjUtMS41VjUuNEMxNS41LDQuNiwxNC45LDMuOSwxNC4xLDMuOXogTTE0LjEsMTUuNWgtOFY1LjRoOFYxNS41eiIvPgogIDwvZz4KPC9zdmc+Cg==);
  --jp-icon-copyright: url(data:image/svg+xml;base64,PHN2ZyB4bWxucz0iaHR0cDovL3d3dy53My5vcmcvMjAwMC9zdmciIGVuYWJsZS1iYWNrZ3JvdW5kPSJuZXcgMCAwIDI0IDI0IiBoZWlnaHQ9IjI0IiB2aWV3Qm94PSIwIDAgMjQgMjQiIHdpZHRoPSIyNCI+CiAgPGcgY2xhc3M9ImpwLWljb24zIiBmaWxsPSIjNjE2MTYxIj4KICAgIDxwYXRoIGQ9Ik0xMS44OCw5LjE0YzEuMjgsMC4wNiwxLjYxLDEuMTUsMS42MywxLjY2aDEuNzljLTAuMDgtMS45OC0xLjQ5LTMuMTktMy40NS0zLjE5QzkuNjQsNy42MSw4LDksOCwxMi4xNCBjMCwxLjk0LDAuOTMsNC4yNCwzLjg0LDQuMjRjMi4yMiwwLDMuNDEtMS42NSwzLjQ0LTIuOTVoLTEuNzljLTAuMDMsMC41OS0wLjQ1LDEuMzgtMS42MywxLjQ0QzEwLjU1LDE0LjgzLDEwLDEzLjgxLDEwLDEyLjE0IEMxMCw5LjI1LDExLjI4LDkuMTYsMTEuODgsOS4xNHogTTEyLDJDNi40OCwyLDIsNi40OCwyLDEyczQuNDgsMTAsMTAsMTBzMTAtNC40OCwxMC0xMFMxNy41MiwyLDEyLDJ6IE0xMiwyMGMtNC40MSwwLTgtMy41OS04LTggczMuNTktOCw4LThzOCwzLjU5LDgsOFMxNi40MSwyMCwxMiwyMHoiLz4KICA8L2c+Cjwvc3ZnPgo=);
  --jp-icon-cut: url(data:image/svg+xml;base64,PHN2ZyB2aWV3Qm94PSIwIDAgMjQgMjQiIHdpZHRoPSIxNiIgeG1sbnM9Imh0dHA6Ly93d3cudzMub3JnLzIwMDAvc3ZnIj4KICA8ZyBjbGFzcz0ianAtaWNvbjMiIGZpbGw9IiM2MTYxNjEiPgogICAgPHBhdGggZD0iTTkuNjQgNy42NGMuMjMtLjUuMzYtMS4wNS4zNi0xLjY0IDAtMi4yMS0xLjc5LTQtNC00UzIgMy43OSAyIDZzMS43OSA0IDQgNGMuNTkgMCAxLjE0LS4xMyAxLjY0LS4zNkwxMCAxMmwtMi4zNiAyLjM2QzcuMTQgMTQuMTMgNi41OSAxNCA2IDE0Yy0yLjIxIDAtNCAxLjc5LTQgNHMxLjc5IDQgNCA0IDQtMS43OSA0LTRjMC0uNTktLjEzLTEuMTQtLjM2LTEuNjRMMTIgMTRsNyA3aDN2LTFMOS42NCA3LjY0ek02IDhjLTEuMSAwLTItLjg5LTItMnMuOS0yIDItMiAyIC44OSAyIDItLjkgMi0yIDJ6bTAgMTJjLTEuMSAwLTItLjg5LTItMnMuOS0yIDItMiAyIC44OSAyIDItLjkgMi0yIDJ6bTYtNy41Yy0uMjggMC0uNS0uMjItLjUtLjVzLjIyLS41LjUtLjUuNS4yMi41LjUtLjIyLjUtLjUuNXpNMTkgM2wtNiA2IDIgMiA3LTdWM3oiLz4KICA8L2c+Cjwvc3ZnPgo=);
  --jp-icon-delete: url(data:image/svg+xml;base64,PHN2ZyB4bWxucz0iaHR0cDovL3d3dy53My5vcmcvMjAwMC9zdmciIHZpZXdCb3g9IjAgMCAyNCAyNCIgd2lkdGg9IjE2cHgiIGhlaWdodD0iMTZweCI+CiAgICA8cGF0aCBkPSJNMCAwaDI0djI0SDB6IiBmaWxsPSJub25lIiAvPgogICAgPHBhdGggY2xhc3M9ImpwLWljb24zIiBmaWxsPSIjNjI2MjYyIiBkPSJNNiAxOWMwIDEuMS45IDIgMiAyaDhjMS4xIDAgMi0uOSAyLTJWN0g2djEyek0xOSA0aC0zLjVsLTEtMWgtNWwtMSAxSDV2MmgxNFY0eiIgLz4KPC9zdmc+Cg==);
  --jp-icon-download: url(data:image/svg+xml;base64,PHN2ZyB2aWV3Qm94PSIwIDAgMjQgMjQiIHdpZHRoPSIxNiIgeG1sbnM9Imh0dHA6Ly93d3cudzMub3JnLzIwMDAvc3ZnIj4KICA8ZyBjbGFzcz0ianAtaWNvbjMiIGZpbGw9IiM2MTYxNjEiPgogICAgPHBhdGggZD0iTTE5IDloLTRWM0g5djZINWw3IDcgNy03ek01IDE4djJoMTR2LTJINXoiLz4KICA8L2c+Cjwvc3ZnPgo=);
  --jp-icon-duplicate: url(data:image/svg+xml;base64,PHN2ZyB3aWR0aD0iMTQiIGhlaWdodD0iMTQiIHZpZXdCb3g9IjAgMCAxNCAxNCIgZmlsbD0ibm9uZSIgeG1sbnM9Imh0dHA6Ly93d3cudzMub3JnLzIwMDAvc3ZnIj4KPHBhdGggY2xhc3M9ImpwLWljb24zIiBmaWxsLXJ1bGU9ImV2ZW5vZGQiIGNsaXAtcnVsZT0iZXZlbm9kZCIgZD0iTTIuNzk5OTggMC44NzVIOC44OTU4MkM5LjIwMDYxIDAuODc1IDkuNDQ5OTggMS4xMzkxNCA5LjQ0OTk4IDEuNDYxOThDOS40NDk5OCAxLjc4NDgyIDkuMjAwNjEgMi4wNDg5NiA4Ljg5NTgyIDIuMDQ4OTZIMy4zNTQxNUMzLjA0OTM2IDIuMDQ4OTYgMi43OTk5OCAyLjMxMzEgMi43OTk5OCAyLjYzNTk0VjkuNjc5NjlDMi43OTk5OCAxMC4wMDI1IDIuNTUwNjEgMTAuMjY2NyAyLjI0NTgyIDEwLjI2NjdDMS45NDEwMyAxMC4yNjY3IDEuNjkxNjUgMTAuMDAyNSAxLjY5MTY1IDkuNjc5NjlWMi4wNDg5NkMxLjY5MTY1IDEuNDAzMjggMi4xOTA0IDAuODc1IDIuNzk5OTggMC44NzVaTTUuMzY2NjUgMTEuOVY0LjU1SDExLjA4MzNWMTEuOUg1LjM2NjY1Wk00LjE0MTY1IDQuMTQxNjdDNC4xNDE2NSAzLjY5MDYzIDQuNTA3MjggMy4zMjUgNC45NTgzMiAzLjMyNUgxMS40OTE3QzExLjk0MjcgMy4zMjUgMTIuMzA4MyAzLjY5MDYzIDEyLjMwODMgNC4xNDE2N1YxMi4zMDgzQzEyLjMwODMgMTIuNzU5NCAxMS45NDI3IDEzLjEyNSAxMS40OTE3IDEzLjEyNUg0Ljk1ODMyQzQuNTA3MjggMTMuMTI1IDQuMTQxNjUgMTIuNzU5NCA0LjE0MTY1IDEyLjMwODNWNC4xNDE2N1oiIGZpbGw9IiM2MTYxNjEiLz4KPHBhdGggY2xhc3M9ImpwLWljb24zIiBkPSJNOS40MzU3NCA4LjI2NTA3SDguMzY0MzFWOS4zMzY1QzguMzY0MzEgOS40NTQzNSA4LjI2Nzg4IDkuNTUwNzggOC4xNTAwMiA5LjU1MDc4QzguMDMyMTcgOS41NTA3OCA3LjkzNTc0IDkuNDU0MzUgNy45MzU3NCA5LjMzNjVWOC4yNjUwN0g2Ljg2NDMxQzYuNzQ2NDUgOC4yNjUwNyA2LjY1MDAyIDguMTY4NjQgNi42NTAwMiA4LjA1MDc4QzYuNjUwMDIgNy45MzI5MiA2Ljc0NjQ1IDcuODM2NSA2Ljg2NDMxIDcuODM2NUg3LjkzNTc0VjYuNzY1MDdDNy45MzU3NCA2LjY0NzIxIDguMDMyMTcgNi41NTA3OCA4LjE1MDAyIDYuNTUwNzhDOC4yNjc4OCA2LjU1MDc4IDguMzY0MzEgNi42NDcyMSA4LjM2NDMxIDYuNzY1MDdWNy44MzY1SDkuNDM1NzRDOS41NTM2IDcuODM2NSA5LjY1MDAyIDcuOTMyOTIgOS42NTAwMiA4LjA1MDc4QzkuNjUwMDIgOC4xNjg2NCA5LjU1MzYgOC4yNjUwNyA5LjQzNTc0IDguMjY1MDdaIiBmaWxsPSIjNjE2MTYxIiBzdHJva2U9IiM2MTYxNjEiIHN0cm9rZS13aWR0aD0iMC41Ii8+Cjwvc3ZnPgo=);
  --jp-icon-edit: url(data:image/svg+xml;base64,PHN2ZyB2aWV3Qm94PSIwIDAgMjQgMjQiIHdpZHRoPSIxNiIgeG1sbnM9Imh0dHA6Ly93d3cudzMub3JnLzIwMDAvc3ZnIj4KICA8ZyBjbGFzcz0ianAtaWNvbjMiIGZpbGw9IiM2MTYxNjEiPgogICAgPHBhdGggZD0iTTMgMTcuMjVWMjFoMy43NUwxNy44MSA5Ljk0bC0zLjc1LTMuNzVMMyAxNy4yNXpNMjAuNzEgNy4wNGMuMzktLjM5LjM5LTEuMDIgMC0xLjQxbC0yLjM0LTIuMzRjLS4zOS0uMzktMS4wMi0uMzktMS40MSAwbC0xLjgzIDEuODMgMy43NSAzLjc1IDEuODMtMS44M3oiLz4KICA8L2c+Cjwvc3ZnPgo=);
  --jp-icon-ellipses: url(data:image/svg+xml;base64,PHN2ZyB2aWV3Qm94PSIwIDAgMjQgMjQiIHdpZHRoPSIxNiIgeG1sbnM9Imh0dHA6Ly93d3cudzMub3JnLzIwMDAvc3ZnIj4KICA8ZyBjbGFzcz0ianAtaWNvbjMiIGZpbGw9IiM2MTYxNjEiPgogICAgPGNpcmNsZSBjeD0iNSIgY3k9IjEyIiByPSIyIi8+CiAgICA8Y2lyY2xlIGN4PSIxMiIgY3k9IjEyIiByPSIyIi8+CiAgICA8Y2lyY2xlIGN4PSIxOSIgY3k9IjEyIiByPSIyIi8+CiAgPC9nPgo8L3N2Zz4K);
  --jp-icon-error: url(data:image/svg+xml;base64,PHN2ZyB4bWxucz0iaHR0cDovL3d3dy53My5vcmcvMjAwMC9zdmciIHdpZHRoPSIxNiIgdmlld0JveD0iMCAwIDI0IDI0Ij4KPGcgY2xhc3M9ImpwLWljb24zIiBmaWxsPSIjNjE2MTYxIj48Y2lyY2xlIGN4PSIxMiIgY3k9IjE5IiByPSIyIi8+PHBhdGggZD0iTTEwIDNoNHYxMmgtNHoiLz48L2c+CjxwYXRoIGZpbGw9Im5vbmUiIGQ9Ik0wIDBoMjR2MjRIMHoiLz4KPC9zdmc+Cg==);
  --jp-icon-expand-all: url(data:image/svg+xml;base64,PHN2ZyB4bWxucz0iaHR0cDovL3d3dy53My5vcmcvMjAwMC9zdmciIHdpZHRoPSIxNiIgdmlld0JveD0iMCAwIDI0IDI0Ij4KICAgIDxnIGNsYXNzPSJqcC1pY29uMyIgZmlsbD0iIzYxNjE2MSI+CiAgICAgICAgPHBhdGgKICAgICAgICAgICAgZD0iTTggMmMxIDAgMTEgMCAxMiAwczIgMSAyIDJjMCAxIDAgMTEgMCAxMnMwIDItMiAyQzIwIDE0IDIwIDQgMjAgNFMxMCA0IDYgNGMwLTIgMS0yIDItMnoiIC8+CiAgICAgICAgPHBhdGgKICAgICAgICAgICAgZD0iTTE4IDhjMC0xLTEtMi0yLTJTNSA2IDQgNnMtMiAxLTIgMmMwIDEgMCAxMSAwIDEyczEgMiAyIDJjMSAwIDExIDAgMTIgMHMyLTEgMi0yYzAtMSAwLTExIDAtMTJ6bS0yIDB2MTJINFY4eiIgLz4KICAgICAgICA8cGF0aCBkPSJNMTEgMTBIOXYzSDZ2MmgzdjNoMnYtM2gzdi0yaC0zeiIgLz4KICAgIDwvZz4KPC9zdmc+Cg==);
  --jp-icon-extension: url(data:image/svg+xml;base64,PHN2ZyB4bWxucz0iaHR0cDovL3d3dy53My5vcmcvMjAwMC9zdmciIHdpZHRoPSIxNiIgdmlld0JveD0iMCAwIDI0IDI0Ij4KICA8ZyBjbGFzcz0ianAtaWNvbjMiIGZpbGw9IiM2MTYxNjEiPgogICAgPHBhdGggZD0iTTIwLjUgMTFIMTlWN2MwLTEuMS0uOS0yLTItMmgtNFYzLjVDMTMgMi4xMiAxMS44OCAxIDEwLjUgMVM4IDIuMTIgOCAzLjVWNUg0Yy0xLjEgMC0xLjk5LjktMS45OSAydjMuOEgzLjVjMS40OSAwIDIuNyAxLjIxIDIuNyAyLjdzLTEuMjEgMi43LTIuNyAyLjdIMlYyMGMwIDEuMS45IDIgMiAyaDMuOHYtMS41YzAtMS40OSAxLjIxLTIuNyAyLjctMi43IDEuNDkgMCAyLjcgMS4yMSAyLjcgMi43VjIySDE3YzEuMSAwIDItLjkgMi0ydi00aDEuNWMxLjM4IDAgMi41LTEuMTIgMi41LTIuNVMyMS44OCAxMSAyMC41IDExeiIvPgogIDwvZz4KPC9zdmc+Cg==);
  --jp-icon-fast-forward: url(data:image/svg+xml;base64,PHN2ZyB4bWxucz0iaHR0cDovL3d3dy53My5vcmcvMjAwMC9zdmciIHdpZHRoPSIyNCIgaGVpZ2h0PSIyNCIgdmlld0JveD0iMCAwIDI0IDI0Ij4KICAgIDxnIGNsYXNzPSJqcC1pY29uMyIgZmlsbD0iIzYxNjE2MSI+CiAgICAgICAgPHBhdGggZD0iTTQgMThsOC41LTZMNCA2djEyem05LTEydjEybDguNS02TDEzIDZ6Ii8+CiAgICA8L2c+Cjwvc3ZnPgo=);
  --jp-icon-file-upload: url(data:image/svg+xml;base64,PHN2ZyB4bWxucz0iaHR0cDovL3d3dy53My5vcmcvMjAwMC9zdmciIHdpZHRoPSIxNiIgdmlld0JveD0iMCAwIDI0IDI0Ij4KICA8ZyBjbGFzcz0ianAtaWNvbjMiIGZpbGw9IiM2MTYxNjEiPgogICAgPHBhdGggZD0iTTkgMTZoNnYtNmg0bC03LTctNyA3aDR6bS00IDJoMTR2Mkg1eiIvPgogIDwvZz4KPC9zdmc+Cg==);
  --jp-icon-file: url(data:image/svg+xml;base64,PHN2ZyB4bWxucz0iaHR0cDovL3d3dy53My5vcmcvMjAwMC9zdmciIHdpZHRoPSIxNiIgdmlld0JveD0iMCAwIDIyIDIyIj4KICA8cGF0aCBjbGFzcz0ianAtaWNvbjMganAtaWNvbi1zZWxlY3RhYmxlIiBmaWxsPSIjNjE2MTYxIiBkPSJNMTkuMyA4LjJsLTUuNS01LjVjLS4zLS4zLS43LS41LTEuMi0uNUgzLjljLS44LjEtMS42LjktMS42IDEuOHYxNC4xYzAgLjkuNyAxLjYgMS42IDEuNmgxNC4yYy45IDAgMS42LS43IDEuNi0xLjZWOS40Yy4xLS41LS4xLS45LS40LTEuMnptLTUuOC0zLjNsMy40IDMuNmgtMy40VjQuOXptMy45IDEyLjdINC43Yy0uMSAwLS4yIDAtLjItLjJWNC43YzAtLjIuMS0uMy4yLS4zaDcuMnY0LjRzMCAuOC4zIDEuMWMuMy4zIDEuMS4zIDEuMS4zaDQuM3Y3LjJzLS4xLjItLjIuMnoiLz4KPC9zdmc+Cg==);
  --jp-icon-filter-dot: url(data:image/svg+xml;base64,PHN2ZyB4bWxucz0iaHR0cDovL3d3dy53My5vcmcvMjAwMC9zdmciIHdpZHRoPSIxNiIgdmlld0JveD0iMCAwIDI0IDI0Ij4KICA8ZyBjbGFzcz0ianAtaWNvbjMiIGZpbGw9IiNGRkYiPgogICAgPHBhdGggZD0iTTE0LDEyVjE5Ljg4QzE0LjA0LDIwLjE4IDEzLjk0LDIwLjUgMTMuNzEsMjAuNzFDMTMuMzIsMjEuMSAxMi42OSwyMS4xIDEyLjMsMjAuNzFMMTAuMjksMTguN0MxMC4wNiwxOC40NyA5Ljk2LDE4LjE2IDEwLDE3Ljg3VjEySDkuOTdMNC4yMSw0LjYyQzMuODcsNC4xOSAzLjk1LDMuNTYgNC4zOCwzLjIyQzQuNTcsMy4wOCA0Ljc4LDMgNSwzVjNIMTlWM0MxOS4yMiwzIDE5LjQzLDMuMDggMTkuNjIsMy4yMkMyMC4wNSwzLjU2IDIwLjEzLDQuMTkgMTkuNzksNC42MkwxNC4wMywxMkgxNFoiIC8+CiAgPC9nPgogIDxnIGNsYXNzPSJqcC1pY29uLWRvdCIgZmlsbD0iI0ZGRiI+CiAgICA8Y2lyY2xlIGN4PSIxOCIgY3k9IjE3IiByPSIzIj48L2NpcmNsZT4KICA8L2c+Cjwvc3ZnPgo=);
  --jp-icon-filter-list: url(data:image/svg+xml;base64,PHN2ZyB4bWxucz0iaHR0cDovL3d3dy53My5vcmcvMjAwMC9zdmciIHdpZHRoPSIxNiIgdmlld0JveD0iMCAwIDI0IDI0Ij4KICA8ZyBjbGFzcz0ianAtaWNvbjMiIGZpbGw9IiM2MTYxNjEiPgogICAgPHBhdGggZD0iTTEwIDE4aDR2LTJoLTR2MnpNMyA2djJoMThWNkgzem0zIDdoMTJ2LTJINnYyeiIvPgogIDwvZz4KPC9zdmc+Cg==);
  --jp-icon-filter: url(data:image/svg+xml;base64,PHN2ZyB4bWxucz0iaHR0cDovL3d3dy53My5vcmcvMjAwMC9zdmciIHdpZHRoPSIxNiIgdmlld0JveD0iMCAwIDI0IDI0Ij4KICA8ZyBjbGFzcz0ianAtaWNvbjMiIGZpbGw9IiNGRkYiPgogICAgPHBhdGggZD0iTTE0LDEyVjE5Ljg4QzE0LjA0LDIwLjE4IDEzLjk0LDIwLjUgMTMuNzEsMjAuNzFDMTMuMzIsMjEuMSAxMi42OSwyMS4xIDEyLjMsMjAuNzFMMTAuMjksMTguN0MxMC4wNiwxOC40NyA5Ljk2LDE4LjE2IDEwLDE3Ljg3VjEySDkuOTdMNC4yMSw0LjYyQzMuODcsNC4xOSAzLjk1LDMuNTYgNC4zOCwzLjIyQzQuNTcsMy4wOCA0Ljc4LDMgNSwzVjNIMTlWM0MxOS4yMiwzIDE5LjQzLDMuMDggMTkuNjIsMy4yMkMyMC4wNSwzLjU2IDIwLjEzLDQuMTkgMTkuNzksNC42MkwxNC4wMywxMkgxNFoiIC8+CiAgPC9nPgo8L3N2Zz4K);
  --jp-icon-folder-favorite: url(data:image/svg+xml;base64,PHN2ZyB4bWxucz0iaHR0cDovL3d3dy53My5vcmcvMjAwMC9zdmciIGhlaWdodD0iMjRweCIgdmlld0JveD0iMCAwIDI0IDI0IiB3aWR0aD0iMjRweCIgZmlsbD0iIzAwMDAwMCI+CiAgPHBhdGggZD0iTTAgMGgyNHYyNEgwVjB6IiBmaWxsPSJub25lIi8+PHBhdGggY2xhc3M9ImpwLWljb24zIGpwLWljb24tc2VsZWN0YWJsZSIgZmlsbD0iIzYxNjE2MSIgZD0iTTIwIDZoLThsLTItMkg0Yy0xLjEgMC0yIC45LTIgMnYxMmMwIDEuMS45IDIgMiAyaDE2YzEuMSAwIDItLjkgMi0yVjhjMC0xLjEtLjktMi0yLTJ6bS0yLjA2IDExTDE1IDE1LjI4IDEyLjA2IDE3bC43OC0zLjMzLTIuNTktMi4yNCAzLjQxLS4yOUwxNSA4bDEuMzQgMy4xNCAzLjQxLjI5LTIuNTkgMi4yNC43OCAzLjMzeiIvPgo8L3N2Zz4K);
  --jp-icon-folder: url(data:image/svg+xml;base64,PHN2ZyB4bWxucz0iaHR0cDovL3d3dy53My5vcmcvMjAwMC9zdmciIHdpZHRoPSIxNiIgdmlld0JveD0iMCAwIDI0IDI0Ij4KICA8cGF0aCBjbGFzcz0ianAtaWNvbjMganAtaWNvbi1zZWxlY3RhYmxlIiBmaWxsPSIjNjE2MTYxIiBkPSJNMTAgNEg0Yy0xLjEgMC0xLjk5LjktMS45OSAyTDIgMThjMCAxLjEuOSAyIDIgMmgxNmMxLjEgMCAyLS45IDItMlY4YzAtMS4xLS45LTItMi0yaC04bC0yLTJ6Ii8+Cjwvc3ZnPgo=);
  --jp-icon-home: url(data:image/svg+xml;base64,PHN2ZyB4bWxucz0iaHR0cDovL3d3dy53My5vcmcvMjAwMC9zdmciIGhlaWdodD0iMjRweCIgdmlld0JveD0iMCAwIDI0IDI0IiB3aWR0aD0iMjRweCIgZmlsbD0iIzAwMDAwMCI+CiAgPHBhdGggZD0iTTAgMGgyNHYyNEgweiIgZmlsbD0ibm9uZSIvPjxwYXRoIGNsYXNzPSJqcC1pY29uMyBqcC1pY29uLXNlbGVjdGFibGUiIGZpbGw9IiM2MTYxNjEiIGQ9Ik0xMCAyMHYtNmg0djZoNXYtOGgzTDEyIDMgMiAxMmgzdjh6Ii8+Cjwvc3ZnPgo=);
  --jp-icon-html5: url(data:image/svg+xml;base64,PHN2ZyB4bWxucz0iaHR0cDovL3d3dy53My5vcmcvMjAwMC9zdmciIHdpZHRoPSIxNiIgdmlld0JveD0iMCAwIDUxMiA1MTIiPgogIDxwYXRoIGNsYXNzPSJqcC1pY29uMCBqcC1pY29uLXNlbGVjdGFibGUiIGZpbGw9IiMwMDAiIGQ9Ik0xMDguNCAwaDIzdjIyLjhoMjEuMlYwaDIzdjY5aC0yM1Y0NmgtMjF2MjNoLTIzLjJNMjA2IDIzaC0yMC4zVjBoNjMuN3YyM0gyMjl2NDZoLTIzbTUzLjUtNjloMjQuMWwxNC44IDI0LjNMMzEzLjIgMGgyNC4xdjY5aC0yM1YzNC44bC0xNi4xIDI0LjgtMTYuMS0yNC44VjY5aC0yMi42bTg5LjItNjloMjN2NDYuMmgzMi42VjY5aC01NS42Ii8+CiAgPHBhdGggY2xhc3M9ImpwLWljb24tc2VsZWN0YWJsZSIgZmlsbD0iI2U0NGQyNiIgZD0iTTEwNy42IDQ3MWwtMzMtMzcwLjRoMzYyLjhsLTMzIDM3MC4yTDI1NS43IDUxMiIvPgogIDxwYXRoIGNsYXNzPSJqcC1pY29uLXNlbGVjdGFibGUiIGZpbGw9IiNmMTY1MjkiIGQ9Ik0yNTYgNDgwLjVWMTMxaDE0OC4zTDM3NiA0NDciLz4KICA8cGF0aCBjbGFzcz0ianAtaWNvbi1zZWxlY3RhYmxlLWludmVyc2UiIGZpbGw9IiNlYmViZWIiIGQ9Ik0xNDIgMTc2LjNoMTE0djQ1LjRoLTY0LjJsNC4yIDQ2LjVoNjB2NDUuM0gxNTQuNG0yIDIyLjhIMjAybDMuMiAzNi4zIDUwLjggMTMuNnY0Ny40bC05My4yLTI2Ii8+CiAgPHBhdGggY2xhc3M9ImpwLWljb24tc2VsZWN0YWJsZS1pbnZlcnNlIiBmaWxsPSIjZmZmIiBkPSJNMzY5LjYgMTc2LjNIMjU1Ljh2NDUuNGgxMDkuNm0tNC4xIDQ2LjVIMjU1Ljh2NDUuNGg1NmwtNS4zIDU5LTUwLjcgMTMuNnY0Ny4ybDkzLTI1LjgiLz4KPC9zdmc+Cg==);
  --jp-icon-image: url(data:image/svg+xml;base64,PHN2ZyB4bWxucz0iaHR0cDovL3d3dy53My5vcmcvMjAwMC9zdmciIHdpZHRoPSIxNiIgdmlld0JveD0iMCAwIDIyIDIyIj4KICA8cGF0aCBjbGFzcz0ianAtaWNvbi1icmFuZDQganAtaWNvbi1zZWxlY3RhYmxlLWludmVyc2UiIGZpbGw9IiNGRkYiIGQ9Ik0yLjIgMi4yaDE3LjV2MTcuNUgyLjJ6Ii8+CiAgPHBhdGggY2xhc3M9ImpwLWljb24tYnJhbmQwIGpwLWljb24tc2VsZWN0YWJsZSIgZmlsbD0iIzNGNTFCNSIgZD0iTTIuMiAyLjJ2MTcuNWgxNy41bC4xLTE3LjVIMi4yem0xMi4xIDIuMmMxLjIgMCAyLjIgMSAyLjIgMi4ycy0xIDIuMi0yLjIgMi4yLTIuMi0xLTIuMi0yLjIgMS0yLjIgMi4yLTIuMnpNNC40IDE3LjZsMy4zLTguOCAzLjMgNi42IDIuMi0zLjIgNC40IDUuNEg0LjR6Ii8+Cjwvc3ZnPgo=);
  --jp-icon-info: url(data:image/svg+xml;base64,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);
  --jp-icon-inspector: url(data:image/svg+xml;base64,PHN2ZyB4bWxucz0iaHR0cDovL3d3dy53My5vcmcvMjAwMC9zdmciIHdpZHRoPSIxNiIgdmlld0JveD0iMCAwIDI0IDI0Ij4KICA8cGF0aCBjbGFzcz0ianAtaW5zcGVjdG9yLWljb24tY29sb3IganAtaWNvbi1zZWxlY3RhYmxlIiBmaWxsPSIjNjE2MTYxIiBkPSJNMjAgNEg0Yy0xLjEgMC0xLjk5LjktMS45OSAyTDIgMThjMCAxLjEuOSAyIDIgMmgxNmMxLjEgMCAyLS45IDItMlY2YzAtMS4xLS45LTItMi0yem0tNSAxNEg0di00aDExdjR6bTAtNUg0VjloMTF2NHptNSA1aC00VjloNHY5eiIvPgo8L3N2Zz4K);
  --jp-icon-json: url(data:image/svg+xml;base64,PHN2ZyB4bWxucz0iaHR0cDovL3d3dy53My5vcmcvMjAwMC9zdmciIHdpZHRoPSIxNiIgdmlld0JveD0iMCAwIDIyIDIyIj4KICA8ZyBjbGFzcz0ianAtanNvbi1pY29uLWNvbG9yIGpwLWljb24tc2VsZWN0YWJsZSIgZmlsbD0iI0Y5QTgyNSI+CiAgICA8cGF0aCBkPSJNMjAuMiAxMS44Yy0xLjYgMC0xLjcuNS0xLjcgMSAwIC40LjEuOS4xIDEuMy4xLjUuMS45LjEgMS4zIDAgMS43LTEuNCAyLjMtMy41IDIuM2gtLjl2LTEuOWguNWMxLjEgMCAxLjQgMCAxLjQtLjggMC0uMyAwLS42LS4xLTEgMC0uNC0uMS0uOC0uMS0xLjIgMC0xLjMgMC0xLjggMS4zLTItMS4zLS4yLTEuMy0uNy0xLjMtMiAwLS40LjEtLjguMS0xLjIuMS0uNC4xLS43LjEtMSAwLS44LS40LS43LTEuNC0uOGgtLjVWNC4xaC45YzIuMiAwIDMuNS43IDMuNSAyLjMgMCAuNC0uMS45LS4xIDEuMy0uMS41LS4xLjktLjEgMS4zIDAgLjUuMiAxIDEuNyAxdjEuOHpNMS44IDEwLjFjMS42IDAgMS43LS41IDEuNy0xIDAtLjQtLjEtLjktLjEtMS4zLS4xLS41LS4xLS45LS4xLTEuMyAwLTEuNiAxLjQtMi4zIDMuNS0yLjNoLjl2MS45aC0uNWMtMSAwLTEuNCAwLTEuNC44IDAgLjMgMCAuNi4xIDEgMCAuMi4xLjYuMSAxIDAgMS4zIDAgMS44LTEuMyAyQzYgMTEuMiA2IDExLjcgNiAxM2MwIC40LS4xLjgtLjEgMS4yLS4xLjMtLjEuNy0uMSAxIDAgLjguMy44IDEuNC44aC41djEuOWgtLjljLTIuMSAwLTMuNS0uNi0zLjUtMi4zIDAtLjQuMS0uOS4xLTEuMy4xLS41LjEtLjkuMS0xLjMgMC0uNS0uMi0xLTEuNy0xdi0xLjl6Ii8+CiAgICA8Y2lyY2xlIGN4PSIxMSIgY3k9IjEzLjgiIHI9IjIuMSIvPgogICAgPGNpcmNsZSBjeD0iMTEiIGN5PSI4LjIiIHI9IjIuMSIvPgogIDwvZz4KPC9zdmc+Cg==);
  --jp-icon-julia: url(data:image/svg+xml;base64,PHN2ZyB4bWxucz0iaHR0cDovL3d3dy53My5vcmcvMjAwMC9zdmciIHdpZHRoPSIxNiIgdmlld0JveD0iMCAwIDMyNSAzMDAiPgogIDxnIGNsYXNzPSJqcC1icmFuZDAganAtaWNvbi1zZWxlY3RhYmxlIiBmaWxsPSIjY2IzYzMzIj4KICAgIDxwYXRoIGQ9Ik0gMTUwLjg5ODQzOCAyMjUgQyAxNTAuODk4NDM4IDI2Ni40MjE4NzUgMTE3LjMyMDMxMiAzMDAgNzUuODk4NDM4IDMwMCBDIDM0LjQ3NjU2MiAzMDAgMC44OTg0MzggMjY2LjQyMTg3NSAwLjg5ODQzOCAyMjUgQyAwLjg5ODQzOCAxODMuNTc4MTI1IDM0LjQ3NjU2MiAxNTAgNzUuODk4NDM4IDE1MCBDIDExNy4zMjAzMTIgMTUwIDE1MC44OTg0MzggMTgzLjU3ODEyNSAxNTAuODk4NDM4IDIyNSIvPgogIDwvZz4KICA8ZyBjbGFzcz0ianAtYnJhbmQwIGpwLWljb24tc2VsZWN0YWJsZSIgZmlsbD0iIzM4OTgyNiI+CiAgICA8cGF0aCBkPSJNIDIzNy41IDc1IEMgMjM3LjUgMTE2LjQyMTg3NSAyMDMuOTIxODc1IDE1MCAxNjIuNSAxNTAgQyAxMjEuMDc4MTI1IDE1MCA4Ny41IDExNi40MjE4NzUgODcuNSA3NSBDIDg3LjUgMzMuNTc4MTI1IDEyMS4wNzgxMjUgMCAxNjIuNSAwIEMgMjAzLjkyMTg3NSAwIDIzNy41IDMzLjU3ODEyNSAyMzcuNSA3NSIvPgogIDwvZz4KICA8ZyBjbGFzcz0ianAtYnJhbmQwIGpwLWljb24tc2VsZWN0YWJsZSIgZmlsbD0iIzk1NThiMiI+CiAgICA8cGF0aCBkPSJNIDMyNC4xMDE1NjIgMjI1IEMgMzI0LjEwMTU2MiAyNjYuNDIxODc1IDI5MC41MjM0MzggMzAwIDI0OS4xMDE1NjIgMzAwIEMgMjA3LjY3OTY4OCAzMDAgMTc0LjEwMTU2MiAyNjYuNDIxODc1IDE3NC4xMDE1NjIgMjI1IEMgMTc0LjEwMTU2MiAxODMuNTc4MTI1IDIwNy42Nzk2ODggMTUwIDI0OS4xMDE1NjIgMTUwIEMgMjkwLjUyMzQzOCAxNTAgMzI0LjEwMTU2MiAxODMuNTc4MTI1IDMyNC4xMDE1NjIgMjI1Ii8+CiAgPC9nPgo8L3N2Zz4K);
  --jp-icon-jupyter-favicon: url(data:image/svg+xml;base64,PHN2ZyB3aWR0aD0iMTUyIiBoZWlnaHQ9IjE2NSIgdmlld0JveD0iMCAwIDE1MiAxNjUiIHZlcnNpb249IjEuMSIgeG1sbnM9Imh0dHA6Ly93d3cudzMub3JnLzIwMDAvc3ZnIj4KICAgPGcgY2xhc3M9ImpwLWp1cHl0ZXItaWNvbi1jb2xvciIgZmlsbD0iI0YzNzcyNiI+CiAgICA8cGF0aCB0cmFuc2Zvcm09InRyYW5zbGF0ZSgwLjA3ODk0NywgMTEwLjU4MjkyNykiIGQ9Ik03NS45NDIyODQyLDI5LjU4MDQ1NjEgQzQzLjMwMjM5NDcsMjkuNTgwNDU2MSAxNC43OTY3ODMyLDE3LjY1MzQ2MzQgMCwwIEM1LjUxMDgzMjExLDE1Ljg0MDY4MjkgMTUuNzgxNTM4OSwyOS41NjY3NzMyIDI5LjM5MDQ5NDcsMzkuMjc4NDE3MSBDNDIuOTk5Nyw0OC45ODk4NTM3IDU5LjI3MzcsNTQuMjA2NzgwNSA3NS45NjA1Nzg5LDU0LjIwNjc4MDUgQzkyLjY0NzQ1NzksNTQuMjA2NzgwNSAxMDguOTIxNDU4LDQ4Ljk4OTg1MzcgMTIyLjUzMDY2MywzOS4yNzg0MTcxIEMxMzYuMTM5NDUzLDI5LjU2Njc3MzIgMTQ2LjQxMDI4NCwxNS44NDA2ODI5IDE1MS45MjExNTgsMCBDMTM3LjA4Nzg2OCwxNy42NTM0NjM0IDEwOC41ODI1ODksMjkuNTgwNDU2MSA3NS45NDIyODQyLDI5LjU4MDQ1NjEgTDc1Ljk0MjI4NDIsMjkuNTgwNDU2MSBaIiAvPgogICAgPHBhdGggdHJhbnNmb3JtPSJ0cmFuc2xhdGUoMC4wMzczNjgsIDAuNzA0ODc4KSIgZD0iTTc1Ljk3ODQ1NzksMjQuNjI2NDA3MyBDMTA4LjYxODc2MywyNC42MjY0MDczIDEzNy4xMjQ0NTgsMzYuNTUzNDQxNSAxNTEuOTIxMTU4LDU0LjIwNjc4MDUgQzE0Ni40MTAyODQsMzguMzY2MjIyIDEzNi4xMzk0NTMsMjQuNjQwMTMxNyAxMjIuNTMwNjYzLDE0LjkyODQ4NzggQzEwOC45MjE0NTgsNS4yMTY4NDM5IDkyLjY0NzQ1NzksMCA3NS45NjA1Nzg5LDAgQzU5LjI3MzcsMCA0Mi45OTk3LDUuMjE2ODQzOSAyOS4zOTA0OTQ3LDE0LjkyODQ4NzggQzE1Ljc4MTUzODksMjQuNjQwMTMxNyA1LjUxMDgzMjExLDM4LjM2NjIyMiAwLDU0LjIwNjc4MDUgQzE0LjgzMzA4MTYsMzYuNTg5OTI5MyA0My4zMzg1Njg0LDI0LjYyNjQwNzMgNzUuOTc4NDU3OSwyNC42MjY0MDczIEw3NS45Nzg0NTc5LDI0LjYyNjQwNzMgWiIgLz4KICA8L2c+Cjwvc3ZnPgo=);
  --jp-icon-jupyter: url(data:image/svg+xml;base64,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);
  --jp-icon-jupyterlab-wordmark: url(data:image/svg+xml;base64,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);
  --jp-icon-kernel: url(data:image/svg+xml;base64,PHN2ZyB4bWxucz0iaHR0cDovL3d3dy53My5vcmcvMjAwMC9zdmciIHdpZHRoPSIxNiIgdmlld0JveD0iMCAwIDI0IDI0Ij4KICAgIDxwYXRoIGNsYXNzPSJqcC1pY29uMiIgZmlsbD0iIzYxNjE2MSIgZD0iTTE1IDlIOXY2aDZWOXptLTIgNGgtMnYtMmgydjJ6bTgtMlY5aC0yVjdjMC0xLjEtLjktMi0yLTJoLTJWM2gtMnYyaC0yVjNIOXYySDdjLTEuMSAwLTIgLjktMiAydjJIM3YyaDJ2MkgzdjJoMnYyYzAgMS4xLjkgMiAyIDJoMnYyaDJ2LTJoMnYyaDJ2LTJoMmMxLjEgMCAyLS45IDItMnYtMmgydi0yaC0ydi0yaDJ6bS00IDZIN1Y3aDEwdjEweiIvPgo8L3N2Zz4K);
  --jp-icon-keyboard: url(data:image/svg+xml;base64,PHN2ZyB4bWxucz0iaHR0cDovL3d3dy53My5vcmcvMjAwMC9zdmciIHdpZHRoPSIxNiIgdmlld0JveD0iMCAwIDI0IDI0Ij4KICA8cGF0aCBjbGFzcz0ianAtaWNvbjMganAtaWNvbi1zZWxlY3RhYmxlIiBmaWxsPSIjNjE2MTYxIiBkPSJNMjAgNUg0Yy0xLjEgMC0xLjk5LjktMS45OSAyTDIgMTdjMCAxLjEuOSAyIDIgMmgxNmMxLjEgMCAyLS45IDItMlY3YzAtMS4xLS45LTItMi0yem0tOSAzaDJ2MmgtMlY4em0wIDNoMnYyaC0ydi0yek04IDhoMnYySDhWOHptMCAzaDJ2Mkg4di0yem0tMSAySDV2LTJoMnYyem0wLTNINVY4aDJ2MnptOSA3SDh2LTJoOHYyem0wLTRoLTJ2LTJoMnYyem0wLTNoLTJWOGgydjJ6bTMgM2gtMnYtMmgydjJ6bTAtM2gtMlY4aDJ2MnoiLz4KPC9zdmc+Cg==);
  --jp-icon-launch: url(data:image/svg+xml;base64,PHN2ZyB2aWV3Qm94PSIwIDAgMzIgMzIiIHdpZHRoPSIzMiIgeG1sbnM9Imh0dHA6Ly93d3cudzMub3JnLzIwMDAvc3ZnIj4KICA8ZyBjbGFzcz0ianAtaWNvbjMganAtaWNvbi1zZWxlY3RhYmxlIiBmaWxsPSIjNjE2MTYxIj4KICAgIDxwYXRoIGQ9Ik0yNiwyOEg2YTIuMDAyNywyLjAwMjcsMCwwLDEtMi0yVjZBMi4wMDI3LDIuMDAyNywwLDAsMSw2LDRIMTZWNkg2VjI2SDI2VjE2aDJWMjZBMi4wMDI3LDIuMDAyNywwLDAsMSwyNiwyOFoiLz4KICAgIDxwb2x5Z29uIHBvaW50cz0iMjAgMiAyMCA0IDI2LjU4NiA0IDE4IDEyLjU4NiAxOS40MTQgMTQgMjggNS40MTQgMjggMTIgMzAgMTIgMzAgMiAyMCAyIi8+CiAgPC9nPgo8L3N2Zz4K);
  --jp-icon-launcher: url(data:image/svg+xml;base64,PHN2ZyB4bWxucz0iaHR0cDovL3d3dy53My5vcmcvMjAwMC9zdmciIHdpZHRoPSIxNiIgdmlld0JveD0iMCAwIDI0IDI0Ij4KICA8cGF0aCBjbGFzcz0ianAtaWNvbjMganAtaWNvbi1zZWxlY3RhYmxlIiBmaWxsPSIjNjE2MTYxIiBkPSJNMTkgMTlINVY1aDdWM0g1YTIgMiAwIDAwLTIgMnYxNGEyIDIgMCAwMDIgMmgxNGMxLjEgMCAyLS45IDItMnYtN2gtMnY3ek0xNCAzdjJoMy41OWwtOS44MyA5LjgzIDEuNDEgMS40MUwxOSA2LjQxVjEwaDJWM2gtN3oiLz4KPC9zdmc+Cg==);
  --jp-icon-line-form: url(data:image/svg+xml;base64,PHN2ZyB4bWxucz0iaHR0cDovL3d3dy53My5vcmcvMjAwMC9zdmciIHdpZHRoPSIxNiIgdmlld0JveD0iMCAwIDI0IDI0Ij4KICAgIDxwYXRoIGZpbGw9IndoaXRlIiBkPSJNNS44OCA0LjEyTDEzLjc2IDEybC03Ljg4IDcuODhMOCAyMmwxMC0xMEw4IDJ6Ii8+Cjwvc3ZnPgo=);
  --jp-icon-link: url(data:image/svg+xml;base64,PHN2ZyB2aWV3Qm94PSIwIDAgMjQgMjQiIHdpZHRoPSIxNiIgeG1sbnM9Imh0dHA6Ly93d3cudzMub3JnLzIwMDAvc3ZnIj4KICA8ZyBjbGFzcz0ianAtaWNvbjMiIGZpbGw9IiM2MTYxNjEiPgogICAgPHBhdGggZD0iTTMuOSAxMmMwLTEuNzEgMS4zOS0zLjEgMy4xLTMuMWg0VjdIN2MtMi43NiAwLTUgMi4yNC01IDVzMi4yNCA1IDUgNWg0di0xLjlIN2MtMS43MSAwLTMuMS0xLjM5LTMuMS0zLjF6TTggMTNoOHYtMkg4djJ6bTktNmgtNHYxLjloNGMxLjcxIDAgMy4xIDEuMzkgMy4xIDMuMXMtMS4zOSAzLjEtMy4xIDMuMWgtNFYxN2g0YzIuNzYgMCA1LTIuMjQgNS01cy0yLjI0LTUtNS01eiIvPgogIDwvZz4KPC9zdmc+Cg==);
  --jp-icon-list: url(data:image/svg+xml;base64,PHN2ZyB4bWxucz0iaHR0cDovL3d3dy53My5vcmcvMjAwMC9zdmciIHdpZHRoPSIxNiIgdmlld0JveD0iMCAwIDI0IDI0Ij4KICAgIDxwYXRoIGNsYXNzPSJqcC1pY29uMiBqcC1pY29uLXNlbGVjdGFibGUiIGZpbGw9IiM2MTYxNjEiIGQ9Ik0xOSA1djE0SDVWNWgxNG0xLjEtMkgzLjljLS41IDAtLjkuNC0uOS45djE2LjJjMCAuNC40LjkuOS45aDE2LjJjLjQgMCAuOS0uNS45LS45VjMuOWMwLS41LS41LS45LS45LS45ek0xMSA3aDZ2MmgtNlY3em0wIDRoNnYyaC02di0yem0wIDRoNnYyaC02ek03IDdoMnYySDd6bTAgNGgydjJIN3ptMCA0aDJ2Mkg3eiIvPgo8L3N2Zz4K);
  --jp-icon-markdown: url(data:image/svg+xml;base64,PHN2ZyB4bWxucz0iaHR0cDovL3d3dy53My5vcmcvMjAwMC9zdmciIHdpZHRoPSIxNiIgdmlld0JveD0iMCAwIDIyIDIyIj4KICA8cGF0aCBjbGFzcz0ianAtaWNvbi1jb250cmFzdDAganAtaWNvbi1zZWxlY3RhYmxlIiBmaWxsPSIjN0IxRkEyIiBkPSJNNSAxNC45aDEybC02LjEgNnptOS40LTYuOGMwLTEuMy0uMS0yLjktLjEtNC41LS40IDEuNC0uOSAyLjktMS4zIDQuM2wtMS4zIDQuM2gtMkw4LjUgNy45Yy0uNC0xLjMtLjctMi45LTEtNC4zLS4xIDEuNi0uMSAzLjItLjIgNC42TDcgMTIuNEg0LjhsLjctMTFoMy4zTDEwIDVjLjQgMS4yLjcgMi43IDEgMy45LjMtMS4yLjctMi42IDEtMy45bDEuMi0zLjdoMy4zbC42IDExaC0yLjRsLS4zLTQuMnoiLz4KPC9zdmc+Cg==);
  --jp-icon-move-down: url(data:image/svg+xml;base64,PHN2ZyB3aWR0aD0iMTQiIGhlaWdodD0iMTQiIHZpZXdCb3g9IjAgMCAxNCAxNCIgZmlsbD0ibm9uZSIgeG1sbnM9Imh0dHA6Ly93d3cudzMub3JnLzIwMDAvc3ZnIj4KPHBhdGggY2xhc3M9ImpwLWljb24zIiBkPSJNMTIuNDcxIDcuNTI4OTlDMTIuNzYzMiA3LjIzNjg0IDEyLjc2MzIgNi43NjMxNiAxMi40NzEgNi40NzEwMVY2LjQ3MTAxQzEyLjE3OSA2LjE3OTA1IDExLjcwNTcgNi4xNzg4NCAxMS40MTM1IDYuNDcwNTRMNy43NSAxMC4xMjc1VjEuNzVDNy43NSAxLjMzNTc5IDcuNDE0MjEgMSA3IDFWMUM2LjU4NTc5IDEgNi4yNSAxLjMzNTc5IDYuMjUgMS43NVYxMC4xMjc1TDIuNTk3MjYgNi40NjgyMkMyLjMwMzM4IDYuMTczODEgMS44MjY0MSA2LjE3MzU5IDEuNTMyMjYgNi40Njc3NFY2LjQ2Nzc0QzEuMjM4MyA2Ljc2MTcgMS4yMzgzIDcuMjM4MyAxLjUzMjI2IDcuNTMyMjZMNi4yOTI4OSAxMi4yOTI5QzYuNjgzNDIgMTIuNjgzNCA3LjMxNjU4IDEyLjY4MzQgNy43MDcxMSAxMi4yOTI5TDEyLjQ3MSA3LjUyODk5WiIgZmlsbD0iIzYxNjE2MSIvPgo8L3N2Zz4K);
  --jp-icon-move-up: url(data:image/svg+xml;base64,PHN2ZyB3aWR0aD0iMTQiIGhlaWdodD0iMTQiIHZpZXdCb3g9IjAgMCAxNCAxNCIgZmlsbD0ibm9uZSIgeG1sbnM9Imh0dHA6Ly93d3cudzMub3JnLzIwMDAvc3ZnIj4KPHBhdGggY2xhc3M9ImpwLWljb24zIiBkPSJNMS41Mjg5OSA2LjQ3MTAxQzEuMjM2ODQgNi43NjMxNiAxLjIzNjg0IDcuMjM2ODQgMS41Mjg5OSA3LjUyODk5VjcuNTI4OTlDMS44MjA5NSA3LjgyMDk1IDIuMjk0MjYgNy44MjExNiAyLjU4NjQ5IDcuNTI5NDZMNi4yNSAzLjg3MjVWMTIuMjVDNi4yNSAxMi42NjQyIDYuNTg1NzkgMTMgNyAxM1YxM0M3LjQxNDIxIDEzIDcuNzUgMTIuNjY0MiA3Ljc1IDEyLjI1VjMuODcyNUwxMS40MDI3IDcuNTMxNzhDMTEuNjk2NiA3LjgyNjE5IDEyLjE3MzYgNy44MjY0MSAxMi40Njc3IDcuNTMyMjZWNy41MzIyNkMxMi43NjE3IDcuMjM4MyAxMi43NjE3IDYuNzYxNyAxMi40Njc3IDYuNDY3NzRMNy43MDcxMSAxLjcwNzExQzcuMzE2NTggMS4zMTY1OCA2LjY4MzQyIDEuMzE2NTggNi4yOTI4OSAxLjcwNzExTDEuNTI4OTkgNi40NzEwMVoiIGZpbGw9IiM2MTYxNjEiLz4KPC9zdmc+Cg==);
  --jp-icon-new-folder: url(data:image/svg+xml;base64,PHN2ZyB4bWxucz0iaHR0cDovL3d3dy53My5vcmcvMjAwMC9zdmciIHdpZHRoPSIxNiIgdmlld0JveD0iMCAwIDI0IDI0Ij4KICA8ZyBjbGFzcz0ianAtaWNvbjMiIGZpbGw9IiM2MTYxNjEiPgogICAgPHBhdGggZD0iTTIwIDZoLThsLTItMkg0Yy0xLjExIDAtMS45OS44OS0xLjk5IDJMMiAxOGMwIDEuMTEuODkgMiAyIDJoMTZjMS4xMSAwIDItLjg5IDItMlY4YzAtMS4xMS0uODktMi0yLTJ6bS0xIDhoLTN2M2gtMnYtM2gtM3YtMmgzVjloMnYzaDN2MnoiLz4KICA8L2c+Cjwvc3ZnPgo=);
  --jp-icon-not-trusted: url(data:image/svg+xml;base64,PHN2ZyBmaWxsPSJub25lIiB4bWxucz0iaHR0cDovL3d3dy53My5vcmcvMjAwMC9zdmciIHdpZHRoPSIxNiIgdmlld0JveD0iMCAwIDI1IDI1Ij4KICAgIDxwYXRoIGNsYXNzPSJqcC1pY29uMiIgc3Ryb2tlPSIjMzMzMzMzIiBzdHJva2Utd2lkdGg9IjIiIHRyYW5zZm9ybT0idHJhbnNsYXRlKDMgMykiIGQ9Ik0xLjg2MDk0IDExLjQ0MDlDMC44MjY0NDggOC43NzAyNyAwLjg2Mzc3OSA2LjA1NzY0IDEuMjQ5MDcgNC4xOTkzMkMyLjQ4MjA2IDMuOTMzNDcgNC4wODA2OCAzLjQwMzQ3IDUuNjAxMDIgMi44NDQ5QzcuMjM1NDkgMi4yNDQ0IDguODU2NjYgMS41ODE1IDkuOTg3NiAxLjA5NTM5QzExLjA1OTcgMS41ODM0MSAxMi42MDk0IDIuMjQ0NCAxNC4yMTggMi44NDMzOUMxNS43NTAzIDMuNDEzOTQgMTcuMzk5NSAzLjk1MjU4IDE4Ljc1MzkgNC4yMTM4NUMxOS4xMzY0IDYuMDcxNzcgMTkuMTcwOSA4Ljc3NzIyIDE4LjEzOSAxMS40NDA5QzE3LjAzMDMgMTQuMzAzMiAxNC42NjY4IDE3LjE4NDQgOS45OTk5OSAxOC45MzU0QzUuMzMzMTkgMTcuMTg0NCAyLjk2OTY4IDE0LjMwMzIgMS44NjA5NCAxMS40NDA5WiIvPgogICAgPHBhdGggY2xhc3M9ImpwLWljb24yIiBzdHJva2U9IiMzMzMzMzMiIHN0cm9rZS13aWR0aD0iMiIgdHJhbnNmb3JtPSJ0cmFuc2xhdGUoOS4zMTU5MiA5LjMyMDMxKSIgZD0iTTcuMzY4NDIgMEwwIDcuMzY0NzkiLz4KICAgIDxwYXRoIGNsYXNzPSJqcC1pY29uMiIgc3Ryb2tlPSIjMzMzMzMzIiBzdHJva2Utd2lkdGg9IjIiIHRyYW5zZm9ybT0idHJhbnNsYXRlKDkuMzE1OTIgMTYuNjgzNikgc2NhbGUoMSAtMSkiIGQ9Ik03LjM2ODQyIDBMMCA3LjM2NDc5Ii8+Cjwvc3ZnPgo=);
  --jp-icon-notebook: url(data:image/svg+xml;base64,PHN2ZyB4bWxucz0iaHR0cDovL3d3dy53My5vcmcvMjAwMC9zdmciIHdpZHRoPSIxNiIgdmlld0JveD0iMCAwIDIyIDIyIj4KICA8ZyBjbGFzcz0ianAtbm90ZWJvb2staWNvbi1jb2xvciBqcC1pY29uLXNlbGVjdGFibGUiIGZpbGw9IiNFRjZDMDAiPgogICAgPHBhdGggZD0iTTE4LjcgMy4zdjE1LjRIMy4zVjMuM2gxNS40bTEuNS0xLjVIMS44djE4LjNoMTguM2wuMS0xOC4zeiIvPgogICAgPHBhdGggZD0iTTE2LjUgMTYuNWwtNS40LTQuMy01LjYgNC4zdi0xMWgxMXoiLz4KICA8L2c+Cjwvc3ZnPgo=);
  --jp-icon-numbering: url(data:image/svg+xml;base64,PHN2ZyB3aWR0aD0iMjIiIGhlaWdodD0iMjIiIHZpZXdCb3g9IjAgMCAyOCAyOCIgeG1sbnM9Imh0dHA6Ly93d3cudzMub3JnLzIwMDAvc3ZnIj4KCTxnIGNsYXNzPSJqcC1pY29uMyIgZmlsbD0iIzYxNjE2MSI+CgkJPHBhdGggZD0iTTQgMTlINlYxOS41SDVWMjAuNUg2VjIxSDRWMjJIN1YxOEg0VjE5Wk01IDEwSDZWNkg0VjdINVYxMFpNNCAxM0g1LjhMNCAxNS4xVjE2SDdWMTVINS4yTDcgMTIuOVYxMkg0VjEzWk05IDdWOUgyM1Y3SDlaTTkgMjFIMjNWMTlIOVYyMVpNOSAxNUgyM1YxM0g5VjE1WiIvPgoJPC9nPgo8L3N2Zz4K);
  --jp-icon-offline-bolt: url(data:image/svg+xml;base64,PHN2ZyB4bWxucz0iaHR0cDovL3d3dy53My5vcmcvMjAwMC9zdmciIHZpZXdCb3g9IjAgMCAyNCAyNCIgd2lkdGg9IjE2Ij4KICA8ZyBjbGFzcz0ianAtaWNvbjMiIGZpbGw9IiM2MTYxNjEiPgogICAgPHBhdGggZD0iTTEyIDIuMDJjLTUuNTEgMC05Ljk4IDQuNDctOS45OCA5Ljk4czQuNDcgOS45OCA5Ljk4IDkuOTggOS45OC00LjQ3IDkuOTgtOS45OFMxNy41MSAyLjAyIDEyIDIuMDJ6TTExLjQ4IDIwdi02LjI2SDhMMTMgNHY2LjI2aDMuMzVMMTEuNDggMjB6Ii8+CiAgPC9nPgo8L3N2Zz4K);
  --jp-icon-palette: url(data:image/svg+xml;base64,PHN2ZyB4bWxucz0iaHR0cDovL3d3dy53My5vcmcvMjAwMC9zdmciIHdpZHRoPSIxNiIgdmlld0JveD0iMCAwIDI0IDI0Ij4KICA8ZyBjbGFzcz0ianAtaWNvbjMiIGZpbGw9IiM2MTYxNjEiPgogICAgPHBhdGggZD0iTTE4IDEzVjIwSDRWNkg5LjAyQzkuMDcgNS4yOSA5LjI0IDQuNjIgOS41IDRINEMyLjkgNCAyIDQuOSAyIDZWMjBDMiAyMS4xIDIuOSAyMiA0IDIySDE4QzE5LjEgMjIgMjAgMjEuMSAyMCAyMFYxNUwxOCAxM1pNMTkuMyA4Ljg5QzE5Ljc0IDguMTkgMjAgNy4zOCAyMCA2LjVDMjAgNC4wMSAxNy45OSAyIDE1LjUgMkMxMy4wMSAyIDExIDQuMDEgMTEgNi41QzExIDguOTkgMTMuMDEgMTEgMTUuNDkgMTFDMTYuMzcgMTEgMTcuMTkgMTAuNzQgMTcuODggMTAuM0wyMSAxMy40MkwyMi40MiAxMkwxOS4zIDguODlaTTE1LjUgOUMxNC4xMiA5IDEzIDcuODggMTMgNi41QzEzIDUuMTIgMTQuMTIgNCAxNS41IDRDMTYuODggNCAxOCA1LjEyIDE4IDYuNUMxOCA3Ljg4IDE2Ljg4IDkgMTUuNSA5WiIvPgogICAgPHBhdGggZmlsbC1ydWxlPSJldmVub2RkIiBjbGlwLXJ1bGU9ImV2ZW5vZGQiIGQ9Ik00IDZIOS4wMTg5NEM5LjAwNjM5IDYuMTY1MDIgOSA2LjMzMTc2IDkgNi41QzkgOC44MTU3NyAxMC4yMTEgMTAuODQ4NyAxMi4wMzQzIDEySDlWMTRIMTZWMTIuOTgxMUMxNi41NzAzIDEyLjkzNzcgMTcuMTIgMTIuODIwNyAxNy42Mzk2IDEyLjYzOTZMMTggMTNWMjBINFY2Wk04IDhINlYxMEg4VjhaTTYgMTJIOFYxNEg2VjEyWk04IDE2SDZWMThIOFYxNlpNOSAxNkgxNlYxOEg5VjE2WiIvPgogIDwvZz4KPC9zdmc+Cg==);
  --jp-icon-paste: url(data:image/svg+xml;base64,PHN2ZyBoZWlnaHQ9IjI0IiB2aWV3Qm94PSIwIDAgMjQgMjQiIHdpZHRoPSIyNCIgeG1sbnM9Imh0dHA6Ly93d3cudzMub3JnLzIwMDAvc3ZnIj4KICAgIDxnIGNsYXNzPSJqcC1pY29uMyIgZmlsbD0iIzYxNjE2MSI+CiAgICAgICAgPHBhdGggZD0iTTE5IDJoLTQuMThDMTQuNC44NCAxMy4zIDAgMTIgMGMtMS4zIDAtMi40Ljg0LTIuODIgMkg1Yy0xLjEgMC0yIC45LTIgMnYxNmMwIDEuMS45IDIgMiAyaDE0YzEuMSAwIDItLjkgMi0yVjRjMC0xLjEtLjktMi0yLTJ6bS03IDBjLjU1IDAgMSAuNDUgMSAxcy0uNDUgMS0xIDEtMS0uNDUtMS0xIC40NS0xIDEtMXptNyAxOEg1VjRoMnYzaDEwVjRoMnYxNnoiLz4KICAgIDwvZz4KPC9zdmc+Cg==);
  --jp-icon-pdf: url(data:image/svg+xml;base64,PHN2ZwogICB4bWxucz0iaHR0cDovL3d3dy53My5vcmcvMjAwMC9zdmciIHZpZXdCb3g9IjAgMCAyMiAyMiIgd2lkdGg9IjE2Ij4KICAgIDxwYXRoIHRyYW5zZm9ybT0icm90YXRlKDQ1KSIgY2xhc3M9ImpwLWljb24tc2VsZWN0YWJsZSIgZmlsbD0iI0ZGMkEyQSIKICAgICAgIGQ9Im0gMjIuMzQ0MzY5LC0zLjAxNjM2NDIgaCA1LjYzODYwNCB2IDEuNTc5MjQzMyBoIC0zLjU0OTIyNyB2IDEuNTA4NjkyOTkgaCAzLjMzNzU3NiBWIDEuNjUwODE1NCBoIC0zLjMzNzU3NiB2IDMuNDM1MjYxMyBoIC0yLjA4OTM3NyB6IG0gLTcuMTM2NDQ0LDEuNTc5MjQzMyB2IDQuOTQzOTU0MyBoIDAuNzQ4OTIgcSAxLjI4MDc2MSwwIDEuOTUzNzAzLC0wLjYzNDk1MzUgMC42NzgzNjksLTAuNjM0OTUzNSAwLjY3ODM2OSwtMS44NDUxNjQxIDAsLTEuMjA0NzgzNTUgLTAuNjcyOTQyLC0xLjgzNDMxMDExIC0wLjY3Mjk0MiwtMC42Mjk1MjY1OSAtMS45NTkxMywtMC42Mjk1MjY1OSB6IG0gLTIuMDg5Mzc3LC0xLjU3OTI0MzMgaCAyLjIwMzM0MyBxIDEuODQ1MTY0LDAgMi43NDYwMzksMC4yNjU5MjA3IDAuOTA2MzAxLDAuMjYwNDkzNyAxLjU1MjEwOCwwLjg5MDAyMDMgMC41Njk4MywwLjU0ODEyMjMgMC44NDY2MDUsMS4yNjQ0ODAwNiAwLjI3Njc3NCwwLjcxNjM1NzgxIDAuMjc2Nzc0LDEuNjIyNjU4OTQgMCwwLjkxNzE1NTEgLTAuMjc2Nzc0LDEuNjM4OTM5OSAtMC4yNzY3NzUsMC43MTYzNTc4IC0wLjg0NjYwNSwxLjI2NDQ4IC0wLjY1MTIzNCwwLjYyOTUyNjYgLTEuNTYyOTYyLDAuODk1NDQ3MyAtMC45MTE3MjgsMC4yNjA0OTM3IC0yLjczNTE4NSwwLjI2MDQ5MzcgaCAtMi4yMDMzNDMgeiBtIC04LjE0NTg1NjUsMCBoIDMuNDY3ODIzIHEgMS41NDY2ODE2LDAgMi4zNzE1Nzg1LDAuNjg5MjIzIDAuODMwMzI0LDAuNjgzNzk2MSAwLjgzMDMyNCwxLjk1MzcwMzE0IDAsMS4yNzUzMzM5NyAtMC44MzAzMjQsMS45NjQ1NTcwNiBRIDkuOTg3MTk2MSwyLjI3NDkxNSA4LjQ0MDUxNDUsMi4yNzQ5MTUgSCA3LjA2MjA2ODQgViA1LjA4NjA3NjcgSCA0Ljk3MjY5MTUgWiBtIDIuMDg5Mzc2OSwxLjUxNDExOTkgdiAyLjI2MzAzOTQzIGggMS4xNTU5NDEgcSAwLjYwNzgxODgsMCAwLjkzODg2MjksLTAuMjkzMDU1NDcgMC4zMzEwNDQxLC0wLjI5ODQ4MjQxIDAuMzMxMDQ0MSwtMC44NDExNzc3MiAwLC0wLjU0MjY5NTMxIC0wLjMzMTA0NDEsLTAuODM1NzUwNzQgLTAuMzMxMDQ0MSwtMC4yOTMwNTU1IC0wLjkzODg2MjksLTAuMjkzMDU1NSB6IgovPgo8L3N2Zz4K);
  --jp-icon-python: url(data:image/svg+xml;base64,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);
  --jp-icon-r-kernel: url(data:image/svg+xml;base64,PHN2ZyB4bWxucz0iaHR0cDovL3d3dy53My5vcmcvMjAwMC9zdmciIHdpZHRoPSIxNiIgdmlld0JveD0iMCAwIDIyIDIyIj4KICA8cGF0aCBjbGFzcz0ianAtaWNvbi1jb250cmFzdDMganAtaWNvbi1zZWxlY3RhYmxlIiBmaWxsPSIjMjE5NkYzIiBkPSJNNC40IDIuNWMxLjItLjEgMi45LS4zIDQuOS0uMyAyLjUgMCA0LjEuNCA1LjIgMS4zIDEgLjcgMS41IDEuOSAxLjUgMy41IDAgMi0xLjQgMy41LTIuOSA0LjEgMS4yLjQgMS43IDEuNiAyLjIgMyAuNiAxLjkgMSAzLjkgMS4zIDQuNmgtMy44Yy0uMy0uNC0uOC0xLjctMS4yLTMuN3MtMS4yLTIuNi0yLjYtMi42aC0uOXY2LjRINC40VjIuNXptMy43IDYuOWgxLjRjMS45IDAgMi45LS45IDIuOS0yLjNzLTEtMi4zLTIuOC0yLjNjLS43IDAtMS4zIDAtMS42LjJ2NC41aC4xdi0uMXoiLz4KPC9zdmc+Cg==);
  --jp-icon-react: url(data:image/svg+xml;base64,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);
  --jp-icon-redo: url(data:image/svg+xml;base64,PHN2ZyB4bWxucz0iaHR0cDovL3d3dy53My5vcmcvMjAwMC9zdmciIGhlaWdodD0iMjQiIHZpZXdCb3g9IjAgMCAyNCAyNCIgd2lkdGg9IjE2Ij4KICA8ZyBjbGFzcz0ianAtaWNvbjMiIGZpbGw9IiM2MTYxNjEiPgogICAgICA8cGF0aCBkPSJNMCAwaDI0djI0SDB6IiBmaWxsPSJub25lIi8+PHBhdGggZD0iTTE4LjQgMTAuNkMxNi41NSA4Ljk5IDE0LjE1IDggMTEuNSA4Yy00LjY1IDAtOC41OCAzLjAzLTkuOTYgNy4yMkwzLjkgMTZjMS4wNS0zLjE5IDQuMDUtNS41IDcuNi01LjUgMS45NSAwIDMuNzMuNzIgNS4xMiAxLjg4TDEzIDE2aDlWN2wtMy42IDMuNnoiLz4KICA8L2c+Cjwvc3ZnPgo=);
  --jp-icon-refresh: url(data:image/svg+xml;base64,PHN2ZyB4bWxucz0iaHR0cDovL3d3dy53My5vcmcvMjAwMC9zdmciIHdpZHRoPSIxNiIgdmlld0JveD0iMCAwIDE4IDE4Ij4KICAgIDxnIGNsYXNzPSJqcC1pY29uMyIgZmlsbD0iIzYxNjE2MSI+CiAgICAgICAgPHBhdGggZD0iTTkgMTMuNWMtMi40OSAwLTQuNS0yLjAxLTQuNS00LjVTNi41MSA0LjUgOSA0LjVjMS4yNCAwIDIuMzYuNTIgMy4xNyAxLjMzTDEwIDhoNVYzbC0xLjc2IDEuNzZDMTIuMTUgMy42OCAxMC42NiAzIDkgMyA1LjY5IDMgMy4wMSA1LjY5IDMuMDEgOVM1LjY5IDE1IDkgMTVjMi45NyAwIDUuNDMtMi4xNiA1LjktNWgtMS41MmMtLjQ2IDItMi4yNCAzLjUtNC4zOCAzLjV6Ii8+CiAgICA8L2c+Cjwvc3ZnPgo=);
  --jp-icon-regex: url(data:image/svg+xml;base64,PHN2ZyB4bWxucz0iaHR0cDovL3d3dy53My5vcmcvMjAwMC9zdmciIHdpZHRoPSIxNiIgdmlld0JveD0iMCAwIDIwIDIwIj4KICA8ZyBjbGFzcz0ianAtaWNvbjIiIGZpbGw9IiM0MTQxNDEiPgogICAgPHJlY3QgeD0iMiIgeT0iMiIgd2lkdGg9IjE2IiBoZWlnaHQ9IjE2Ii8+CiAgPC9nPgoKICA8ZyBjbGFzcz0ianAtaWNvbi1hY2NlbnQyIiBmaWxsPSIjRkZGIj4KICAgIDxjaXJjbGUgY2xhc3M9InN0MiIgY3g9IjUuNSIgY3k9IjE0LjUiIHI9IjEuNSIvPgogICAgPHJlY3QgeD0iMTIiIHk9IjQiIGNsYXNzPSJzdDIiIHdpZHRoPSIxIiBoZWlnaHQ9IjgiLz4KICAgIDxyZWN0IHg9IjguNSIgeT0iNy41IiB0cmFuc2Zvcm09Im1hdHJpeCgwLjg2NiAtMC41IDAuNSAwLjg2NiAtMi4zMjU1IDcuMzIxOSkiIGNsYXNzPSJzdDIiIHdpZHRoPSI4IiBoZWlnaHQ9IjEiLz4KICAgIDxyZWN0IHg9IjEyIiB5PSI0IiB0cmFuc2Zvcm09Im1hdHJpeCgwLjUgLTAuODY2IDAuODY2IDAuNSAtMC42Nzc5IDE0LjgyNTIpIiBjbGFzcz0ic3QyIiB3aWR0aD0iMSIgaGVpZ2h0PSI4Ii8+CiAgPC9nPgo8L3N2Zz4K);
  --jp-icon-run: url(data:image/svg+xml;base64,PHN2ZyBoZWlnaHQ9IjI0IiB2aWV3Qm94PSIwIDAgMjQgMjQiIHdpZHRoPSIyNCIgeG1sbnM9Imh0dHA6Ly93d3cudzMub3JnLzIwMDAvc3ZnIj4KICAgIDxnIGNsYXNzPSJqcC1pY29uMyIgZmlsbD0iIzYxNjE2MSI+CiAgICAgICAgPHBhdGggZD0iTTggNXYxNGwxMS03eiIvPgogICAgPC9nPgo8L3N2Zz4K);
  --jp-icon-running: url(data:image/svg+xml;base64,PHN2ZyB4bWxucz0iaHR0cDovL3d3dy53My5vcmcvMjAwMC9zdmciIHdpZHRoPSIxNiIgdmlld0JveD0iMCAwIDUxMiA1MTIiPgogIDxnIGNsYXNzPSJqcC1pY29uMyIgZmlsbD0iIzYxNjE2MSI+CiAgICA8cGF0aCBkPSJNMjU2IDhDMTE5IDggOCAxMTkgOCAyNTZzMTExIDI0OCAyNDggMjQ4IDI0OC0xMTEgMjQ4LTI0OFMzOTMgOCAyNTYgOHptOTYgMzI4YzAgOC44LTcuMiAxNi0xNiAxNkgxNzZjLTguOCAwLTE2LTcuMi0xNi0xNlYxNzZjMC04LjggNy4yLTE2IDE2LTE2aDE2MGM4LjggMCAxNiA3LjIgMTYgMTZ2MTYweiIvPgogIDwvZz4KPC9zdmc+Cg==);
  --jp-icon-save: url(data:image/svg+xml;base64,PHN2ZyBoZWlnaHQ9IjI0IiB2aWV3Qm94PSIwIDAgMjQgMjQiIHdpZHRoPSIyNCIgeG1sbnM9Imh0dHA6Ly93d3cudzMub3JnLzIwMDAvc3ZnIj4KICAgIDxnIGNsYXNzPSJqcC1pY29uMyIgZmlsbD0iIzYxNjE2MSI+CiAgICAgICAgPHBhdGggZD0iTTE3IDNINWMtMS4xMSAwLTIgLjktMiAydjE0YzAgMS4xLjg5IDIgMiAyaDE0YzEuMSAwIDItLjkgMi0yVjdsLTQtNHptLTUgMTZjLTEuNjYgMC0zLTEuMzQtMy0zczEuMzQtMyAzLTMgMyAxLjM0IDMgMy0xLjM0IDMtMyAzem0zLTEwSDVWNWgxMHY0eiIvPgogICAgPC9nPgo8L3N2Zz4K);
  --jp-icon-search: url(data:image/svg+xml;base64,PHN2ZyB2aWV3Qm94PSIwIDAgMTggMTgiIHdpZHRoPSIxNiIgeG1sbnM9Imh0dHA6Ly93d3cudzMub3JnLzIwMDAvc3ZnIj4KICA8ZyBjbGFzcz0ianAtaWNvbjMiIGZpbGw9IiM2MTYxNjEiPgogICAgPHBhdGggZD0iTTEyLjEsMTAuOWgtMC43bC0wLjItMC4yYzAuOC0wLjksMS4zLTIuMiwxLjMtMy41YzAtMy0yLjQtNS40LTUuNC01LjRTMS44LDQuMiwxLjgsNy4xczIuNCw1LjQsNS40LDUuNCBjMS4zLDAsMi41LTAuNSwzLjUtMS4zbDAuMiwwLjJ2MC43bDQuMSw0LjFsMS4yLTEuMkwxMi4xLDEwLjl6IE03LjEsMTAuOWMtMi4xLDAtMy43LTEuNy0zLjctMy43czEuNy0zLjcsMy43LTMuN3MzLjcsMS43LDMuNywzLjcgUzkuMiwxMC45LDcuMSwxMC45eiIvPgogIDwvZz4KPC9zdmc+Cg==);
  --jp-icon-settings: url(data:image/svg+xml;base64,PHN2ZyB4bWxucz0iaHR0cDovL3d3dy53My5vcmcvMjAwMC9zdmciIHdpZHRoPSIxNiIgdmlld0JveD0iMCAwIDI0IDI0Ij4KICA8cGF0aCBjbGFzcz0ianAtaWNvbjMganAtaWNvbi1zZWxlY3RhYmxlIiBmaWxsPSIjNjE2MTYxIiBkPSJNMTkuNDMgMTIuOThjLjA0LS4zMi4wNy0uNjQuMDctLjk4cy0uMDMtLjY2LS4wNy0uOThsMi4xMS0xLjY1Yy4xOS0uMTUuMjQtLjQyLjEyLS42NGwtMi0zLjQ2Yy0uMTItLjIyLS4zOS0uMy0uNjEtLjIybC0yLjQ5IDFjLS41Mi0uNC0xLjA4LS43My0xLjY5LS45OGwtLjM4LTIuNjVBLjQ4OC40ODggMCAwMDE0IDJoLTRjLS4yNSAwLS40Ni4xOC0uNDkuNDJsLS4zOCAyLjY1Yy0uNjEuMjUtMS4xNy41OS0xLjY5Ljk4bC0yLjQ5LTFjLS4yMy0uMDktLjQ5IDAtLjYxLjIybC0yIDMuNDZjLS4xMy4yMi0uMDcuNDkuMTIuNjRsMi4xMSAxLjY1Yy0uMDQuMzItLjA3LjY1LS4wNy45OHMuMDMuNjYuMDcuOThsLTIuMTEgMS42NWMtLjE5LjE1LS4yNC40Mi0uMTIuNjRsMiAzLjQ2Yy4xMi4yMi4zOS4zLjYxLjIybDIuNDktMWMuNTIuNCAxLjA4LjczIDEuNjkuOThsLjM4IDIuNjVjLjAzLjI0LjI0LjQyLjQ5LjQyaDRjLjI1IDAgLjQ2LS4xOC40OS0uNDJsLjM4LTIuNjVjLjYxLS4yNSAxLjE3LS41OSAxLjY5LS45OGwyLjQ5IDFjLjIzLjA5LjQ5IDAgLjYxLS4yMmwyLTMuNDZjLjEyLS4yMi4wNy0uNDktLjEyLS42NGwtMi4xMS0xLjY1ek0xMiAxNS41Yy0xLjkzIDAtMy41LTEuNTctMy41LTMuNXMxLjU3LTMuNSAzLjUtMy41IDMuNSAxLjU3IDMuNSAzLjUtMS41NyAzLjUtMy41IDMuNXoiLz4KPC9zdmc+Cg==);
  --jp-icon-share: url(data:image/svg+xml;base64,PHN2ZyB3aWR0aD0iMTYiIHZpZXdCb3g9IjAgMCAyNCAyNCIgeG1sbnM9Imh0dHA6Ly93d3cudzMub3JnLzIwMDAvc3ZnIj4KICA8ZyBjbGFzcz0ianAtaWNvbjMiIGZpbGw9IiM2MTYxNjEiPgogICAgPHBhdGggZD0iTSAxOCAyIEMgMTYuMzU0OTkgMiAxNSAzLjM1NDk5MDQgMTUgNSBDIDE1IDUuMTkwOTUyOSAxNS4wMjE3OTEgNS4zNzcxMjI0IDE1LjA1NjY0MSA1LjU1ODU5MzggTCA3LjkyMTg3NSA5LjcyMDcwMzEgQyA3LjM5ODUzOTkgOS4yNzc4NTM5IDYuNzMyMDc3MSA5IDYgOSBDIDQuMzU0OTkwNCA5IDMgMTAuMzU0OTkgMyAxMiBDIDMgMTMuNjQ1MDEgNC4zNTQ5OTA0IDE1IDYgMTUgQyA2LjczMjA3NzEgMTUgNy4zOTg1Mzk5IDE0LjcyMjE0NiA3LjkyMTg3NSAxNC4yNzkyOTcgTCAxNS4wNTY2NDEgMTguNDM5NDUzIEMgMTUuMDIxNTU1IDE4LjYyMTUxNCAxNSAxOC44MDgzODYgMTUgMTkgQyAxNSAyMC42NDUwMSAxNi4zNTQ5OSAyMiAxOCAyMiBDIDE5LjY0NTAxIDIyIDIxIDIwLjY0NTAxIDIxIDE5IEMgMjEgMTcuMzU0OTkgMTkuNjQ1MDEgMTYgMTggMTYgQyAxNy4yNjc0OCAxNiAxNi42MDE1OTMgMTYuMjc5MzI4IDE2LjA3ODEyNSAxNi43MjI2NTYgTCA4Ljk0MzM1OTQgMTIuNTU4NTk0IEMgOC45NzgyMDk1IDEyLjM3NzEyMiA5IDEyLjE5MDk1MyA5IDEyIEMgOSAxMS44MDkwNDcgOC45NzgyMDk1IDExLjYyMjg3OCA4Ljk0MzM1OTQgMTEuNDQxNDA2IEwgMTYuMDc4MTI1IDcuMjc5Mjk2OSBDIDE2LjYwMTQ2IDcuNzIyMTQ2MSAxNy4yNjc5MjMgOCAxOCA4IEMgMTkuNjQ1MDEgOCAyMSA2LjY0NTAwOTYgMjEgNSBDIDIxIDMuMzU0OTkwNCAxOS42NDUwMSAyIDE4IDIgeiBNIDE4IDQgQyAxOC41NjQxMjkgNCAxOSA0LjQzNTg3MDYgMTkgNSBDIDE5IDUuNTY0MTI5NCAxOC41NjQxMjkgNiAxOCA2IEMgMTcuNDM1ODcxIDYgMTcgNS41NjQxMjk0IDE3IDUgQyAxNyA0LjQzNTg3MDYgMTcuNDM1ODcxIDQgMTggNCB6IE0gNiAxMSBDIDYuNTY0MTI5NCAxMSA3IDExLjQzNTg3MSA3IDEyIEMgNyAxMi41NjQxMjkgNi41NjQxMjk0IDEzIDYgMTMgQyA1LjQzNTg3MDYgMTMgNSAxMi41NjQxMjkgNSAxMiBDIDUgMTEuNDM1ODcxIDUuNDM1ODcwNiAxMSA2IDExIHogTSAxOCAxOCBDIDE4LjU2NDEyOSAxOCAxOSAxOC40MzU4NzEgMTkgMTkgQyAxOSAxOS41NjQxMjkgMTguNTY0MTI5IDIwIDE4IDIwIEMgMTcuNDM1ODcxIDIwIDE3IDE5LjU2NDEyOSAxNyAxOSBDIDE3IDE4LjQzNTg3MSAxNy40MzU4NzEgMTggMTggMTggeiIvPgogIDwvZz4KPC9zdmc+Cg==);
  --jp-icon-spreadsheet: url(data:image/svg+xml;base64,PHN2ZyB4bWxucz0iaHR0cDovL3d3dy53My5vcmcvMjAwMC9zdmciIHdpZHRoPSIxNiIgdmlld0JveD0iMCAwIDIyIDIyIj4KICA8cGF0aCBjbGFzcz0ianAtaWNvbi1jb250cmFzdDEganAtaWNvbi1zZWxlY3RhYmxlIiBmaWxsPSIjNENBRjUwIiBkPSJNMi4yIDIuMnYxNy42aDE3LjZWMi4ySDIuMnptMTUuNCA3LjdoLTUuNVY0LjRoNS41djUuNXpNOS45IDQuNHY1LjVINC40VjQuNGg1LjV6bS01LjUgNy43aDUuNXY1LjVINC40di01LjV6bTcuNyA1LjV2LTUuNWg1LjV2NS41aC01LjV6Ii8+Cjwvc3ZnPgo=);
  --jp-icon-stop: url(data:image/svg+xml;base64,PHN2ZyBoZWlnaHQ9IjI0IiB2aWV3Qm94PSIwIDAgMjQgMjQiIHdpZHRoPSIyNCIgeG1sbnM9Imh0dHA6Ly93d3cudzMub3JnLzIwMDAvc3ZnIj4KICAgIDxnIGNsYXNzPSJqcC1pY29uMyIgZmlsbD0iIzYxNjE2MSI+CiAgICAgICAgPHBhdGggZD0iTTAgMGgyNHYyNEgweiIgZmlsbD0ibm9uZSIvPgogICAgICAgIDxwYXRoIGQ9Ik02IDZoMTJ2MTJINnoiLz4KICAgIDwvZz4KPC9zdmc+Cg==);
  --jp-icon-tab: url(data:image/svg+xml;base64,PHN2ZyB4bWxucz0iaHR0cDovL3d3dy53My5vcmcvMjAwMC9zdmciIHdpZHRoPSIxNiIgdmlld0JveD0iMCAwIDI0IDI0Ij4KICA8ZyBjbGFzcz0ianAtaWNvbjMiIGZpbGw9IiM2MTYxNjEiPgogICAgPHBhdGggZD0iTTIxIDNIM2MtMS4xIDAtMiAuOS0yIDJ2MTRjMCAxLjEuOSAyIDIgMmgxOGMxLjEgMCAyLS45IDItMlY1YzAtMS4xLS45LTItMi0yem0wIDE2SDNWNWgxMHY0aDh2MTB6Ii8+CiAgPC9nPgo8L3N2Zz4K);
  --jp-icon-table-rows: url(data:image/svg+xml;base64,PHN2ZyBoZWlnaHQ9IjI0IiB2aWV3Qm94PSIwIDAgMjQgMjQiIHdpZHRoPSIyNCIgeG1sbnM9Imh0dHA6Ly93d3cudzMub3JnLzIwMDAvc3ZnIj4KICAgIDxnIGNsYXNzPSJqcC1pY29uMyIgZmlsbD0iIzYxNjE2MSI+CiAgICAgICAgPHBhdGggZD0iTTAgMGgyNHYyNEgweiIgZmlsbD0ibm9uZSIvPgogICAgICAgIDxwYXRoIGQ9Ik0yMSw4SDNWNGgxOFY4eiBNMjEsMTBIM3Y0aDE4VjEweiBNMjEsMTZIM3Y0aDE4VjE2eiIvPgogICAgPC9nPgo8L3N2Zz4K);
  --jp-icon-tag: url(data:image/svg+xml;base64,PHN2ZyB3aWR0aD0iMjgiIGhlaWdodD0iMjgiIHZpZXdCb3g9IjAgMCA0MyAyOCIgeG1sbnM9Imh0dHA6Ly93d3cudzMub3JnLzIwMDAvc3ZnIj4KCTxnIGNsYXNzPSJqcC1pY29uMyIgZmlsbD0iIzYxNjE2MSI+CgkJPHBhdGggZD0iTTI4LjgzMzIgMTIuMzM0TDMyLjk5OTggMTYuNTAwN0wzNy4xNjY1IDEyLjMzNEgyOC44MzMyWiIvPgoJCTxwYXRoIGQ9Ik0xNi4yMDk1IDIxLjYxMDRDMTUuNjg3MyAyMi4xMjk5IDE0Ljg0NDMgMjIuMTI5OSAxNC4zMjQ4IDIxLjYxMDRMNi45ODI5IDE0LjcyNDVDNi41NzI0IDE0LjMzOTQgNi4wODMxMyAxMy42MDk4IDYuMDQ3ODYgMTMuMDQ4MkM1Ljk1MzQ3IDExLjUyODggNi4wMjAwMiA4LjYxOTQ0IDYuMDY2MjEgNy4wNzY5NUM2LjA4MjgxIDYuNTE0NzcgNi41NTU0OCA2LjA0MzQ3IDcuMTE4MDQgNi4wMzA1NUM5LjA4ODYzIDUuOTg0NzMgMTMuMjYzOCA1LjkzNTc5IDEzLjY1MTggNi4zMjQyNUwyMS43MzY5IDEzLjYzOUMyMi4yNTYgMTQuMTU4NSAyMS43ODUxIDE1LjQ3MjQgMjEuMjYyIDE1Ljk5NDZMMTYuMjA5NSAyMS42MTA0Wk05Ljc3NTg1IDguMjY1QzkuMzM1NTEgNy44MjU2NiA4LjYyMzUxIDcuODI1NjYgOC4xODI4IDguMjY1QzcuNzQzNDYgOC43MDU3MSA3Ljc0MzQ2IDkuNDE3MzMgOC4xODI4IDkuODU2NjdDOC42MjM4MiAxMC4yOTY0IDkuMzM1ODIgMTAuMjk2NCA5Ljc3NTg1IDkuODU2NjdDMTAuMjE1NiA5LjQxNzMzIDEwLjIxNTYgOC43MDUzMyA5Ljc3NTg1IDguMjY1WiIvPgoJPC9nPgo8L3N2Zz4K);
  --jp-icon-terminal: url(data:image/svg+xml;base64,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);
  --jp-icon-text-editor: url(data:image/svg+xml;base64,PHN2ZyB4bWxucz0iaHR0cDovL3d3dy53My5vcmcvMjAwMC9zdmciIHdpZHRoPSIxNiIgdmlld0JveD0iMCAwIDI0IDI0Ij4KICA8cGF0aCBjbGFzcz0ianAtdGV4dC1lZGl0b3ItaWNvbi1jb2xvciBqcC1pY29uLXNlbGVjdGFibGUiIGZpbGw9IiM2MTYxNjEiIGQ9Ik0xNSAxNUgzdjJoMTJ2LTJ6bTAtOEgzdjJoMTJWN3pNMyAxM2gxOHYtMkgzdjJ6bTAgOGgxOHYtMkgzdjJ6TTMgM3YyaDE4VjNIM3oiLz4KPC9zdmc+Cg==);
  --jp-icon-toc: url(data:image/svg+xml;base64,PHN2ZyB4bWxucz0iaHR0cDovL3d3dy53My5vcmcvMjAwMC9zdmciIHdpZHRoPSIyNCIgaGVpZ2h0PSIyNCIgdmlld0JveD0iMCAwIDI0IDI0Ij4KICA8ZyBjbGFzcz0ianAtaWNvbjMganAtaWNvbi1zZWxlY3RhYmxlIiBmaWxsPSIjNjE2MTYxIj4KICAgIDxwYXRoIGQ9Ik03LDVIMjFWN0g3VjVNNywxM1YxMUgyMVYxM0g3TTQsNC41QTEuNSwxLjUgMCAwLDEgNS41LDZBMS41LDEuNSAwIDAsMSA0LDcuNUExLjUsMS41IDAgMCwxIDIuNSw2QTEuNSwxLjUgMCAwLDEgNCw0LjVNNCwxMC41QTEuNSwxLjUgMCAwLDEgNS41LDEyQTEuNSwxLjUgMCAwLDEgNCwxMy41QTEuNSwxLjUgMCAwLDEgMi41LDEyQTEuNSwxLjUgMCAwLDEgNCwxMC41TTcsMTlWMTdIMjFWMTlIN000LDE2LjVBMS41LDEuNSAwIDAsMSA1LjUsMThBMS41LDEuNSAwIDAsMSA0LDE5LjVBMS41LDEuNSAwIDAsMSAyLjUsMThBMS41LDEuNSAwIDAsMSA0LDE2LjVaIiAvPgogIDwvZz4KPC9zdmc+Cg==);
  --jp-icon-tree-view: url(data:image/svg+xml;base64,PHN2ZyBoZWlnaHQ9IjI0IiB2aWV3Qm94PSIwIDAgMjQgMjQiIHdpZHRoPSIyNCIgeG1sbnM9Imh0dHA6Ly93d3cudzMub3JnLzIwMDAvc3ZnIj4KICAgIDxnIGNsYXNzPSJqcC1pY29uMyIgZmlsbD0iIzYxNjE2MSI+CiAgICAgICAgPHBhdGggZD0iTTAgMGgyNHYyNEgweiIgZmlsbD0ibm9uZSIvPgogICAgICAgIDxwYXRoIGQ9Ik0yMiAxMVYzaC03djNIOVYzSDJ2OGg3VjhoMnYxMGg0djNoN3YtOGgtN3YzaC0yVjhoMnYzeiIvPgogICAgPC9nPgo8L3N2Zz4K);
  --jp-icon-trusted: url(data:image/svg+xml;base64,PHN2ZyBmaWxsPSJub25lIiB4bWxucz0iaHR0cDovL3d3dy53My5vcmcvMjAwMC9zdmciIHdpZHRoPSIxNiIgdmlld0JveD0iMCAwIDI0IDI1Ij4KICAgIDxwYXRoIGNsYXNzPSJqcC1pY29uMiIgc3Ryb2tlPSIjMzMzMzMzIiBzdHJva2Utd2lkdGg9IjIiIHRyYW5zZm9ybT0idHJhbnNsYXRlKDIgMykiIGQ9Ik0xLjg2MDk0IDExLjQ0MDlDMC44MjY0NDggOC43NzAyNyAwLjg2Mzc3OSA2LjA1NzY0IDEuMjQ5MDcgNC4xOTkzMkMyLjQ4MjA2IDMuOTMzNDcgNC4wODA2OCAzLjQwMzQ3IDUuNjAxMDIgMi44NDQ5QzcuMjM1NDkgMi4yNDQ0IDguODU2NjYgMS41ODE1IDkuOTg3NiAxLjA5NTM5QzExLjA1OTcgMS41ODM0MSAxMi42MDk0IDIuMjQ0NCAxNC4yMTggMi44NDMzOUMxNS43NTAzIDMuNDEzOTQgMTcuMzk5NSAzLjk1MjU4IDE4Ljc1MzkgNC4yMTM4NUMxOS4xMzY0IDYuMDcxNzcgMTkuMTcwOSA4Ljc3NzIyIDE4LjEzOSAxMS40NDA5QzE3LjAzMDMgMTQuMzAzMiAxNC42NjY4IDE3LjE4NDQgOS45OTk5OSAxOC45MzU0QzUuMzMzMiAxNy4xODQ0IDIuOTY5NjggMTQuMzAzMiAxLjg2MDk0IDExLjQ0MDlaIi8+CiAgICA8cGF0aCBjbGFzcz0ianAtaWNvbjIiIGZpbGw9IiMzMzMzMzMiIHN0cm9rZT0iIzMzMzMzMyIgdHJhbnNmb3JtPSJ0cmFuc2xhdGUoOCA5Ljg2NzE5KSIgZD0iTTIuODYwMTUgNC44NjUzNUwwLjcyNjU0OSAyLjk5OTU5TDAgMy42MzA0NUwyLjg2MDE1IDYuMTMxNTdMOCAwLjYzMDg3Mkw3LjI3ODU3IDBMMi44NjAxNSA0Ljg2NTM1WiIvPgo8L3N2Zz4K);
  --jp-icon-undo: url(data:image/svg+xml;base64,PHN2ZyB2aWV3Qm94PSIwIDAgMjQgMjQiIHdpZHRoPSIxNiIgeG1sbnM9Imh0dHA6Ly93d3cudzMub3JnLzIwMDAvc3ZnIj4KICA8ZyBjbGFzcz0ianAtaWNvbjMiIGZpbGw9IiM2MTYxNjEiPgogICAgPHBhdGggZD0iTTEyLjUgOGMtMi42NSAwLTUuMDUuOTktNi45IDIuNkwyIDd2OWg5bC0zLjYyLTMuNjJjMS4zOS0xLjE2IDMuMTYtMS44OCA1LjEyLTEuODggMy41NCAwIDYuNTUgMi4zMSA3LjYgNS41bDIuMzctLjc4QzIxLjA4IDExLjAzIDE3LjE1IDggMTIuNSA4eiIvPgogIDwvZz4KPC9zdmc+Cg==);
  --jp-icon-user: url(data:image/svg+xml;base64,PHN2ZyB3aWR0aD0iMTYiIHZpZXdCb3g9IjAgMCAyNCAyNCIgeG1sbnM9Imh0dHA6Ly93d3cudzMub3JnLzIwMDAvc3ZnIj4KICA8ZyBjbGFzcz0ianAtaWNvbjMiIGZpbGw9IiM2MTYxNjEiPgogICAgPHBhdGggZD0iTTE2IDdhNCA0IDAgMTEtOCAwIDQgNCAwIDAxOCAwek0xMiAxNGE3IDcgMCAwMC03IDdoMTRhNyA3IDAgMDAtNy03eiIvPgogIDwvZz4KPC9zdmc+Cg==);
  --jp-icon-users: url(data:image/svg+xml;base64,PHN2ZyB3aWR0aD0iMjQiIGhlaWdodD0iMjQiIHZlcnNpb249IjEuMSIgdmlld0JveD0iMCAwIDM2IDI0IiB4bWxucz0iaHR0cDovL3d3dy53My5vcmcvMjAwMC9zdmciPgogPGcgY2xhc3M9ImpwLWljb24zIiB0cmFuc2Zvcm09Im1hdHJpeCgxLjczMjcgMCAwIDEuNzMyNyAtMy42MjgyIC4wOTk1NzcpIiBmaWxsPSIjNjE2MTYxIj4KICA8cGF0aCB0cmFuc2Zvcm09Im1hdHJpeCgxLjUsMCwwLDEuNSwwLC02KSIgZD0ibTEyLjE4NiA3LjUwOThjLTEuMDUzNSAwLTEuOTc1NyAwLjU2NjUtMi40Nzg1IDEuNDEwMiAwLjc1MDYxIDAuMzEyNzcgMS4zOTc0IDAuODI2NDggMS44NzMgMS40NzI3aDMuNDg2M2MwLTEuNTkyLTEuMjg4OS0yLjg4MjgtMi44ODA5LTIuODgyOHoiLz4KICA8cGF0aCBkPSJtMjAuNDY1IDIuMzg5NWEyLjE4ODUgMi4xODg1IDAgMCAxLTIuMTg4NCAyLjE4ODUgMi4xODg1IDIuMTg4NSAwIDAgMS0yLjE4ODUtMi4xODg1IDIuMTg4NSAyLjE4ODUgMCAwIDEgMi4xODg1LTIuMTg4NSAyLjE4ODUgMi4xODg1IDAgMCAxIDIuMTg4NCAyLjE4ODV6Ii8+CiAgPHBhdGggdHJhbnNmb3JtPSJtYXRyaXgoMS41LDAsMCwxLjUsMCwtNikiIGQ9Im0zLjU4OTggOC40MjE5Yy0xLjExMjYgMC0yLjAxMzcgMC45MDExMS0yLjAxMzcgMi4wMTM3aDIuODE0NWMwLjI2Nzk3LTAuMzczMDkgMC41OTA3LTAuNzA0MzUgMC45NTg5OC0wLjk3ODUyLTAuMzQ0MzMtMC42MTY4OC0xLjAwMzEtMS4wMzUyLTEuNzU5OC0xLjAzNTJ6Ii8+CiAgPHBhdGggZD0ibTYuOTE1NCA0LjYyM2ExLjUyOTQgMS41Mjk0IDAgMCAxLTEuNTI5NCAxLjUyOTQgMS41Mjk0IDEuNTI5NCAwIDAgMS0xLjUyOTQtMS41Mjk0IDEuNTI5NCAxLjUyOTQgMCAwIDEgMS41Mjk0LTEuNTI5NCAxLjUyOTQgMS41Mjk0IDAgMCAxIDEuNTI5NCAxLjUyOTR6Ii8+CiAgPHBhdGggZD0ibTYuMTM1IDEzLjUzNWMwLTMuMjM5MiAyLjYyNTktNS44NjUgNS44NjUtNS44NjUgMy4yMzkyIDAgNS44NjUgMi42MjU5IDUuODY1IDUuODY1eiIvPgogIDxjaXJjbGUgY3g9IjEyIiBjeT0iMy43Njg1IiByPSIyLjk2ODUiLz4KIDwvZz4KPC9zdmc+Cg==);
  --jp-icon-vega: url(data:image/svg+xml;base64,PHN2ZyB4bWxucz0iaHR0cDovL3d3dy53My5vcmcvMjAwMC9zdmciIHdpZHRoPSIxNiIgdmlld0JveD0iMCAwIDIyIDIyIj4KICA8ZyBjbGFzcz0ianAtaWNvbjEganAtaWNvbi1zZWxlY3RhYmxlIiBmaWxsPSIjMjEyMTIxIj4KICAgIDxwYXRoIGQ9Ik0xMC42IDUuNGwyLjItMy4ySDIuMnY3LjNsNC02LjZ6Ii8+CiAgICA8cGF0aCBkPSJNMTUuOCAyLjJsLTQuNCA2LjZMNyA2LjNsLTQuOCA4djUuNWgxNy42VjIuMmgtNHptLTcgMTUuNEg1LjV2LTQuNGgzLjN2NC40em00LjQgMEg5LjhWOS44aDMuNHY3Ljh6bTQuNCAwaC0zLjRWNi41aDMuNHYxMS4xeiIvPgogIDwvZz4KPC9zdmc+Cg==);
  --jp-icon-word: url(data:image/svg+xml;base64,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);
  --jp-icon-yaml: url(data:image/svg+xml;base64,PHN2ZyB4bWxucz0iaHR0cDovL3d3dy53My5vcmcvMjAwMC9zdmciIHdpZHRoPSIxNiIgdmlld0JveD0iMCAwIDIyIDIyIj4KICA8ZyBjbGFzcz0ianAtaWNvbi1jb250cmFzdDIganAtaWNvbi1zZWxlY3RhYmxlIiBmaWxsPSIjRDgxQjYwIj4KICAgIDxwYXRoIGQ9Ik03LjIgMTguNnYtNS40TDMgNS42aDMuM2wxLjQgMy4xYy4zLjkuNiAxLjYgMSAyLjUuMy0uOC42LTEuNiAxLTIuNWwxLjQtMy4xaDMuNGwtNC40IDcuNnY1LjVsLTIuOS0uMXoiLz4KICAgIDxjaXJjbGUgY2xhc3M9InN0MCIgY3g9IjE3LjYiIGN5PSIxNi41IiByPSIyLjEiLz4KICAgIDxjaXJjbGUgY2xhc3M9InN0MCIgY3g9IjE3LjYiIGN5PSIxMSIgcj0iMi4xIi8+CiAgPC9nPgo8L3N2Zz4K);
}

/* Icon CSS class declarations */

.jp-AddAboveIcon {
  background-image: var(--jp-icon-add-above);
}

.jp-AddBelowIcon {
  background-image: var(--jp-icon-add-below);
}

.jp-AddIcon {
  background-image: var(--jp-icon-add);
}

.jp-BellIcon {
  background-image: var(--jp-icon-bell);
}

.jp-BugDotIcon {
  background-image: var(--jp-icon-bug-dot);
}

.jp-BugIcon {
  background-image: var(--jp-icon-bug);
}

.jp-BuildIcon {
  background-image: var(--jp-icon-build);
}

.jp-CaretDownEmptyIcon {
  background-image: var(--jp-icon-caret-down-empty);
}

.jp-CaretDownEmptyThinIcon {
  background-image: var(--jp-icon-caret-down-empty-thin);
}

.jp-CaretDownIcon {
  background-image: var(--jp-icon-caret-down);
}

.jp-CaretLeftIcon {
  background-image: var(--jp-icon-caret-left);
}

.jp-CaretRightIcon {
  background-image: var(--jp-icon-caret-right);
}

.jp-CaretUpEmptyThinIcon {
  background-image: var(--jp-icon-caret-up-empty-thin);
}

.jp-CaretUpIcon {
  background-image: var(--jp-icon-caret-up);
}

.jp-CaseSensitiveIcon {
  background-image: var(--jp-icon-case-sensitive);
}

.jp-CheckIcon {
  background-image: var(--jp-icon-check);
}

.jp-CircleEmptyIcon {
  background-image: var(--jp-icon-circle-empty);
}

.jp-CircleIcon {
  background-image: var(--jp-icon-circle);
}

.jp-ClearIcon {
  background-image: var(--jp-icon-clear);
}

.jp-CloseIcon {
  background-image: var(--jp-icon-close);
}

.jp-CodeCheckIcon {
  background-image: var(--jp-icon-code-check);
}

.jp-CodeIcon {
  background-image: var(--jp-icon-code);
}

.jp-CollapseAllIcon {
  background-image: var(--jp-icon-collapse-all);
}

.jp-ConsoleIcon {
  background-image: var(--jp-icon-console);
}

.jp-CopyIcon {
  background-image: var(--jp-icon-copy);
}

.jp-CopyrightIcon {
  background-image: var(--jp-icon-copyright);
}

.jp-CutIcon {
  background-image: var(--jp-icon-cut);
}

.jp-DeleteIcon {
  background-image: var(--jp-icon-delete);
}

.jp-DownloadIcon {
  background-image: var(--jp-icon-download);
}

.jp-DuplicateIcon {
  background-image: var(--jp-icon-duplicate);
}

.jp-EditIcon {
  background-image: var(--jp-icon-edit);
}

.jp-EllipsesIcon {
  background-image: var(--jp-icon-ellipses);
}

.jp-ErrorIcon {
  background-image: var(--jp-icon-error);
}

.jp-ExpandAllIcon {
  background-image: var(--jp-icon-expand-all);
}

.jp-ExtensionIcon {
  background-image: var(--jp-icon-extension);
}

.jp-FastForwardIcon {
  background-image: var(--jp-icon-fast-forward);
}

.jp-FileIcon {
  background-image: var(--jp-icon-file);
}

.jp-FileUploadIcon {
  background-image: var(--jp-icon-file-upload);
}

.jp-FilterDotIcon {
  background-image: var(--jp-icon-filter-dot);
}

.jp-FilterIcon {
  background-image: var(--jp-icon-filter);
}

.jp-FilterListIcon {
  background-image: var(--jp-icon-filter-list);
}

.jp-FolderFavoriteIcon {
  background-image: var(--jp-icon-folder-favorite);
}

.jp-FolderIcon {
  background-image: var(--jp-icon-folder);
}

.jp-HomeIcon {
  background-image: var(--jp-icon-home);
}

.jp-Html5Icon {
  background-image: var(--jp-icon-html5);
}

.jp-ImageIcon {
  background-image: var(--jp-icon-image);
}

.jp-InfoIcon {
  background-image: var(--jp-icon-info);
}

.jp-InspectorIcon {
  background-image: var(--jp-icon-inspector);
}

.jp-JsonIcon {
  background-image: var(--jp-icon-json);
}

.jp-JuliaIcon {
  background-image: var(--jp-icon-julia);
}

.jp-JupyterFaviconIcon {
  background-image: var(--jp-icon-jupyter-favicon);
}

.jp-JupyterIcon {
  background-image: var(--jp-icon-jupyter);
}

.jp-JupyterlabWordmarkIcon {
  background-image: var(--jp-icon-jupyterlab-wordmark);
}

.jp-KernelIcon {
  background-image: var(--jp-icon-kernel);
}

.jp-KeyboardIcon {
  background-image: var(--jp-icon-keyboard);
}

.jp-LaunchIcon {
  background-image: var(--jp-icon-launch);
}

.jp-LauncherIcon {
  background-image: var(--jp-icon-launcher);
}

.jp-LineFormIcon {
  background-image: var(--jp-icon-line-form);
}

.jp-LinkIcon {
  background-image: var(--jp-icon-link);
}

.jp-ListIcon {
  background-image: var(--jp-icon-list);
}

.jp-MarkdownIcon {
  background-image: var(--jp-icon-markdown);
}

.jp-MoveDownIcon {
  background-image: var(--jp-icon-move-down);
}

.jp-MoveUpIcon {
  background-image: var(--jp-icon-move-up);
}

.jp-NewFolderIcon {
  background-image: var(--jp-icon-new-folder);
}

.jp-NotTrustedIcon {
  background-image: var(--jp-icon-not-trusted);
}

.jp-NotebookIcon {
  background-image: var(--jp-icon-notebook);
}

.jp-NumberingIcon {
  background-image: var(--jp-icon-numbering);
}

.jp-OfflineBoltIcon {
  background-image: var(--jp-icon-offline-bolt);
}

.jp-PaletteIcon {
  background-image: var(--jp-icon-palette);
}

.jp-PasteIcon {
  background-image: var(--jp-icon-paste);
}

.jp-PdfIcon {
  background-image: var(--jp-icon-pdf);
}

.jp-PythonIcon {
  background-image: var(--jp-icon-python);
}

.jp-RKernelIcon {
  background-image: var(--jp-icon-r-kernel);
}

.jp-ReactIcon {
  background-image: var(--jp-icon-react);
}

.jp-RedoIcon {
  background-image: var(--jp-icon-redo);
}

.jp-RefreshIcon {
  background-image: var(--jp-icon-refresh);
}

.jp-RegexIcon {
  background-image: var(--jp-icon-regex);
}

.jp-RunIcon {
  background-image: var(--jp-icon-run);
}

.jp-RunningIcon {
  background-image: var(--jp-icon-running);
}

.jp-SaveIcon {
  background-image: var(--jp-icon-save);
}

.jp-SearchIcon {
  background-image: var(--jp-icon-search);
}

.jp-SettingsIcon {
  background-image: var(--jp-icon-settings);
}

.jp-ShareIcon {
  background-image: var(--jp-icon-share);
}

.jp-SpreadsheetIcon {
  background-image: var(--jp-icon-spreadsheet);
}

.jp-StopIcon {
  background-image: var(--jp-icon-stop);
}

.jp-TabIcon {
  background-image: var(--jp-icon-tab);
}

.jp-TableRowsIcon {
  background-image: var(--jp-icon-table-rows);
}

.jp-TagIcon {
  background-image: var(--jp-icon-tag);
}

.jp-TerminalIcon {
  background-image: var(--jp-icon-terminal);
}

.jp-TextEditorIcon {
  background-image: var(--jp-icon-text-editor);
}

.jp-TocIcon {
  background-image: var(--jp-icon-toc);
}

.jp-TreeViewIcon {
  background-image: var(--jp-icon-tree-view);
}

.jp-TrustedIcon {
  background-image: var(--jp-icon-trusted);
}

.jp-UndoIcon {
  background-image: var(--jp-icon-undo);
}

.jp-UserIcon {
  background-image: var(--jp-icon-user);
}

.jp-UsersIcon {
  background-image: var(--jp-icon-users);
}

.jp-VegaIcon {
  background-image: var(--jp-icon-vega);
}

.jp-WordIcon {
  background-image: var(--jp-icon-word);
}

.jp-YamlIcon {
  background-image: var(--jp-icon-yaml);
}

/*-----------------------------------------------------------------------------
| Copyright (c) Jupyter Development Team.
| Distributed under the terms of the Modified BSD License.
|----------------------------------------------------------------------------*/

/**
 * (DEPRECATED) Support for consuming icons as CSS background images
 */

.jp-Icon,
.jp-MaterialIcon {
  background-position: center;
  background-repeat: no-repeat;
  background-size: 16px;
  min-width: 16px;
  min-height: 16px;
}

.jp-Icon-cover {
  background-position: center;
  background-repeat: no-repeat;
  background-size: cover;
}

/**
 * (DEPRECATED) Support for specific CSS icon sizes
 */

.jp-Icon-16 {
  background-size: 16px;
  min-width: 16px;
  min-height: 16px;
}

.jp-Icon-18 {
  background-size: 18px;
  min-width: 18px;
  min-height: 18px;
}

.jp-Icon-20 {
  background-size: 20px;
  min-width: 20px;
  min-height: 20px;
}

/*-----------------------------------------------------------------------------
| Copyright (c) Jupyter Development Team.
| Distributed under the terms of the Modified BSD License.
|----------------------------------------------------------------------------*/

.lm-TabBar .lm-TabBar-addButton {
  align-items: center;
  display: flex;
  padding: 4px;
  padding-bottom: 5px;
  margin-right: 1px;
  background-color: var(--jp-layout-color2);
}

.lm-TabBar .lm-TabBar-addButton:hover {
  background-color: var(--jp-layout-color1);
}

.lm-DockPanel-tabBar .lm-TabBar-tab {
  width: var(--jp-private-horizontal-tab-width);
}

.lm-DockPanel-tabBar .lm-TabBar-content {
  flex: unset;
}

.lm-DockPanel-tabBar[data-orientation='horizontal'] {
  flex: 1 1 auto;
}

/*-----------------------------------------------------------------------------
| Copyright (c) Jupyter Development Team.
| Distributed under the terms of the Modified BSD License.
|----------------------------------------------------------------------------*/

/**
 * Support for icons as inline SVG HTMLElements
 */

/* recolor the primary elements of an icon */
.jp-icon0[fill] {
  fill: var(--jp-inverse-layout-color0);
}

.jp-icon1[fill] {
  fill: var(--jp-inverse-layout-color1);
}

.jp-icon2[fill] {
  fill: var(--jp-inverse-layout-color2);
}

.jp-icon3[fill] {
  fill: var(--jp-inverse-layout-color3);
}

.jp-icon4[fill] {
  fill: var(--jp-inverse-layout-color4);
}

.jp-icon0[stroke] {
  stroke: var(--jp-inverse-layout-color0);
}

.jp-icon1[stroke] {
  stroke: var(--jp-inverse-layout-color1);
}

.jp-icon2[stroke] {
  stroke: var(--jp-inverse-layout-color2);
}

.jp-icon3[stroke] {
  stroke: var(--jp-inverse-layout-color3);
}

.jp-icon4[stroke] {
  stroke: var(--jp-inverse-layout-color4);
}

/* recolor the accent elements of an icon */
.jp-icon-accent0[fill] {
  fill: var(--jp-layout-color0);
}

.jp-icon-accent1[fill] {
  fill: var(--jp-layout-color1);
}

.jp-icon-accent2[fill] {
  fill: var(--jp-layout-color2);
}

.jp-icon-accent3[fill] {
  fill: var(--jp-layout-color3);
}

.jp-icon-accent4[fill] {
  fill: var(--jp-layout-color4);
}

.jp-icon-accent0[stroke] {
  stroke: var(--jp-layout-color0);
}

.jp-icon-accent1[stroke] {
  stroke: var(--jp-layout-color1);
}

.jp-icon-accent2[stroke] {
  stroke: var(--jp-layout-color2);
}

.jp-icon-accent3[stroke] {
  stroke: var(--jp-layout-color3);
}

.jp-icon-accent4[stroke] {
  stroke: var(--jp-layout-color4);
}

/* set the color of an icon to transparent */
.jp-icon-none[fill] {
  fill: none;
}

.jp-icon-none[stroke] {
  stroke: none;
}

/* brand icon colors. Same for light and dark */
.jp-icon-brand0[fill] {
  fill: var(--jp-brand-color0);
}

.jp-icon-brand1[fill] {
  fill: var(--jp-brand-color1);
}

.jp-icon-brand2[fill] {
  fill: var(--jp-brand-color2);
}

.jp-icon-brand3[fill] {
  fill: var(--jp-brand-color3);
}

.jp-icon-brand4[fill] {
  fill: var(--jp-brand-color4);
}

.jp-icon-brand0[stroke] {
  stroke: var(--jp-brand-color0);
}

.jp-icon-brand1[stroke] {
  stroke: var(--jp-brand-color1);
}

.jp-icon-brand2[stroke] {
  stroke: var(--jp-brand-color2);
}

.jp-icon-brand3[stroke] {
  stroke: var(--jp-brand-color3);
}

.jp-icon-brand4[stroke] {
  stroke: var(--jp-brand-color4);
}

/* warn icon colors. Same for light and dark */
.jp-icon-warn0[fill] {
  fill: var(--jp-warn-color0);
}

.jp-icon-warn1[fill] {
  fill: var(--jp-warn-color1);
}

.jp-icon-warn2[fill] {
  fill: var(--jp-warn-color2);
}

.jp-icon-warn3[fill] {
  fill: var(--jp-warn-color3);
}

.jp-icon-warn0[stroke] {
  stroke: var(--jp-warn-color0);
}

.jp-icon-warn1[stroke] {
  stroke: var(--jp-warn-color1);
}

.jp-icon-warn2[stroke] {
  stroke: var(--jp-warn-color2);
}

.jp-icon-warn3[stroke] {
  stroke: var(--jp-warn-color3);
}

/* icon colors that contrast well with each other and most backgrounds */
.jp-icon-contrast0[fill] {
  fill: var(--jp-icon-contrast-color0);
}

.jp-icon-contrast1[fill] {
  fill: var(--jp-icon-contrast-color1);
}

.jp-icon-contrast2[fill] {
  fill: var(--jp-icon-contrast-color2);
}

.jp-icon-contrast3[fill] {
  fill: var(--jp-icon-contrast-color3);
}

.jp-icon-contrast0[stroke] {
  stroke: var(--jp-icon-contrast-color0);
}

.jp-icon-contrast1[stroke] {
  stroke: var(--jp-icon-contrast-color1);
}

.jp-icon-contrast2[stroke] {
  stroke: var(--jp-icon-contrast-color2);
}

.jp-icon-contrast3[stroke] {
  stroke: var(--jp-icon-contrast-color3);
}

.jp-icon-dot[fill] {
  fill: var(--jp-warn-color0);
}

.jp-jupyter-icon-color[fill] {
  fill: var(--jp-jupyter-icon-color, var(--jp-warn-color0));
}

.jp-notebook-icon-color[fill] {
  fill: var(--jp-notebook-icon-color, var(--jp-warn-color0));
}

.jp-json-icon-color[fill] {
  fill: var(--jp-json-icon-color, var(--jp-warn-color1));
}

.jp-console-icon-color[fill] {
  fill: var(--jp-console-icon-color, white);
}

.jp-console-icon-background-color[fill] {
  fill: var(--jp-console-icon-background-color, var(--jp-brand-color1));
}

.jp-terminal-icon-color[fill] {
  fill: var(--jp-terminal-icon-color, var(--jp-layout-color2));
}

.jp-terminal-icon-background-color[fill] {
  fill: var(
    --jp-terminal-icon-background-color,
    var(--jp-inverse-layout-color2)
  );
}

.jp-text-editor-icon-color[fill] {
  fill: var(--jp-text-editor-icon-color, var(--jp-inverse-layout-color3));
}

.jp-inspector-icon-color[fill] {
  fill: var(--jp-inspector-icon-color, var(--jp-inverse-layout-color3));
}

/* CSS for icons in selected filebrowser listing items */
.jp-DirListing-item.jp-mod-selected .jp-icon-selectable[fill] {
  fill: #fff;
}

.jp-DirListing-item.jp-mod-selected .jp-icon-selectable-inverse[fill] {
  fill: var(--jp-brand-color1);
}

/* stylelint-disable selector-max-class, selector-max-compound-selectors */

/**
* TODO: come up with non css-hack solution for showing the busy icon on top
*  of the close icon
* CSS for complex behavior of close icon of tabs in the main area tabbar
*/
.lm-DockPanel-tabBar
  .lm-TabBar-tab.lm-mod-closable.jp-mod-dirty
  > .lm-TabBar-tabCloseIcon
  > :not(:hover)
  > .jp-icon3[fill] {
  fill: none;
}

.lm-DockPanel-tabBar
  .lm-TabBar-tab.lm-mod-closable.jp-mod-dirty
  > .lm-TabBar-tabCloseIcon
  > :not(:hover)
  > .jp-icon-busy[fill] {
  fill: var(--jp-inverse-layout-color3);
}

/* stylelint-enable selector-max-class, selector-max-compound-selectors */

/* CSS for icons in status bar */
#jp-main-statusbar .jp-mod-selected .jp-icon-selectable[fill] {
  fill: #fff;
}

#jp-main-statusbar .jp-mod-selected .jp-icon-selectable-inverse[fill] {
  fill: var(--jp-brand-color1);
}

/* special handling for splash icon CSS. While the theme CSS reloads during
   splash, the splash icon can loose theming. To prevent that, we set a
   default for its color variable */
:root {
  --jp-warn-color0: var(--md-orange-700);
}

/* not sure what to do with this one, used in filebrowser listing */
.jp-DragIcon {
  margin-right: 4px;
}

/*-----------------------------------------------------------------------------
| Copyright (c) Jupyter Development Team.
| Distributed under the terms of the Modified BSD License.
|----------------------------------------------------------------------------*/

/**
 * Support for alt colors for icons as inline SVG HTMLElements
 */

/* alt recolor the primary elements of an icon */
.jp-icon-alt .jp-icon0[fill] {
  fill: var(--jp-layout-color0);
}

.jp-icon-alt .jp-icon1[fill] {
  fill: var(--jp-layout-color1);
}

.jp-icon-alt .jp-icon2[fill] {
  fill: var(--jp-layout-color2);
}

.jp-icon-alt .jp-icon3[fill] {
  fill: var(--jp-layout-color3);
}

.jp-icon-alt .jp-icon4[fill] {
  fill: var(--jp-layout-color4);
}

.jp-icon-alt .jp-icon0[stroke] {
  stroke: var(--jp-layout-color0);
}

.jp-icon-alt .jp-icon1[stroke] {
  stroke: var(--jp-layout-color1);
}

.jp-icon-alt .jp-icon2[stroke] {
  stroke: var(--jp-layout-color2);
}

.jp-icon-alt .jp-icon3[stroke] {
  stroke: var(--jp-layout-color3);
}

.jp-icon-alt .jp-icon4[stroke] {
  stroke: var(--jp-layout-color4);
}

/* alt recolor the accent elements of an icon */
.jp-icon-alt .jp-icon-accent0[fill] {
  fill: var(--jp-inverse-layout-color0);
}

.jp-icon-alt .jp-icon-accent1[fill] {
  fill: var(--jp-inverse-layout-color1);
}

.jp-icon-alt .jp-icon-accent2[fill] {
  fill: var(--jp-inverse-layout-color2);
}

.jp-icon-alt .jp-icon-accent3[fill] {
  fill: var(--jp-inverse-layout-color3);
}

.jp-icon-alt .jp-icon-accent4[fill] {
  fill: var(--jp-inverse-layout-color4);
}

.jp-icon-alt .jp-icon-accent0[stroke] {
  stroke: var(--jp-inverse-layout-color0);
}

.jp-icon-alt .jp-icon-accent1[stroke] {
  stroke: var(--jp-inverse-layout-color1);
}

.jp-icon-alt .jp-icon-accent2[stroke] {
  stroke: var(--jp-inverse-layout-color2);
}

.jp-icon-alt .jp-icon-accent3[stroke] {
  stroke: var(--jp-inverse-layout-color3);
}

.jp-icon-alt .jp-icon-accent4[stroke] {
  stroke: var(--jp-inverse-layout-color4);
}

/*-----------------------------------------------------------------------------
| Copyright (c) Jupyter Development Team.
| Distributed under the terms of the Modified BSD License.
|----------------------------------------------------------------------------*/

.jp-icon-hoverShow:not(:hover) .jp-icon-hoverShow-content {
  display: none !important;
}

/**
 * Support for hover colors for icons as inline SVG HTMLElements
 */

/**
 * regular colors
 */

/* recolor the primary elements of an icon */
.jp-icon-hover :hover .jp-icon0-hover[fill] {
  fill: var(--jp-inverse-layout-color0);
}

.jp-icon-hover :hover .jp-icon1-hover[fill] {
  fill: var(--jp-inverse-layout-color1);
}

.jp-icon-hover :hover .jp-icon2-hover[fill] {
  fill: var(--jp-inverse-layout-color2);
}

.jp-icon-hover :hover .jp-icon3-hover[fill] {
  fill: var(--jp-inverse-layout-color3);
}

.jp-icon-hover :hover .jp-icon4-hover[fill] {
  fill: var(--jp-inverse-layout-color4);
}

.jp-icon-hover :hover .jp-icon0-hover[stroke] {
  stroke: var(--jp-inverse-layout-color0);
}

.jp-icon-hover :hover .jp-icon1-hover[stroke] {
  stroke: var(--jp-inverse-layout-color1);
}

.jp-icon-hover :hover .jp-icon2-hover[stroke] {
  stroke: var(--jp-inverse-layout-color2);
}

.jp-icon-hover :hover .jp-icon3-hover[stroke] {
  stroke: var(--jp-inverse-layout-color3);
}

.jp-icon-hover :hover .jp-icon4-hover[stroke] {
  stroke: var(--jp-inverse-layout-color4);
}

/* recolor the accent elements of an icon */
.jp-icon-hover :hover .jp-icon-accent0-hover[fill] {
  fill: var(--jp-layout-color0);
}

.jp-icon-hover :hover .jp-icon-accent1-hover[fill] {
  fill: var(--jp-layout-color1);
}

.jp-icon-hover :hover .jp-icon-accent2-hover[fill] {
  fill: var(--jp-layout-color2);
}

.jp-icon-hover :hover .jp-icon-accent3-hover[fill] {
  fill: var(--jp-layout-color3);
}

.jp-icon-hover :hover .jp-icon-accent4-hover[fill] {
  fill: var(--jp-layout-color4);
}

.jp-icon-hover :hover .jp-icon-accent0-hover[stroke] {
  stroke: var(--jp-layout-color0);
}

.jp-icon-hover :hover .jp-icon-accent1-hover[stroke] {
  stroke: var(--jp-layout-color1);
}

.jp-icon-hover :hover .jp-icon-accent2-hover[stroke] {
  stroke: var(--jp-layout-color2);
}

.jp-icon-hover :hover .jp-icon-accent3-hover[stroke] {
  stroke: var(--jp-layout-color3);
}

.jp-icon-hover :hover .jp-icon-accent4-hover[stroke] {
  stroke: var(--jp-layout-color4);
}

/* set the color of an icon to transparent */
.jp-icon-hover :hover .jp-icon-none-hover[fill] {
  fill: none;
}

.jp-icon-hover :hover .jp-icon-none-hover[stroke] {
  stroke: none;
}

/**
 * inverse colors
 */

/* inverse recolor the primary elements of an icon */
.jp-icon-hover.jp-icon-alt :hover .jp-icon0-hover[fill] {
  fill: var(--jp-layout-color0);
}

.jp-icon-hover.jp-icon-alt :hover .jp-icon1-hover[fill] {
  fill: var(--jp-layout-color1);
}

.jp-icon-hover.jp-icon-alt :hover .jp-icon2-hover[fill] {
  fill: var(--jp-layout-color2);
}

.jp-icon-hover.jp-icon-alt :hover .jp-icon3-hover[fill] {
  fill: var(--jp-layout-color3);
}

.jp-icon-hover.jp-icon-alt :hover .jp-icon4-hover[fill] {
  fill: var(--jp-layout-color4);
}

.jp-icon-hover.jp-icon-alt :hover .jp-icon0-hover[stroke] {
  stroke: var(--jp-layout-color0);
}

.jp-icon-hover.jp-icon-alt :hover .jp-icon1-hover[stroke] {
  stroke: var(--jp-layout-color1);
}

.jp-icon-hover.jp-icon-alt :hover .jp-icon2-hover[stroke] {
  stroke: var(--jp-layout-color2);
}

.jp-icon-hover.jp-icon-alt :hover .jp-icon3-hover[stroke] {
  stroke: var(--jp-layout-color3);
}

.jp-icon-hover.jp-icon-alt :hover .jp-icon4-hover[stroke] {
  stroke: var(--jp-layout-color4);
}

/* inverse recolor the accent elements of an icon */
.jp-icon-hover.jp-icon-alt :hover .jp-icon-accent0-hover[fill] {
  fill: var(--jp-inverse-layout-color0);
}

.jp-icon-hover.jp-icon-alt :hover .jp-icon-accent1-hover[fill] {
  fill: var(--jp-inverse-layout-color1);
}

.jp-icon-hover.jp-icon-alt :hover .jp-icon-accent2-hover[fill] {
  fill: var(--jp-inverse-layout-color2);
}

.jp-icon-hover.jp-icon-alt :hover .jp-icon-accent3-hover[fill] {
  fill: var(--jp-inverse-layout-color3);
}

.jp-icon-hover.jp-icon-alt :hover .jp-icon-accent4-hover[fill] {
  fill: var(--jp-inverse-layout-color4);
}

.jp-icon-hover.jp-icon-alt :hover .jp-icon-accent0-hover[stroke] {
  stroke: var(--jp-inverse-layout-color0);
}

.jp-icon-hover.jp-icon-alt :hover .jp-icon-accent1-hover[stroke] {
  stroke: var(--jp-inverse-layout-color1);
}

.jp-icon-hover.jp-icon-alt :hover .jp-icon-accent2-hover[stroke] {
  stroke: var(--jp-inverse-layout-color2);
}

.jp-icon-hover.jp-icon-alt :hover .jp-icon-accent3-hover[stroke] {
  stroke: var(--jp-inverse-layout-color3);
}

.jp-icon-hover.jp-icon-alt :hover .jp-icon-accent4-hover[stroke] {
  stroke: var(--jp-inverse-layout-color4);
}

/*-----------------------------------------------------------------------------
| Copyright (c) Jupyter Development Team.
| Distributed under the terms of the Modified BSD License.
|----------------------------------------------------------------------------*/

.jp-IFrame {
  width: 100%;
  height: 100%;
}

.jp-IFrame > iframe {
  border: none;
}

/*
When drag events occur, `lm-mod-override-cursor` is added to the body.
Because iframes steal all cursor events, the following two rules are necessary
to suppress pointer events while resize drags are occurring. There may be a
better solution to this problem.
*/
body.lm-mod-override-cursor .jp-IFrame {
  position: relative;
}

body.lm-mod-override-cursor .jp-IFrame::before {
  content: '';
  position: absolute;
  top: 0;
  left: 0;
  right: 0;
  bottom: 0;
  background: transparent;
}

/*-----------------------------------------------------------------------------
| Copyright (c) 2014-2016, Jupyter Development Team.
|
| Distributed under the terms of the Modified BSD License.
|----------------------------------------------------------------------------*/

.jp-HoverBox {
  position: fixed;
}

/*-----------------------------------------------------------------------------
| Copyright (c) Jupyter Development Team.
| Distributed under the terms of the Modified BSD License.
|----------------------------------------------------------------------------*/

.jp-FormGroup-content fieldset {
  border: none;
  padding: 0;
  min-width: 0;
  width: 100%;
}

/* stylelint-disable selector-max-type */

.jp-FormGroup-content fieldset .jp-inputFieldWrapper input,
.jp-FormGroup-content fieldset .jp-inputFieldWrapper select,
.jp-FormGroup-content fieldset .jp-inputFieldWrapper textarea {
  font-size: var(--jp-content-font-size2);
  border-color: var(--jp-input-border-color);
  border-style: solid;
  border-radius: var(--jp-border-radius);
  border-width: 1px;
  padding: 6px 8px;
  background: none;
  color: var(--jp-ui-font-color0);
  height: inherit;
}

.jp-FormGroup-content fieldset input[type='checkbox'] {
  position: relative;
  top: 2px;
  margin-left: 0;
}

.jp-FormGroup-content button.jp-mod-styled {
  cursor: pointer;
}

.jp-FormGroup-content .checkbox label {
  cursor: pointer;
  font-size: var(--jp-content-font-size1);
}

.jp-FormGroup-content .jp-root > fieldset > legend {
  display: none;
}

.jp-FormGroup-content .jp-root > fieldset > p {
  display: none;
}

/** copy of `input.jp-mod-styled:focus` style */
.jp-FormGroup-content fieldset input:focus,
.jp-FormGroup-content fieldset select:focus {
  -moz-outline-radius: unset;
  outline: var(--jp-border-width) solid var(--md-blue-500);
  outline-offset: -1px;
  box-shadow: inset 0 0 4px var(--md-blue-300);
}

.jp-FormGroup-content fieldset input:hover:not(:focus),
.jp-FormGroup-content fieldset select:hover:not(:focus) {
  background-color: var(--jp-border-color2);
}

/* stylelint-enable selector-max-type */

.jp-FormGroup-content .checkbox .field-description {
  /* Disable default description field for checkbox:
   because other widgets do not have description fields,
   we add descriptions to each widget on the field level.
  */
  display: none;
}

.jp-FormGroup-content #root__description {
  display: none;
}

.jp-FormGroup-content .jp-modifiedIndicator {
  width: 5px;
  background-color: var(--jp-brand-color2);
  margin-top: 0;
  margin-left: calc(var(--jp-private-settingeditor-modifier-indent) * -1);
  flex-shrink: 0;
}

.jp-FormGroup-content .jp-modifiedIndicator.jp-errorIndicator {
  background-color: var(--jp-error-color0);
  margin-right: 0.5em;
}

/* RJSF ARRAY style */

.jp-arrayFieldWrapper legend {
  font-size: var(--jp-content-font-size2);
  color: var(--jp-ui-font-color0);
  flex-basis: 100%;
  padding: 4px 0;
  font-weight: var(--jp-content-heading-font-weight);
  border-bottom: 1px solid var(--jp-border-color2);
}

.jp-arrayFieldWrapper .field-description {
  padding: 4px 0;
  white-space: pre-wrap;
}

.jp-arrayFieldWrapper .array-item {
  width: 100%;
  border: 1px solid var(--jp-border-color2);
  border-radius: 4px;
  margin: 4px;
}

.jp-ArrayOperations {
  display: flex;
  margin-left: 8px;
}

.jp-ArrayOperationsButton {
  margin: 2px;
}

.jp-ArrayOperationsButton .jp-icon3[fill] {
  fill: var(--jp-ui-font-color0);
}

button.jp-ArrayOperationsButton.jp-mod-styled:disabled {
  cursor: not-allowed;
  opacity: 0.5;
}

/* RJSF form validation error */

.jp-FormGroup-content .validationErrors {
  color: var(--jp-error-color0);
}

/* Hide panel level error as duplicated the field level error */
.jp-FormGroup-content .panel.errors {
  display: none;
}

/* RJSF normal content (settings-editor) */

.jp-FormGroup-contentNormal {
  display: flex;
  align-items: center;
  flex-wrap: wrap;
}

.jp-FormGroup-contentNormal .jp-FormGroup-contentItem {
  margin-left: 7px;
  color: var(--jp-ui-font-color0);
}

.jp-FormGroup-contentNormal .jp-FormGroup-description {
  flex-basis: 100%;
  padding: 4px 7px;
}

.jp-FormGroup-contentNormal .jp-FormGroup-default {
  flex-basis: 100%;
  padding: 4px 7px;
}

.jp-FormGroup-contentNormal .jp-FormGroup-fieldLabel {
  font-size: var(--jp-content-font-size1);
  font-weight: normal;
  min-width: 120px;
}

.jp-FormGroup-contentNormal fieldset:not(:first-child) {
  margin-left: 7px;
}

.jp-FormGroup-contentNormal .field-array-of-string .array-item {
  /* Display `jp-ArrayOperations` buttons side-by-side with content except
    for small screens where flex-wrap will place them one below the other.
  */
  display: flex;
  align-items: center;
  flex-wrap: wrap;
}

.jp-FormGroup-contentNormal .jp-objectFieldWrapper .form-group {
  padding: 2px 8px 2px var(--jp-private-settingeditor-modifier-indent);
  margin-top: 2px;
}

/* RJSF compact content (metadata-form) */

.jp-FormGroup-content.jp-FormGroup-contentCompact {
  width: 100%;
}

.jp-FormGroup-contentCompact .form-group {
  display: flex;
  padding: 0.5em 0.2em 0.5em 0;
}

.jp-FormGroup-contentCompact
  .jp-FormGroup-compactTitle
  .jp-FormGroup-description {
  font-size: var(--jp-ui-font-size1);
  color: var(--jp-ui-font-color2);
}

.jp-FormGroup-contentCompact .jp-FormGroup-fieldLabel {
  padding-bottom: 0.3em;
}

.jp-FormGroup-contentCompact .jp-inputFieldWrapper .form-control {
  width: 100%;
  box-sizing: border-box;
}

.jp-FormGroup-contentCompact .jp-arrayFieldWrapper .jp-FormGroup-compactTitle {
  padding-bottom: 7px;
}

.jp-FormGroup-contentCompact
  .jp-objectFieldWrapper
  .jp-objectFieldWrapper
  .form-group {
  padding: 2px 8px 2px var(--jp-private-settingeditor-modifier-indent);
  margin-top: 2px;
}

.jp-FormGroup-contentCompact ul.error-detail {
  margin-block-start: 0.5em;
  margin-block-end: 0.5em;
  padding-inline-start: 1em;
}

/*
 * Copyright (c) Jupyter Development Team.
 * Distributed under the terms of the Modified BSD License.
 */

.jp-SidePanel {
  display: flex;
  flex-direction: column;
  min-width: var(--jp-sidebar-min-width);
  overflow-y: auto;
  color: var(--jp-ui-font-color1);
  background: var(--jp-layout-color1);
  font-size: var(--jp-ui-font-size1);
}

.jp-SidePanel-header {
  flex: 0 0 auto;
  display: flex;
  border-bottom: var(--jp-border-width) solid var(--jp-border-color2);
  font-size: var(--jp-ui-font-size0);
  font-weight: 600;
  letter-spacing: 1px;
  margin: 0;
  padding: 2px;
  text-transform: uppercase;
}

.jp-SidePanel-toolbar {
  flex: 0 0 auto;
}

.jp-SidePanel-content {
  flex: 1 1 auto;
}

.jp-SidePanel-toolbar,
.jp-AccordionPanel-toolbar {
  height: var(--jp-private-toolbar-height);
}

.jp-SidePanel-toolbar.jp-Toolbar-micro {
  display: none;
}

.lm-AccordionPanel .jp-AccordionPanel-title {
  box-sizing: border-box;
  line-height: 25px;
  margin: 0;
  display: flex;
  align-items: center;
  background: var(--jp-layout-color1);
  color: var(--jp-ui-font-color1);
  border-bottom: var(--jp-border-width) solid var(--jp-toolbar-border-color);
  box-shadow: var(--jp-toolbar-box-shadow);
  font-size: var(--jp-ui-font-size0);
}

.jp-AccordionPanel-title {
  cursor: pointer;
  user-select: none;
  -moz-user-select: none;
  -webkit-user-select: none;
  text-transform: uppercase;
}

.lm-AccordionPanel[data-orientation='horizontal'] > .jp-AccordionPanel-title {
  /* Title is rotated for horizontal accordion panel using CSS */
  display: block;
  transform-origin: top left;
  transform: rotate(-90deg) translate(-100%);
}

.jp-AccordionPanel-title .lm-AccordionPanel-titleLabel {
  user-select: none;
  text-overflow: ellipsis;
  white-space: nowrap;
  overflow: hidden;
}

.jp-AccordionPanel-title .lm-AccordionPanel-titleCollapser {
  transform: rotate(-90deg);
  margin: auto 0;
  height: 16px;
}

.jp-AccordionPanel-title.lm-mod-expanded .lm-AccordionPanel-titleCollapser {
  transform: rotate(0deg);
}

.lm-AccordionPanel .jp-AccordionPanel-toolbar {
  background: none;
  box-shadow: none;
  border: none;
  margin-left: auto;
}

.lm-AccordionPanel .lm-SplitPanel-handle:hover {
  background: var(--jp-layout-color3);
}

.jp-text-truncated {
  overflow: hidden;
  text-overflow: ellipsis;
  white-space: nowrap;
}

/*-----------------------------------------------------------------------------
| Copyright (c) 2017, Jupyter Development Team.
|
| Distributed under the terms of the Modified BSD License.
|----------------------------------------------------------------------------*/

.jp-Spinner {
  position: absolute;
  display: flex;
  justify-content: center;
  align-items: center;
  z-index: 10;
  left: 0;
  top: 0;
  width: 100%;
  height: 100%;
  background: var(--jp-layout-color0);
  outline: none;
}

.jp-SpinnerContent {
  font-size: 10px;
  margin: 50px auto;
  text-indent: -9999em;
  width: 3em;
  height: 3em;
  border-radius: 50%;
  background: var(--jp-brand-color3);
  background: linear-gradient(
    to right,
    #f37626 10%,
    rgba(255, 255, 255, 0) 42%
  );
  position: relative;
  animation: load3 1s infinite linear, fadeIn 1s;
}

.jp-SpinnerContent::before {
  width: 50%;
  height: 50%;
  background: #f37626;
  border-radius: 100% 0 0;
  position: absolute;
  top: 0;
  left: 0;
  content: '';
}

.jp-SpinnerContent::after {
  background: var(--jp-layout-color0);
  width: 75%;
  height: 75%;
  border-radius: 50%;
  content: '';
  margin: auto;
  position: absolute;
  top: 0;
  left: 0;
  bottom: 0;
  right: 0;
}

@keyframes fadeIn {
  0% {
    opacity: 0;
  }

  100% {
    opacity: 1;
  }
}

@keyframes load3 {
  0% {
    transform: rotate(0deg);
  }

  100% {
    transform: rotate(360deg);
  }
}

/*-----------------------------------------------------------------------------
| Copyright (c) 2014-2017, Jupyter Development Team.
|
| Distributed under the terms of the Modified BSD License.
|----------------------------------------------------------------------------*/

button.jp-mod-styled {
  font-size: var(--jp-ui-font-size1);
  color: var(--jp-ui-font-color0);
  border: none;
  box-sizing: border-box;
  text-align: center;
  line-height: 32px;
  height: 32px;
  padding: 0 12px;
  letter-spacing: 0.8px;
  outline: none;
  appearance: none;
  -webkit-appearance: none;
  -moz-appearance: none;
}

input.jp-mod-styled {
  background: var(--jp-input-background);
  height: 28px;
  box-sizing: border-box;
  border: var(--jp-border-width) solid var(--jp-border-color1);
  padding-left: 7px;
  padding-right: 7px;
  font-size: var(--jp-ui-font-size2);
  color: var(--jp-ui-font-color0);
  outline: none;
  appearance: none;
  -webkit-appearance: none;
  -moz-appearance: none;
}

input[type='checkbox'].jp-mod-styled {
  appearance: checkbox;
  -webkit-appearance: checkbox;
  -moz-appearance: checkbox;
  height: auto;
}

input.jp-mod-styled:focus {
  border: var(--jp-border-width) solid var(--md-blue-500);
  box-shadow: inset 0 0 4px var(--md-blue-300);
}

.jp-select-wrapper {
  display: flex;
  position: relative;
  flex-direction: column;
  padding: 1px;
  background-color: var(--jp-layout-color1);
  box-sizing: border-box;
  margin-bottom: 12px;
}

.jp-select-wrapper:not(.multiple) {
  height: 28px;
}

.jp-select-wrapper.jp-mod-focused select.jp-mod-styled {
  border: var(--jp-border-width) solid var(--jp-input-active-border-color);
  box-shadow: var(--jp-input-box-shadow);
  background-color: var(--jp-input-active-background);
}

select.jp-mod-styled:hover {
  cursor: pointer;
  color: var(--jp-ui-font-color0);
  background-color: var(--jp-input-hover-background);
  box-shadow: inset 0 0 1px rgba(0, 0, 0, 0.5);
}

select.jp-mod-styled {
  flex: 1 1 auto;
  width: 100%;
  font-size: var(--jp-ui-font-size2);
  background: var(--jp-input-background);
  color: var(--jp-ui-font-color0);
  padding: 0 25px 0 8px;
  border: var(--jp-border-width) solid var(--jp-input-border-color);
  border-radius: 0;
  outline: none;
  appearance: none;
  -webkit-appearance: none;
  -moz-appearance: none;
}

select.jp-mod-styled:not([multiple]) {
  height: 32px;
}

select.jp-mod-styled[multiple] {
  max-height: 200px;
  overflow-y: auto;
}

/*-----------------------------------------------------------------------------
| Copyright (c) Jupyter Development Team.
| Distributed under the terms of the Modified BSD License.
|----------------------------------------------------------------------------*/

.jp-switch {
  display: flex;
  align-items: center;
  padding-left: 4px;
  padding-right: 4px;
  font-size: var(--jp-ui-font-size1);
  background-color: transparent;
  color: var(--jp-ui-font-color1);
  border: none;
  height: 20px;
}

.jp-switch:hover {
  background-color: var(--jp-layout-color2);
}

.jp-switch-label {
  margin-right: 5px;
  font-family: var(--jp-ui-font-family);
}

.jp-switch-track {
  cursor: pointer;
  background-color: var(--jp-switch-color, var(--jp-border-color1));
  -webkit-transition: 0.4s;
  transition: 0.4s;
  border-radius: 34px;
  height: 16px;
  width: 35px;
  position: relative;
}

.jp-switch-track::before {
  content: '';
  position: absolute;
  height: 10px;
  width: 10px;
  margin: 3px;
  left: 0;
  background-color: var(--jp-ui-inverse-font-color1);
  -webkit-transition: 0.4s;
  transition: 0.4s;
  border-radius: 50%;
}

.jp-switch[aria-checked='true'] .jp-switch-track {
  background-color: var(--jp-switch-true-position-color, var(--jp-warn-color0));
}

.jp-switch[aria-checked='true'] .jp-switch-track::before {
  /* track width (35) - margins (3 + 3) - thumb width (10) */
  left: 19px;
}

/*-----------------------------------------------------------------------------
| Copyright (c) 2014-2016, Jupyter Development Team.
|
| Distributed under the terms of the Modified BSD License.
|----------------------------------------------------------------------------*/

:root {
  --jp-private-toolbar-height: calc(
    28px + var(--jp-border-width)
  ); /* leave 28px for content */
}

.jp-Toolbar {
  color: var(--jp-ui-font-color1);
  flex: 0 0 auto;
  display: flex;
  flex-direction: row;
  border-bottom: var(--jp-border-width) solid var(--jp-toolbar-border-color);
  box-shadow: var(--jp-toolbar-box-shadow);
  background: var(--jp-toolbar-background);
  min-height: var(--jp-toolbar-micro-height);
  padding: 2px;
  z-index: 8;
  overflow-x: hidden;
}

/* Toolbar items */

.jp-Toolbar > .jp-Toolbar-item.jp-Toolbar-spacer {
  flex-grow: 1;
  flex-shrink: 1;
}

.jp-Toolbar-item.jp-Toolbar-kernelStatus {
  display: inline-block;
  width: 32px;
  background-repeat: no-repeat;
  background-position: center;
  background-size: 16px;
}

.jp-Toolbar > .jp-Toolbar-item {
  flex: 0 0 auto;
  display: flex;
  padding-left: 1px;
  padding-right: 1px;
  font-size: var(--jp-ui-font-size1);
  line-height: var(--jp-private-toolbar-height);
  height: 100%;
}

/* Toolbar buttons */

/* This is the div we use to wrap the react component into a Widget */
div.jp-ToolbarButton {
  color: transparent;
  border: none;
  box-sizing: border-box;
  outline: none;
  appearance: none;
  -webkit-appearance: none;
  -moz-appearance: none;
  padding: 0;
  margin: 0;
}

button.jp-ToolbarButtonComponent {
  background: var(--jp-layout-color1);
  border: none;
  box-sizing: border-box;
  outline: none;
  appearance: none;
  -webkit-appearance: none;
  -moz-appearance: none;
  padding: 0 6px;
  margin: 0;
  height: 24px;
  border-radius: var(--jp-border-radius);
  display: flex;
  align-items: center;
  text-align: center;
  font-size: 14px;
  min-width: unset;
  min-height: unset;
}

button.jp-ToolbarButtonComponent:disabled {
  opacity: 0.4;
}

button.jp-ToolbarButtonComponent > span {
  padding: 0;
  flex: 0 0 auto;
}

button.jp-ToolbarButtonComponent .jp-ToolbarButtonComponent-label {
  font-size: var(--jp-ui-font-size1);
  line-height: 100%;
  padding-left: 2px;
  color: var(--jp-ui-font-color1);
  font-family: var(--jp-ui-font-family);
}

#jp-main-dock-panel[data-mode='single-document']
  .jp-MainAreaWidget
  > .jp-Toolbar.jp-Toolbar-micro {
  padding: 0;
  min-height: 0;
}

#jp-main-dock-panel[data-mode='single-document']
  .jp-MainAreaWidget
  > .jp-Toolbar {
  border: none;
  box-shadow: none;
}

/*
 * Copyright (c) Jupyter Development Team.
 * Distributed under the terms of the Modified BSD License.
 */

.jp-WindowedPanel-outer {
  position: relative;
  overflow-y: auto;
}

.jp-WindowedPanel-inner {
  position: relative;
}

.jp-WindowedPanel-window {
  position: absolute;
  left: 0;
  right: 0;
  overflow: visible;
}

/*-----------------------------------------------------------------------------
| Copyright (c) Jupyter Development Team.
| Distributed under the terms of the Modified BSD License.
|----------------------------------------------------------------------------*/

/* Sibling imports */

body {
  color: var(--jp-ui-font-color1);
  font-size: var(--jp-ui-font-size1);
}

/* Disable native link decoration styles everywhere outside of dialog boxes */
a {
  text-decoration: unset;
  color: unset;
}

a:hover {
  text-decoration: unset;
  color: unset;
}

/* Accessibility for links inside dialog box text */
.jp-Dialog-content a {
  text-decoration: revert;
  color: var(--jp-content-link-color);
}

.jp-Dialog-content a:hover {
  text-decoration: revert;
}

/* Styles for ui-components */
.jp-Button {
  color: var(--jp-ui-font-color2);
  border-radius: var(--jp-border-radius);
  padding: 0 12px;
  font-size: var(--jp-ui-font-size1);

  /* Copy from blueprint 3 */
  display: inline-flex;
  flex-direction: row;
  border: none;
  cursor: pointer;
  align-items: center;
  justify-content: center;
  text-align: left;
  vertical-align: middle;
  min-height: 30px;
  min-width: 30px;
}

.jp-Button:disabled {
  cursor: not-allowed;
}

.jp-Button:empty {
  padding: 0 !important;
}

.jp-Button.jp-mod-small {
  min-height: 24px;
  min-width: 24px;
  font-size: 12px;
  padding: 0 7px;
}

/* Use our own theme for hover styles */
.jp-Button.jp-mod-minimal:hover {
  background-color: var(--jp-layout-color2);
}

.jp-Button.jp-mod-minimal {
  background: none;
}

.jp-InputGroup {
  display: block;
  position: relative;
}

.jp-InputGroup input {
  box-sizing: border-box;
  border: none;
  border-radius: 0;
  background-color: transparent;
  color: var(--jp-ui-font-color0);
  box-shadow: inset 0 0 0 var(--jp-border-width) var(--jp-input-border-color);
  padding-bottom: 0;
  padding-top: 0;
  padding-left: 10px;
  padding-right: 28px;
  position: relative;
  width: 100%;
  -webkit-appearance: none;
  -moz-appearance: none;
  appearance: none;
  font-size: 14px;
  font-weight: 400;
  height: 30px;
  line-height: 30px;
  outline: none;
  vertical-align: middle;
}

.jp-InputGroup input:focus {
  box-shadow: inset 0 0 0 var(--jp-border-width)
      var(--jp-input-active-box-shadow-color),
    inset 0 0 0 3px var(--jp-input-active-box-shadow-color);
}

.jp-InputGroup input:disabled {
  cursor: not-allowed;
  resize: block;
  background-color: var(--jp-layout-color2);
  color: var(--jp-ui-font-color2);
}

.jp-InputGroup input:disabled ~ span {
  cursor: not-allowed;
  color: var(--jp-ui-font-color2);
}

.jp-InputGroup input::placeholder,
input::placeholder {
  color: var(--jp-ui-font-color2);
}

.jp-InputGroupAction {
  position: absolute;
  bottom: 1px;
  right: 0;
  padding: 6px;
}

.jp-HTMLSelect.jp-DefaultStyle select {
  background-color: initial;
  border: none;
  border-radius: 0;
  box-shadow: none;
  color: var(--jp-ui-font-color0);
  display: block;
  font-size: var(--jp-ui-font-size1);
  font-family: var(--jp-ui-font-family);
  height: 24px;
  line-height: 14px;
  padding: 0 25px 0 10px;
  text-align: left;
  -moz-appearance: none;
  -webkit-appearance: none;
}

.jp-HTMLSelect.jp-DefaultStyle select:disabled {
  background-color: var(--jp-layout-color2);
  color: var(--jp-ui-font-color2);
  cursor: not-allowed;
  resize: block;
}

.jp-HTMLSelect.jp-DefaultStyle select:disabled ~ span {
  cursor: not-allowed;
}

/* Use our own theme for hover and option styles */
/* stylelint-disable-next-line selector-max-type */
.jp-HTMLSelect.jp-DefaultStyle select:hover,
.jp-HTMLSelect.jp-DefaultStyle select > option {
  background-color: var(--jp-layout-color2);
  color: var(--jp-ui-font-color0);
}

select {
  box-sizing: border-box;
}

/*-----------------------------------------------------------------------------
| Copyright (c) Jupyter Development Team.
| Distributed under the terms of the Modified BSD License.
|----------------------------------------------------------------------------*/

/*-----------------------------------------------------------------------------
| Styles
|----------------------------------------------------------------------------*/

.jp-StatusBar-Widget {
  display: flex;
  align-items: center;
  background: var(--jp-layout-color2);
  min-height: var(--jp-statusbar-height);
  justify-content: space-between;
  padding: 0 10px;
}

.jp-StatusBar-Left {
  display: flex;
  align-items: center;
  flex-direction: row;
}

.jp-StatusBar-Middle {
  display: flex;
  align-items: center;
}

.jp-StatusBar-Right {
  display: flex;
  align-items: center;
  flex-direction: row-reverse;
}

.jp-StatusBar-Item {
  max-height: var(--jp-statusbar-height);
  margin: 0 2px;
  height: var(--jp-statusbar-height);
  white-space: nowrap;
  text-overflow: ellipsis;
  color: var(--jp-ui-font-color1);
  padding: 0 6px;
}

.jp-mod-highlighted:hover {
  background-color: var(--jp-layout-color3);
}

.jp-mod-clicked {
  background-color: var(--jp-brand-color1);
}

.jp-mod-clicked:hover {
  background-color: var(--jp-brand-color0);
}

.jp-mod-clicked .jp-StatusBar-TextItem {
  color: var(--jp-ui-inverse-font-color1);
}

.jp-StatusBar-HoverItem {
  box-shadow: '0px 4px 4px rgba(0, 0, 0, 0.25)';
}

.jp-StatusBar-TextItem {
  font-size: var(--jp-ui-font-size1);
  font-family: var(--jp-ui-font-family);
  line-height: 24px;
  color: var(--jp-ui-font-color1);
}

.jp-StatusBar-GroupItem {
  display: flex;
  align-items: center;
  flex-direction: row;
}

.jp-Statusbar-ProgressCircle svg {
  display: block;
  margin: 0 auto;
  width: 16px;
  height: 24px;
  align-self: normal;
}

.jp-Statusbar-ProgressCircle path {
  fill: var(--jp-inverse-layout-color3);
}

.jp-Statusbar-ProgressBar-progress-bar {
  height: 10px;
  width: 100px;
  border: solid 0.25px var(--jp-brand-color2);
  border-radius: 3px;
  overflow: hidden;
  align-self: center;
}

.jp-Statusbar-ProgressBar-progress-bar > div {
  background-color: var(--jp-brand-color2);
  background-image: linear-gradient(
    -45deg,
    rgba(255, 255, 255, 0.2) 25%,
    transparent 25%,
    transparent 50%,
    rgba(255, 255, 255, 0.2) 50%,
    rgba(255, 255, 255, 0.2) 75%,
    transparent 75%,
    transparent
  );
  background-size: 40px 40px;
  float: left;
  width: 0%;
  height: 100%;
  font-size: 12px;
  line-height: 14px;
  color: #fff;
  text-align: center;
  animation: jp-Statusbar-ExecutionTime-progress-bar 2s linear infinite;
}

.jp-Statusbar-ProgressBar-progress-bar p {
  color: var(--jp-ui-font-color1);
  font-family: var(--jp-ui-font-family);
  font-size: var(--jp-ui-font-size1);
  line-height: 10px;
  width: 100px;
}

@keyframes jp-Statusbar-ExecutionTime-progress-bar {
  0% {
    background-position: 0 0;
  }

  100% {
    background-position: 40px 40px;
  }
}

/*-----------------------------------------------------------------------------
| Copyright (c) Jupyter Development Team.
| Distributed under the terms of the Modified BSD License.
|----------------------------------------------------------------------------*/

/*-----------------------------------------------------------------------------
| Variables
|----------------------------------------------------------------------------*/

:root {
  --jp-private-commandpalette-search-height: 28px;
}

/*-----------------------------------------------------------------------------
| Overall styles
|----------------------------------------------------------------------------*/

.lm-CommandPalette {
  padding-bottom: 0;
  color: var(--jp-ui-font-color1);
  background: var(--jp-layout-color1);

  /* This is needed so that all font sizing of children done in ems is
   * relative to this base size */
  font-size: var(--jp-ui-font-size1);
}

/*-----------------------------------------------------------------------------
| Modal variant
|----------------------------------------------------------------------------*/

.jp-ModalCommandPalette {
  position: absolute;
  z-index: 10000;
  top: 38px;
  left: 30%;
  margin: 0;
  padding: 4px;
  width: 40%;
  box-shadow: var(--jp-elevation-z4);
  border-radius: 4px;
  background: var(--jp-layout-color0);
}

.jp-ModalCommandPalette .lm-CommandPalette {
  max-height: 40vh;
}

.jp-ModalCommandPalette .lm-CommandPalette .lm-close-icon::after {
  display: none;
}

.jp-ModalCommandPalette .lm-CommandPalette .lm-CommandPalette-header {
  display: none;
}

.jp-ModalCommandPalette .lm-CommandPalette .lm-CommandPalette-item {
  margin-left: 4px;
  margin-right: 4px;
}

.jp-ModalCommandPalette
  .lm-CommandPalette
  .lm-CommandPalette-item.lm-mod-disabled {
  display: none;
}

/*-----------------------------------------------------------------------------
| Search
|----------------------------------------------------------------------------*/

.lm-CommandPalette-search {
  padding: 4px;
  background-color: var(--jp-layout-color1);
  z-index: 2;
}

.lm-CommandPalette-wrapper {
  overflow: overlay;
  padding: 0 9px;
  background-color: var(--jp-input-active-background);
  height: 30px;
  box-shadow: inset 0 0 0 var(--jp-border-width) var(--jp-input-border-color);
}

.lm-CommandPalette.lm-mod-focused .lm-CommandPalette-wrapper {
  box-shadow: inset 0 0 0 1px var(--jp-input-active-box-shadow-color),
    inset 0 0 0 3px var(--jp-input-active-box-shadow-color);
}

.jp-SearchIconGroup {
  color: white;
  background-color: var(--jp-brand-color1);
  position: absolute;
  top: 4px;
  right: 4px;
  padding: 5px 5px 1px;
}

.jp-SearchIconGroup svg {
  height: 20px;
  width: 20px;
}

.jp-SearchIconGroup .jp-icon3[fill] {
  fill: var(--jp-layout-color0);
}

.lm-CommandPalette-input {
  background: transparent;
  width: calc(100% - 18px);
  float: left;
  border: none;
  outline: none;
  font-size: var(--jp-ui-font-size1);
  color: var(--jp-ui-font-color0);
  line-height: var(--jp-private-commandpalette-search-height);
}

.lm-CommandPalette-input::-webkit-input-placeholder,
.lm-CommandPalette-input::-moz-placeholder,
.lm-CommandPalette-input:-ms-input-placeholder {
  color: var(--jp-ui-font-color2);
  font-size: var(--jp-ui-font-size1);
}

/*-----------------------------------------------------------------------------
| Results
|----------------------------------------------------------------------------*/

.lm-CommandPalette-header:first-child {
  margin-top: 0;
}

.lm-CommandPalette-header {
  border-bottom: solid var(--jp-border-width) var(--jp-border-color2);
  color: var(--jp-ui-font-color1);
  cursor: pointer;
  display: flex;
  font-size: var(--jp-ui-font-size0);
  font-weight: 600;
  letter-spacing: 1px;
  margin-top: 8px;
  padding: 8px 0 8px 12px;
  text-transform: uppercase;
}

.lm-CommandPalette-header.lm-mod-active {
  background: var(--jp-layout-color2);
}

.lm-CommandPalette-header > mark {
  background-color: transparent;
  font-weight: bold;
  color: var(--jp-ui-font-color1);
}

.lm-CommandPalette-item {
  padding: 4px 12px 4px 4px;
  color: var(--jp-ui-font-color1);
  font-size: var(--jp-ui-font-size1);
  font-weight: 400;
  display: flex;
}

.lm-CommandPalette-item.lm-mod-disabled {
  color: var(--jp-ui-font-color2);
}

.lm-CommandPalette-item.lm-mod-active {
  color: var(--jp-ui-inverse-font-color1);
  background: var(--jp-brand-color1);
}

.lm-CommandPalette-item.lm-mod-active .lm-CommandPalette-itemLabel > mark {
  color: var(--jp-ui-inverse-font-color0);
}

.lm-CommandPalette-item.lm-mod-active .jp-icon-selectable[fill] {
  fill: var(--jp-layout-color0);
}

.lm-CommandPalette-item.lm-mod-active:hover:not(.lm-mod-disabled) {
  color: var(--jp-ui-inverse-font-color1);
  background: var(--jp-brand-color1);
}

.lm-CommandPalette-item:hover:not(.lm-mod-active):not(.lm-mod-disabled) {
  background: var(--jp-layout-color2);
}

.lm-CommandPalette-itemContent {
  overflow: hidden;
}

.lm-CommandPalette-itemLabel > mark {
  color: var(--jp-ui-font-color0);
  background-color: transparent;
  font-weight: bold;
}

.lm-CommandPalette-item.lm-mod-disabled mark {
  color: var(--jp-ui-font-color2);
}

.lm-CommandPalette-item .lm-CommandPalette-itemIcon {
  margin: 0 4px 0 0;
  position: relative;
  width: 16px;
  top: 2px;
  flex: 0 0 auto;
}

.lm-CommandPalette-item.lm-mod-disabled .lm-CommandPalette-itemIcon {
  opacity: 0.6;
}

.lm-CommandPalette-item .lm-CommandPalette-itemShortcut {
  flex: 0 0 auto;
}

.lm-CommandPalette-itemCaption {
  display: none;
}

.lm-CommandPalette-content {
  background-color: var(--jp-layout-color1);
}

.lm-CommandPalette-content:empty::after {
  content: 'No results';
  margin: auto;
  margin-top: 20px;
  width: 100px;
  display: block;
  font-size: var(--jp-ui-font-size2);
  font-family: var(--jp-ui-font-family);
  font-weight: lighter;
}

.lm-CommandPalette-emptyMessage {
  text-align: center;
  margin-top: 24px;
  line-height: 1.32;
  padding: 0 8px;
  color: var(--jp-content-font-color3);
}

/*-----------------------------------------------------------------------------
| Copyright (c) 2014-2017, Jupyter Development Team.
|
| Distributed under the terms of the Modified BSD License.
|----------------------------------------------------------------------------*/

.jp-Dialog {
  position: absolute;
  z-index: 10000;
  display: flex;
  flex-direction: column;
  align-items: center;
  justify-content: center;
  top: 0;
  left: 0;
  margin: 0;
  padding: 0;
  width: 100%;
  height: 100%;
  background: var(--jp-dialog-background);
}

.jp-Dialog-content {
  display: flex;
  flex-direction: column;
  margin-left: auto;
  margin-right: auto;
  background: var(--jp-layout-color1);
  padding: 24px 24px 12px;
  min-width: 300px;
  min-height: 150px;
  max-width: 1000px;
  max-height: 500px;
  box-sizing: border-box;
  box-shadow: var(--jp-elevation-z20);
  word-wrap: break-word;
  border-radius: var(--jp-border-radius);

  /* This is needed so that all font sizing of children done in ems is
   * relative to this base size */
  font-size: var(--jp-ui-font-size1);
  color: var(--jp-ui-font-color1);
  resize: both;
}

.jp-Dialog-content.jp-Dialog-content-small {
  max-width: 500px;
}

.jp-Dialog-button {
  overflow: visible;
}

button.jp-Dialog-button:focus {
  outline: 1px solid var(--jp-brand-color1);
  outline-offset: 4px;
  -moz-outline-radius: 0;
}

button.jp-Dialog-button:focus::-moz-focus-inner {
  border: 0;
}

button.jp-Dialog-button.jp-mod-styled.jp-mod-accept:focus,
button.jp-Dialog-button.jp-mod-styled.jp-mod-warn:focus,
button.jp-Dialog-button.jp-mod-styled.jp-mod-reject:focus {
  outline-offset: 4px;
  -moz-outline-radius: 0;
}

button.jp-Dialog-button.jp-mod-styled.jp-mod-accept:focus {
  outline: 1px solid var(--jp-accept-color-normal, var(--jp-brand-color1));
}

button.jp-Dialog-button.jp-mod-styled.jp-mod-warn:focus {
  outline: 1px solid var(--jp-warn-color-normal, var(--jp-error-color1));
}

button.jp-Dialog-button.jp-mod-styled.jp-mod-reject:focus {
  outline: 1px solid var(--jp-reject-color-normal, var(--md-grey-600));
}

button.jp-Dialog-close-button {
  padding: 0;
  height: 100%;
  min-width: unset;
  min-height: unset;
}

.jp-Dialog-header {
  display: flex;
  justify-content: space-between;
  flex: 0 0 auto;
  padding-bottom: 12px;
  font-size: var(--jp-ui-font-size3);
  font-weight: 400;
  color: var(--jp-ui-font-color1);
}

.jp-Dialog-body {
  display: flex;
  flex-direction: column;
  flex: 1 1 auto;
  font-size: var(--jp-ui-font-size1);
  background: var(--jp-layout-color1);
  color: var(--jp-ui-font-color1);
  overflow: auto;
}

.jp-Dialog-footer {
  display: flex;
  flex-direction: row;
  justify-content: flex-end;
  align-items: center;
  flex: 0 0 auto;
  margin-left: -12px;
  margin-right: -12px;
  padding: 12px;
}

.jp-Dialog-checkbox {
  padding-right: 5px;
}

.jp-Dialog-checkbox > input:focus-visible {
  outline: 1px solid var(--jp-input-active-border-color);
  outline-offset: 1px;
}

.jp-Dialog-spacer {
  flex: 1 1 auto;
}

.jp-Dialog-title {
  overflow: hidden;
  white-space: nowrap;
  text-overflow: ellipsis;
}

.jp-Dialog-body > .jp-select-wrapper {
  width: 100%;
}

.jp-Dialog-body > button {
  padding: 0 16px;
}

.jp-Dialog-body > label {
  line-height: 1.4;
  color: var(--jp-ui-font-color0);
}

.jp-Dialog-button.jp-mod-styled:not(:last-child) {
  margin-right: 12px;
}

/*
 * Copyright (c) Jupyter Development Team.
 * Distributed under the terms of the Modified BSD License.
 */

.jp-Input-Boolean-Dialog {
  flex-direction: row-reverse;
  align-items: end;
  width: 100%;
}

.jp-Input-Boolean-Dialog > label {
  flex: 1 1 auto;
}

/*-----------------------------------------------------------------------------
| Copyright (c) 2014-2016, Jupyter Development Team.
|
| Distributed under the terms of the Modified BSD License.
|----------------------------------------------------------------------------*/

.jp-MainAreaWidget > :focus {
  outline: none;
}

.jp-MainAreaWidget .jp-MainAreaWidget-error {
  padding: 6px;
}

.jp-MainAreaWidget .jp-MainAreaWidget-error > pre {
  width: auto;
  padding: 10px;
  background: var(--jp-error-color3);
  border: var(--jp-border-width) solid var(--jp-error-color1);
  border-radius: var(--jp-border-radius);
  color: var(--jp-ui-font-color1);
  font-size: var(--jp-ui-font-size1);
  white-space: pre-wrap;
  word-wrap: break-word;
}

/*
 * Copyright (c) Jupyter Development Team.
 * Distributed under the terms of the Modified BSD License.
 */

/**
 * google-material-color v1.2.6
 * https://github.com/danlevan/google-material-color
 */
:root {
  --md-red-50: #ffebee;
  --md-red-100: #ffcdd2;
  --md-red-200: #ef9a9a;
  --md-red-300: #e57373;
  --md-red-400: #ef5350;
  --md-red-500: #f44336;
  --md-red-600: #e53935;
  --md-red-700: #d32f2f;
  --md-red-800: #c62828;
  --md-red-900: #b71c1c;
  --md-red-A100: #ff8a80;
  --md-red-A200: #ff5252;
  --md-red-A400: #ff1744;
  --md-red-A700: #d50000;
  --md-pink-50: #fce4ec;
  --md-pink-100: #f8bbd0;
  --md-pink-200: #f48fb1;
  --md-pink-300: #f06292;
  --md-pink-400: #ec407a;
  --md-pink-500: #e91e63;
  --md-pink-600: #d81b60;
  --md-pink-700: #c2185b;
  --md-pink-800: #ad1457;
  --md-pink-900: #880e4f;
  --md-pink-A100: #ff80ab;
  --md-pink-A200: #ff4081;
  --md-pink-A400: #f50057;
  --md-pink-A700: #c51162;
  --md-purple-50: #f3e5f5;
  --md-purple-100: #e1bee7;
  --md-purple-200: #ce93d8;
  --md-purple-300: #ba68c8;
  --md-purple-400: #ab47bc;
  --md-purple-500: #9c27b0;
  --md-purple-600: #8e24aa;
  --md-purple-700: #7b1fa2;
  --md-purple-800: #6a1b9a;
  --md-purple-900: #4a148c;
  --md-purple-A100: #ea80fc;
  --md-purple-A200: #e040fb;
  --md-purple-A400: #d500f9;
  --md-purple-A700: #a0f;
  --md-deep-purple-50: #ede7f6;
  --md-deep-purple-100: #d1c4e9;
  --md-deep-purple-200: #b39ddb;
  --md-deep-purple-300: #9575cd;
  --md-deep-purple-400: #7e57c2;
  --md-deep-purple-500: #673ab7;
  --md-deep-purple-600: #5e35b1;
  --md-deep-purple-700: #512da8;
  --md-deep-purple-800: #4527a0;
  --md-deep-purple-900: #311b92;
  --md-deep-purple-A100: #b388ff;
  --md-deep-purple-A200: #7c4dff;
  --md-deep-purple-A400: #651fff;
  --md-deep-purple-A700: #6200ea;
  --md-indigo-50: #e8eaf6;
  --md-indigo-100: #c5cae9;
  --md-indigo-200: #9fa8da;
  --md-indigo-300: #7986cb;
  --md-indigo-400: #5c6bc0;
  --md-indigo-500: #3f51b5;
  --md-indigo-600: #3949ab;
  --md-indigo-700: #303f9f;
  --md-indigo-800: #283593;
  --md-indigo-900: #1a237e;
  --md-indigo-A100: #8c9eff;
  --md-indigo-A200: #536dfe;
  --md-indigo-A400: #3d5afe;
  --md-indigo-A700: #304ffe;
  --md-blue-50: #e3f2fd;
  --md-blue-100: #bbdefb;
  --md-blue-200: #90caf9;
  --md-blue-300: #64b5f6;
  --md-blue-400: #42a5f5;
  --md-blue-500: #2196f3;
  --md-blue-600: #1e88e5;
  --md-blue-700: #1976d2;
  --md-blue-800: #1565c0;
  --md-blue-900: #0d47a1;
  --md-blue-A100: #82b1ff;
  --md-blue-A200: #448aff;
  --md-blue-A400: #2979ff;
  --md-blue-A700: #2962ff;
  --md-light-blue-50: #e1f5fe;
  --md-light-blue-100: #b3e5fc;
  --md-light-blue-200: #81d4fa;
  --md-light-blue-300: #4fc3f7;
  --md-light-blue-400: #29b6f6;
  --md-light-blue-500: #03a9f4;
  --md-light-blue-600: #039be5;
  --md-light-blue-700: #0288d1;
  --md-light-blue-800: #0277bd;
  --md-light-blue-900: #01579b;
  --md-light-blue-A100: #80d8ff;
  --md-light-blue-A200: #40c4ff;
  --md-light-blue-A400: #00b0ff;
  --md-light-blue-A700: #0091ea;
  --md-cyan-50: #e0f7fa;
  --md-cyan-100: #b2ebf2;
  --md-cyan-200: #80deea;
  --md-cyan-300: #4dd0e1;
  --md-cyan-400: #26c6da;
  --md-cyan-500: #00bcd4;
  --md-cyan-600: #00acc1;
  --md-cyan-700: #0097a7;
  --md-cyan-800: #00838f;
  --md-cyan-900: #006064;
  --md-cyan-A100: #84ffff;
  --md-cyan-A200: #18ffff;
  --md-cyan-A400: #00e5ff;
  --md-cyan-A700: #00b8d4;
  --md-teal-50: #e0f2f1;
  --md-teal-100: #b2dfdb;
  --md-teal-200: #80cbc4;
  --md-teal-300: #4db6ac;
  --md-teal-400: #26a69a;
  --md-teal-500: #009688;
  --md-teal-600: #00897b;
  --md-teal-700: #00796b;
  --md-teal-800: #00695c;
  --md-teal-900: #004d40;
  --md-teal-A100: #a7ffeb;
  --md-teal-A200: #64ffda;
  --md-teal-A400: #1de9b6;
  --md-teal-A700: #00bfa5;
  --md-green-50: #e8f5e9;
  --md-green-100: #c8e6c9;
  --md-green-200: #a5d6a7;
  --md-green-300: #81c784;
  --md-green-400: #66bb6a;
  --md-green-500: #4caf50;
  --md-green-600: #43a047;
  --md-green-700: #388e3c;
  --md-green-800: #2e7d32;
  --md-green-900: #1b5e20;
  --md-green-A100: #b9f6ca;
  --md-green-A200: #69f0ae;
  --md-green-A400: #00e676;
  --md-green-A700: #00c853;
  --md-light-green-50: #f1f8e9;
  --md-light-green-100: #dcedc8;
  --md-light-green-200: #c5e1a5;
  --md-light-green-300: #aed581;
  --md-light-green-400: #9ccc65;
  --md-light-green-500: #8bc34a;
  --md-light-green-600: #7cb342;
  --md-light-green-700: #689f38;
  --md-light-green-800: #558b2f;
  --md-light-green-900: #33691e;
  --md-light-green-A100: #ccff90;
  --md-light-green-A200: #b2ff59;
  --md-light-green-A400: #76ff03;
  --md-light-green-A700: #64dd17;
  --md-lime-50: #f9fbe7;
  --md-lime-100: #f0f4c3;
  --md-lime-200: #e6ee9c;
  --md-lime-300: #dce775;
  --md-lime-400: #d4e157;
  --md-lime-500: #cddc39;
  --md-lime-600: #c0ca33;
  --md-lime-700: #afb42b;
  --md-lime-800: #9e9d24;
  --md-lime-900: #827717;
  --md-lime-A100: #f4ff81;
  --md-lime-A200: #eeff41;
  --md-lime-A400: #c6ff00;
  --md-lime-A700: #aeea00;
  --md-yellow-50: #fffde7;
  --md-yellow-100: #fff9c4;
  --md-yellow-200: #fff59d;
  --md-yellow-300: #fff176;
  --md-yellow-400: #ffee58;
  --md-yellow-500: #ffeb3b;
  --md-yellow-600: #fdd835;
  --md-yellow-700: #fbc02d;
  --md-yellow-800: #f9a825;
  --md-yellow-900: #f57f17;
  --md-yellow-A100: #ffff8d;
  --md-yellow-A200: #ff0;
  --md-yellow-A400: #ffea00;
  --md-yellow-A700: #ffd600;
  --md-amber-50: #fff8e1;
  --md-amber-100: #ffecb3;
  --md-amber-200: #ffe082;
  --md-amber-300: #ffd54f;
  --md-amber-400: #ffca28;
  --md-amber-500: #ffc107;
  --md-amber-600: #ffb300;
  --md-amber-700: #ffa000;
  --md-amber-800: #ff8f00;
  --md-amber-900: #ff6f00;
  --md-amber-A100: #ffe57f;
  --md-amber-A200: #ffd740;
  --md-amber-A400: #ffc400;
  --md-amber-A700: #ffab00;
  --md-orange-50: #fff3e0;
  --md-orange-100: #ffe0b2;
  --md-orange-200: #ffcc80;
  --md-orange-300: #ffb74d;
  --md-orange-400: #ffa726;
  --md-orange-500: #ff9800;
  --md-orange-600: #fb8c00;
  --md-orange-700: #f57c00;
  --md-orange-800: #ef6c00;
  --md-orange-900: #e65100;
  --md-orange-A100: #ffd180;
  --md-orange-A200: #ffab40;
  --md-orange-A400: #ff9100;
  --md-orange-A700: #ff6d00;
  --md-deep-orange-50: #fbe9e7;
  --md-deep-orange-100: #ffccbc;
  --md-deep-orange-200: #ffab91;
  --md-deep-orange-300: #ff8a65;
  --md-deep-orange-400: #ff7043;
  --md-deep-orange-500: #ff5722;
  --md-deep-orange-600: #f4511e;
  --md-deep-orange-700: #e64a19;
  --md-deep-orange-800: #d84315;
  --md-deep-orange-900: #bf360c;
  --md-deep-orange-A100: #ff9e80;
  --md-deep-orange-A200: #ff6e40;
  --md-deep-orange-A400: #ff3d00;
  --md-deep-orange-A700: #dd2c00;
  --md-brown-50: #efebe9;
  --md-brown-100: #d7ccc8;
  --md-brown-200: #bcaaa4;
  --md-brown-300: #a1887f;
  --md-brown-400: #8d6e63;
  --md-brown-500: #795548;
  --md-brown-600: #6d4c41;
  --md-brown-700: #5d4037;
  --md-brown-800: #4e342e;
  --md-brown-900: #3e2723;
  --md-grey-50: #fafafa;
  --md-grey-100: #f5f5f5;
  --md-grey-200: #eee;
  --md-grey-300: #e0e0e0;
  --md-grey-400: #bdbdbd;
  --md-grey-500: #9e9e9e;
  --md-grey-600: #757575;
  --md-grey-700: #616161;
  --md-grey-800: #424242;
  --md-grey-900: #212121;
  --md-blue-grey-50: #eceff1;
  --md-blue-grey-100: #cfd8dc;
  --md-blue-grey-200: #b0bec5;
  --md-blue-grey-300: #90a4ae;
  --md-blue-grey-400: #78909c;
  --md-blue-grey-500: #607d8b;
  --md-blue-grey-600: #546e7a;
  --md-blue-grey-700: #455a64;
  --md-blue-grey-800: #37474f;
  --md-blue-grey-900: #263238;
}

/*-----------------------------------------------------------------------------
| Copyright (c) 2014-2017, Jupyter Development Team.
|
| Distributed under the terms of the Modified BSD License.
|----------------------------------------------------------------------------*/

/*-----------------------------------------------------------------------------
| Copyright (c) Jupyter Development Team.
| Distributed under the terms of the Modified BSD License.
|----------------------------------------------------------------------------*/

/*-----------------------------------------------------------------------------
| RenderedText
|----------------------------------------------------------------------------*/

:root {
  /* This is the padding value to fill the gaps between lines containing spans with background color. */
  --jp-private-code-span-padding: calc(
    (var(--jp-code-line-height) - 1) * var(--jp-code-font-size) / 2
  );
}

.jp-RenderedText {
  text-align: left;
  padding-left: var(--jp-code-padding);
  line-height: var(--jp-code-line-height);
  font-family: var(--jp-code-font-family);
}

.jp-RenderedText pre,
.jp-RenderedJavaScript pre,
.jp-RenderedHTMLCommon pre {
  color: var(--jp-content-font-color1);
  font-size: var(--jp-code-font-size);
  border: none;
  margin: 0;
  padding: 0;
}

.jp-RenderedText pre a:link {
  text-decoration: none;
  color: var(--jp-content-link-color);
}

.jp-RenderedText pre a:hover {
  text-decoration: underline;
  color: var(--jp-content-link-color);
}

.jp-RenderedText pre a:visited {
  text-decoration: none;
  color: var(--jp-content-link-color);
}

/* console foregrounds and backgrounds */
.jp-RenderedText pre .ansi-black-fg {
  color: #3e424d;
}

.jp-RenderedText pre .ansi-red-fg {
  color: #e75c58;
}

.jp-RenderedText pre .ansi-green-fg {
  color: #00a250;
}

.jp-RenderedText pre .ansi-yellow-fg {
  color: #ddb62b;
}

.jp-RenderedText pre .ansi-blue-fg {
  color: #208ffb;
}

.jp-RenderedText pre .ansi-magenta-fg {
  color: #d160c4;
}

.jp-RenderedText pre .ansi-cyan-fg {
  color: #60c6c8;
}

.jp-RenderedText pre .ansi-white-fg {
  color: #c5c1b4;
}

.jp-RenderedText pre .ansi-black-bg {
  background-color: #3e424d;
  padding: var(--jp-private-code-span-padding) 0;
}

.jp-RenderedText pre .ansi-red-bg {
  background-color: #e75c58;
  padding: var(--jp-private-code-span-padding) 0;
}

.jp-RenderedText pre .ansi-green-bg {
  background-color: #00a250;
  padding: var(--jp-private-code-span-padding) 0;
}

.jp-RenderedText pre .ansi-yellow-bg {
  background-color: #ddb62b;
  padding: var(--jp-private-code-span-padding) 0;
}

.jp-RenderedText pre .ansi-blue-bg {
  background-color: #208ffb;
  padding: var(--jp-private-code-span-padding) 0;
}

.jp-RenderedText pre .ansi-magenta-bg {
  background-color: #d160c4;
  padding: var(--jp-private-code-span-padding) 0;
}

.jp-RenderedText pre .ansi-cyan-bg {
  background-color: #60c6c8;
  padding: var(--jp-private-code-span-padding) 0;
}

.jp-RenderedText pre .ansi-white-bg {
  background-color: #c5c1b4;
  padding: var(--jp-private-code-span-padding) 0;
}

.jp-RenderedText pre .ansi-black-intense-fg {
  color: #282c36;
}

.jp-RenderedText pre .ansi-red-intense-fg {
  color: #b22b31;
}

.jp-RenderedText pre .ansi-green-intense-fg {
  color: #007427;
}

.jp-RenderedText pre .ansi-yellow-intense-fg {
  color: #b27d12;
}

.jp-RenderedText pre .ansi-blue-intense-fg {
  color: #0065ca;
}

.jp-RenderedText pre .ansi-magenta-intense-fg {
  color: #a03196;
}

.jp-RenderedText pre .ansi-cyan-intense-fg {
  color: #258f8f;
}

.jp-RenderedText pre .ansi-white-intense-fg {
  color: #a1a6b2;
}

.jp-RenderedText pre .ansi-black-intense-bg {
  background-color: #282c36;
  padding: var(--jp-private-code-span-padding) 0;
}

.jp-RenderedText pre .ansi-red-intense-bg {
  background-color: #b22b31;
  padding: var(--jp-private-code-span-padding) 0;
}

.jp-RenderedText pre .ansi-green-intense-bg {
  background-color: #007427;
  padding: var(--jp-private-code-span-padding) 0;
}

.jp-RenderedText pre .ansi-yellow-intense-bg {
  background-color: #b27d12;
  padding: var(--jp-private-code-span-padding) 0;
}

.jp-RenderedText pre .ansi-blue-intense-bg {
  background-color: #0065ca;
  padding: var(--jp-private-code-span-padding) 0;
}

.jp-RenderedText pre .ansi-magenta-intense-bg {
  background-color: #a03196;
  padding: var(--jp-private-code-span-padding) 0;
}

.jp-RenderedText pre .ansi-cyan-intense-bg {
  background-color: #258f8f;
  padding: var(--jp-private-code-span-padding) 0;
}

.jp-RenderedText pre .ansi-white-intense-bg {
  background-color: #a1a6b2;
  padding: var(--jp-private-code-span-padding) 0;
}

.jp-RenderedText pre .ansi-default-inverse-fg {
  color: var(--jp-ui-inverse-font-color0);
}

.jp-RenderedText pre .ansi-default-inverse-bg {
  background-color: var(--jp-inverse-layout-color0);
  padding: var(--jp-private-code-span-padding) 0;
}

.jp-RenderedText pre .ansi-bold {
  font-weight: bold;
}

.jp-RenderedText pre .ansi-underline {
  text-decoration: underline;
}

.jp-RenderedText[data-mime-type='application/vnd.jupyter.stderr'] {
  background: var(--jp-rendermime-error-background);
  padding-top: var(--jp-code-padding);
}

/*-----------------------------------------------------------------------------
| RenderedLatex
|----------------------------------------------------------------------------*/

.jp-RenderedLatex {
  color: var(--jp-content-font-color1);
  font-size: var(--jp-content-font-size1);
  line-height: var(--jp-content-line-height);
}

/* Left-justify outputs.*/
.jp-OutputArea-output.jp-RenderedLatex {
  padding: var(--jp-code-padding);
  text-align: left;
}

/*-----------------------------------------------------------------------------
| RenderedHTML
|----------------------------------------------------------------------------*/

.jp-RenderedHTMLCommon {
  color: var(--jp-content-font-color1);
  font-family: var(--jp-content-font-family);
  font-size: var(--jp-content-font-size1);
  line-height: var(--jp-content-line-height);

  /* Give a bit more R padding on Markdown text to keep line lengths reasonable */
  padding-right: 20px;
}

.jp-RenderedHTMLCommon em {
  font-style: italic;
}

.jp-RenderedHTMLCommon strong {
  font-weight: bold;
}

.jp-RenderedHTMLCommon u {
  text-decoration: underline;
}

.jp-RenderedHTMLCommon a:link {
  text-decoration: none;
  color: var(--jp-content-link-color);
}

.jp-RenderedHTMLCommon a:hover {
  text-decoration: underline;
  color: var(--jp-content-link-color);
}

.jp-RenderedHTMLCommon a:visited {
  text-decoration: none;
  color: var(--jp-content-link-color);
}

/* Headings */

.jp-RenderedHTMLCommon h1,
.jp-RenderedHTMLCommon h2,
.jp-RenderedHTMLCommon h3,
.jp-RenderedHTMLCommon h4,
.jp-RenderedHTMLCommon h5,
.jp-RenderedHTMLCommon h6 {
  line-height: var(--jp-content-heading-line-height);
  font-weight: var(--jp-content-heading-font-weight);
  font-style: normal;
  margin: var(--jp-content-heading-margin-top) 0
    var(--jp-content-heading-margin-bottom) 0;
}

.jp-RenderedHTMLCommon h1:first-child,
.jp-RenderedHTMLCommon h2:first-child,
.jp-RenderedHTMLCommon h3:first-child,
.jp-RenderedHTMLCommon h4:first-child,
.jp-RenderedHTMLCommon h5:first-child,
.jp-RenderedHTMLCommon h6:first-child {
  margin-top: calc(0.5 * var(--jp-content-heading-margin-top));
}

.jp-RenderedHTMLCommon h1:last-child,
.jp-RenderedHTMLCommon h2:last-child,
.jp-RenderedHTMLCommon h3:last-child,
.jp-RenderedHTMLCommon h4:last-child,
.jp-RenderedHTMLCommon h5:last-child,
.jp-RenderedHTMLCommon h6:last-child {
  margin-bottom: calc(0.5 * var(--jp-content-heading-margin-bottom));
}

.jp-RenderedHTMLCommon h1 {
  font-size: var(--jp-content-font-size5);
}

.jp-RenderedHTMLCommon h2 {
  font-size: var(--jp-content-font-size4);
}

.jp-RenderedHTMLCommon h3 {
  font-size: var(--jp-content-font-size3);
}

.jp-RenderedHTMLCommon h4 {
  font-size: var(--jp-content-font-size2);
}

.jp-RenderedHTMLCommon h5 {
  font-size: var(--jp-content-font-size1);
}

.jp-RenderedHTMLCommon h6 {
  font-size: var(--jp-content-font-size0);
}

/* Lists */

/* stylelint-disable selector-max-type, selector-max-compound-selectors */

.jp-RenderedHTMLCommon ul:not(.list-inline),
.jp-RenderedHTMLCommon ol:not(.list-inline) {
  padding-left: 2em;
}

.jp-RenderedHTMLCommon ul {
  list-style: disc;
}

.jp-RenderedHTMLCommon ul ul {
  list-style: square;
}

.jp-RenderedHTMLCommon ul ul ul {
  list-style: circle;
}

.jp-RenderedHTMLCommon ol {
  list-style: decimal;
}

.jp-RenderedHTMLCommon ol ol {
  list-style: upper-alpha;
}

.jp-RenderedHTMLCommon ol ol ol {
  list-style: lower-alpha;
}

.jp-RenderedHTMLCommon ol ol ol ol {
  list-style: lower-roman;
}

.jp-RenderedHTMLCommon ol ol ol ol ol {
  list-style: decimal;
}

.jp-RenderedHTMLCommon ol,
.jp-RenderedHTMLCommon ul {
  margin-bottom: 1em;
}

.jp-RenderedHTMLCommon ul ul,
.jp-RenderedHTMLCommon ul ol,
.jp-RenderedHTMLCommon ol ul,
.jp-RenderedHTMLCommon ol ol {
  margin-bottom: 0;
}

/* stylelint-enable selector-max-type, selector-max-compound-selectors */

.jp-RenderedHTMLCommon hr {
  color: var(--jp-border-color2);
  background-color: var(--jp-border-color1);
  margin-top: 1em;
  margin-bottom: 1em;
}

.jp-RenderedHTMLCommon > pre {
  margin: 1.5em 2em;
}

.jp-RenderedHTMLCommon pre,
.jp-RenderedHTMLCommon code {
  border: 0;
  background-color: var(--jp-layout-color0);
  color: var(--jp-content-font-color1);
  font-family: var(--jp-code-font-family);
  font-size: inherit;
  line-height: var(--jp-code-line-height);
  padding: 0;
  white-space: pre-wrap;
}

.jp-RenderedHTMLCommon :not(pre) > code {
  background-color: var(--jp-layout-color2);
  padding: 1px 5px;
}

/* Tables */

.jp-RenderedHTMLCommon table {
  border-collapse: collapse;
  border-spacing: 0;
  border: none;
  color: var(--jp-ui-font-color1);
  font-size: var(--jp-ui-font-size1);
  table-layout: fixed;
  margin-left: auto;
  margin-bottom: 1em;
  margin-right: auto;
}

.jp-RenderedHTMLCommon thead {
  border-bottom: var(--jp-border-width) solid var(--jp-border-color1);
  vertical-align: bottom;
}

.jp-RenderedHTMLCommon td,
.jp-RenderedHTMLCommon th,
.jp-RenderedHTMLCommon tr {
  vertical-align: middle;
  padding: 0.5em;
  line-height: normal;
  white-space: normal;
  max-width: none;
  border: none;
}

.jp-RenderedMarkdown.jp-RenderedHTMLCommon td,
.jp-RenderedMarkdown.jp-RenderedHTMLCommon th {
  max-width: none;
}

:not(.jp-RenderedMarkdown).jp-RenderedHTMLCommon td,
:not(.jp-RenderedMarkdown).jp-RenderedHTMLCommon th,
:not(.jp-RenderedMarkdown).jp-RenderedHTMLCommon tr {
  text-align: right;
}

.jp-RenderedHTMLCommon th {
  font-weight: bold;
}

.jp-RenderedHTMLCommon tbody tr:nth-child(odd) {
  background: var(--jp-layout-color0);
}

.jp-RenderedHTMLCommon tbody tr:nth-child(even) {
  background: var(--jp-rendermime-table-row-background);
}

.jp-RenderedHTMLCommon tbody tr:hover {
  background: var(--jp-rendermime-table-row-hover-background);
}

.jp-RenderedHTMLCommon p {
  text-align: left;
  margin: 0;
  margin-bottom: 1em;
}

.jp-RenderedHTMLCommon img {
  -moz-force-broken-image-icon: 1;
}

/* Restrict to direct children as other images could be nested in other content. */
.jp-RenderedHTMLCommon > img {
  display: block;
  margin-left: 0;
  margin-right: 0;
  margin-bottom: 1em;
}

/* Change color behind transparent images if they need it... */
[data-jp-theme-light='false'] .jp-RenderedImage img.jp-needs-light-background {
  background-color: var(--jp-inverse-layout-color1);
}

[data-jp-theme-light='true'] .jp-RenderedImage img.jp-needs-dark-background {
  background-color: var(--jp-inverse-layout-color1);
}

.jp-RenderedHTMLCommon img,
.jp-RenderedImage img,
.jp-RenderedHTMLCommon svg,
.jp-RenderedSVG svg {
  max-width: 100%;
  height: auto;
}

.jp-RenderedHTMLCommon img.jp-mod-unconfined,
.jp-RenderedImage img.jp-mod-unconfined,
.jp-RenderedHTMLCommon svg.jp-mod-unconfined,
.jp-RenderedSVG svg.jp-mod-unconfined {
  max-width: none;
}

.jp-RenderedHTMLCommon .alert {
  padding: var(--jp-notebook-padding);
  border: var(--jp-border-width) solid transparent;
  border-radius: var(--jp-border-radius);
  margin-bottom: 1em;
}

.jp-RenderedHTMLCommon .alert-info {
  color: var(--jp-info-color0);
  background-color: var(--jp-info-color3);
  border-color: var(--jp-info-color2);
}

.jp-RenderedHTMLCommon .alert-info hr {
  border-color: var(--jp-info-color3);
}

.jp-RenderedHTMLCommon .alert-info > p:last-child,
.jp-RenderedHTMLCommon .alert-info > ul:last-child {
  margin-bottom: 0;
}

.jp-RenderedHTMLCommon .alert-warning {
  color: var(--jp-warn-color0);
  background-color: var(--jp-warn-color3);
  border-color: var(--jp-warn-color2);
}

.jp-RenderedHTMLCommon .alert-warning hr {
  border-color: var(--jp-warn-color3);
}

.jp-RenderedHTMLCommon .alert-warning > p:last-child,
.jp-RenderedHTMLCommon .alert-warning > ul:last-child {
  margin-bottom: 0;
}

.jp-RenderedHTMLCommon .alert-success {
  color: var(--jp-success-color0);
  background-color: var(--jp-success-color3);
  border-color: var(--jp-success-color2);
}

.jp-RenderedHTMLCommon .alert-success hr {
  border-color: var(--jp-success-color3);
}

.jp-RenderedHTMLCommon .alert-success > p:last-child,
.jp-RenderedHTMLCommon .alert-success > ul:last-child {
  margin-bottom: 0;
}

.jp-RenderedHTMLCommon .alert-danger {
  color: var(--jp-error-color0);
  background-color: var(--jp-error-color3);
  border-color: var(--jp-error-color2);
}

.jp-RenderedHTMLCommon .alert-danger hr {
  border-color: var(--jp-error-color3);
}

.jp-RenderedHTMLCommon .alert-danger > p:last-child,
.jp-RenderedHTMLCommon .alert-danger > ul:last-child {
  margin-bottom: 0;
}

.jp-RenderedHTMLCommon blockquote {
  margin: 1em 2em;
  padding: 0 1em;
  border-left: 5px solid var(--jp-border-color2);
}

a.jp-InternalAnchorLink {
  visibility: hidden;
  margin-left: 8px;
  color: var(--md-blue-800);
}

h1:hover .jp-InternalAnchorLink,
h2:hover .jp-InternalAnchorLink,
h3:hover .jp-InternalAnchorLink,
h4:hover .jp-InternalAnchorLink,
h5:hover .jp-InternalAnchorLink,
h6:hover .jp-InternalAnchorLink {
  visibility: visible;
}

.jp-RenderedHTMLCommon kbd {
  background-color: var(--jp-rendermime-table-row-background);
  border: 1px solid var(--jp-border-color0);
  border-bottom-color: var(--jp-border-color2);
  border-radius: 3px;
  box-shadow: inset 0 -1px 0 rgba(0, 0, 0, 0.25);
  display: inline-block;
  font-size: var(--jp-ui-font-size0);
  line-height: 1em;
  padding: 0.2em 0.5em;
}

/* Most direct children of .jp-RenderedHTMLCommon have a margin-bottom of 1.0.
 * At the bottom of cells this is a bit too much as there is also spacing
 * between cells. Going all the way to 0 gets too tight between markdown and
 * code cells.
 */
.jp-RenderedHTMLCommon > *:last-child {
  margin-bottom: 0.5em;
}

/*
 * Copyright (c) Jupyter Development Team.
 * Distributed under the terms of the Modified BSD License.
 */

/*-----------------------------------------------------------------------------
| Copyright (c) Jupyter Development Team.
| Copyright (c) 2014-2017, PhosphorJS Contributors
|
| Distributed under the terms of the BSD 3-Clause License.
|
| The full license is in the file LICENSE, distributed with this software.
|----------------------------------------------------------------------------*/

.lm-cursor-backdrop {
  position: fixed;
  width: 200px;
  height: 200px;
  margin-top: -100px;
  margin-left: -100px;
  will-change: transform;
  z-index: 100;
}

.lm-mod-drag-image {
  will-change: transform;
}

/*
 * Copyright (c) Jupyter Development Team.
 * Distributed under the terms of the Modified BSD License.
 */

.jp-lineFormSearch {
  padding: 4px 12px;
  background-color: var(--jp-layout-color2);
  box-shadow: var(--jp-toolbar-box-shadow);
  z-index: 2;
  font-size: var(--jp-ui-font-size1);
}

.jp-lineFormCaption {
  font-size: var(--jp-ui-font-size0);
  line-height: var(--jp-ui-font-size1);
  margin-top: 4px;
  color: var(--jp-ui-font-color0);
}

.jp-baseLineForm {
  border: none;
  border-radius: 0;
  position: absolute;
  background-size: 16px;
  background-repeat: no-repeat;
  background-position: center;
  outline: none;
}

.jp-lineFormButtonContainer {
  top: 4px;
  right: 8px;
  height: 24px;
  padding: 0 12px;
  width: 12px;
}

.jp-lineFormButtonIcon {
  top: 0;
  right: 0;
  background-color: var(--jp-brand-color1);
  height: 100%;
  width: 100%;
  box-sizing: border-box;
  padding: 4px 6px;
}

.jp-lineFormButton {
  top: 0;
  right: 0;
  background-color: transparent;
  height: 100%;
  width: 100%;
  box-sizing: border-box;
}

.jp-lineFormWrapper {
  overflow: hidden;
  padding: 0 8px;
  border: 1px solid var(--jp-border-color0);
  background-color: var(--jp-input-active-background);
  height: 22px;
}

.jp-lineFormWrapperFocusWithin {
  border: var(--jp-border-width) solid var(--md-blue-500);
  box-shadow: inset 0 0 4px var(--md-blue-300);
}

.jp-lineFormInput {
  background: transparent;
  width: 200px;
  height: 100%;
  border: none;
  outline: none;
  color: var(--jp-ui-font-color0);
  line-height: 28px;
}

/*-----------------------------------------------------------------------------
| Copyright (c) 2014-2016, Jupyter Development Team.
|
| Distributed under the terms of the Modified BSD License.
|----------------------------------------------------------------------------*/

.jp-JSONEditor {
  display: flex;
  flex-direction: column;
  width: 100%;
}

.jp-JSONEditor-host {
  flex: 1 1 auto;
  border: var(--jp-border-width) solid var(--jp-input-border-color);
  border-radius: 0;
  background: var(--jp-layout-color0);
  min-height: 50px;
  padding: 1px;
}

.jp-JSONEditor.jp-mod-error .jp-JSONEditor-host {
  border-color: red;
  outline-color: red;
}

.jp-JSONEditor-header {
  display: flex;
  flex: 1 0 auto;
  padding: 0 0 0 12px;
}

.jp-JSONEditor-header label {
  flex: 0 0 auto;
}

.jp-JSONEditor-commitButton {
  height: 16px;
  width: 16px;
  background-size: 18px;
  background-repeat: no-repeat;
  background-position: center;
}

.jp-JSONEditor-host.jp-mod-focused {
  background-color: var(--jp-input-active-background);
  border: 1px solid var(--jp-input-active-border-color);
  box-shadow: var(--jp-input-box-shadow);
}

.jp-Editor.jp-mod-dropTarget {
  border: var(--jp-border-width) solid var(--jp-input-active-border-color);
  box-shadow: var(--jp-input-box-shadow);
}

/*-----------------------------------------------------------------------------
| Copyright (c) Jupyter Development Team.
| Distributed under the terms of the Modified BSD License.
|----------------------------------------------------------------------------*/
.jp-DocumentSearch-input {
  border: none;
  outline: none;
  color: var(--jp-ui-font-color0);
  font-size: var(--jp-ui-font-size1);
  background-color: var(--jp-layout-color0);
  font-family: var(--jp-ui-font-family);
  padding: 2px 1px;
  resize: none;
}

.jp-DocumentSearch-overlay {
  position: absolute;
  background-color: var(--jp-toolbar-background);
  border-bottom: var(--jp-border-width) solid var(--jp-toolbar-border-color);
  border-left: var(--jp-border-width) solid var(--jp-toolbar-border-color);
  top: 0;
  right: 0;
  z-index: 7;
  min-width: 405px;
  padding: 2px;
  font-size: var(--jp-ui-font-size1);

  --jp-private-document-search-button-height: 20px;
}

.jp-DocumentSearch-overlay button {
  background-color: var(--jp-toolbar-background);
  outline: 0;
}

.jp-DocumentSearch-overlay button:hover {
  background-color: var(--jp-layout-color2);
}

.jp-DocumentSearch-overlay button:active {
  background-color: var(--jp-layout-color3);
}

.jp-DocumentSearch-overlay-row {
  display: flex;
  align-items: center;
  margin-bottom: 2px;
}

.jp-DocumentSearch-button-content {
  display: inline-block;
  cursor: pointer;
  box-sizing: border-box;
  width: 100%;
  height: 100%;
}

.jp-DocumentSearch-button-content svg {
  width: 100%;
  height: 100%;
}

.jp-DocumentSearch-input-wrapper {
  border: var(--jp-border-width) solid var(--jp-border-color0);
  display: flex;
  background-color: var(--jp-layout-color0);
  margin: 2px;
}

.jp-DocumentSearch-input-wrapper:focus-within {
  border-color: var(--jp-cell-editor-active-border-color);
}

.jp-DocumentSearch-toggle-wrapper,
.jp-DocumentSearch-button-wrapper {
  all: initial;
  overflow: hidden;
  display: inline-block;
  border: none;
  box-sizing: border-box;
}

.jp-DocumentSearch-toggle-wrapper {
  width: 14px;
  height: 14px;
}

.jp-DocumentSearch-button-wrapper {
  width: var(--jp-private-document-search-button-height);
  height: var(--jp-private-document-search-button-height);
}

.jp-DocumentSearch-toggle-wrapper:focus,
.jp-DocumentSearch-button-wrapper:focus {
  outline: var(--jp-border-width) solid
    var(--jp-cell-editor-active-border-color);
  outline-offset: -1px;
}

.jp-DocumentSearch-toggle-wrapper,
.jp-DocumentSearch-button-wrapper,
.jp-DocumentSearch-button-content:focus {
  outline: none;
}

.jp-DocumentSearch-toggle-placeholder {
  width: 5px;
}

.jp-DocumentSearch-input-button::before {
  display: block;
  padding-top: 100%;
}

.jp-DocumentSearch-input-button-off {
  opacity: var(--jp-search-toggle-off-opacity);
}

.jp-DocumentSearch-input-button-off:hover {
  opacity: var(--jp-search-toggle-hover-opacity);
}

.jp-DocumentSearch-input-button-on {
  opacity: var(--jp-search-toggle-on-opacity);
}

.jp-DocumentSearch-index-counter {
  padding-left: 10px;
  padding-right: 10px;
  user-select: none;
  min-width: 35px;
  display: inline-block;
}

.jp-DocumentSearch-up-down-wrapper {
  display: inline-block;
  padding-right: 2px;
  margin-left: auto;
  white-space: nowrap;
}

.jp-DocumentSearch-spacer {
  margin-left: auto;
}

.jp-DocumentSearch-up-down-wrapper button {
  outline: 0;
  border: none;
  width: var(--jp-private-document-search-button-height);
  height: var(--jp-private-document-search-button-height);
  vertical-align: middle;
  margin: 1px 5px 2px;
}

.jp-DocumentSearch-up-down-button:hover {
  background-color: var(--jp-layout-color2);
}

.jp-DocumentSearch-up-down-button:active {
  background-color: var(--jp-layout-color3);
}

.jp-DocumentSearch-filter-button {
  border-radius: var(--jp-border-radius);
}

.jp-DocumentSearch-filter-button:hover {
  background-color: var(--jp-layout-color2);
}

.jp-DocumentSearch-filter-button-enabled {
  background-color: var(--jp-layout-color2);
}

.jp-DocumentSearch-filter-button-enabled:hover {
  background-color: var(--jp-layout-color3);
}

.jp-DocumentSearch-search-options {
  padding: 0 8px;
  margin-left: 3px;
  width: 100%;
  display: grid;
  justify-content: start;
  grid-template-columns: 1fr 1fr;
  align-items: center;
  justify-items: stretch;
}

.jp-DocumentSearch-search-filter-disabled {
  color: var(--jp-ui-font-color2);
}

.jp-DocumentSearch-search-filter {
  display: flex;
  align-items: center;
  user-select: none;
}

.jp-DocumentSearch-regex-error {
  color: var(--jp-error-color0);
}

.jp-DocumentSearch-replace-button-wrapper {
  overflow: hidden;
  display: inline-block;
  box-sizing: border-box;
  border: var(--jp-border-width) solid var(--jp-border-color0);
  margin: auto 2px;
  padding: 1px 4px;
  height: calc(var(--jp-private-document-search-button-height) + 2px);
}

.jp-DocumentSearch-replace-button-wrapper:focus {
  border: var(--jp-border-width) solid var(--jp-cell-editor-active-border-color);
}

.jp-DocumentSearch-replace-button {
  display: inline-block;
  text-align: center;
  cursor: pointer;
  box-sizing: border-box;
  color: var(--jp-ui-font-color1);

  /* height - 2 * (padding of wrapper) */
  line-height: calc(var(--jp-private-document-search-button-height) - 2px);
  width: 100%;
  height: 100%;
}

.jp-DocumentSearch-replace-button:focus {
  outline: none;
}

.jp-DocumentSearch-replace-wrapper-class {
  margin-left: 14px;
  display: flex;
}

.jp-DocumentSearch-replace-toggle {
  border: none;
  background-color: var(--jp-toolbar-background);
  border-radius: var(--jp-border-radius);
}

.jp-DocumentSearch-replace-toggle:hover {
  background-color: var(--jp-layout-color2);
}

/*-----------------------------------------------------------------------------
| Copyright (c) Jupyter Development Team.
| Distributed under the terms of the Modified BSD License.
|----------------------------------------------------------------------------*/

.cm-editor {
  line-height: var(--jp-code-line-height);
  font-size: var(--jp-code-font-size);
  font-family: var(--jp-code-font-family);
  border: 0;
  border-radius: 0;
  height: auto;

  /* Changed to auto to autogrow */
}

.cm-editor pre {
  padding: 0 var(--jp-code-padding);
}

.jp-CodeMirrorEditor[data-type='inline'] .cm-dialog {
  background-color: var(--jp-layout-color0);
  color: var(--jp-content-font-color1);
}

.jp-CodeMirrorEditor {
  cursor: text;
}

/* When zoomed out 67% and 33% on a screen of 1440 width x 900 height */
@media screen and (min-width: 2138px) and (max-width: 4319px) {
  .jp-CodeMirrorEditor[data-type='inline'] .cm-cursor {
    border-left: var(--jp-code-cursor-width1) solid
      var(--jp-editor-cursor-color);
  }
}

/* When zoomed out less than 33% */
@media screen and (min-width: 4320px) {
  .jp-CodeMirrorEditor[data-type='inline'] .cm-cursor {
    border-left: var(--jp-code-cursor-width2) solid
      var(--jp-editor-cursor-color);
  }
}

.cm-editor.jp-mod-readOnly .cm-cursor {
  display: none;
}

.jp-CollaboratorCursor {
  border-left: 5px solid transparent;
  border-right: 5px solid transparent;
  border-top: none;
  border-bottom: 3px solid;
  background-clip: content-box;
  margin-left: -5px;
  margin-right: -5px;
}

.cm-searching,
.cm-searching span {
  /* `.cm-searching span`: we need to override syntax highlighting */
  background-color: var(--jp-search-unselected-match-background-color);
  color: var(--jp-search-unselected-match-color);
}

.cm-searching::selection,
.cm-searching span::selection {
  background-color: var(--jp-search-unselected-match-background-color);
  color: var(--jp-search-unselected-match-color);
}

.jp-current-match > .cm-searching,
.jp-current-match > .cm-searching span,
.cm-searching > .jp-current-match,
.cm-searching > .jp-current-match span {
  background-color: var(--jp-search-selected-match-background-color);
  color: var(--jp-search-selected-match-color);
}

.jp-current-match > .cm-searching::selection,
.cm-searching > .jp-current-match::selection,
.jp-current-match > .cm-searching span::selection {
  background-color: var(--jp-search-selected-match-background-color);
  color: var(--jp-search-selected-match-color);
}

.cm-trailingspace {
  background-image: url(data:image/png;base64,iVBORw0KGgoAAAANSUhEUgAAAAgAAAAFCAYAAAB4ka1VAAAAsElEQVQIHQGlAFr/AAAAAAAAAAAAAAAAAAAAAAAAAAAAAAAAAAAAAAAAAAAAAAAAAAAAAAAA7+r3zKmT0/+pk9P/7+r3zAAAAAAAAAAABAAAAAAAAAAA6OPzM+/q9wAAAAAA6OPzMwAAAAAAAAAAAgAAAAAAAAAAGR8NiRQaCgAZIA0AGR8NiQAAAAAAAAAAAAAAAAAAAAAAAAAAAAAAAAAAAAAAAAAAAAAAAAAAAAAAQyoYJ/SY80UAAAAASUVORK5CYII=);
  background-position: center left;
  background-repeat: repeat-x;
}

.jp-CollaboratorCursor-hover {
  position: absolute;
  z-index: 1;
  transform: translateX(-50%);
  color: white;
  border-radius: 3px;
  padding-left: 4px;
  padding-right: 4px;
  padding-top: 1px;
  padding-bottom: 1px;
  text-align: center;
  font-size: var(--jp-ui-font-size1);
  white-space: nowrap;
}

.jp-CodeMirror-ruler {
  border-left: 1px dashed var(--jp-border-color2);
}

/* Styles for shared cursors (remote cursor locations and selected ranges) */
.jp-CodeMirrorEditor .cm-ySelectionCaret {
  position: relative;
  border-left: 1px solid black;
  margin-left: -1px;
  margin-right: -1px;
  box-sizing: border-box;
}

.jp-CodeMirrorEditor .cm-ySelectionCaret > .cm-ySelectionInfo {
  white-space: nowrap;
  position: absolute;
  top: -1.15em;
  padding-bottom: 0.05em;
  left: -1px;
  font-size: 0.95em;
  font-family: var(--jp-ui-font-family);
  font-weight: bold;
  line-height: normal;
  user-select: none;
  color: white;
  padding-left: 2px;
  padding-right: 2px;
  z-index: 101;
  transition: opacity 0.3s ease-in-out;
}

.jp-CodeMirrorEditor .cm-ySelectionInfo {
  transition-delay: 0.7s;
  opacity: 0;
}

.jp-CodeMirrorEditor .cm-ySelectionCaret:hover > .cm-ySelectionInfo {
  opacity: 1;
  transition-delay: 0s;
}

/*-----------------------------------------------------------------------------
| Copyright (c) Jupyter Development Team.
| Distributed under the terms of the Modified BSD License.
|----------------------------------------------------------------------------*/

.jp-MimeDocument {
  outline: none;
}

/*-----------------------------------------------------------------------------
| Copyright (c) Jupyter Development Team.
| Distributed under the terms of the Modified BSD License.
|----------------------------------------------------------------------------*/

/*-----------------------------------------------------------------------------
| Variables
|----------------------------------------------------------------------------*/

:root {
  --jp-private-filebrowser-button-height: 28px;
  --jp-private-filebrowser-button-width: 48px;
}

/*-----------------------------------------------------------------------------
| Copyright (c) Jupyter Development Team.
| Distributed under the terms of the Modified BSD License.
|----------------------------------------------------------------------------*/

.jp-FileBrowser .jp-SidePanel-content {
  display: flex;
  flex-direction: column;
}

.jp-FileBrowser-toolbar.jp-Toolbar {
  flex-wrap: wrap;
  row-gap: 12px;
  border-bottom: none;
  height: auto;
  margin: 8px 12px 0;
  box-shadow: none;
  padding: 0;
  justify-content: flex-start;
}

.jp-FileBrowser-Panel {
  flex: 1 1 auto;
  display: flex;
  flex-direction: column;
}

.jp-BreadCrumbs {
  flex: 0 0 auto;
  margin: 8px 12px;
}

.jp-BreadCrumbs-item {
  margin: 0 2px;
  padding: 0 2px;
  border-radius: var(--jp-border-radius);
  cursor: pointer;
}

.jp-BreadCrumbs-item:hover {
  background-color: var(--jp-layout-color2);
}

.jp-BreadCrumbs-item:first-child {
  margin-left: 0;
}

.jp-BreadCrumbs-item.jp-mod-dropTarget {
  background-color: var(--jp-brand-color2);
  opacity: 0.7;
}

/*-----------------------------------------------------------------------------
| Buttons
|----------------------------------------------------------------------------*/

.jp-FileBrowser-toolbar > .jp-Toolbar-item {
  flex: 0 0 auto;
  padding-left: 0;
  padding-right: 2px;
  align-items: center;
  height: unset;
}

.jp-FileBrowser-toolbar > .jp-Toolbar-item .jp-ToolbarButtonComponent {
  width: 40px;
}

/*-----------------------------------------------------------------------------
| Other styles
|----------------------------------------------------------------------------*/

.jp-FileDialog.jp-mod-conflict input {
  color: var(--jp-error-color1);
}

.jp-FileDialog .jp-new-name-title {
  margin-top: 12px;
}

.jp-LastModified-hidden {
  display: none;
}

.jp-FileSize-hidden {
  display: none;
}

.jp-FileBrowser .lm-AccordionPanel > h3:first-child {
  display: none;
}

/*-----------------------------------------------------------------------------
| DirListing
|----------------------------------------------------------------------------*/

.jp-DirListing {
  flex: 1 1 auto;
  display: flex;
  flex-direction: column;
  outline: 0;
}

.jp-DirListing-header {
  flex: 0 0 auto;
  display: flex;
  flex-direction: row;
  align-items: center;
  overflow: hidden;
  border-top: var(--jp-border-width) solid var(--jp-border-color2);
  border-bottom: var(--jp-border-width) solid var(--jp-border-color1);
  box-shadow: var(--jp-toolbar-box-shadow);
  z-index: 2;
}

.jp-DirListing-headerItem {
  padding: 4px 12px 2px;
  font-weight: 500;
}

.jp-DirListing-headerItem:hover {
  background: var(--jp-layout-color2);
}

.jp-DirListing-headerItem.jp-id-name {
  flex: 1 0 84px;
}

.jp-DirListing-headerItem.jp-id-modified {
  flex: 0 0 112px;
  border-left: var(--jp-border-width) solid var(--jp-border-color2);
  text-align: right;
}

.jp-DirListing-headerItem.jp-id-filesize {
  flex: 0 0 75px;
  border-left: var(--jp-border-width) solid var(--jp-border-color2);
  text-align: right;
}

.jp-id-narrow {
  display: none;
  flex: 0 0 5px;
  padding: 4px;
  border-left: var(--jp-border-width) solid var(--jp-border-color2);
  text-align: right;
  color: var(--jp-border-color2);
}

.jp-DirListing-narrow .jp-id-narrow {
  display: block;
}

.jp-DirListing-narrow .jp-id-modified,
.jp-DirListing-narrow .jp-DirListing-itemModified {
  display: none;
}

.jp-DirListing-headerItem.jp-mod-selected {
  font-weight: 600;
}

/* increase specificity to override bundled default */
.jp-DirListing-content {
  flex: 1 1 auto;
  margin: 0;
  padding: 0;
  list-style-type: none;
  overflow: auto;
  background-color: var(--jp-layout-color1);
}

.jp-DirListing-content mark {
  color: var(--jp-ui-font-color0);
  background-color: transparent;
  font-weight: bold;
}

.jp-DirListing-content .jp-DirListing-item.jp-mod-selected mark {
  color: var(--jp-ui-inverse-font-color0);
}

/* Style the directory listing content when a user drops a file to upload */
.jp-DirListing.jp-mod-native-drop .jp-DirListing-content {
  outline: 5px dashed rgba(128, 128, 128, 0.5);
  outline-offset: -10px;
  cursor: copy;
}

.jp-DirListing-item {
  display: flex;
  flex-direction: row;
  align-items: center;
  padding: 4px 12px;
  -webkit-user-select: none;
  -moz-user-select: none;
  -ms-user-select: none;
  user-select: none;
}

.jp-DirListing-checkboxWrapper {
  /* Increases hit area of checkbox. */
  padding: 4px;
}

.jp-DirListing-header
  .jp-DirListing-checkboxWrapper
  + .jp-DirListing-headerItem {
  padding-left: 4px;
}

.jp-DirListing-content .jp-DirListing-checkboxWrapper {
  position: relative;
  left: -4px;
  margin: -4px 0 -4px -8px;
}

.jp-DirListing-checkboxWrapper.jp-mod-visible {
  visibility: visible;
}

/* For devices that support hovering, hide checkboxes until hovered, selected...
*/
@media (hover: hover) {
  .jp-DirListing-checkboxWrapper {
    visibility: hidden;
  }

  .jp-DirListing-item:hover .jp-DirListing-checkboxWrapper,
  .jp-DirListing-item.jp-mod-selected .jp-DirListing-checkboxWrapper {
    visibility: visible;
  }
}

.jp-DirListing-item[data-is-dot] {
  opacity: 75%;
}

.jp-DirListing-item.jp-mod-selected {
  color: var(--jp-ui-inverse-font-color1);
  background: var(--jp-brand-color1);
}

.jp-DirListing-item.jp-mod-dropTarget {
  background: var(--jp-brand-color3);
}

.jp-DirListing-item:hover:not(.jp-mod-selected) {
  background: var(--jp-layout-color2);
}

.jp-DirListing-itemIcon {
  flex: 0 0 20px;
  margin-right: 4px;
}

.jp-DirListing-itemText {
  flex: 1 0 64px;
  white-space: nowrap;
  overflow: hidden;
  text-overflow: ellipsis;
  user-select: none;
}

.jp-DirListing-itemText:focus {
  outline-width: 2px;
  outline-color: var(--jp-inverse-layout-color1);
  outline-style: solid;
  outline-offset: 1px;
}

.jp-DirListing-item.jp-mod-selected .jp-DirListing-itemText:focus {
  outline-color: var(--jp-layout-color1);
}

.jp-DirListing-itemModified {
  flex: 0 0 125px;
  text-align: right;
}

.jp-DirListing-itemFileSize {
  flex: 0 0 90px;
  text-align: right;
}

.jp-DirListing-editor {
  flex: 1 0 64px;
  outline: none;
  border: none;
  color: var(--jp-ui-font-color1);
  background-color: var(--jp-layout-color1);
}

.jp-DirListing-item.jp-mod-running .jp-DirListing-itemIcon::before {
  color: var(--jp-success-color1);
  content: '\25CF';
  font-size: 8px;
  position: absolute;
  left: -8px;
}

.jp-DirListing-item.jp-mod-running.jp-mod-selected
  .jp-DirListing-itemIcon::before {
  color: var(--jp-ui-inverse-font-color1);
}

.jp-DirListing-item.lm-mod-drag-image,
.jp-DirListing-item.jp-mod-selected.lm-mod-drag-image {
  font-size: var(--jp-ui-font-size1);
  padding-left: 4px;
  margin-left: 4px;
  width: 160px;
  background-color: var(--jp-ui-inverse-font-color2);
  box-shadow: var(--jp-elevation-z2);
  border-radius: 0;
  color: var(--jp-ui-font-color1);
  transform: translateX(-40%) translateY(-58%);
}

.jp-Document {
  min-width: 120px;
  min-height: 120px;
  outline: none;
}

/*-----------------------------------------------------------------------------
| Copyright (c) Jupyter Development Team.
| Distributed under the terms of the Modified BSD License.
|----------------------------------------------------------------------------*/

/*-----------------------------------------------------------------------------
| Main OutputArea
| OutputArea has a list of Outputs
|----------------------------------------------------------------------------*/

.jp-OutputArea {
  overflow-y: auto;
}

.jp-OutputArea-child {
  display: table;
  table-layout: fixed;
  width: 100%;
  overflow: hidden;
}

.jp-OutputPrompt {
  width: var(--jp-cell-prompt-width);
  color: var(--jp-cell-outprompt-font-color);
  font-family: var(--jp-cell-prompt-font-family);
  padding: var(--jp-code-padding);
  letter-spacing: var(--jp-cell-prompt-letter-spacing);
  line-height: var(--jp-code-line-height);
  font-size: var(--jp-code-font-size);
  border: var(--jp-border-width) solid transparent;
  opacity: var(--jp-cell-prompt-opacity);

  /* Right align prompt text, don't wrap to handle large prompt numbers */
  text-align: right;
  white-space: nowrap;
  overflow: hidden;
  text-overflow: ellipsis;

  /* Disable text selection */
  -webkit-user-select: none;
  -moz-user-select: none;
  -ms-user-select: none;
  user-select: none;
}

.jp-OutputArea-prompt {
  display: table-cell;
  vertical-align: top;
}

.jp-OutputArea-output {
  display: table-cell;
  width: 100%;
  height: auto;
  overflow: auto;
  user-select: text;
  -moz-user-select: text;
  -webkit-user-select: text;
  -ms-user-select: text;
}

.jp-OutputArea .jp-RenderedText {
  padding-left: 1ch;
}

/**
 * Prompt overlay.
 */

.jp-OutputArea-promptOverlay {
  position: absolute;
  top: 0;
  width: var(--jp-cell-prompt-width);
  height: 100%;
  opacity: 0.5;
}

.jp-OutputArea-promptOverlay:hover {
  background: var(--jp-layout-color2);
  box-shadow: inset 0 0 1px var(--jp-inverse-layout-color0);
  cursor: zoom-out;
}

.jp-mod-outputsScrolled .jp-OutputArea-promptOverlay:hover {
  cursor: zoom-in;
}

/**
 * Isolated output.
 */
.jp-OutputArea-output.jp-mod-isolated {
  width: 100%;
  display: block;
}

/*
When drag events occur, `lm-mod-override-cursor` is added to the body.
Because iframes steal all cursor events, the following two rules are necessary
to suppress pointer events while resize drags are occurring. There may be a
better solution to this problem.
*/
body.lm-mod-override-cursor .jp-OutputArea-output.jp-mod-isolated {
  position: relative;
}

body.lm-mod-override-cursor .jp-OutputArea-output.jp-mod-isolated::before {
  content: '';
  position: absolute;
  top: 0;
  left: 0;
  right: 0;
  bottom: 0;
  background: transparent;
}

/* pre */

.jp-OutputArea-output pre {
  border: none;
  margin: 0;
  padding: 0;
  overflow-x: auto;
  overflow-y: auto;
  word-break: break-all;
  word-wrap: break-word;
  white-space: pre-wrap;
}

/* tables */

.jp-OutputArea-output.jp-RenderedHTMLCommon table {
  margin-left: 0;
  margin-right: 0;
}

/* description lists */

.jp-OutputArea-output dl,
.jp-OutputArea-output dt,
.jp-OutputArea-output dd {
  display: block;
}

.jp-OutputArea-output dl {
  width: 100%;
  overflow: hidden;
  padding: 0;
  margin: 0;
}

.jp-OutputArea-output dt {
  font-weight: bold;
  float: left;
  width: 20%;
  padding: 0;
  margin: 0;
}

.jp-OutputArea-output dd {
  float: left;
  width: 80%;
  padding: 0;
  margin: 0;
}

.jp-TrimmedOutputs pre {
  background: var(--jp-layout-color3);
  font-size: calc(var(--jp-code-font-size) * 1.4);
  text-align: center;
  text-transform: uppercase;
}

/* Hide the gutter in case of
 *  - nested output areas (e.g. in the case of output widgets)
 *  - mirrored output areas
 */
.jp-OutputArea .jp-OutputArea .jp-OutputArea-prompt {
  display: none;
}

/* Hide empty lines in the output area, for instance due to cleared widgets */
.jp-OutputArea-prompt:empty {
  padding: 0;
  border: 0;
}

/*-----------------------------------------------------------------------------
| executeResult is added to any Output-result for the display of the object
| returned by a cell
|----------------------------------------------------------------------------*/

.jp-OutputArea-output.jp-OutputArea-executeResult {
  margin-left: 0;
  width: 100%;
}

/* Text output with the Out[] prompt needs a top padding to match the
 * alignment of the Out[] prompt itself.
 */
.jp-OutputArea-executeResult .jp-RenderedText.jp-OutputArea-output {
  padding-top: var(--jp-code-padding);
  border-top: var(--jp-border-width) solid transparent;
}

/*-----------------------------------------------------------------------------
| The Stdin output
|----------------------------------------------------------------------------*/

.jp-Stdin-prompt {
  color: var(--jp-content-font-color0);
  padding-right: var(--jp-code-padding);
  vertical-align: baseline;
  flex: 0 0 auto;
}

.jp-Stdin-input {
  font-family: var(--jp-code-font-family);
  font-size: inherit;
  color: inherit;
  background-color: inherit;
  width: 42%;
  min-width: 200px;

  /* make sure input baseline aligns with prompt */
  vertical-align: baseline;

  /* padding + margin = 0.5em between prompt and cursor */
  padding: 0 0.25em;
  margin: 0 0.25em;
  flex: 0 0 70%;
}

.jp-Stdin-input::placeholder {
  opacity: 0;
}

.jp-Stdin-input:focus {
  box-shadow: none;
}

.jp-Stdin-input:focus::placeholder {
  opacity: 1;
}

/*-----------------------------------------------------------------------------
| Output Area View
|----------------------------------------------------------------------------*/

.jp-LinkedOutputView .jp-OutputArea {
  height: 100%;
  display: block;
}

.jp-LinkedOutputView .jp-OutputArea-output:only-child {
  height: 100%;
}

/*-----------------------------------------------------------------------------
| Printing
|----------------------------------------------------------------------------*/

@media print {
  .jp-OutputArea-child {
    break-inside: avoid-page;
  }
}

/*-----------------------------------------------------------------------------
| Mobile
|----------------------------------------------------------------------------*/
@media only screen and (max-width: 760px) {
  .jp-OutputPrompt {
    display: table-row;
    text-align: left;
  }

  .jp-OutputArea-child .jp-OutputArea-output {
    display: table-row;
    margin-left: var(--jp-notebook-padding);
  }
}

/* Trimmed outputs warning */
.jp-TrimmedOutputs > a {
  margin: 10px;
  text-decoration: none;
  cursor: pointer;
}

.jp-TrimmedOutputs > a:hover {
  text-decoration: none;
}

/*-----------------------------------------------------------------------------
| Copyright (c) Jupyter Development Team.
| Distributed under the terms of the Modified BSD License.
|----------------------------------------------------------------------------*/

/*-----------------------------------------------------------------------------
| Table of Contents
|----------------------------------------------------------------------------*/

:root {
  --jp-private-toc-active-width: 4px;
}

.jp-TableOfContents {
  display: flex;
  flex-direction: column;
  background: var(--jp-layout-color1);
  color: var(--jp-ui-font-color1);
  font-size: var(--jp-ui-font-size1);
  height: 100%;
}

.jp-TableOfContents-placeholder {
  text-align: center;
}

.jp-TableOfContents-placeholderContent {
  color: var(--jp-content-font-color2);
  padding: 8px;
}

.jp-TableOfContents-placeholderContent > h3 {
  margin-bottom: var(--jp-content-heading-margin-bottom);
}

.jp-TableOfContents .jp-SidePanel-content {
  overflow-y: auto;
}

.jp-TableOfContents-tree {
  margin: 4px;
}

.jp-TableOfContents ol {
  list-style-type: none;
}

/* stylelint-disable-next-line selector-max-type */
.jp-TableOfContents li > ol {
  /* Align left border with triangle icon center */
  padding-left: 11px;
}

.jp-TableOfContents-content {
  /* left margin for the active heading indicator */
  margin: 0 0 0 var(--jp-private-toc-active-width);
  padding: 0;
  background-color: var(--jp-layout-color1);
}

.jp-tocItem {
  -webkit-user-select: none;
  -moz-user-select: none;
  -ms-user-select: none;
  user-select: none;
}

.jp-tocItem-heading {
  display: flex;
  cursor: pointer;
}

.jp-tocItem-heading:hover {
  background-color: var(--jp-layout-color2);
}

.jp-tocItem-content {
  display: block;
  padding: 4px 0;
  white-space: nowrap;
  text-overflow: ellipsis;
  overflow-x: hidden;
}

.jp-tocItem-collapser {
  height: 20px;
  margin: 2px 2px 0;
  padding: 0;
  background: none;
  border: none;
  cursor: pointer;
}

.jp-tocItem-collapser:hover {
  background-color: var(--jp-layout-color3);
}

/* Active heading indicator */

.jp-tocItem-heading::before {
  content: ' ';
  background: transparent;
  width: var(--jp-private-toc-active-width);
  height: 24px;
  position: absolute;
  left: 0;
  border-radius: var(--jp-border-radius);
}

.jp-tocItem-heading.jp-tocItem-active::before {
  background-color: var(--jp-brand-color1);
}

.jp-tocItem-heading:hover.jp-tocItem-active::before {
  background: var(--jp-brand-color0);
  opacity: 1;
}

/*-----------------------------------------------------------------------------
| Copyright (c) Jupyter Development Team.
| Distributed under the terms of the Modified BSD License.
|----------------------------------------------------------------------------*/

.jp-Collapser {
  flex: 0 0 var(--jp-cell-collapser-width);
  padding: 0;
  margin: 0;
  border: none;
  outline: none;
  background: transparent;
  border-radius: var(--jp-border-radius);
  opacity: 1;
}

.jp-Collapser-child {
  display: block;
  width: 100%;
  box-sizing: border-box;

  /* height: 100% doesn't work because the height of its parent is computed from content */
  position: absolute;
  top: 0;
  bottom: 0;
}

/*-----------------------------------------------------------------------------
| Printing
|----------------------------------------------------------------------------*/

/*
Hiding collapsers in print mode.

Note: input and output wrappers have "display: block" propery in print mode.
*/

@media print {
  .jp-Collapser {
    display: none;
  }
}

/*-----------------------------------------------------------------------------
| Copyright (c) Jupyter Development Team.
| Distributed under the terms of the Modified BSD License.
|----------------------------------------------------------------------------*/

/*-----------------------------------------------------------------------------
| Header/Footer
|----------------------------------------------------------------------------*/

/* Hidden by zero height by default */
.jp-CellHeader,
.jp-CellFooter {
  height: 0;
  width: 100%;
  padding: 0;
  margin: 0;
  border: none;
  outline: none;
  background: transparent;
}

/*-----------------------------------------------------------------------------
| Copyright (c) Jupyter Development Team.
| Distributed under the terms of the Modified BSD License.
|----------------------------------------------------------------------------*/

/*-----------------------------------------------------------------------------
| Input
|----------------------------------------------------------------------------*/

/* All input areas */
.jp-InputArea {
  display: table;
  table-layout: fixed;
  width: 100%;
  overflow: hidden;
}

.jp-InputArea-editor {
  display: table-cell;
  overflow: hidden;
  vertical-align: top;

  /* This is the non-active, default styling */
  border: var(--jp-border-width) solid var(--jp-cell-editor-border-color);
  border-radius: 0;
  background: var(--jp-cell-editor-background);
}

.jp-InputPrompt {
  display: table-cell;
  vertical-align: top;
  width: var(--jp-cell-prompt-width);
  color: var(--jp-cell-inprompt-font-color);
  font-family: var(--jp-cell-prompt-font-family);
  padding: var(--jp-code-padding);
  letter-spacing: var(--jp-cell-prompt-letter-spacing);
  opacity: var(--jp-cell-prompt-opacity);
  line-height: var(--jp-code-line-height);
  font-size: var(--jp-code-font-size);
  border: var(--jp-border-width) solid transparent;

  /* Right align prompt text, don't wrap to handle large prompt numbers */
  text-align: right;
  white-space: nowrap;
  overflow: hidden;
  text-overflow: ellipsis;

  /* Disable text selection */
  -webkit-user-select: none;
  -moz-user-select: none;
  -ms-user-select: none;
  user-select: none;
}

/*-----------------------------------------------------------------------------
| Mobile
|----------------------------------------------------------------------------*/
@media only screen and (max-width: 760px) {
  .jp-InputArea-editor {
    display: table-row;
    margin-left: var(--jp-notebook-padding);
  }

  .jp-InputPrompt {
    display: table-row;
    text-align: left;
  }
}

/*-----------------------------------------------------------------------------
| Copyright (c) Jupyter Development Team.
| Distributed under the terms of the Modified BSD License.
|----------------------------------------------------------------------------*/

/*-----------------------------------------------------------------------------
| Placeholder
|----------------------------------------------------------------------------*/

.jp-Placeholder {
  display: table;
  table-layout: fixed;
  width: 100%;
}

.jp-Placeholder-prompt {
  display: table-cell;
  box-sizing: border-box;
}

.jp-Placeholder-content {
  display: table-cell;
  padding: 4px 6px;
  border: 1px solid transparent;
  border-radius: 0;
  background: none;
  box-sizing: border-box;
  cursor: pointer;
}

.jp-Placeholder-contentContainer {
  display: flex;
}

.jp-Placeholder-content:hover,
.jp-InputPlaceholder > .jp-Placeholder-content:hover {
  border-color: var(--jp-layout-color3);
}

.jp-Placeholder-content .jp-MoreHorizIcon {
  width: 32px;
  height: 16px;
  border: 1px solid transparent;
  border-radius: var(--jp-border-radius);
}

.jp-Placeholder-content .jp-MoreHorizIcon:hover {
  border: 1px solid var(--jp-border-color1);
  box-shadow: 0 0 2px 0 rgba(0, 0, 0, 0.25);
  background-color: var(--jp-layout-color0);
}

.jp-PlaceholderText {
  white-space: nowrap;
  overflow-x: hidden;
  color: var(--jp-inverse-layout-color3);
  font-family: var(--jp-code-font-family);
}

.jp-InputPlaceholder > .jp-Placeholder-content {
  border-color: var(--jp-cell-editor-border-color);
  background: var(--jp-cell-editor-background);
}

/*-----------------------------------------------------------------------------
| Copyright (c) Jupyter Development Team.
| Distributed under the terms of the Modified BSD License.
|----------------------------------------------------------------------------*/

/*-----------------------------------------------------------------------------
| Private CSS variables
|----------------------------------------------------------------------------*/

:root {
  --jp-private-cell-scrolling-output-offset: 5px;
}

/*-----------------------------------------------------------------------------
| Cell
|----------------------------------------------------------------------------*/

.jp-Cell {
  padding: var(--jp-cell-padding);
  margin: 0;
  border: none;
  outline: none;
  background: transparent;
}

/*-----------------------------------------------------------------------------
| Common input/output
|----------------------------------------------------------------------------*/

.jp-Cell-inputWrapper,
.jp-Cell-outputWrapper {
  display: flex;
  flex-direction: row;
  padding: 0;
  margin: 0;

  /* Added to reveal the box-shadow on the input and output collapsers. */
  overflow: visible;
}

/* Only input/output areas inside cells */
.jp-Cell-inputArea,
.jp-Cell-outputArea {
  flex: 1 1 auto;
}

/*-----------------------------------------------------------------------------
| Collapser
|----------------------------------------------------------------------------*/

/* Make the output collapser disappear when there is not output, but do so
 * in a manner that leaves it in the layout and preserves its width.
 */
.jp-Cell.jp-mod-noOutputs .jp-Cell-outputCollapser {
  border: none !important;
  background: transparent !important;
}

.jp-Cell:not(.jp-mod-noOutputs) .jp-Cell-outputCollapser {
  min-height: var(--jp-cell-collapser-min-height);
}

/*-----------------------------------------------------------------------------
| Output
|----------------------------------------------------------------------------*/

/* Put a space between input and output when there IS output */
.jp-Cell:not(.jp-mod-noOutputs) .jp-Cell-outputWrapper {
  margin-top: 5px;
}

.jp-CodeCell.jp-mod-outputsScrolled .jp-Cell-outputArea {
  overflow-y: auto;
  max-height: 24em;
  margin-left: var(--jp-private-cell-scrolling-output-offset);
  resize: vertical;
}

.jp-CodeCell.jp-mod-outputsScrolled .jp-Cell-outputArea[style*='height'] {
  max-height: unset;
}

.jp-CodeCell.jp-mod-outputsScrolled .jp-Cell-outputArea::after {
  content: ' ';
  box-shadow: inset 0 0 6px 2px rgb(0 0 0 / 30%);
  width: 100%;
  height: 100%;
  position: sticky;
  bottom: 0;
  top: 0;
  margin-top: -50%;
  float: left;
  display: block;
  pointer-events: none;
}

.jp-CodeCell.jp-mod-outputsScrolled .jp-OutputArea-child {
  padding-top: 6px;
}

.jp-CodeCell.jp-mod-outputsScrolled .jp-OutputArea-prompt {
  width: calc(
    var(--jp-cell-prompt-width) - var(--jp-private-cell-scrolling-output-offset)
  );
}

.jp-CodeCell.jp-mod-outputsScrolled .jp-OutputArea-promptOverlay {
  left: calc(-1 * var(--jp-private-cell-scrolling-output-offset));
}

/*-----------------------------------------------------------------------------
| CodeCell
|----------------------------------------------------------------------------*/

/*-----------------------------------------------------------------------------
| MarkdownCell
|----------------------------------------------------------------------------*/

.jp-MarkdownOutput {
  display: table-cell;
  width: 100%;
  margin-top: 0;
  margin-bottom: 0;
  padding-left: var(--jp-code-padding);
}

.jp-MarkdownOutput.jp-RenderedHTMLCommon {
  overflow: auto;
}

/* collapseHeadingButton (show always if hiddenCellsButton is _not_ shown) */
.jp-collapseHeadingButton {
  display: flex;
  min-height: var(--jp-cell-collapser-min-height);
  font-size: var(--jp-code-font-size);
  position: absolute;
  background-color: transparent;
  background-size: 25px;
  background-repeat: no-repeat;
  background-position-x: center;
  background-position-y: top;
  background-image: var(--jp-icon-caret-down);
  right: 0;
  top: 0;
  bottom: 0;
}

.jp-collapseHeadingButton.jp-mod-collapsed {
  background-image: var(--jp-icon-caret-right);
}

/*
 set the container font size to match that of content
 so that the nested collapse buttons have the right size
*/
.jp-MarkdownCell .jp-InputPrompt {
  font-size: var(--jp-content-font-size1);
}

/*
  Align collapseHeadingButton with cell top header
  The font sizes are identical to the ones in packages/rendermime/style/base.css
*/
.jp-mod-rendered .jp-collapseHeadingButton[data-heading-level='1'] {
  font-size: var(--jp-content-font-size5);
  background-position-y: calc(0.3 * var(--jp-content-font-size5));
}

.jp-mod-rendered .jp-collapseHeadingButton[data-heading-level='2'] {
  font-size: var(--jp-content-font-size4);
  background-position-y: calc(0.3 * var(--jp-content-font-size4));
}

.jp-mod-rendered .jp-collapseHeadingButton[data-heading-level='3'] {
  font-size: var(--jp-content-font-size3);
  background-position-y: calc(0.3 * var(--jp-content-font-size3));
}

.jp-mod-rendered .jp-collapseHeadingButton[data-heading-level='4'] {
  font-size: var(--jp-content-font-size2);
  background-position-y: calc(0.3 * var(--jp-content-font-size2));
}

.jp-mod-rendered .jp-collapseHeadingButton[data-heading-level='5'] {
  font-size: var(--jp-content-font-size1);
  background-position-y: top;
}

.jp-mod-rendered .jp-collapseHeadingButton[data-heading-level='6'] {
  font-size: var(--jp-content-font-size0);
  background-position-y: top;
}

/* collapseHeadingButton (show only on (hover,active) if hiddenCellsButton is shown) */
.jp-Notebook.jp-mod-showHiddenCellsButton .jp-collapseHeadingButton {
  display: none;
}

.jp-Notebook.jp-mod-showHiddenCellsButton
  :is(.jp-MarkdownCell:hover, .jp-mod-active)
  .jp-collapseHeadingButton {
  display: flex;
}

/* showHiddenCellsButton (only show if jp-mod-showHiddenCellsButton is set, which
is a consequence of the showHiddenCellsButton option in Notebook Settings)*/
.jp-Notebook.jp-mod-showHiddenCellsButton .jp-showHiddenCellsButton {
  margin-left: calc(var(--jp-cell-prompt-width) + 2 * var(--jp-code-padding));
  margin-top: var(--jp-code-padding);
  border: 1px solid var(--jp-border-color2);
  background-color: var(--jp-border-color3) !important;
  color: var(--jp-content-font-color0) !important;
  display: flex;
}

.jp-Notebook.jp-mod-showHiddenCellsButton .jp-showHiddenCellsButton:hover {
  background-color: var(--jp-border-color2) !important;
}

.jp-showHiddenCellsButton {
  display: none;
}

/*-----------------------------------------------------------------------------
| Printing
|----------------------------------------------------------------------------*/

/*
Using block instead of flex to allow the use of the break-inside CSS property for
cell outputs.
*/

@media print {
  .jp-Cell-inputWrapper,
  .jp-Cell-outputWrapper {
    display: block;
  }
}

/*-----------------------------------------------------------------------------
| Copyright (c) Jupyter Development Team.
| Distributed under the terms of the Modified BSD License.
|----------------------------------------------------------------------------*/

/*-----------------------------------------------------------------------------
| Copyright (c) Jupyter Development Team.
| Distributed under the terms of the Modified BSD License.
|----------------------------------------------------------------------------*/

/*-----------------------------------------------------------------------------
| Variables
|----------------------------------------------------------------------------*/

:root {
  --jp-notebook-toolbar-padding: 2px 5px 2px 2px;
}

/*-----------------------------------------------------------------------------

/*-----------------------------------------------------------------------------
| Styles
|----------------------------------------------------------------------------*/

.jp-NotebookPanel-toolbar {
  padding: var(--jp-notebook-toolbar-padding);

  /* disable paint containment from lumino 2.0 default strict CSS containment */
  contain: style size !important;
}

.jp-Toolbar-item.jp-Notebook-toolbarCellType .jp-select-wrapper.jp-mod-focused {
  border: none;
  box-shadow: none;
}

.jp-Notebook-toolbarCellTypeDropdown select {
  height: 24px;
  font-size: var(--jp-ui-font-size1);
  line-height: 14px;
  border-radius: 0;
  display: block;
}

.jp-Notebook-toolbarCellTypeDropdown span {
  top: 5px !important;
}

.jp-Toolbar-responsive-popup {
  position: absolute;
  height: fit-content;
  display: flex;
  flex-direction: row;
  flex-wrap: wrap;
  justify-content: flex-end;
  border-bottom: var(--jp-border-width) solid var(--jp-toolbar-border-color);
  box-shadow: var(--jp-toolbar-box-shadow);
  background: var(--jp-toolbar-background);
  min-height: var(--jp-toolbar-micro-height);
  padding: var(--jp-notebook-toolbar-padding);
  z-index: 1;
  right: 0;
  top: 0;
}

.jp-Toolbar > .jp-Toolbar-responsive-opener {
  margin-left: auto;
}

/*-----------------------------------------------------------------------------
| Copyright (c) Jupyter Development Team.
| Distributed under the terms of the Modified BSD License.
|----------------------------------------------------------------------------*/

/*-----------------------------------------------------------------------------
| Variables
|----------------------------------------------------------------------------*/

/*-----------------------------------------------------------------------------

/*-----------------------------------------------------------------------------
| Styles
|----------------------------------------------------------------------------*/

.jp-Notebook-ExecutionIndicator {
  position: relative;
  display: inline-block;
  height: 100%;
  z-index: 9997;
}

.jp-Notebook-ExecutionIndicator-tooltip {
  visibility: hidden;
  height: auto;
  width: max-content;
  width: -moz-max-content;
  background-color: var(--jp-layout-color2);
  color: var(--jp-ui-font-color1);
  text-align: justify;
  border-radius: 6px;
  padding: 0 5px;
  position: fixed;
  display: table;
}

.jp-Notebook-ExecutionIndicator-tooltip.up {
  transform: translateX(-50%) translateY(-100%) translateY(-32px);
}

.jp-Notebook-ExecutionIndicator-tooltip.down {
  transform: translateX(calc(-100% + 16px)) translateY(5px);
}

.jp-Notebook-ExecutionIndicator-tooltip.hidden {
  display: none;
}

.jp-Notebook-ExecutionIndicator:hover .jp-Notebook-ExecutionIndicator-tooltip {
  visibility: visible;
}

.jp-Notebook-ExecutionIndicator span {
  font-size: var(--jp-ui-font-size1);
  font-family: var(--jp-ui-font-family);
  color: var(--jp-ui-font-color1);
  line-height: 24px;
  display: block;
}

.jp-Notebook-ExecutionIndicator-progress-bar {
  display: flex;
  justify-content: center;
  height: 100%;
}

/*
 * Copyright (c) Jupyter Development Team.
 * Distributed under the terms of the Modified BSD License.
 */

/*
 * Execution indicator
 */
.jp-tocItem-content::after {
  content: '';

  /* Must be identical to form a circle */
  width: 12px;
  height: 12px;
  background: none;
  border: none;
  position: absolute;
  right: 0;
}

.jp-tocItem-content[data-running='0']::after {
  border-radius: 50%;
  border: var(--jp-border-width) solid var(--jp-inverse-layout-color3);
  background: none;
}

.jp-tocItem-content[data-running='1']::after {
  border-radius: 50%;
  border: var(--jp-border-width) solid var(--jp-inverse-layout-color3);
  background-color: var(--jp-inverse-layout-color3);
}

.jp-tocItem-content[data-running='0'],
.jp-tocItem-content[data-running='1'] {
  margin-right: 12px;
}

/*
 * Copyright (c) Jupyter Development Team.
 * Distributed under the terms of the Modified BSD License.
 */

.jp-Notebook-footer {
  height: 27px;
  margin-left: calc(
    var(--jp-cell-prompt-width) + var(--jp-cell-collapser-width) +
      var(--jp-cell-padding)
  );
  width: calc(
    100% -
      (
        var(--jp-cell-prompt-width) + var(--jp-cell-collapser-width) +
          var(--jp-cell-padding) + var(--jp-cell-padding)
      )
  );
  border: var(--jp-border-width) solid var(--jp-cell-editor-border-color);
  color: var(--jp-ui-font-color3);
  margin-top: 6px;
  background: none;
  cursor: pointer;
}

.jp-Notebook-footer:focus {
  border-color: var(--jp-cell-editor-active-border-color);
}

/* For devices that support hovering, hide footer until hover */
@media (hover: hover) {
  .jp-Notebook-footer {
    opacity: 0;
  }

  .jp-Notebook-footer:focus,
  .jp-Notebook-footer:hover {
    opacity: 1;
  }
}

/*-----------------------------------------------------------------------------
| Copyright (c) Jupyter Development Team.
| Distributed under the terms of the Modified BSD License.
|----------------------------------------------------------------------------*/

/*-----------------------------------------------------------------------------
| Imports
|----------------------------------------------------------------------------*/

/*-----------------------------------------------------------------------------
| CSS variables
|----------------------------------------------------------------------------*/

:root {
  --jp-side-by-side-output-size: 1fr;
  --jp-side-by-side-resized-cell: var(--jp-side-by-side-output-size);
  --jp-private-notebook-dragImage-width: 304px;
  --jp-private-notebook-dragImage-height: 36px;
  --jp-private-notebook-selected-color: var(--md-blue-400);
  --jp-private-notebook-active-color: var(--md-green-400);
}

/*-----------------------------------------------------------------------------
| Notebook
|----------------------------------------------------------------------------*/

/* stylelint-disable selector-max-class */

.jp-NotebookPanel {
  display: block;
  height: 100%;
}

.jp-NotebookPanel.jp-Document {
  min-width: 240px;
  min-height: 120px;
}

.jp-Notebook {
  padding: var(--jp-notebook-padding);
  outline: none;
  overflow: auto;
  background: var(--jp-layout-color0);
}

.jp-Notebook.jp-mod-scrollPastEnd::after {
  display: block;
  content: '';
  min-height: var(--jp-notebook-scroll-padding);
}

.jp-MainAreaWidget-ContainStrict .jp-Notebook * {
  contain: strict;
}

.jp-Notebook .jp-Cell {
  overflow: visible;
}

.jp-Notebook .jp-Cell .jp-InputPrompt {
  cursor: move;
}

/*-----------------------------------------------------------------------------
| Notebook state related styling
|
| The notebook and cells each have states, here are the possibilities:
|
| - Notebook
|   - Command
|   - Edit
| - Cell
|   - None
|   - Active (only one can be active)
|   - Selected (the cells actions are applied to)
|   - Multiselected (when multiple selected, the cursor)
|   - No outputs
|----------------------------------------------------------------------------*/

/* Command or edit modes */

.jp-Notebook .jp-Cell:not(.jp-mod-active) .jp-InputPrompt {
  opacity: var(--jp-cell-prompt-not-active-opacity);
  color: var(--jp-cell-prompt-not-active-font-color);
}

.jp-Notebook .jp-Cell:not(.jp-mod-active) .jp-OutputPrompt {
  opacity: var(--jp-cell-prompt-not-active-opacity);
  color: var(--jp-cell-prompt-not-active-font-color);
}

/* cell is active */
.jp-Notebook .jp-Cell.jp-mod-active .jp-Collapser {
  background: var(--jp-brand-color1);
}

/* cell is dirty */
.jp-Notebook .jp-Cell.jp-mod-dirty .jp-InputPrompt {
  color: var(--jp-warn-color1);
}

.jp-Notebook .jp-Cell.jp-mod-dirty .jp-InputPrompt::before {
  color: var(--jp-warn-color1);
  content: '•';
}

.jp-Notebook .jp-Cell.jp-mod-active.jp-mod-dirty .jp-Collapser {
  background: var(--jp-warn-color1);
}

/* collapser is hovered */
.jp-Notebook .jp-Cell .jp-Collapser:hover {
  box-shadow: var(--jp-elevation-z2);
  background: var(--jp-brand-color1);
  opacity: var(--jp-cell-collapser-not-active-hover-opacity);
}

/* cell is active and collapser is hovered */
.jp-Notebook .jp-Cell.jp-mod-active .jp-Collapser:hover {
  background: var(--jp-brand-color0);
  opacity: 1;
}

/* Command mode */

.jp-Notebook.jp-mod-commandMode .jp-Cell.jp-mod-selected {
  background: var(--jp-notebook-multiselected-color);
}

.jp-Notebook.jp-mod-commandMode
  .jp-Cell.jp-mod-active.jp-mod-selected:not(.jp-mod-multiSelected) {
  background: transparent;
}

/* Edit mode */

.jp-Notebook.jp-mod-editMode .jp-Cell.jp-mod-active .jp-InputArea-editor {
  border: var(--jp-border-width) solid var(--jp-cell-editor-active-border-color);
  box-shadow: var(--jp-input-box-shadow);
  background-color: var(--jp-cell-editor-active-background);
}

/*-----------------------------------------------------------------------------
| Notebook drag and drop
|----------------------------------------------------------------------------*/

.jp-Notebook-cell.jp-mod-dropSource {
  opacity: 0.5;
}

.jp-Notebook-cell.jp-mod-dropTarget,
.jp-Notebook.jp-mod-commandMode
  .jp-Notebook-cell.jp-mod-active.jp-mod-selected.jp-mod-dropTarget {
  border-top-color: var(--jp-private-notebook-selected-color);
  border-top-style: solid;
  border-top-width: 2px;
}

.jp-dragImage {
  display: block;
  flex-direction: row;
  width: var(--jp-private-notebook-dragImage-width);
  height: var(--jp-private-notebook-dragImage-height);
  border: var(--jp-border-width) solid var(--jp-cell-editor-border-color);
  background: var(--jp-cell-editor-background);
  overflow: visible;
}

.jp-dragImage-singlePrompt {
  box-shadow: 2px 2px 4px 0 rgba(0, 0, 0, 0.12);
}

.jp-dragImage .jp-dragImage-content {
  flex: 1 1 auto;
  z-index: 2;
  font-size: var(--jp-code-font-size);
  font-family: var(--jp-code-font-family);
  line-height: var(--jp-code-line-height);
  padding: var(--jp-code-padding);
  border: var(--jp-border-width) solid var(--jp-cell-editor-border-color);
  background: var(--jp-cell-editor-background-color);
  color: var(--jp-content-font-color3);
  text-align: left;
  margin: 4px 4px 4px 0;
}

.jp-dragImage .jp-dragImage-prompt {
  flex: 0 0 auto;
  min-width: 36px;
  color: var(--jp-cell-inprompt-font-color);
  padding: var(--jp-code-padding);
  padding-left: 12px;
  font-family: var(--jp-cell-prompt-font-family);
  letter-spacing: var(--jp-cell-prompt-letter-spacing);
  line-height: 1.9;
  font-size: var(--jp-code-font-size);
  border: var(--jp-border-width) solid transparent;
}

.jp-dragImage-multipleBack {
  z-index: -1;
  position: absolute;
  height: 32px;
  width: 300px;
  top: 8px;
  left: 8px;
  background: var(--jp-layout-color2);
  border: var(--jp-border-width) solid var(--jp-input-border-color);
  box-shadow: 2px 2px 4px 0 rgba(0, 0, 0, 0.12);
}

/*-----------------------------------------------------------------------------
| Cell toolbar
|----------------------------------------------------------------------------*/

.jp-NotebookTools {
  display: block;
  min-width: var(--jp-sidebar-min-width);
  color: var(--jp-ui-font-color1);
  background: var(--jp-layout-color1);

  /* This is needed so that all font sizing of children done in ems is
    * relative to this base size */
  font-size: var(--jp-ui-font-size1);
  overflow: auto;
}

.jp-ActiveCellTool {
  padding: 12px 0;
  display: flex;
}

.jp-ActiveCellTool-Content {
  flex: 1 1 auto;
}

.jp-ActiveCellTool .jp-ActiveCellTool-CellContent {
  background: var(--jp-cell-editor-background);
  border: var(--jp-border-width) solid var(--jp-cell-editor-border-color);
  border-radius: 0;
  min-height: 29px;
}

.jp-ActiveCellTool .jp-InputPrompt {
  min-width: calc(var(--jp-cell-prompt-width) * 0.75);
}

.jp-ActiveCellTool-CellContent > pre {
  padding: 5px 4px;
  margin: 0;
  white-space: normal;
}

.jp-MetadataEditorTool {
  flex-direction: column;
  padding: 12px 0;
}

.jp-RankedPanel > :not(:first-child) {
  margin-top: 12px;
}

.jp-KeySelector select.jp-mod-styled {
  font-size: var(--jp-ui-font-size1);
  color: var(--jp-ui-font-color0);
  border: var(--jp-border-width) solid var(--jp-border-color1);
}

.jp-KeySelector label,
.jp-MetadataEditorTool label,
.jp-NumberSetter label {
  line-height: 1.4;
}

.jp-NotebookTools .jp-select-wrapper {
  margin-top: 4px;
  margin-bottom: 0;
}

.jp-NumberSetter input {
  width: 100%;
  margin-top: 4px;
}

.jp-NotebookTools .jp-Collapse {
  margin-top: 16px;
}

/*-----------------------------------------------------------------------------
| Presentation Mode (.jp-mod-presentationMode)
|----------------------------------------------------------------------------*/

.jp-mod-presentationMode .jp-Notebook {
  --jp-content-font-size1: var(--jp-content-presentation-font-size1);
  --jp-code-font-size: var(--jp-code-presentation-font-size);
}

.jp-mod-presentationMode .jp-Notebook .jp-Cell .jp-InputPrompt,
.jp-mod-presentationMode .jp-Notebook .jp-Cell .jp-OutputPrompt {
  flex: 0 0 110px;
}

/*-----------------------------------------------------------------------------
| Side-by-side Mode (.jp-mod-sideBySide)
|----------------------------------------------------------------------------*/
.jp-mod-sideBySide.jp-Notebook .jp-Notebook-cell {
  margin-top: 3em;
  margin-bottom: 3em;
  margin-left: 5%;
  margin-right: 5%;
}

.jp-mod-sideBySide.jp-Notebook .jp-CodeCell {
  display: grid;
  grid-template-columns: minmax(0, 1fr) min-content minmax(
      0,
      var(--jp-side-by-side-output-size)
    );
  grid-template-rows: auto minmax(0, 1fr) auto;
  grid-template-areas:
    'header header header'
    'input handle output'
    'footer footer footer';
}

.jp-mod-sideBySide.jp-Notebook .jp-CodeCell.jp-mod-resizedCell {
  grid-template-columns: minmax(0, 1fr) min-content minmax(
      0,
      var(--jp-side-by-side-resized-cell)
    );
}

.jp-mod-sideBySide.jp-Notebook .jp-CodeCell .jp-CellHeader {
  grid-area: header;
}

.jp-mod-sideBySide.jp-Notebook .jp-CodeCell .jp-Cell-inputWrapper {
  grid-area: input;
}

.jp-mod-sideBySide.jp-Notebook .jp-CodeCell .jp-Cell-outputWrapper {
  /* overwrite the default margin (no vertical separation needed in side by side move */
  margin-top: 0;
  grid-area: output;
}

.jp-mod-sideBySide.jp-Notebook .jp-CodeCell .jp-CellFooter {
  grid-area: footer;
}

.jp-mod-sideBySide.jp-Notebook .jp-CodeCell .jp-CellResizeHandle {
  grid-area: handle;
  user-select: none;
  display: block;
  height: 100%;
  cursor: ew-resize;
  padding: 0 var(--jp-cell-padding);
}

.jp-mod-sideBySide.jp-Notebook .jp-CodeCell .jp-CellResizeHandle::after {
  content: '';
  display: block;
  background: var(--jp-border-color2);
  height: 100%;
  width: 5px;
}

.jp-mod-sideBySide.jp-Notebook
  .jp-CodeCell.jp-mod-resizedCell
  .jp-CellResizeHandle::after {
  background: var(--jp-border-color0);
}

.jp-CellResizeHandle {
  display: none;
}

/*-----------------------------------------------------------------------------
| Placeholder
|----------------------------------------------------------------------------*/

.jp-Cell-Placeholder {
  padding-left: 55px;
}

.jp-Cell-Placeholder-wrapper {
  background: #fff;
  border: 1px solid;
  border-color: #e5e6e9 #dfe0e4 #d0d1d5;
  border-radius: 4px;
  -webkit-border-radius: 4px;
  margin: 10px 15px;
}

.jp-Cell-Placeholder-wrapper-inner {
  padding: 15px;
  position: relative;
}

.jp-Cell-Placeholder-wrapper-body {
  background-repeat: repeat;
  background-size: 50% auto;
}

.jp-Cell-Placeholder-wrapper-body div {
  background: #f6f7f8;
  background-image: -webkit-linear-gradient(
    left,
    #f6f7f8 0%,
    #edeef1 20%,
    #f6f7f8 40%,
    #f6f7f8 100%
  );
  background-repeat: no-repeat;
  background-size: 800px 104px;
  height: 104px;
  position: absolute;
  right: 15px;
  left: 15px;
  top: 15px;
}

div.jp-Cell-Placeholder-h1 {
  top: 20px;
  height: 20px;
  left: 15px;
  width: 150px;
}

div.jp-Cell-Placeholder-h2 {
  left: 15px;
  top: 50px;
  height: 10px;
  width: 100px;
}

div.jp-Cell-Placeholder-content-1,
div.jp-Cell-Placeholder-content-2,
div.jp-Cell-Placeholder-content-3 {
  left: 15px;
  right: 15px;
  height: 10px;
}

div.jp-Cell-Placeholder-content-1 {
  top: 100px;
}

div.jp-Cell-Placeholder-content-2 {
  top: 120px;
}

div.jp-Cell-Placeholder-content-3 {
  top: 140px;
}

</style>
<style type="text/css">
/*-----------------------------------------------------------------------------
| Copyright (c) Jupyter Development Team.
| Distributed under the terms of the Modified BSD License.
|----------------------------------------------------------------------------*/

/*
The following CSS variables define the main, public API for styling JupyterLab.
These variables should be used by all plugins wherever possible. In other
words, plugins should not define custom colors, sizes, etc unless absolutely
necessary. This enables users to change the visual theme of JupyterLab
by changing these variables.

Many variables appear in an ordered sequence (0,1,2,3). These sequences
are designed to work well together, so for example, `--jp-border-color1` should
be used with `--jp-layout-color1`. The numbers have the following meanings:

* 0: super-primary, reserved for special emphasis
* 1: primary, most important under normal situations
* 2: secondary, next most important under normal situations
* 3: tertiary, next most important under normal situations

Throughout JupyterLab, we are mostly following principles from Google's
Material Design when selecting colors. We are not, however, following
all of MD as it is not optimized for dense, information rich UIs.
*/

:root {
  /* Elevation
   *
   * We style box-shadows using Material Design's idea of elevation. These particular numbers are taken from here:
   *
   * https://github.com/material-components/material-components-web
   * https://material-components-web.appspot.com/elevation.html
   */

  --jp-shadow-base-lightness: 0;
  --jp-shadow-umbra-color: rgba(
    var(--jp-shadow-base-lightness),
    var(--jp-shadow-base-lightness),
    var(--jp-shadow-base-lightness),
    0.2
  );
  --jp-shadow-penumbra-color: rgba(
    var(--jp-shadow-base-lightness),
    var(--jp-shadow-base-lightness),
    var(--jp-shadow-base-lightness),
    0.14
  );
  --jp-shadow-ambient-color: rgba(
    var(--jp-shadow-base-lightness),
    var(--jp-shadow-base-lightness),
    var(--jp-shadow-base-lightness),
    0.12
  );
  --jp-elevation-z0: none;
  --jp-elevation-z1: 0 2px 1px -1px var(--jp-shadow-umbra-color),
    0 1px 1px 0 var(--jp-shadow-penumbra-color),
    0 1px 3px 0 var(--jp-shadow-ambient-color);
  --jp-elevation-z2: 0 3px 1px -2px var(--jp-shadow-umbra-color),
    0 2px 2px 0 var(--jp-shadow-penumbra-color),
    0 1px 5px 0 var(--jp-shadow-ambient-color);
  --jp-elevation-z4: 0 2px 4px -1px var(--jp-shadow-umbra-color),
    0 4px 5px 0 var(--jp-shadow-penumbra-color),
    0 1px 10px 0 var(--jp-shadow-ambient-color);
  --jp-elevation-z6: 0 3px 5px -1px var(--jp-shadow-umbra-color),
    0 6px 10px 0 var(--jp-shadow-penumbra-color),
    0 1px 18px 0 var(--jp-shadow-ambient-color);
  --jp-elevation-z8: 0 5px 5px -3px var(--jp-shadow-umbra-color),
    0 8px 10px 1px var(--jp-shadow-penumbra-color),
    0 3px 14px 2px var(--jp-shadow-ambient-color);
  --jp-elevation-z12: 0 7px 8px -4px var(--jp-shadow-umbra-color),
    0 12px 17px 2px var(--jp-shadow-penumbra-color),
    0 5px 22px 4px var(--jp-shadow-ambient-color);
  --jp-elevation-z16: 0 8px 10px -5px var(--jp-shadow-umbra-color),
    0 16px 24px 2px var(--jp-shadow-penumbra-color),
    0 6px 30px 5px var(--jp-shadow-ambient-color);
  --jp-elevation-z20: 0 10px 13px -6px var(--jp-shadow-umbra-color),
    0 20px 31px 3px var(--jp-shadow-penumbra-color),
    0 8px 38px 7px var(--jp-shadow-ambient-color);
  --jp-elevation-z24: 0 11px 15px -7px var(--jp-shadow-umbra-color),
    0 24px 38px 3px var(--jp-shadow-penumbra-color),
    0 9px 46px 8px var(--jp-shadow-ambient-color);

  /* Borders
   *
   * The following variables, specify the visual styling of borders in JupyterLab.
   */

  --jp-border-width: 1px;
  --jp-border-color0: var(--md-grey-400);
  --jp-border-color1: var(--md-grey-400);
  --jp-border-color2: var(--md-grey-300);
  --jp-border-color3: var(--md-grey-200);
  --jp-inverse-border-color: var(--md-grey-600);
  --jp-border-radius: 2px;

  /* UI Fonts
   *
   * The UI font CSS variables are used for the typography all of the JupyterLab
   * user interface elements that are not directly user generated content.
   *
   * The font sizing here is done assuming that the body font size of --jp-ui-font-size1
   * is applied to a parent element. When children elements, such as headings, are sized
   * in em all things will be computed relative to that body size.
   */

  --jp-ui-font-scale-factor: 1.2;
  --jp-ui-font-size0: 0.83333em;
  --jp-ui-font-size1: 13px; /* Base font size */
  --jp-ui-font-size2: 1.2em;
  --jp-ui-font-size3: 1.44em;
  --jp-ui-font-family: system-ui, -apple-system, blinkmacsystemfont, 'Segoe UI',
    helvetica, arial, sans-serif, 'Apple Color Emoji', 'Segoe UI Emoji',
    'Segoe UI Symbol';

  /*
   * Use these font colors against the corresponding main layout colors.
   * In a light theme, these go from dark to light.
   */

  /* Defaults use Material Design specification */
  --jp-ui-font-color0: rgba(0, 0, 0, 1);
  --jp-ui-font-color1: rgba(0, 0, 0, 0.87);
  --jp-ui-font-color2: rgba(0, 0, 0, 0.54);
  --jp-ui-font-color3: rgba(0, 0, 0, 0.38);

  /*
   * Use these against the brand/accent/warn/error colors.
   * These will typically go from light to darker, in both a dark and light theme.
   */

  --jp-ui-inverse-font-color0: rgba(255, 255, 255, 1);
  --jp-ui-inverse-font-color1: rgba(255, 255, 255, 1);
  --jp-ui-inverse-font-color2: rgba(255, 255, 255, 0.7);
  --jp-ui-inverse-font-color3: rgba(255, 255, 255, 0.5);

  /* Content Fonts
   *
   * Content font variables are used for typography of user generated content.
   *
   * The font sizing here is done assuming that the body font size of --jp-content-font-size1
   * is applied to a parent element. When children elements, such as headings, are sized
   * in em all things will be computed relative to that body size.
   */

  --jp-content-line-height: 1.6;
  --jp-content-font-scale-factor: 1.2;
  --jp-content-font-size0: 0.83333em;
  --jp-content-font-size1: 14px; /* Base font size */
  --jp-content-font-size2: 1.2em;
  --jp-content-font-size3: 1.44em;
  --jp-content-font-size4: 1.728em;
  --jp-content-font-size5: 2.0736em;

  /* This gives a magnification of about 125% in presentation mode over normal. */
  --jp-content-presentation-font-size1: 17px;
  --jp-content-heading-line-height: 1;
  --jp-content-heading-margin-top: 1.2em;
  --jp-content-heading-margin-bottom: 0.8em;
  --jp-content-heading-font-weight: 500;

  /* Defaults use Material Design specification */
  --jp-content-font-color0: rgba(0, 0, 0, 1);
  --jp-content-font-color1: rgba(0, 0, 0, 0.87);
  --jp-content-font-color2: rgba(0, 0, 0, 0.54);
  --jp-content-font-color3: rgba(0, 0, 0, 0.38);
  --jp-content-link-color: var(--md-blue-900);
  --jp-content-font-family: system-ui, -apple-system, blinkmacsystemfont,
    'Segoe UI', helvetica, arial, sans-serif, 'Apple Color Emoji',
    'Segoe UI Emoji', 'Segoe UI Symbol';

  /*
   * Code Fonts
   *
   * Code font variables are used for typography of code and other monospaces content.
   */

  --jp-code-font-size: 13px;
  --jp-code-line-height: 1.3077; /* 17px for 13px base */
  --jp-code-padding: 5px; /* 5px for 13px base, codemirror highlighting needs integer px value */
  --jp-code-font-family-default: menlo, consolas, 'DejaVu Sans Mono', monospace;
  --jp-code-font-family: var(--jp-code-font-family-default);

  /* This gives a magnification of about 125% in presentation mode over normal. */
  --jp-code-presentation-font-size: 16px;

  /* may need to tweak cursor width if you change font size */
  --jp-code-cursor-width0: 1.4px;
  --jp-code-cursor-width1: 2px;
  --jp-code-cursor-width2: 4px;

  /* Layout
   *
   * The following are the main layout colors use in JupyterLab. In a light
   * theme these would go from light to dark.
   */

  --jp-layout-color0: white;
  --jp-layout-color1: white;
  --jp-layout-color2: var(--md-grey-200);
  --jp-layout-color3: var(--md-grey-400);
  --jp-layout-color4: var(--md-grey-600);

  /* Inverse Layout
   *
   * The following are the inverse layout colors use in JupyterLab. In a light
   * theme these would go from dark to light.
   */

  --jp-inverse-layout-color0: #111;
  --jp-inverse-layout-color1: var(--md-grey-900);
  --jp-inverse-layout-color2: var(--md-grey-800);
  --jp-inverse-layout-color3: var(--md-grey-700);
  --jp-inverse-layout-color4: var(--md-grey-600);

  /* Brand/accent */

  --jp-brand-color0: var(--md-blue-900);
  --jp-brand-color1: var(--md-blue-700);
  --jp-brand-color2: var(--md-blue-300);
  --jp-brand-color3: var(--md-blue-100);
  --jp-brand-color4: var(--md-blue-50);
  --jp-accent-color0: var(--md-green-900);
  --jp-accent-color1: var(--md-green-700);
  --jp-accent-color2: var(--md-green-300);
  --jp-accent-color3: var(--md-green-100);

  /* State colors (warn, error, success, info) */

  --jp-warn-color0: var(--md-orange-900);
  --jp-warn-color1: var(--md-orange-700);
  --jp-warn-color2: var(--md-orange-300);
  --jp-warn-color3: var(--md-orange-100);
  --jp-error-color0: var(--md-red-900);
  --jp-error-color1: var(--md-red-700);
  --jp-error-color2: var(--md-red-300);
  --jp-error-color3: var(--md-red-100);
  --jp-success-color0: var(--md-green-900);
  --jp-success-color1: var(--md-green-700);
  --jp-success-color2: var(--md-green-300);
  --jp-success-color3: var(--md-green-100);
  --jp-info-color0: var(--md-cyan-900);
  --jp-info-color1: var(--md-cyan-700);
  --jp-info-color2: var(--md-cyan-300);
  --jp-info-color3: var(--md-cyan-100);

  /* Cell specific styles */

  --jp-cell-padding: 5px;
  --jp-cell-collapser-width: 8px;
  --jp-cell-collapser-min-height: 20px;
  --jp-cell-collapser-not-active-hover-opacity: 0.6;
  --jp-cell-editor-background: var(--md-grey-100);
  --jp-cell-editor-border-color: var(--md-grey-300);
  --jp-cell-editor-box-shadow: inset 0 0 2px var(--md-blue-300);
  --jp-cell-editor-active-background: var(--jp-layout-color0);
  --jp-cell-editor-active-border-color: var(--jp-brand-color1);
  --jp-cell-prompt-width: 64px;
  --jp-cell-prompt-font-family: var(--jp-code-font-family-default);
  --jp-cell-prompt-letter-spacing: 0;
  --jp-cell-prompt-opacity: 1;
  --jp-cell-prompt-not-active-opacity: 0.5;
  --jp-cell-prompt-not-active-font-color: var(--md-grey-700);

  /* A custom blend of MD grey and blue 600
   * See https://meyerweb.com/eric/tools/color-blend/#546E7A:1E88E5:5:hex */
  --jp-cell-inprompt-font-color: #307fc1;

  /* A custom blend of MD grey and orange 600
   * https://meyerweb.com/eric/tools/color-blend/#546E7A:F4511E:5:hex */
  --jp-cell-outprompt-font-color: #bf5b3d;

  /* Notebook specific styles */

  --jp-notebook-padding: 10px;
  --jp-notebook-select-background: var(--jp-layout-color1);
  --jp-notebook-multiselected-color: var(--md-blue-50);

  /* The scroll padding is calculated to fill enough space at the bottom of the
  notebook to show one single-line cell (with appropriate padding) at the top
  when the notebook is scrolled all the way to the bottom. We also subtract one
  pixel so that no scrollbar appears if we have just one single-line cell in the
  notebook. This padding is to enable a 'scroll past end' feature in a notebook.
  */
  --jp-notebook-scroll-padding: calc(
    100% - var(--jp-code-font-size) * var(--jp-code-line-height) -
      var(--jp-code-padding) - var(--jp-cell-padding) - 1px
  );

  /* Rendermime styles */

  --jp-rendermime-error-background: #fdd;
  --jp-rendermime-table-row-background: var(--md-grey-100);
  --jp-rendermime-table-row-hover-background: var(--md-light-blue-50);

  /* Dialog specific styles */

  --jp-dialog-background: rgba(0, 0, 0, 0.25);

  /* Console specific styles */

  --jp-console-padding: 10px;

  /* Toolbar specific styles */

  --jp-toolbar-border-color: var(--jp-border-color1);
  --jp-toolbar-micro-height: 8px;
  --jp-toolbar-background: var(--jp-layout-color1);
  --jp-toolbar-box-shadow: 0 0 2px 0 rgba(0, 0, 0, 0.24);
  --jp-toolbar-header-margin: 4px 4px 0 4px;
  --jp-toolbar-active-background: var(--md-grey-300);

  /* Statusbar specific styles */

  --jp-statusbar-height: 24px;

  /* Input field styles */

  --jp-input-box-shadow: inset 0 0 2px var(--md-blue-300);
  --jp-input-active-background: var(--jp-layout-color1);
  --jp-input-hover-background: var(--jp-layout-color1);
  --jp-input-background: var(--md-grey-100);
  --jp-input-border-color: var(--jp-inverse-border-color);
  --jp-input-active-border-color: var(--jp-brand-color1);
  --jp-input-active-box-shadow-color: rgba(19, 124, 189, 0.3);

  /* General editor styles */

  --jp-editor-selected-background: #d9d9d9;
  --jp-editor-selected-focused-background: #d7d4f0;
  --jp-editor-cursor-color: var(--jp-ui-font-color0);

  /* Code mirror specific styles */

  --jp-mirror-editor-keyword-color: #008000;
  --jp-mirror-editor-atom-color: #88f;
  --jp-mirror-editor-number-color: #080;
  --jp-mirror-editor-def-color: #00f;
  --jp-mirror-editor-variable-color: var(--md-grey-900);
  --jp-mirror-editor-variable-2-color: rgb(0, 54, 109);
  --jp-mirror-editor-variable-3-color: #085;
  --jp-mirror-editor-punctuation-color: #05a;
  --jp-mirror-editor-property-color: #05a;
  --jp-mirror-editor-operator-color: #a2f;
  --jp-mirror-editor-comment-color: #408080;
  --jp-mirror-editor-string-color: #ba2121;
  --jp-mirror-editor-string-2-color: #708;
  --jp-mirror-editor-meta-color: #a2f;
  --jp-mirror-editor-qualifier-color: #555;
  --jp-mirror-editor-builtin-color: #008000;
  --jp-mirror-editor-bracket-color: #997;
  --jp-mirror-editor-tag-color: #170;
  --jp-mirror-editor-attribute-color: #00c;
  --jp-mirror-editor-header-color: blue;
  --jp-mirror-editor-quote-color: #090;
  --jp-mirror-editor-link-color: #00c;
  --jp-mirror-editor-error-color: #f00;
  --jp-mirror-editor-hr-color: #999;

  /*
    RTC user specific colors.
    These colors are used for the cursor, username in the editor,
    and the icon of the user.
  */

  --jp-collaborator-color1: #ffad8e;
  --jp-collaborator-color2: #dac83d;
  --jp-collaborator-color3: #72dd76;
  --jp-collaborator-color4: #00e4d0;
  --jp-collaborator-color5: #45d4ff;
  --jp-collaborator-color6: #e2b1ff;
  --jp-collaborator-color7: #ff9de6;

  /* Vega extension styles */

  --jp-vega-background: white;

  /* Sidebar-related styles */

  --jp-sidebar-min-width: 250px;

  /* Search-related styles */

  --jp-search-toggle-off-opacity: 0.5;
  --jp-search-toggle-hover-opacity: 0.8;
  --jp-search-toggle-on-opacity: 1;
  --jp-search-selected-match-background-color: rgb(245, 200, 0);
  --jp-search-selected-match-color: black;
  --jp-search-unselected-match-background-color: var(
    --jp-inverse-layout-color0
  );
  --jp-search-unselected-match-color: var(--jp-ui-inverse-font-color0);

  /* Icon colors that work well with light or dark backgrounds */
  --jp-icon-contrast-color0: var(--md-purple-600);
  --jp-icon-contrast-color1: var(--md-green-600);
  --jp-icon-contrast-color2: var(--md-pink-600);
  --jp-icon-contrast-color3: var(--md-blue-600);

  /* Button colors */
  --jp-accept-color-normal: var(--md-blue-700);
  --jp-accept-color-hover: var(--md-blue-800);
  --jp-accept-color-active: var(--md-blue-900);
  --jp-warn-color-normal: var(--md-red-700);
  --jp-warn-color-hover: var(--md-red-800);
  --jp-warn-color-active: var(--md-red-900);
  --jp-reject-color-normal: var(--md-grey-600);
  --jp-reject-color-hover: var(--md-grey-700);
  --jp-reject-color-active: var(--md-grey-800);

  /* File or activity icons and switch semantic variables */
  --jp-jupyter-icon-color: #f37626;
  --jp-notebook-icon-color: #f37626;
  --jp-json-icon-color: var(--md-orange-700);
  --jp-console-icon-background-color: var(--md-blue-700);
  --jp-console-icon-color: white;
  --jp-terminal-icon-background-color: var(--md-grey-800);
  --jp-terminal-icon-color: var(--md-grey-200);
  --jp-text-editor-icon-color: var(--md-grey-700);
  --jp-inspector-icon-color: var(--md-grey-700);
  --jp-switch-color: var(--md-grey-400);
  --jp-switch-true-position-color: var(--md-orange-900);
}
</style>
<style type="text/css">
/* Force rendering true colors when outputing to pdf */
* {
  -webkit-print-color-adjust: exact;
}

/* Misc */
a.anchor-link {
  display: none;
}

/* Input area styling */
.jp-InputArea {
  overflow: hidden;
}

.jp-InputArea-editor {
  overflow: hidden;
}

.cm-editor.cm-s-jupyter .highlight pre {
/* weird, but --jp-code-padding defined to be 5px but 4px horizontal padding is hardcoded for pre.cm-line */
  padding: var(--jp-code-padding) 4px;
  margin: 0;

  font-family: inherit;
  font-size: inherit;
  line-height: inherit;
  color: inherit;

}

.jp-OutputArea-output pre {
  line-height: inherit;
  font-family: inherit;
}

.jp-RenderedText pre {
  color: var(--jp-content-font-color1);
  font-size: var(--jp-code-font-size);
}

/* Hiding the collapser by default */
.jp-Collapser {
  display: none;
}

@page {
    margin: 0.5in; /* Margin for each printed piece of paper */
}

@media print {
  .jp-Cell-inputWrapper,
  .jp-Cell-outputWrapper {
    display: block;
  }
}
</style>
<!-- Load mathjax -->
<script src="https://cdnjs.cloudflare.com/ajax/libs/mathjax/2.7.7/latest.js?config=TeX-AMS_CHTML-full,Safe"> </script>
<!-- MathJax configuration -->
<script type="text/x-mathjax-config">
    init_mathjax = function() {
        if (window.MathJax) {
        // MathJax loaded
            MathJax.Hub.Config({
                TeX: {
                    equationNumbers: {
                    autoNumber: "AMS",
                    useLabelIds: true
                    }
                },
                tex2jax: {
                    inlineMath: [ ['$','$'], ["\\(","\\)"] ],
                    displayMath: [ ['$$','$$'], ["\\[","\\]"] ],
                    processEscapes: true,
                    processEnvironments: true
                },
                displayAlign: 'center',
                CommonHTML: {
                    linebreaks: {
                    automatic: true
                    }
                }
            });

            MathJax.Hub.Queue(["Typeset", MathJax.Hub]);
        }
    }
    init_mathjax();
    </script>
<!-- End of mathjax configuration --><script type="module">
  document.addEventListener("DOMContentLoaded", async () => {
    const diagrams = document.querySelectorAll(".jp-Mermaid > pre.mermaid");
    // do not load mermaidjs if not needed
    if (!diagrams.length) {
      return;
    }
    const mermaid = (await import("https://cdnjs.cloudflare.com/ajax/libs/mermaid/10.5.0/mermaid.esm.min.mjs")).default;
    const parser = new DOMParser();

    mermaid.initialize({
      maxTextSize: 100000,
      startOnLoad: false,
      fontFamily: window
        .getComputedStyle(document.body)
        .getPropertyValue("--jp-ui-font-family"),
      theme: document.querySelector("body[data-jp-theme-light='true']")
        ? "default"
        : "dark",
    });

    let _nextMermaidId = 0;

    function makeMermaidImage(svg) {
      const img = document.createElement("img");
      const doc = parser.parseFromString(svg, "image/svg+xml");
      const svgEl = doc.querySelector("svg");
      const { maxWidth } = svgEl?.style || {};
      const firstTitle = doc.querySelector("title");
      const firstDesc = doc.querySelector("desc");

      img.setAttribute("src", `data:image/svg+xml,${encodeURIComponent(svg)}`);
      if (maxWidth) {
        img.width = parseInt(maxWidth);
      }
      if (firstTitle) {
        img.setAttribute("alt", firstTitle.textContent);
      }
      if (firstDesc) {
        const caption = document.createElement("figcaption");
        caption.className = "sr-only";
        caption.textContent = firstDesc.textContent;
        return [img, caption];
      }
      return [img];
    }

    async function makeMermaidError(text) {
      let errorMessage = "";
      try {
        await mermaid.parse(text);
      } catch (err) {
        errorMessage = `${err}`;
      }

      const result = document.createElement("details");
      result.className = 'jp-RenderedMermaid-Details';
      const summary = document.createElement("summary");
      summary.className = 'jp-RenderedMermaid-Summary';
      const pre = document.createElement("pre");
      const code = document.createElement("code");
      code.innerText = text;
      pre.appendChild(code);
      summary.appendChild(pre);
      result.appendChild(summary);

      const warning = document.createElement("pre");
      warning.innerText = errorMessage;
      result.appendChild(warning);
      return [result];
    }

    async function renderOneMarmaid(src) {
      const id = `jp-mermaid-${_nextMermaidId++}`;
      const parent = src.parentNode;
      let raw = src.textContent.trim();
      const el = document.createElement("div");
      el.style.visibility = "hidden";
      document.body.appendChild(el);
      let results = null;
      let output = null;
      try {
        const { svg } = await mermaid.render(id, raw, el);
        results = makeMermaidImage(svg);
        output = document.createElement("figure");
        results.map(output.appendChild, output);
      } catch (err) {
        parent.classList.add("jp-mod-warning");
        results = await makeMermaidError(raw);
        output = results[0];
      } finally {
        el.remove();
      }
      parent.classList.add("jp-RenderedMermaid");
      parent.appendChild(output);
    }

    void Promise.all([...diagrams].map(renderOneMarmaid));
  });
</script>
<style>
  .jp-Mermaid:not(.jp-RenderedMermaid) {
    display: none;
  }

  .jp-RenderedMermaid {
    overflow: auto;
    display: flex;
  }

  .jp-RenderedMermaid.jp-mod-warning {
    width: auto;
    padding: 0.5em;
    margin-top: 0.5em;
    border: var(--jp-border-width) solid var(--jp-warn-color2);
    border-radius: var(--jp-border-radius);
    color: var(--jp-ui-font-color1);
    font-size: var(--jp-ui-font-size1);
    white-space: pre-wrap;
    word-wrap: break-word;
  }

  .jp-RenderedMermaid figure {
    margin: 0;
    overflow: auto;
    max-width: 100%;
  }

  .jp-RenderedMermaid img {
    max-width: 100%;
  }

  .jp-RenderedMermaid-Details > pre {
    margin-top: 1em;
  }

  .jp-RenderedMermaid-Summary {
    color: var(--jp-warn-color2);
  }

  .jp-RenderedMermaid:not(.jp-mod-warning) pre {
    display: none;
  }

  .jp-RenderedMermaid-Summary > pre {
    display: inline-block;
    white-space: normal;
  }
</style>
<!-- End of mermaid configuration --></head>
<body class="jp-Notebook" data-jp-theme-light="true" data-jp-theme-name="JupyterLab Light">
<main><div class="jp-Cell jp-CodeCell jp-Notebook-cell jp-mod-noOutputs">
<div class="jp-Cell-inputWrapper" tabindex="0">
<div class="jp-Collapser jp-InputCollapser jp-Cell-inputCollapser">
</div>
<div class="jp-InputArea jp-Cell-inputArea">
<div class="jp-InputPrompt jp-InputArea-prompt">In [ ]:</div>
<div class="jp-CodeMirrorEditor jp-Editor jp-InputArea-editor" data-type="inline">
<div class="cm-editor cm-s-jupyter">
<div class="highlight hl-ipython3"><pre><span></span><span class="kn">import</span> <span class="nn">pandas</span> <span class="k">as</span> <span class="nn">pd</span>
<span class="kn">import</span> <span class="nn">numpy</span> <span class="k">as</span> <span class="nn">np</span>
<span class="kn">from</span> <span class="nn">matplotlib</span> <span class="kn">import</span> <span class="n">pyplot</span> <span class="k">as</span> <span class="n">plt</span>
<span class="kn">import</span> <span class="nn">matplotlib</span> 
<span class="n">matplotlib</span><span class="o">.</span><span class="n">rcParams</span><span class="p">[</span><span class="s2">"figure.figsize"</span><span class="p">]</span><span class="o">=</span> <span class="p">(</span><span class="mi">20</span><span class="p">,</span><span class="mi">10</span><span class="p">)</span>
</pre></div>
</div>
</div>
</div>
</div>
</div><div class="jp-Cell jp-CodeCell jp-Notebook-cell">
<div class="jp-Cell-inputWrapper" tabindex="0">
<div class="jp-Collapser jp-InputCollapser jp-Cell-inputCollapser">
</div>
<div class="jp-InputArea jp-Cell-inputArea">
<div class="jp-InputPrompt jp-InputArea-prompt">In [ ]:</div>
<div class="jp-CodeMirrorEditor jp-Editor jp-InputArea-editor" data-type="inline">
<div class="cm-editor cm-s-jupyter">
<div class="highlight hl-ipython3"><pre><span></span><span class="n">df1</span> <span class="o">=</span> <span class="n">pd</span><span class="o">.</span><span class="n">read_csv</span><span class="p">(</span><span class="s2">"Bengaluru_House_Data.csv"</span><span class="p">)</span>
<span class="n">df1</span><span class="o">.</span><span class="n">head</span><span class="p">()</span>
</pre></div>
</div>
</div>
</div>
</div>
<div class="jp-Cell-outputWrapper">
<div class="jp-Collapser jp-OutputCollapser jp-Cell-outputCollapser">
</div>
<div class="jp-OutputArea jp-Cell-outputArea">
<div class="jp-OutputArea-child jp-OutputArea-executeResult">
<div class="jp-OutputPrompt jp-OutputArea-prompt">Out[ ]:</div>
<div class="jp-RenderedHTMLCommon jp-RenderedHTML jp-OutputArea-output jp-OutputArea-executeResult" data-mime-type="text/html" tabindex="0">
<div>
<style scoped="">
    .dataframe tbody tr th:only-of-type {
        vertical-align: middle;
    }

    .dataframe tbody tr th {
        vertical-align: top;
    }

    .dataframe thead th {
        text-align: right;
    }
</style>
<table border="1" class="dataframe">
<thead>
<tr style="text-align: right;">
<th></th>
<th>area_type</th>
<th>availability</th>
<th>location</th>
<th>size</th>
<th>society</th>
<th>total_sqft</th>
<th>bath</th>
<th>balcony</th>
<th>price</th>
</tr>
</thead>
<tbody>
<tr>
<th>0</th>
<td>Super built-up  Area</td>
<td>19-Dec</td>
<td>Electronic City Phase II</td>
<td>2 BHK</td>
<td>Coomee</td>
<td>1056</td>
<td>2.0</td>
<td>1.0</td>
<td>39.07</td>
</tr>
<tr>
<th>1</th>
<td>Plot  Area</td>
<td>Ready To Move</td>
<td>Chikka Tirupathi</td>
<td>4 Bedroom</td>
<td>Theanmp</td>
<td>2600</td>
<td>5.0</td>
<td>3.0</td>
<td>120.00</td>
</tr>
<tr>
<th>2</th>
<td>Built-up  Area</td>
<td>Ready To Move</td>
<td>Uttarahalli</td>
<td>3 BHK</td>
<td>NaN</td>
<td>1440</td>
<td>2.0</td>
<td>3.0</td>
<td>62.00</td>
</tr>
<tr>
<th>3</th>
<td>Super built-up  Area</td>
<td>Ready To Move</td>
<td>Lingadheeranahalli</td>
<td>3 BHK</td>
<td>Soiewre</td>
<td>1521</td>
<td>3.0</td>
<td>1.0</td>
<td>95.00</td>
</tr>
<tr>
<th>4</th>
<td>Super built-up  Area</td>
<td>Ready To Move</td>
<td>Kothanur</td>
<td>2 BHK</td>
<td>NaN</td>
<td>1200</td>
<td>2.0</td>
<td>1.0</td>
<td>51.00</td>
</tr>
</tbody>
</table>
</div>
</div>
</div>
</div>
</div>
</div><div class="jp-Cell jp-CodeCell jp-Notebook-cell">
<div class="jp-Cell-inputWrapper" tabindex="0">
<div class="jp-Collapser jp-InputCollapser jp-Cell-inputCollapser">
</div>
<div class="jp-InputArea jp-Cell-inputArea">
<div class="jp-InputPrompt jp-InputArea-prompt">In [ ]:</div>
<div class="jp-CodeMirrorEditor jp-Editor jp-InputArea-editor" data-type="inline">
<div class="cm-editor cm-s-jupyter">
<div class="highlight hl-ipython3"><pre><span></span><span class="n">df1</span><span class="o">.</span><span class="n">shape</span>
</pre></div>
</div>
</div>
</div>
</div>
<div class="jp-Cell-outputWrapper">
<div class="jp-Collapser jp-OutputCollapser jp-Cell-outputCollapser">
</div>
<div class="jp-OutputArea jp-Cell-outputArea">
<div class="jp-OutputArea-child jp-OutputArea-executeResult">
<div class="jp-OutputPrompt jp-OutputArea-prompt">Out[ ]:</div>
<div class="jp-RenderedText jp-OutputArea-output jp-OutputArea-executeResult" data-mime-type="text/plain" tabindex="0">
<pre>(13320, 9)</pre>
</div>
</div>
</div>
</div>
</div><div class="jp-Cell jp-CodeCell jp-Notebook-cell">
<div class="jp-Cell-inputWrapper" tabindex="0">
<div class="jp-Collapser jp-InputCollapser jp-Cell-inputCollapser">
</div>
<div class="jp-InputArea jp-Cell-inputArea">
<div class="jp-InputPrompt jp-InputArea-prompt">In [ ]:</div>
<div class="jp-CodeMirrorEditor jp-Editor jp-InputArea-editor" data-type="inline">
<div class="cm-editor cm-s-jupyter">
<div class="highlight hl-ipython3"><pre><span></span><span class="n">df1</span><span class="o">.</span><span class="n">groupby</span><span class="p">(</span><span class="s1">'area_type'</span><span class="p">)</span><span class="o">.</span><span class="n">agg</span><span class="p">(</span><span class="s1">'count'</span><span class="p">)</span>
</pre></div>
</div>
</div>
</div>
</div>
<div class="jp-Cell-outputWrapper">
<div class="jp-Collapser jp-OutputCollapser jp-Cell-outputCollapser">
</div>
<div class="jp-OutputArea jp-Cell-outputArea">
<div class="jp-OutputArea-child jp-OutputArea-executeResult">
<div class="jp-OutputPrompt jp-OutputArea-prompt">Out[ ]:</div>
<div class="jp-RenderedHTMLCommon jp-RenderedHTML jp-OutputArea-output jp-OutputArea-executeResult" data-mime-type="text/html" tabindex="0">
<div>
<style scoped="">
    .dataframe tbody tr th:only-of-type {
        vertical-align: middle;
    }

    .dataframe tbody tr th {
        vertical-align: top;
    }

    .dataframe thead th {
        text-align: right;
    }
</style>
<table border="1" class="dataframe">
<thead>
<tr style="text-align: right;">
<th></th>
<th>availability</th>
<th>location</th>
<th>size</th>
<th>society</th>
<th>total_sqft</th>
<th>bath</th>
<th>balcony</th>
<th>price</th>
</tr>
<tr>
<th>area_type</th>
<th></th>
<th></th>
<th></th>
<th></th>
<th></th>
<th></th>
<th></th>
<th></th>
</tr>
</thead>
<tbody>
<tr>
<th>Built-up  Area</th>
<td>2418</td>
<td>2418</td>
<td>2418</td>
<td>1215</td>
<td>2418</td>
<td>2410</td>
<td>2310</td>
<td>2418</td>
</tr>
<tr>
<th>Carpet  Area</th>
<td>87</td>
<td>87</td>
<td>87</td>
<td>54</td>
<td>87</td>
<td>87</td>
<td>82</td>
<td>87</td>
</tr>
<tr>
<th>Plot  Area</th>
<td>2025</td>
<td>2025</td>
<td>2009</td>
<td>311</td>
<td>2025</td>
<td>2009</td>
<td>1837</td>
<td>2025</td>
</tr>
<tr>
<th>Super built-up  Area</th>
<td>8790</td>
<td>8789</td>
<td>8790</td>
<td>6238</td>
<td>8790</td>
<td>8741</td>
<td>8482</td>
<td>8790</td>
</tr>
</tbody>
</table>
</div>
</div>
</div>
</div>
</div>
</div><div class="jp-Cell jp-CodeCell jp-Notebook-cell">
<div class="jp-Cell-inputWrapper" tabindex="0">
<div class="jp-Collapser jp-InputCollapser jp-Cell-inputCollapser">
</div>
<div class="jp-InputArea jp-Cell-inputArea">
<div class="jp-InputPrompt jp-InputArea-prompt">In [ ]:</div>
<div class="jp-CodeMirrorEditor jp-Editor jp-InputArea-editor" data-type="inline">
<div class="cm-editor cm-s-jupyter">
<div class="highlight hl-ipython3"><pre><span></span><span class="n">df1</span><span class="o">.</span><span class="n">groupby</span><span class="p">(</span><span class="s1">'area_type'</span><span class="p">)[</span><span class="s1">'area_type'</span><span class="p">]</span><span class="o">.</span><span class="n">agg</span><span class="p">(</span><span class="s1">'count'</span><span class="p">)</span>
</pre></div>
</div>
</div>
</div>
</div>
<div class="jp-Cell-outputWrapper">
<div class="jp-Collapser jp-OutputCollapser jp-Cell-outputCollapser">
</div>
<div class="jp-OutputArea jp-Cell-outputArea">
<div class="jp-OutputArea-child jp-OutputArea-executeResult">
<div class="jp-OutputPrompt jp-OutputArea-prompt">Out[ ]:</div>
<div class="jp-RenderedText jp-OutputArea-output jp-OutputArea-executeResult" data-mime-type="text/plain" tabindex="0">
<pre>area_type
Built-up  Area          2418
Carpet  Area              87
Plot  Area              2025
Super built-up  Area    8790
Name: area_type, dtype: int64</pre>
</div>
</div>
</div>
</div>
</div><div class="jp-Cell jp-CodeCell jp-Notebook-cell">
<div class="jp-Cell-inputWrapper" tabindex="0">
<div class="jp-Collapser jp-InputCollapser jp-Cell-inputCollapser">
</div>
<div class="jp-InputArea jp-Cell-inputArea">
<div class="jp-InputPrompt jp-InputArea-prompt">In [ ]:</div>
<div class="jp-CodeMirrorEditor jp-Editor jp-InputArea-editor" data-type="inline">
<div class="cm-editor cm-s-jupyter">
<div class="highlight hl-ipython3"><pre><span></span><span class="n">df1</span><span class="p">[</span><span class="s1">'area_type'</span><span class="p">]</span><span class="o">.</span><span class="n">value_counts</span><span class="p">()</span>
</pre></div>
</div>
</div>
</div>
</div>
<div class="jp-Cell-outputWrapper">
<div class="jp-Collapser jp-OutputCollapser jp-Cell-outputCollapser">
</div>
<div class="jp-OutputArea jp-Cell-outputArea">
<div class="jp-OutputArea-child jp-OutputArea-executeResult">
<div class="jp-OutputPrompt jp-OutputArea-prompt">Out[ ]:</div>
<div class="jp-RenderedText jp-OutputArea-output jp-OutputArea-executeResult" data-mime-type="text/plain" tabindex="0">
<pre>area_type
Super built-up  Area    8790
Built-up  Area          2418
Plot  Area              2025
Carpet  Area              87
Name: count, dtype: int64</pre>
</div>
</div>
</div>
</div>
</div><div class="jp-Cell jp-CodeCell jp-Notebook-cell">
<div class="jp-Cell-inputWrapper" tabindex="0">
<div class="jp-Collapser jp-InputCollapser jp-Cell-inputCollapser">
</div>
<div class="jp-InputArea jp-Cell-inputArea">
<div class="jp-InputPrompt jp-InputArea-prompt">In [ ]:</div>
<div class="jp-CodeMirrorEditor jp-Editor jp-InputArea-editor" data-type="inline">
<div class="cm-editor cm-s-jupyter">
<div class="highlight hl-ipython3"><pre><span></span><span class="n">df2</span> <span class="o">=</span> <span class="n">df1</span><span class="o">.</span><span class="n">drop</span><span class="p">([</span><span class="s1">'area_type'</span><span class="p">,</span> <span class="s1">'society'</span><span class="p">,</span> <span class="s1">'balcony'</span><span class="p">,</span><span class="s1">'availability'</span><span class="p">],</span> <span class="n">axis</span><span class="o">=</span><span class="mi">1</span><span class="p">)</span> <span class="c1"># axis = column</span>
<span class="n">df2</span><span class="o">.</span><span class="n">shape</span>
</pre></div>
</div>
</div>
</div>
</div>
<div class="jp-Cell-outputWrapper">
<div class="jp-Collapser jp-OutputCollapser jp-Cell-outputCollapser">
</div>
<div class="jp-OutputArea jp-Cell-outputArea">
<div class="jp-OutputArea-child jp-OutputArea-executeResult">
<div class="jp-OutputPrompt jp-OutputArea-prompt">Out[ ]:</div>
<div class="jp-RenderedText jp-OutputArea-output jp-OutputArea-executeResult" data-mime-type="text/plain" tabindex="0">
<pre>(13320, 5)</pre>
</div>
</div>
</div>
</div>
</div><div class="jp-Cell jp-CodeCell jp-Notebook-cell">
<div class="jp-Cell-inputWrapper" tabindex="0">
<div class="jp-Collapser jp-InputCollapser jp-Cell-inputCollapser">
</div>
<div class="jp-InputArea jp-Cell-inputArea">
<div class="jp-InputPrompt jp-InputArea-prompt">In [ ]:</div>
<div class="jp-CodeMirrorEditor jp-Editor jp-InputArea-editor" data-type="inline">
<div class="cm-editor cm-s-jupyter">
<div class="highlight hl-ipython3"><pre><span></span><span class="n">df2</span><span class="o">.</span><span class="n">head</span><span class="p">()</span>
</pre></div>
</div>
</div>
</div>
</div>
<div class="jp-Cell-outputWrapper">
<div class="jp-Collapser jp-OutputCollapser jp-Cell-outputCollapser">
</div>
<div class="jp-OutputArea jp-Cell-outputArea">
<div class="jp-OutputArea-child jp-OutputArea-executeResult">
<div class="jp-OutputPrompt jp-OutputArea-prompt">Out[ ]:</div>
<div class="jp-RenderedHTMLCommon jp-RenderedHTML jp-OutputArea-output jp-OutputArea-executeResult" data-mime-type="text/html" tabindex="0">
<div>
<style scoped="">
    .dataframe tbody tr th:only-of-type {
        vertical-align: middle;
    }

    .dataframe tbody tr th {
        vertical-align: top;
    }

    .dataframe thead th {
        text-align: right;
    }
</style>
<table border="1" class="dataframe">
<thead>
<tr style="text-align: right;">
<th></th>
<th>location</th>
<th>size</th>
<th>total_sqft</th>
<th>bath</th>
<th>price</th>
</tr>
</thead>
<tbody>
<tr>
<th>0</th>
<td>Electronic City Phase II</td>
<td>2 BHK</td>
<td>1056</td>
<td>2.0</td>
<td>39.07</td>
</tr>
<tr>
<th>1</th>
<td>Chikka Tirupathi</td>
<td>4 Bedroom</td>
<td>2600</td>
<td>5.0</td>
<td>120.00</td>
</tr>
<tr>
<th>2</th>
<td>Uttarahalli</td>
<td>3 BHK</td>
<td>1440</td>
<td>2.0</td>
<td>62.00</td>
</tr>
<tr>
<th>3</th>
<td>Lingadheeranahalli</td>
<td>3 BHK</td>
<td>1521</td>
<td>3.0</td>
<td>95.00</td>
</tr>
<tr>
<th>4</th>
<td>Kothanur</td>
<td>2 BHK</td>
<td>1200</td>
<td>2.0</td>
<td>51.00</td>
</tr>
</tbody>
</table>
</div>
</div>
</div>
</div>
</div>
</div><div class="jp-Cell jp-CodeCell jp-Notebook-cell">
<div class="jp-Cell-inputWrapper" tabindex="0">
<div class="jp-Collapser jp-InputCollapser jp-Cell-inputCollapser">
</div>
<div class="jp-InputArea jp-Cell-inputArea">
<div class="jp-InputPrompt jp-InputArea-prompt">In [ ]:</div>
<div class="jp-CodeMirrorEditor jp-Editor jp-InputArea-editor" data-type="inline">
<div class="cm-editor cm-s-jupyter">
<div class="highlight hl-ipython3"><pre><span></span><span class="n">df2</span><span class="o">.</span><span class="n">isnull</span><span class="p">()</span><span class="o">.</span><span class="n">sum</span><span class="p">()</span>
</pre></div>
</div>
</div>
</div>
</div>
<div class="jp-Cell-outputWrapper">
<div class="jp-Collapser jp-OutputCollapser jp-Cell-outputCollapser">
</div>
<div class="jp-OutputArea jp-Cell-outputArea">
<div class="jp-OutputArea-child jp-OutputArea-executeResult">
<div class="jp-OutputPrompt jp-OutputArea-prompt">Out[ ]:</div>
<div class="jp-RenderedText jp-OutputArea-output jp-OutputArea-executeResult" data-mime-type="text/plain" tabindex="0">
<pre>location       1
size          16
total_sqft     0
bath          73
price          0
dtype: int64</pre>
</div>
</div>
</div>
</div>
</div><div class="jp-Cell jp-CodeCell jp-Notebook-cell">
<div class="jp-Cell-inputWrapper" tabindex="0">
<div class="jp-Collapser jp-InputCollapser jp-Cell-inputCollapser">
</div>
<div class="jp-InputArea jp-Cell-inputArea">
<div class="jp-InputPrompt jp-InputArea-prompt">In [ ]:</div>
<div class="jp-CodeMirrorEditor jp-Editor jp-InputArea-editor" data-type="inline">
<div class="cm-editor cm-s-jupyter">
<div class="highlight hl-ipython3"><pre><span></span><span class="n">df3</span> <span class="o">=</span> <span class="n">df2</span><span class="o">.</span><span class="n">dropna</span><span class="p">()</span>
<span class="n">df3</span><span class="o">.</span><span class="n">isnull</span><span class="p">()</span><span class="o">.</span><span class="n">sum</span><span class="p">()</span>
</pre></div>
</div>
</div>
</div>
</div>
<div class="jp-Cell-outputWrapper">
<div class="jp-Collapser jp-OutputCollapser jp-Cell-outputCollapser">
</div>
<div class="jp-OutputArea jp-Cell-outputArea">
<div class="jp-OutputArea-child jp-OutputArea-executeResult">
<div class="jp-OutputPrompt jp-OutputArea-prompt">Out[ ]:</div>
<div class="jp-RenderedText jp-OutputArea-output jp-OutputArea-executeResult" data-mime-type="text/plain" tabindex="0">
<pre>location      0
size          0
total_sqft    0
bath          0
price         0
dtype: int64</pre>
</div>
</div>
</div>
</div>
</div><div class="jp-Cell jp-CodeCell jp-Notebook-cell">
<div class="jp-Cell-inputWrapper" tabindex="0">
<div class="jp-Collapser jp-InputCollapser jp-Cell-inputCollapser">
</div>
<div class="jp-InputArea jp-Cell-inputArea">
<div class="jp-InputPrompt jp-InputArea-prompt">In [ ]:</div>
<div class="jp-CodeMirrorEditor jp-Editor jp-InputArea-editor" data-type="inline">
<div class="cm-editor cm-s-jupyter">
<div class="highlight hl-ipython3"><pre><span></span><span class="n">df3</span><span class="p">[</span><span class="s1">'size'</span><span class="p">]</span><span class="o">.</span><span class="n">unique</span><span class="p">()</span>
</pre></div>
</div>
</div>
</div>
</div>
<div class="jp-Cell-outputWrapper">
<div class="jp-Collapser jp-OutputCollapser jp-Cell-outputCollapser">
</div>
<div class="jp-OutputArea jp-Cell-outputArea">
<div class="jp-OutputArea-child jp-OutputArea-executeResult">
<div class="jp-OutputPrompt jp-OutputArea-prompt">Out[ ]:</div>
<div class="jp-RenderedText jp-OutputArea-output jp-OutputArea-executeResult" data-mime-type="text/plain" tabindex="0">
<pre>array(['2 BHK', '4 Bedroom', '3 BHK', '4 BHK', '6 Bedroom', '3 Bedroom',
       '1 BHK', '1 RK', '1 Bedroom', '8 Bedroom', '2 Bedroom',
       '7 Bedroom', '5 BHK', '7 BHK', '6 BHK', '5 Bedroom', '11 BHK',
       '9 BHK', '9 Bedroom', '27 BHK', '10 Bedroom', '11 Bedroom',
       '10 BHK', '19 BHK', '16 BHK', '43 Bedroom', '14 BHK', '8 BHK',
       '12 Bedroom', '13 BHK', '18 Bedroom'], dtype=object)</pre>
</div>
</div>
</div>
</div>
</div><div class="jp-Cell jp-CodeCell jp-Notebook-cell">
<div class="jp-Cell-inputWrapper" tabindex="0">
<div class="jp-Collapser jp-InputCollapser jp-Cell-inputCollapser">
</div>
<div class="jp-InputArea jp-Cell-inputArea">
<div class="jp-InputPrompt jp-InputArea-prompt">In [ ]:</div>
<div class="jp-CodeMirrorEditor jp-Editor jp-InputArea-editor" data-type="inline">
<div class="cm-editor cm-s-jupyter">
<div class="highlight hl-ipython3"><pre><span></span><span class="n">df3</span><span class="p">[</span><span class="s1">'bhk'</span><span class="p">]</span><span class="o">=</span> <span class="n">df3</span><span class="p">[</span><span class="s1">'size'</span><span class="p">]</span><span class="o">.</span><span class="n">apply</span><span class="p">(</span><span class="k">lambda</span> <span class="n">x</span><span class="p">:</span> <span class="nb">int</span><span class="p">(</span><span class="n">x</span><span class="o">.</span><span class="n">split</span><span class="p">(</span><span class="s1">' '</span><span class="p">)[</span><span class="mi">0</span><span class="p">]))</span>
</pre></div>
</div>
</div>
</div>
</div>
<div class="jp-Cell-outputWrapper">
<div class="jp-Collapser jp-OutputCollapser jp-Cell-outputCollapser">
</div>
<div class="jp-OutputArea jp-Cell-outputArea">
<div class="jp-OutputArea-child">
<div class="jp-OutputPrompt jp-OutputArea-prompt"></div>
<div class="jp-RenderedText jp-OutputArea-output" data-mime-type="application/vnd.jupyter.stderr" tabindex="0">
<pre>C:\Users\User\AppData\Local\Temp\ipykernel_17312\3603722699.py:1: SettingWithCopyWarning: 
A value is trying to be set on a copy of a slice from a DataFrame.
Try using .loc[row_indexer,col_indexer] = value instead

See the caveats in the documentation: https://pandas.pydata.org/pandas-docs/stable/user_guide/indexing.html#returning-a-view-versus-a-copy
  df3['bhk']= df3['size'].apply(lambda x: int(x.split(' ')[0]))
</pre>
</div>
</div>
</div>
</div>
</div><div class="jp-Cell jp-CodeCell jp-Notebook-cell">
<div class="jp-Cell-inputWrapper" tabindex="0">
<div class="jp-Collapser jp-InputCollapser jp-Cell-inputCollapser">
</div>
<div class="jp-InputArea jp-Cell-inputArea">
<div class="jp-InputPrompt jp-InputArea-prompt">In [ ]:</div>
<div class="jp-CodeMirrorEditor jp-Editor jp-InputArea-editor" data-type="inline">
<div class="cm-editor cm-s-jupyter">
<div class="highlight hl-ipython3"><pre><span></span><span class="n">df3</span><span class="o">.</span><span class="n">head</span><span class="p">()</span>
</pre></div>
</div>
</div>
</div>
</div>
<div class="jp-Cell-outputWrapper">
<div class="jp-Collapser jp-OutputCollapser jp-Cell-outputCollapser">
</div>
<div class="jp-OutputArea jp-Cell-outputArea">
<div class="jp-OutputArea-child jp-OutputArea-executeResult">
<div class="jp-OutputPrompt jp-OutputArea-prompt">Out[ ]:</div>
<div class="jp-RenderedHTMLCommon jp-RenderedHTML jp-OutputArea-output jp-OutputArea-executeResult" data-mime-type="text/html" tabindex="0">
<div>
<style scoped="">
    .dataframe tbody tr th:only-of-type {
        vertical-align: middle;
    }

    .dataframe tbody tr th {
        vertical-align: top;
    }

    .dataframe thead th {
        text-align: right;
    }
</style>
<table border="1" class="dataframe">
<thead>
<tr style="text-align: right;">
<th></th>
<th>location</th>
<th>size</th>
<th>total_sqft</th>
<th>bath</th>
<th>price</th>
<th>bhk</th>
</tr>
</thead>
<tbody>
<tr>
<th>0</th>
<td>Electronic City Phase II</td>
<td>2 BHK</td>
<td>1056</td>
<td>2.0</td>
<td>39.07</td>
<td>2</td>
</tr>
<tr>
<th>1</th>
<td>Chikka Tirupathi</td>
<td>4 Bedroom</td>
<td>2600</td>
<td>5.0</td>
<td>120.00</td>
<td>4</td>
</tr>
<tr>
<th>2</th>
<td>Uttarahalli</td>
<td>3 BHK</td>
<td>1440</td>
<td>2.0</td>
<td>62.00</td>
<td>3</td>
</tr>
<tr>
<th>3</th>
<td>Lingadheeranahalli</td>
<td>3 BHK</td>
<td>1521</td>
<td>3.0</td>
<td>95.00</td>
<td>3</td>
</tr>
<tr>
<th>4</th>
<td>Kothanur</td>
<td>2 BHK</td>
<td>1200</td>
<td>2.0</td>
<td>51.00</td>
<td>2</td>
</tr>
</tbody>
</table>
</div>
</div>
</div>
</div>
</div>
</div><div class="jp-Cell jp-CodeCell jp-Notebook-cell">
<div class="jp-Cell-inputWrapper" tabindex="0">
<div class="jp-Collapser jp-InputCollapser jp-Cell-inputCollapser">
</div>
<div class="jp-InputArea jp-Cell-inputArea">
<div class="jp-InputPrompt jp-InputArea-prompt">In [ ]:</div>
<div class="jp-CodeMirrorEditor jp-Editor jp-InputArea-editor" data-type="inline">
<div class="cm-editor cm-s-jupyter">
<div class="highlight hl-ipython3"><pre><span></span><span class="n">df3</span><span class="p">[</span><span class="s1">'bhk'</span><span class="p">]</span><span class="o">.</span><span class="n">unique</span><span class="p">()</span>
</pre></div>
</div>
</div>
</div>
</div>
<div class="jp-Cell-outputWrapper">
<div class="jp-Collapser jp-OutputCollapser jp-Cell-outputCollapser">
</div>
<div class="jp-OutputArea jp-Cell-outputArea">
<div class="jp-OutputArea-child jp-OutputArea-executeResult">
<div class="jp-OutputPrompt jp-OutputArea-prompt">Out[ ]:</div>
<div class="jp-RenderedText jp-OutputArea-output jp-OutputArea-executeResult" data-mime-type="text/plain" tabindex="0">
<pre>array([ 2,  4,  3,  6,  1,  8,  7,  5, 11,  9, 27, 10, 19, 16, 43, 14, 12,
       13, 18], dtype=int64)</pre>
</div>
</div>
</div>
</div>
</div><div class="jp-Cell jp-CodeCell jp-Notebook-cell">
<div class="jp-Cell-inputWrapper" tabindex="0">
<div class="jp-Collapser jp-InputCollapser jp-Cell-inputCollapser">
</div>
<div class="jp-InputArea jp-Cell-inputArea">
<div class="jp-InputPrompt jp-InputArea-prompt">In [ ]:</div>
<div class="jp-CodeMirrorEditor jp-Editor jp-InputArea-editor" data-type="inline">
<div class="cm-editor cm-s-jupyter">
<div class="highlight hl-ipython3"><pre><span></span><span class="n">df3</span><span class="p">[</span><span class="n">df3</span><span class="o">.</span><span class="n">bhk</span> <span class="o">&gt;</span> <span class="mi">20</span><span class="p">]</span>
</pre></div>
</div>
</div>
</div>
</div>
<div class="jp-Cell-outputWrapper">
<div class="jp-Collapser jp-OutputCollapser jp-Cell-outputCollapser">
</div>
<div class="jp-OutputArea jp-Cell-outputArea">
<div class="jp-OutputArea-child jp-OutputArea-executeResult">
<div class="jp-OutputPrompt jp-OutputArea-prompt">Out[ ]:</div>
<div class="jp-RenderedHTMLCommon jp-RenderedHTML jp-OutputArea-output jp-OutputArea-executeResult" data-mime-type="text/html" tabindex="0">
<div>
<style scoped="">
    .dataframe tbody tr th:only-of-type {
        vertical-align: middle;
    }

    .dataframe tbody tr th {
        vertical-align: top;
    }

    .dataframe thead th {
        text-align: right;
    }
</style>
<table border="1" class="dataframe">
<thead>
<tr style="text-align: right;">
<th></th>
<th>location</th>
<th>size</th>
<th>total_sqft</th>
<th>bath</th>
<th>price</th>
<th>bhk</th>
</tr>
</thead>
<tbody>
<tr>
<th>1718</th>
<td>2Electronic City Phase II</td>
<td>27 BHK</td>
<td>8000</td>
<td>27.0</td>
<td>230.0</td>
<td>27</td>
</tr>
<tr>
<th>4684</th>
<td>Munnekollal</td>
<td>43 Bedroom</td>
<td>2400</td>
<td>40.0</td>
<td>660.0</td>
<td>43</td>
</tr>
</tbody>
</table>
</div>
</div>
</div>
</div>
</div>
</div><div class="jp-Cell jp-CodeCell jp-Notebook-cell">
<div class="jp-Cell-inputWrapper" tabindex="0">
<div class="jp-Collapser jp-InputCollapser jp-Cell-inputCollapser">
</div>
<div class="jp-InputArea jp-Cell-inputArea">
<div class="jp-InputPrompt jp-InputArea-prompt">In [ ]:</div>
<div class="jp-CodeMirrorEditor jp-Editor jp-InputArea-editor" data-type="inline">
<div class="cm-editor cm-s-jupyter">
<div class="highlight hl-ipython3"><pre><span></span><span class="n">df3</span><span class="p">[</span><span class="s1">'total_sqft'</span><span class="p">]</span><span class="o">.</span><span class="n">unique</span><span class="p">()</span>
</pre></div>
</div>
</div>
</div>
</div>
<div class="jp-Cell-outputWrapper">
<div class="jp-Collapser jp-OutputCollapser jp-Cell-outputCollapser">
</div>
<div class="jp-OutputArea jp-Cell-outputArea">
<div class="jp-OutputArea-child jp-OutputArea-executeResult">
<div class="jp-OutputPrompt jp-OutputArea-prompt">Out[ ]:</div>
<div class="jp-RenderedText jp-OutputArea-output jp-OutputArea-executeResult" data-mime-type="text/plain" tabindex="0">
<pre>array(['1056', '2600', '1440', ..., '1133 - 1384', '774', '4689'],
      dtype=object)</pre>
</div>
</div>
</div>
</div>
</div><div class="jp-Cell jp-CodeCell jp-Notebook-cell">
<div class="jp-Cell-inputWrapper" tabindex="0">
<div class="jp-Collapser jp-InputCollapser jp-Cell-inputCollapser">
</div>
<div class="jp-InputArea jp-Cell-inputArea">
<div class="jp-InputPrompt jp-InputArea-prompt">In [ ]:</div>
<div class="jp-CodeMirrorEditor jp-Editor jp-InputArea-editor" data-type="inline">
<div class="cm-editor cm-s-jupyter">
<div class="highlight hl-ipython3"><pre><span></span><span class="n">df3</span><span class="o">.</span><span class="n">total_sqft</span><span class="o">.</span><span class="n">unique</span><span class="p">()</span>
</pre></div>
</div>
</div>
</div>
</div>
<div class="jp-Cell-outputWrapper">
<div class="jp-Collapser jp-OutputCollapser jp-Cell-outputCollapser">
</div>
<div class="jp-OutputArea jp-Cell-outputArea">
<div class="jp-OutputArea-child jp-OutputArea-executeResult">
<div class="jp-OutputPrompt jp-OutputArea-prompt">Out[ ]:</div>
<div class="jp-RenderedText jp-OutputArea-output jp-OutputArea-executeResult" data-mime-type="text/plain" tabindex="0">
<pre>array(['1056', '2600', '1440', ..., '1133 - 1384', '774', '4689'],
      dtype=object)</pre>
</div>
</div>
</div>
</div>
</div><div class="jp-Cell jp-CodeCell jp-Notebook-cell jp-mod-noOutputs">
<div class="jp-Cell-inputWrapper" tabindex="0">
<div class="jp-Collapser jp-InputCollapser jp-Cell-inputCollapser">
</div>
<div class="jp-InputArea jp-Cell-inputArea">
<div class="jp-InputPrompt jp-InputArea-prompt">In [ ]:</div>
<div class="jp-CodeMirrorEditor jp-Editor jp-InputArea-editor" data-type="inline">
<div class="cm-editor cm-s-jupyter">
<div class="highlight hl-ipython3"><pre><span></span><span class="k">def</span> <span class="nf">is_float</span><span class="p">(</span><span class="n">x</span><span class="p">):</span>
    <span class="k">try</span><span class="p">:</span>
        <span class="nb">float</span><span class="p">(</span><span class="n">x</span><span class="p">)</span>
    <span class="k">except</span><span class="p">:</span>
        <span class="k">return</span> <span class="kc">False</span>
    <span class="k">return</span> <span class="kc">True</span>
</pre></div>
</div>
</div>
</div>
</div>
</div><div class="jp-Cell jp-CodeCell jp-Notebook-cell">
<div class="jp-Cell-inputWrapper" tabindex="0">
<div class="jp-Collapser jp-InputCollapser jp-Cell-inputCollapser">
</div>
<div class="jp-InputArea jp-Cell-inputArea">
<div class="jp-InputPrompt jp-InputArea-prompt">In [ ]:</div>
<div class="jp-CodeMirrorEditor jp-Editor jp-InputArea-editor" data-type="inline">
<div class="cm-editor cm-s-jupyter">
<div class="highlight hl-ipython3"><pre><span></span><span class="n">df3</span><span class="p">[</span><span class="n">df3</span><span class="p">[</span><span class="s1">'total_sqft'</span><span class="p">]</span><span class="o">.</span><span class="n">apply</span><span class="p">(</span><span class="n">is_float</span><span class="p">)]</span> <span class="c1"># it gives </span>
</pre></div>
</div>
</div>
</div>
</div>
<div class="jp-Cell-outputWrapper">
<div class="jp-Collapser jp-OutputCollapser jp-Cell-outputCollapser">
</div>
<div class="jp-OutputArea jp-Cell-outputArea">
<div class="jp-OutputArea-child jp-OutputArea-executeResult">
<div class="jp-OutputPrompt jp-OutputArea-prompt">Out[ ]:</div>
<div class="jp-RenderedHTMLCommon jp-RenderedHTML jp-OutputArea-output jp-OutputArea-executeResult" data-mime-type="text/html" tabindex="0">
<div>
<style scoped="">
    .dataframe tbody tr th:only-of-type {
        vertical-align: middle;
    }

    .dataframe tbody tr th {
        vertical-align: top;
    }

    .dataframe thead th {
        text-align: right;
    }
</style>
<table border="1" class="dataframe">
<thead>
<tr style="text-align: right;">
<th></th>
<th>location</th>
<th>size</th>
<th>total_sqft</th>
<th>bath</th>
<th>price</th>
<th>bhk</th>
</tr>
</thead>
<tbody>
<tr>
<th>0</th>
<td>Electronic City Phase II</td>
<td>2 BHK</td>
<td>1056</td>
<td>2.0</td>
<td>39.07</td>
<td>2</td>
</tr>
<tr>
<th>1</th>
<td>Chikka Tirupathi</td>
<td>4 Bedroom</td>
<td>2600</td>
<td>5.0</td>
<td>120.00</td>
<td>4</td>
</tr>
<tr>
<th>2</th>
<td>Uttarahalli</td>
<td>3 BHK</td>
<td>1440</td>
<td>2.0</td>
<td>62.00</td>
<td>3</td>
</tr>
<tr>
<th>3</th>
<td>Lingadheeranahalli</td>
<td>3 BHK</td>
<td>1521</td>
<td>3.0</td>
<td>95.00</td>
<td>3</td>
</tr>
<tr>
<th>4</th>
<td>Kothanur</td>
<td>2 BHK</td>
<td>1200</td>
<td>2.0</td>
<td>51.00</td>
<td>2</td>
</tr>
<tr>
<th>...</th>
<td>...</td>
<td>...</td>
<td>...</td>
<td>...</td>
<td>...</td>
<td>...</td>
</tr>
<tr>
<th>13315</th>
<td>Whitefield</td>
<td>5 Bedroom</td>
<td>3453</td>
<td>4.0</td>
<td>231.00</td>
<td>5</td>
</tr>
<tr>
<th>13316</th>
<td>Richards Town</td>
<td>4 BHK</td>
<td>3600</td>
<td>5.0</td>
<td>400.00</td>
<td>4</td>
</tr>
<tr>
<th>13317</th>
<td>Raja Rajeshwari Nagar</td>
<td>2 BHK</td>
<td>1141</td>
<td>2.0</td>
<td>60.00</td>
<td>2</td>
</tr>
<tr>
<th>13318</th>
<td>Padmanabhanagar</td>
<td>4 BHK</td>
<td>4689</td>
<td>4.0</td>
<td>488.00</td>
<td>4</td>
</tr>
<tr>
<th>13319</th>
<td>Doddathoguru</td>
<td>1 BHK</td>
<td>550</td>
<td>1.0</td>
<td>17.00</td>
<td>1</td>
</tr>
</tbody>
</table>
<p>13056 rows × 6 columns</p>
</div>
</div>
</div>
</div>
</div>
</div><div class="jp-Cell jp-CodeCell jp-Notebook-cell">
<div class="jp-Cell-inputWrapper" tabindex="0">
<div class="jp-Collapser jp-InputCollapser jp-Cell-inputCollapser">
</div>
<div class="jp-InputArea jp-Cell-inputArea">
<div class="jp-InputPrompt jp-InputArea-prompt">In [ ]:</div>
<div class="jp-CodeMirrorEditor jp-Editor jp-InputArea-editor" data-type="inline">
<div class="cm-editor cm-s-jupyter">
<div class="highlight hl-ipython3"><pre><span></span><span class="n">df3</span><span class="p">[</span><span class="o">~</span><span class="n">df3</span><span class="p">[</span><span class="s1">'total_sqft'</span><span class="p">]</span><span class="o">.</span><span class="n">apply</span><span class="p">(</span><span class="n">is_float</span><span class="p">)]</span>  <span class="c1"># it gives exclude values of this functiion</span>
</pre></div>
</div>
</div>
</div>
</div>
<div class="jp-Cell-outputWrapper">
<div class="jp-Collapser jp-OutputCollapser jp-Cell-outputCollapser">
</div>
<div class="jp-OutputArea jp-Cell-outputArea">
<div class="jp-OutputArea-child jp-OutputArea-executeResult">
<div class="jp-OutputPrompt jp-OutputArea-prompt">Out[ ]:</div>
<div class="jp-RenderedHTMLCommon jp-RenderedHTML jp-OutputArea-output jp-OutputArea-executeResult" data-mime-type="text/html" tabindex="0">
<div>
<style scoped="">
    .dataframe tbody tr th:only-of-type {
        vertical-align: middle;
    }

    .dataframe tbody tr th {
        vertical-align: top;
    }

    .dataframe thead th {
        text-align: right;
    }
</style>
<table border="1" class="dataframe">
<thead>
<tr style="text-align: right;">
<th></th>
<th>location</th>
<th>size</th>
<th>total_sqft</th>
<th>bath</th>
<th>price</th>
<th>bhk</th>
</tr>
</thead>
<tbody>
<tr>
<th>30</th>
<td>Yelahanka</td>
<td>4 BHK</td>
<td>2100 - 2850</td>
<td>4.0</td>
<td>186.000</td>
<td>4</td>
</tr>
<tr>
<th>122</th>
<td>Hebbal</td>
<td>4 BHK</td>
<td>3067 - 8156</td>
<td>4.0</td>
<td>477.000</td>
<td>4</td>
</tr>
<tr>
<th>137</th>
<td>8th Phase JP Nagar</td>
<td>2 BHK</td>
<td>1042 - 1105</td>
<td>2.0</td>
<td>54.005</td>
<td>2</td>
</tr>
<tr>
<th>165</th>
<td>Sarjapur</td>
<td>2 BHK</td>
<td>1145 - 1340</td>
<td>2.0</td>
<td>43.490</td>
<td>2</td>
</tr>
<tr>
<th>188</th>
<td>KR Puram</td>
<td>2 BHK</td>
<td>1015 - 1540</td>
<td>2.0</td>
<td>56.800</td>
<td>2</td>
</tr>
<tr>
<th>...</th>
<td>...</td>
<td>...</td>
<td>...</td>
<td>...</td>
<td>...</td>
<td>...</td>
</tr>
<tr>
<th>12975</th>
<td>Whitefield</td>
<td>2 BHK</td>
<td>850 - 1060</td>
<td>2.0</td>
<td>38.190</td>
<td>2</td>
</tr>
<tr>
<th>12990</th>
<td>Talaghattapura</td>
<td>3 BHK</td>
<td>1804 - 2273</td>
<td>3.0</td>
<td>122.000</td>
<td>3</td>
</tr>
<tr>
<th>13059</th>
<td>Harlur</td>
<td>2 BHK</td>
<td>1200 - 1470</td>
<td>2.0</td>
<td>72.760</td>
<td>2</td>
</tr>
<tr>
<th>13265</th>
<td>Hoodi</td>
<td>2 BHK</td>
<td>1133 - 1384</td>
<td>2.0</td>
<td>59.135</td>
<td>2</td>
</tr>
<tr>
<th>13299</th>
<td>Whitefield</td>
<td>4 BHK</td>
<td>2830 - 2882</td>
<td>5.0</td>
<td>154.500</td>
<td>4</td>
</tr>
</tbody>
</table>
<p>190 rows × 6 columns</p>
</div>
</div>
</div>
</div>
</div>
</div><div class="jp-Cell jp-CodeCell jp-Notebook-cell jp-mod-noOutputs">
<div class="jp-Cell-inputWrapper" tabindex="0">
<div class="jp-Collapser jp-InputCollapser jp-Cell-inputCollapser">
</div>
<div class="jp-InputArea jp-Cell-inputArea">
<div class="jp-InputPrompt jp-InputArea-prompt">In [ ]:</div>
<div class="jp-CodeMirrorEditor jp-Editor jp-InputArea-editor" data-type="inline">
<div class="cm-editor cm-s-jupyter">
<div class="highlight hl-ipython3"><pre><span></span><span class="k">def</span> <span class="nf">convert_sqft_to_num</span><span class="p">(</span><span class="n">x</span><span class="p">):</span>
    <span class="n">tokens</span> <span class="o">=</span> <span class="n">x</span><span class="o">.</span><span class="n">split</span><span class="p">(</span><span class="s1">'-'</span><span class="p">)</span>
    <span class="k">if</span> <span class="nb">len</span><span class="p">(</span><span class="n">tokens</span><span class="p">)</span> <span class="o">==</span> <span class="mi">2</span><span class="p">:</span>
        <span class="k">return</span> <span class="p">(</span><span class="nb">float</span><span class="p">(</span><span class="n">tokens</span><span class="p">[</span><span class="mi">0</span><span class="p">])</span><span class="o">+</span> <span class="nb">float</span><span class="p">(</span><span class="n">tokens</span><span class="p">[</span><span class="mi">1</span><span class="p">]))</span><span class="o">/</span><span class="mi">2</span>
    <span class="k">try</span><span class="p">:</span>
        <span class="k">return</span> <span class="nb">float</span><span class="p">(</span><span class="n">x</span><span class="p">)</span>
    <span class="k">except</span><span class="p">:</span>
        <span class="k">return</span> <span class="kc">None</span>
</pre></div>
</div>
</div>
</div>
</div>
</div><div class="jp-Cell jp-CodeCell jp-Notebook-cell">
<div class="jp-Cell-inputWrapper" tabindex="0">
<div class="jp-Collapser jp-InputCollapser jp-Cell-inputCollapser">
</div>
<div class="jp-InputArea jp-Cell-inputArea">
<div class="jp-InputPrompt jp-InputArea-prompt">In [ ]:</div>
<div class="jp-CodeMirrorEditor jp-Editor jp-InputArea-editor" data-type="inline">
<div class="cm-editor cm-s-jupyter">
<div class="highlight hl-ipython3"><pre><span></span><span class="n">convert_sqft_to_num</span><span class="p">(</span><span class="s1">'500'</span><span class="p">)</span>
</pre></div>
</div>
</div>
</div>
</div>
<div class="jp-Cell-outputWrapper">
<div class="jp-Collapser jp-OutputCollapser jp-Cell-outputCollapser">
</div>
<div class="jp-OutputArea jp-Cell-outputArea">
<div class="jp-OutputArea-child jp-OutputArea-executeResult">
<div class="jp-OutputPrompt jp-OutputArea-prompt">Out[ ]:</div>
<div class="jp-RenderedText jp-OutputArea-output jp-OutputArea-executeResult" data-mime-type="text/plain" tabindex="0">
<pre>500.0</pre>
</div>
</div>
</div>
</div>
</div><div class="jp-Cell jp-CodeCell jp-Notebook-cell">
<div class="jp-Cell-inputWrapper" tabindex="0">
<div class="jp-Collapser jp-InputCollapser jp-Cell-inputCollapser">
</div>
<div class="jp-InputArea jp-Cell-inputArea">
<div class="jp-InputPrompt jp-InputArea-prompt">In [ ]:</div>
<div class="jp-CodeMirrorEditor jp-Editor jp-InputArea-editor" data-type="inline">
<div class="cm-editor cm-s-jupyter">
<div class="highlight hl-ipython3"><pre><span></span><span class="n">convert_sqft_to_num</span><span class="p">(</span><span class="s1">'1804 - 2273'</span><span class="p">)</span>
</pre></div>
</div>
</div>
</div>
</div>
<div class="jp-Cell-outputWrapper">
<div class="jp-Collapser jp-OutputCollapser jp-Cell-outputCollapser">
</div>
<div class="jp-OutputArea jp-Cell-outputArea">
<div class="jp-OutputArea-child jp-OutputArea-executeResult">
<div class="jp-OutputPrompt jp-OutputArea-prompt">Out[ ]:</div>
<div class="jp-RenderedText jp-OutputArea-output jp-OutputArea-executeResult" data-mime-type="text/plain" tabindex="0">
<pre>2038.5</pre>
</div>
</div>
</div>
</div>
</div><div class="jp-Cell jp-CodeCell jp-Notebook-cell jp-mod-noOutputs">
<div class="jp-Cell-inputWrapper" tabindex="0">
<div class="jp-Collapser jp-InputCollapser jp-Cell-inputCollapser">
</div>
<div class="jp-InputArea jp-Cell-inputArea">
<div class="jp-InputPrompt jp-InputArea-prompt">In [ ]:</div>
<div class="jp-CodeMirrorEditor jp-Editor jp-InputArea-editor" data-type="inline">
<div class="cm-editor cm-s-jupyter">
<div class="highlight hl-ipython3"><pre><span></span><span class="n">convert_sqft_to_num</span><span class="p">(</span><span class="s1">'34.50Sq. Meter'</span><span class="p">)</span>
</pre></div>
</div>
</div>
</div>
</div>
</div><div class="jp-Cell jp-CodeCell jp-Notebook-cell">
<div class="jp-Cell-inputWrapper" tabindex="0">
<div class="jp-Collapser jp-InputCollapser jp-Cell-inputCollapser">
</div>
<div class="jp-InputArea jp-Cell-inputArea">
<div class="jp-InputPrompt jp-InputArea-prompt">In [ ]:</div>
<div class="jp-CodeMirrorEditor jp-Editor jp-InputArea-editor" data-type="inline">
<div class="cm-editor cm-s-jupyter">
<div class="highlight hl-ipython3"><pre><span></span><span class="n">df4</span> <span class="o">=</span> <span class="n">df3</span><span class="o">.</span><span class="n">copy</span><span class="p">()</span>
<span class="n">df4</span><span class="p">[</span><span class="s1">'total_sqft'</span><span class="p">]</span> <span class="o">=</span> <span class="n">df4</span><span class="p">[</span><span class="s1">'total_sqft'</span><span class="p">]</span><span class="o">.</span><span class="n">apply</span><span class="p">(</span><span class="n">convert_sqft_to_num</span><span class="p">)</span>
<span class="n">df4</span><span class="o">.</span><span class="n">head</span><span class="p">()</span>
</pre></div>
</div>
</div>
</div>
</div>
<div class="jp-Cell-outputWrapper">
<div class="jp-Collapser jp-OutputCollapser jp-Cell-outputCollapser">
</div>
<div class="jp-OutputArea jp-Cell-outputArea">
<div class="jp-OutputArea-child jp-OutputArea-executeResult">
<div class="jp-OutputPrompt jp-OutputArea-prompt">Out[ ]:</div>
<div class="jp-RenderedHTMLCommon jp-RenderedHTML jp-OutputArea-output jp-OutputArea-executeResult" data-mime-type="text/html" tabindex="0">
<div>
<style scoped="">
    .dataframe tbody tr th:only-of-type {
        vertical-align: middle;
    }

    .dataframe tbody tr th {
        vertical-align: top;
    }

    .dataframe thead th {
        text-align: right;
    }
</style>
<table border="1" class="dataframe">
<thead>
<tr style="text-align: right;">
<th></th>
<th>location</th>
<th>size</th>
<th>total_sqft</th>
<th>bath</th>
<th>price</th>
<th>bhk</th>
</tr>
</thead>
<tbody>
<tr>
<th>0</th>
<td>Electronic City Phase II</td>
<td>2 BHK</td>
<td>1056.0</td>
<td>2.0</td>
<td>39.07</td>
<td>2</td>
</tr>
<tr>
<th>1</th>
<td>Chikka Tirupathi</td>
<td>4 Bedroom</td>
<td>2600.0</td>
<td>5.0</td>
<td>120.00</td>
<td>4</td>
</tr>
<tr>
<th>2</th>
<td>Uttarahalli</td>
<td>3 BHK</td>
<td>1440.0</td>
<td>2.0</td>
<td>62.00</td>
<td>3</td>
</tr>
<tr>
<th>3</th>
<td>Lingadheeranahalli</td>
<td>3 BHK</td>
<td>1521.0</td>
<td>3.0</td>
<td>95.00</td>
<td>3</td>
</tr>
<tr>
<th>4</th>
<td>Kothanur</td>
<td>2 BHK</td>
<td>1200.0</td>
<td>2.0</td>
<td>51.00</td>
<td>2</td>
</tr>
</tbody>
</table>
</div>
</div>
</div>
</div>
</div>
</div><div class="jp-Cell jp-CodeCell jp-Notebook-cell">
<div class="jp-Cell-inputWrapper" tabindex="0">
<div class="jp-Collapser jp-InputCollapser jp-Cell-inputCollapser">
</div>
<div class="jp-InputArea jp-Cell-inputArea">
<div class="jp-InputPrompt jp-InputArea-prompt">In [ ]:</div>
<div class="jp-CodeMirrorEditor jp-Editor jp-InputArea-editor" data-type="inline">
<div class="cm-editor cm-s-jupyter">
<div class="highlight hl-ipython3"><pre><span></span><span class="n">df4</span><span class="o">.</span><span class="n">loc</span><span class="p">[</span><span class="mi">30</span><span class="p">]</span>
</pre></div>
</div>
</div>
</div>
</div>
<div class="jp-Cell-outputWrapper">
<div class="jp-Collapser jp-OutputCollapser jp-Cell-outputCollapser">
</div>
<div class="jp-OutputArea jp-Cell-outputArea">
<div class="jp-OutputArea-child jp-OutputArea-executeResult">
<div class="jp-OutputPrompt jp-OutputArea-prompt">Out[ ]:</div>
<div class="jp-RenderedText jp-OutputArea-output jp-OutputArea-executeResult" data-mime-type="text/plain" tabindex="0">
<pre>location      Yelahanka
size              4 BHK
total_sqft       2475.0
bath                4.0
price             186.0
bhk                   4
Name: 30, dtype: object</pre>
</div>
</div>
</div>
</div>
</div><div class="jp-Cell jp-CodeCell jp-Notebook-cell">
<div class="jp-Cell-inputWrapper" tabindex="0">
<div class="jp-Collapser jp-InputCollapser jp-Cell-inputCollapser">
</div>
<div class="jp-InputArea jp-Cell-inputArea">
<div class="jp-InputPrompt jp-InputArea-prompt">In [ ]:</div>
<div class="jp-CodeMirrorEditor jp-Editor jp-InputArea-editor" data-type="inline">
<div class="cm-editor cm-s-jupyter">
<div class="highlight hl-ipython3"><pre><span></span><span class="n">df5</span> <span class="o">=</span> <span class="n">df4</span><span class="o">.</span><span class="n">copy</span><span class="p">()</span>
<span class="n">df5</span><span class="p">[</span><span class="s1">'price_sq_ft'</span><span class="p">]</span><span class="o">=</span> <span class="n">df5</span><span class="p">[</span><span class="s1">'price'</span><span class="p">]</span><span class="o">*</span><span class="mi">100000</span><span class="o">/</span><span class="n">df5</span><span class="p">[</span><span class="s1">'total_sqft'</span><span class="p">]</span>
<span class="n">df5</span><span class="o">.</span><span class="n">head</span><span class="p">()</span>
</pre></div>
</div>
</div>
</div>
</div>
<div class="jp-Cell-outputWrapper">
<div class="jp-Collapser jp-OutputCollapser jp-Cell-outputCollapser">
</div>
<div class="jp-OutputArea jp-Cell-outputArea">
<div class="jp-OutputArea-child jp-OutputArea-executeResult">
<div class="jp-OutputPrompt jp-OutputArea-prompt">Out[ ]:</div>
<div class="jp-RenderedHTMLCommon jp-RenderedHTML jp-OutputArea-output jp-OutputArea-executeResult" data-mime-type="text/html" tabindex="0">
<div>
<style scoped="">
    .dataframe tbody tr th:only-of-type {
        vertical-align: middle;
    }

    .dataframe tbody tr th {
        vertical-align: top;
    }

    .dataframe thead th {
        text-align: right;
    }
</style>
<table border="1" class="dataframe">
<thead>
<tr style="text-align: right;">
<th></th>
<th>location</th>
<th>size</th>
<th>total_sqft</th>
<th>bath</th>
<th>price</th>
<th>bhk</th>
<th>price_sq_ft</th>
</tr>
</thead>
<tbody>
<tr>
<th>0</th>
<td>Electronic City Phase II</td>
<td>2 BHK</td>
<td>1056.0</td>
<td>2.0</td>
<td>39.07</td>
<td>2</td>
<td>3699.810606</td>
</tr>
<tr>
<th>1</th>
<td>Chikka Tirupathi</td>
<td>4 Bedroom</td>
<td>2600.0</td>
<td>5.0</td>
<td>120.00</td>
<td>4</td>
<td>4615.384615</td>
</tr>
<tr>
<th>2</th>
<td>Uttarahalli</td>
<td>3 BHK</td>
<td>1440.0</td>
<td>2.0</td>
<td>62.00</td>
<td>3</td>
<td>4305.555556</td>
</tr>
<tr>
<th>3</th>
<td>Lingadheeranahalli</td>
<td>3 BHK</td>
<td>1521.0</td>
<td>3.0</td>
<td>95.00</td>
<td>3</td>
<td>6245.890861</td>
</tr>
<tr>
<th>4</th>
<td>Kothanur</td>
<td>2 BHK</td>
<td>1200.0</td>
<td>2.0</td>
<td>51.00</td>
<td>2</td>
<td>4250.000000</td>
</tr>
</tbody>
</table>
</div>
</div>
</div>
</div>
</div>
</div><div class="jp-Cell jp-CodeCell jp-Notebook-cell">
<div class="jp-Cell-inputWrapper" tabindex="0">
<div class="jp-Collapser jp-InputCollapser jp-Cell-inputCollapser">
</div>
<div class="jp-InputArea jp-Cell-inputArea">
<div class="jp-InputPrompt jp-InputArea-prompt">In [ ]:</div>
<div class="jp-CodeMirrorEditor jp-Editor jp-InputArea-editor" data-type="inline">
<div class="cm-editor cm-s-jupyter">
<div class="highlight hl-ipython3"><pre><span></span><span class="n">df5</span><span class="o">.</span><span class="n">location</span><span class="o">.</span><span class="n">unique</span><span class="p">()</span>
</pre></div>
</div>
</div>
</div>
</div>
<div class="jp-Cell-outputWrapper">
<div class="jp-Collapser jp-OutputCollapser jp-Cell-outputCollapser">
</div>
<div class="jp-OutputArea jp-Cell-outputArea">
<div class="jp-OutputArea-child jp-OutputArea-executeResult">
<div class="jp-OutputPrompt jp-OutputArea-prompt">Out[ ]:</div>
<div class="jp-RenderedText jp-OutputArea-output jp-OutputArea-executeResult" data-mime-type="text/plain" tabindex="0">
<pre>array(['Electronic City Phase II', 'Chikka Tirupathi', 'Uttarahalli', ...,
       '12th cross srinivas nagar banshankari 3rd stage',
       'Havanur extension', 'Abshot Layout'], dtype=object)</pre>
</div>
</div>
</div>
</div>
</div><div class="jp-Cell jp-CodeCell jp-Notebook-cell">
<div class="jp-Cell-inputWrapper" tabindex="0">
<div class="jp-Collapser jp-InputCollapser jp-Cell-inputCollapser">
</div>
<div class="jp-InputArea jp-Cell-inputArea">
<div class="jp-InputPrompt jp-InputArea-prompt">In [ ]:</div>
<div class="jp-CodeMirrorEditor jp-Editor jp-InputArea-editor" data-type="inline">
<div class="cm-editor cm-s-jupyter">
<div class="highlight hl-ipython3"><pre><span></span><span class="nb">len</span><span class="p">(</span><span class="n">df5</span><span class="o">.</span><span class="n">location</span><span class="o">.</span><span class="n">unique</span><span class="p">())</span>
</pre></div>
</div>
</div>
</div>
</div>
<div class="jp-Cell-outputWrapper">
<div class="jp-Collapser jp-OutputCollapser jp-Cell-outputCollapser">
</div>
<div class="jp-OutputArea jp-Cell-outputArea">
<div class="jp-OutputArea-child jp-OutputArea-executeResult">
<div class="jp-OutputPrompt jp-OutputArea-prompt">Out[ ]:</div>
<div class="jp-RenderedText jp-OutputArea-output jp-OutputArea-executeResult" data-mime-type="text/plain" tabindex="0">
<pre>1304</pre>
</div>
</div>
</div>
</div>
</div><div class="jp-Cell jp-CodeCell jp-Notebook-cell">
<div class="jp-Cell-inputWrapper" tabindex="0">
<div class="jp-Collapser jp-InputCollapser jp-Cell-inputCollapser">
</div>
<div class="jp-InputArea jp-Cell-inputArea">
<div class="jp-InputPrompt jp-InputArea-prompt">In [ ]:</div>
<div class="jp-CodeMirrorEditor jp-Editor jp-InputArea-editor" data-type="inline">
<div class="cm-editor cm-s-jupyter">
<div class="highlight hl-ipython3"><pre><span></span><span class="n">df5</span><span class="o">.</span><span class="n">location</span><span class="o">.</span><span class="n">value_counts</span>
</pre></div>
</div>
</div>
</div>
</div>
<div class="jp-Cell-outputWrapper">
<div class="jp-Collapser jp-OutputCollapser jp-Cell-outputCollapser">
</div>
<div class="jp-OutputArea jp-Cell-outputArea">
<div class="jp-OutputArea-child jp-OutputArea-executeResult">
<div class="jp-OutputPrompt jp-OutputArea-prompt">Out[ ]:</div>
<div class="jp-RenderedText jp-OutputArea-output jp-OutputArea-executeResult" data-mime-type="text/plain" tabindex="0">
<pre>&lt;bound method IndexOpsMixin.value_counts of 0        Electronic City Phase II
1                Chikka Tirupathi
2                     Uttarahalli
3              Lingadheeranahalli
4                        Kothanur
                   ...           
13315                  Whitefield
13316               Richards Town
13317       Raja Rajeshwari Nagar
13318             Padmanabhanagar
13319                Doddathoguru
Name: location, Length: 13246, dtype: object&gt;</pre>
</div>
</div>
</div>
</div>
</div><div class="jp-Cell jp-CodeCell jp-Notebook-cell">
<div class="jp-Cell-inputWrapper" tabindex="0">
<div class="jp-Collapser jp-InputCollapser jp-Cell-inputCollapser">
</div>
<div class="jp-InputArea jp-Cell-inputArea">
<div class="jp-InputPrompt jp-InputArea-prompt">In [ ]:</div>
<div class="jp-CodeMirrorEditor jp-Editor jp-InputArea-editor" data-type="inline">
<div class="cm-editor cm-s-jupyter">
<div class="highlight hl-ipython3"><pre><span></span><span class="n">df5</span><span class="o">.</span><span class="n">location</span><span class="o">.</span><span class="n">value_counts</span><span class="p">()</span>
</pre></div>
</div>
</div>
</div>
</div>
<div class="jp-Cell-outputWrapper">
<div class="jp-Collapser jp-OutputCollapser jp-Cell-outputCollapser">
</div>
<div class="jp-OutputArea jp-Cell-outputArea">
<div class="jp-OutputArea-child jp-OutputArea-executeResult">
<div class="jp-OutputPrompt jp-OutputArea-prompt">Out[ ]:</div>
<div class="jp-RenderedText jp-OutputArea-output jp-OutputArea-executeResult" data-mime-type="text/plain" tabindex="0">
<pre>location
Whitefield           534
Sarjapur  Road       392
Electronic City      302
Kanakpura Road       266
Thanisandra          233
                    ... 
Vidyapeeta             1
Maruthi Extension      1
Okalipura              1
Old Town               1
Abshot Layout          1
Name: count, Length: 1304, dtype: int64</pre>
</div>
</div>
</div>
</div>
</div><div class="jp-Cell jp-CodeCell jp-Notebook-cell">
<div class="jp-Cell-inputWrapper" tabindex="0">
<div class="jp-Collapser jp-InputCollapser jp-Cell-inputCollapser">
</div>
<div class="jp-InputArea jp-Cell-inputArea">
<div class="jp-InputPrompt jp-InputArea-prompt">In [ ]:</div>
<div class="jp-CodeMirrorEditor jp-Editor jp-InputArea-editor" data-type="inline">
<div class="cm-editor cm-s-jupyter">
<div class="highlight hl-ipython3"><pre><span></span><span class="n">df5</span><span class="o">.</span><span class="n">location</span><span class="o">.</span><span class="n">value_counts</span><span class="p">(</span><span class="n">ascending</span><span class="o">=</span><span class="kc">False</span><span class="p">)</span>
</pre></div>
</div>
</div>
</div>
</div>
<div class="jp-Cell-outputWrapper">
<div class="jp-Collapser jp-OutputCollapser jp-Cell-outputCollapser">
</div>
<div class="jp-OutputArea jp-Cell-outputArea">
<div class="jp-OutputArea-child jp-OutputArea-executeResult">
<div class="jp-OutputPrompt jp-OutputArea-prompt">Out[ ]:</div>
<div class="jp-RenderedText jp-OutputArea-output jp-OutputArea-executeResult" data-mime-type="text/plain" tabindex="0">
<pre>location
Whitefield           534
Sarjapur  Road       392
Electronic City      302
Kanakpura Road       266
Thanisandra          233
                    ... 
Vidyapeeta             1
Maruthi Extension      1
Okalipura              1
Old Town               1
Abshot Layout          1
Name: count, Length: 1304, dtype: int64</pre>
</div>
</div>
</div>
</div>
</div><div class="jp-Cell jp-CodeCell jp-Notebook-cell">
<div class="jp-Cell-inputWrapper" tabindex="0">
<div class="jp-Collapser jp-InputCollapser jp-Cell-inputCollapser">
</div>
<div class="jp-InputArea jp-Cell-inputArea">
<div class="jp-InputPrompt jp-InputArea-prompt">In [ ]:</div>
<div class="jp-CodeMirrorEditor jp-Editor jp-InputArea-editor" data-type="inline">
<div class="cm-editor cm-s-jupyter">
<div class="highlight hl-ipython3"><pre><span></span><span class="n">df5</span><span class="o">.</span><span class="n">location</span> <span class="o">=</span> <span class="n">df5</span><span class="o">.</span><span class="n">location</span><span class="o">.</span><span class="n">apply</span><span class="p">(</span><span class="k">lambda</span> <span class="n">x</span><span class="p">:</span> <span class="n">x</span><span class="o">.</span><span class="n">strip</span><span class="p">())</span>
<span class="n">location_stats</span> <span class="o">=</span> <span class="n">df5</span><span class="o">.</span><span class="n">groupby</span><span class="p">(</span><span class="s1">'location'</span><span class="p">)[</span><span class="s1">'location'</span><span class="p">]</span><span class="o">.</span><span class="n">agg</span><span class="p">(</span><span class="s1">'count'</span><span class="p">)</span><span class="o">.</span><span class="n">sort_values</span><span class="p">(</span><span class="n">ascending</span><span class="o">=</span><span class="kc">False</span><span class="p">)</span> 
<span class="n">location_stats</span>  <span class="c1"># we can do easily by using--  df5.location.value_counts()</span>
</pre></div>
</div>
</div>
</div>
</div>
<div class="jp-Cell-outputWrapper">
<div class="jp-Collapser jp-OutputCollapser jp-Cell-outputCollapser">
</div>
<div class="jp-OutputArea jp-Cell-outputArea">
<div class="jp-OutputArea-child jp-OutputArea-executeResult">
<div class="jp-OutputPrompt jp-OutputArea-prompt">Out[ ]:</div>
<div class="jp-RenderedText jp-OutputArea-output jp-OutputArea-executeResult" data-mime-type="text/plain" tabindex="0">
<pre>location
Whitefield               535
Sarjapur  Road           392
Electronic City          304
Kanakpura Road           266
Thanisandra              236
                        ... 
1 Giri Nagar               1
Kanakapura Road,           1
Kanakapura main  Road      1
Karnataka Shabarimala      1
whitefiled                 1
Name: location, Length: 1293, dtype: int64</pre>
</div>
</div>
</div>
</div>
</div><div class="jp-Cell jp-CodeCell jp-Notebook-cell">
<div class="jp-Cell-inputWrapper" tabindex="0">
<div class="jp-Collapser jp-InputCollapser jp-Cell-inputCollapser">
</div>
<div class="jp-InputArea jp-Cell-inputArea">
<div class="jp-InputPrompt jp-InputArea-prompt">In [ ]:</div>
<div class="jp-CodeMirrorEditor jp-Editor jp-InputArea-editor" data-type="inline">
<div class="cm-editor cm-s-jupyter">
<div class="highlight hl-ipython3"><pre><span></span><span class="nb">len</span><span class="p">(</span><span class="n">location_stats</span><span class="p">[</span><span class="n">location_stats</span><span class="o">&lt;=</span><span class="mi">10</span><span class="p">])</span>
</pre></div>
</div>
</div>
</div>
</div>
<div class="jp-Cell-outputWrapper">
<div class="jp-Collapser jp-OutputCollapser jp-Cell-outputCollapser">
</div>
<div class="jp-OutputArea jp-Cell-outputArea">
<div class="jp-OutputArea-child jp-OutputArea-executeResult">
<div class="jp-OutputPrompt jp-OutputArea-prompt">Out[ ]:</div>
<div class="jp-RenderedText jp-OutputArea-output jp-OutputArea-executeResult" data-mime-type="text/plain" tabindex="0">
<pre>1052</pre>
</div>
</div>
</div>
</div>
</div><div class="jp-Cell jp-CodeCell jp-Notebook-cell">
<div class="jp-Cell-inputWrapper" tabindex="0">
<div class="jp-Collapser jp-InputCollapser jp-Cell-inputCollapser">
</div>
<div class="jp-InputArea jp-Cell-inputArea">
<div class="jp-InputPrompt jp-InputArea-prompt">In [ ]:</div>
<div class="jp-CodeMirrorEditor jp-Editor jp-InputArea-editor" data-type="inline">
<div class="cm-editor cm-s-jupyter">
<div class="highlight hl-ipython3"><pre><span></span><span class="n">location_stats_less_than_10</span><span class="o">=</span> <span class="n">location_stats</span><span class="p">[</span><span class="n">location_stats</span><span class="o">&lt;=</span><span class="mi">10</span><span class="p">]</span>
<span class="n">location_stats_less_than_10</span>
</pre></div>
</div>
</div>
</div>
</div>
<div class="jp-Cell-outputWrapper">
<div class="jp-Collapser jp-OutputCollapser jp-Cell-outputCollapser">
</div>
<div class="jp-OutputArea jp-Cell-outputArea">
<div class="jp-OutputArea-child jp-OutputArea-executeResult">
<div class="jp-OutputPrompt jp-OutputArea-prompt">Out[ ]:</div>
<div class="jp-RenderedText jp-OutputArea-output jp-OutputArea-executeResult" data-mime-type="text/plain" tabindex="0">
<pre>location
Basapura                 10
1st Block Koramangala    10
Gunjur Palya             10
Kalkere                  10
Sector 1 HSR Layout      10
                         ..
1 Giri Nagar              1
Kanakapura Road,          1
Kanakapura main  Road     1
Karnataka Shabarimala     1
whitefiled                1
Name: location, Length: 1052, dtype: int64</pre>
</div>
</div>
</div>
</div>
</div><div class="jp-Cell jp-CodeCell jp-Notebook-cell">
<div class="jp-Cell-inputWrapper" tabindex="0">
<div class="jp-Collapser jp-InputCollapser jp-Cell-inputCollapser">
</div>
<div class="jp-InputArea jp-Cell-inputArea">
<div class="jp-InputPrompt jp-InputArea-prompt">In [ ]:</div>
<div class="jp-CodeMirrorEditor jp-Editor jp-InputArea-editor" data-type="inline">
<div class="cm-editor cm-s-jupyter">
<div class="highlight hl-ipython3"><pre><span></span><span class="n">df5</span><span class="o">.</span><span class="n">location</span> <span class="o">=</span> <span class="n">df5</span><span class="o">.</span><span class="n">location</span><span class="o">.</span><span class="n">apply</span><span class="p">(</span><span class="k">lambda</span> <span class="n">x</span><span class="p">:</span> <span class="s1">'other'</span> <span class="k">if</span> <span class="n">x</span> <span class="ow">in</span> <span class="n">location_stats_less_than_10</span> <span class="k">else</span> <span class="n">x</span><span class="p">)</span>
<span class="n">df5</span><span class="o">.</span><span class="n">location</span><span class="o">.</span><span class="n">value_counts</span><span class="p">()</span>
</pre></div>
</div>
</div>
</div>
</div>
<div class="jp-Cell-outputWrapper">
<div class="jp-Collapser jp-OutputCollapser jp-Cell-outputCollapser">
</div>
<div class="jp-OutputArea jp-Cell-outputArea">
<div class="jp-OutputArea-child jp-OutputArea-executeResult">
<div class="jp-OutputPrompt jp-OutputArea-prompt">Out[ ]:</div>
<div class="jp-RenderedText jp-OutputArea-output jp-OutputArea-executeResult" data-mime-type="text/plain" tabindex="0">
<pre>location
other                 2881
Whitefield             535
Sarjapur  Road         392
Electronic City        304
Kanakpura Road         266
                      ... 
Nehru Nagar             11
Banjara Layout          11
LB Shastri Nagar        11
Pattandur Agrahara      11
Narayanapura            11
Name: count, Length: 242, dtype: int64</pre>
</div>
</div>
</div>
</div>
</div><div class="jp-Cell jp-CodeCell jp-Notebook-cell">
<div class="jp-Cell-inputWrapper" tabindex="0">
<div class="jp-Collapser jp-InputCollapser jp-Cell-inputCollapser">
</div>
<div class="jp-InputArea jp-Cell-inputArea">
<div class="jp-InputPrompt jp-InputArea-prompt">In [ ]:</div>
<div class="jp-CodeMirrorEditor jp-Editor jp-InputArea-editor" data-type="inline">
<div class="cm-editor cm-s-jupyter">
<div class="highlight hl-ipython3"><pre><span></span><span class="nb">len</span><span class="p">(</span><span class="n">df5</span><span class="o">.</span><span class="n">location</span><span class="o">.</span><span class="n">unique</span><span class="p">())</span>
</pre></div>
</div>
</div>
</div>
</div>
<div class="jp-Cell-outputWrapper">
<div class="jp-Collapser jp-OutputCollapser jp-Cell-outputCollapser">
</div>
<div class="jp-OutputArea jp-Cell-outputArea">
<div class="jp-OutputArea-child jp-OutputArea-executeResult">
<div class="jp-OutputPrompt jp-OutputArea-prompt">Out[ ]:</div>
<div class="jp-RenderedText jp-OutputArea-output jp-OutputArea-executeResult" data-mime-type="text/plain" tabindex="0">
<pre>242</pre>
</div>
</div>
</div>
</div>
</div><div class="jp-Cell jp-CodeCell jp-Notebook-cell">
<div class="jp-Cell-inputWrapper" tabindex="0">
<div class="jp-Collapser jp-InputCollapser jp-Cell-inputCollapser">
</div>
<div class="jp-InputArea jp-Cell-inputArea">
<div class="jp-InputPrompt jp-InputArea-prompt">In [ ]:</div>
<div class="jp-CodeMirrorEditor jp-Editor jp-InputArea-editor" data-type="inline">
<div class="cm-editor cm-s-jupyter">
<div class="highlight hl-ipython3"><pre><span></span><span class="n">df5</span><span class="o">.</span><span class="n">head</span><span class="p">(</span><span class="mi">10</span><span class="p">)</span>
</pre></div>
</div>
</div>
</div>
</div>
<div class="jp-Cell-outputWrapper">
<div class="jp-Collapser jp-OutputCollapser jp-Cell-outputCollapser">
</div>
<div class="jp-OutputArea jp-Cell-outputArea">
<div class="jp-OutputArea-child jp-OutputArea-executeResult">
<div class="jp-OutputPrompt jp-OutputArea-prompt">Out[ ]:</div>
<div class="jp-RenderedHTMLCommon jp-RenderedHTML jp-OutputArea-output jp-OutputArea-executeResult" data-mime-type="text/html" tabindex="0">
<div>
<style scoped="">
    .dataframe tbody tr th:only-of-type {
        vertical-align: middle;
    }

    .dataframe tbody tr th {
        vertical-align: top;
    }

    .dataframe thead th {
        text-align: right;
    }
</style>
<table border="1" class="dataframe">
<thead>
<tr style="text-align: right;">
<th></th>
<th>location</th>
<th>size</th>
<th>total_sqft</th>
<th>bath</th>
<th>price</th>
<th>bhk</th>
<th>price_sq_ft</th>
</tr>
</thead>
<tbody>
<tr>
<th>0</th>
<td>Electronic City Phase II</td>
<td>2 BHK</td>
<td>1056.0</td>
<td>2.0</td>
<td>39.07</td>
<td>2</td>
<td>3699.810606</td>
</tr>
<tr>
<th>1</th>
<td>Chikka Tirupathi</td>
<td>4 Bedroom</td>
<td>2600.0</td>
<td>5.0</td>
<td>120.00</td>
<td>4</td>
<td>4615.384615</td>
</tr>
<tr>
<th>2</th>
<td>Uttarahalli</td>
<td>3 BHK</td>
<td>1440.0</td>
<td>2.0</td>
<td>62.00</td>
<td>3</td>
<td>4305.555556</td>
</tr>
<tr>
<th>3</th>
<td>Lingadheeranahalli</td>
<td>3 BHK</td>
<td>1521.0</td>
<td>3.0</td>
<td>95.00</td>
<td>3</td>
<td>6245.890861</td>
</tr>
<tr>
<th>4</th>
<td>Kothanur</td>
<td>2 BHK</td>
<td>1200.0</td>
<td>2.0</td>
<td>51.00</td>
<td>2</td>
<td>4250.000000</td>
</tr>
<tr>
<th>5</th>
<td>Whitefield</td>
<td>2 BHK</td>
<td>1170.0</td>
<td>2.0</td>
<td>38.00</td>
<td>2</td>
<td>3247.863248</td>
</tr>
<tr>
<th>6</th>
<td>Old Airport Road</td>
<td>4 BHK</td>
<td>2732.0</td>
<td>4.0</td>
<td>204.00</td>
<td>4</td>
<td>7467.057101</td>
</tr>
<tr>
<th>7</th>
<td>Rajaji Nagar</td>
<td>4 BHK</td>
<td>3300.0</td>
<td>4.0</td>
<td>600.00</td>
<td>4</td>
<td>18181.818182</td>
</tr>
<tr>
<th>8</th>
<td>Marathahalli</td>
<td>3 BHK</td>
<td>1310.0</td>
<td>3.0</td>
<td>63.25</td>
<td>3</td>
<td>4828.244275</td>
</tr>
<tr>
<th>9</th>
<td>other</td>
<td>6 Bedroom</td>
<td>1020.0</td>
<td>6.0</td>
<td>370.00</td>
<td>6</td>
<td>36274.509804</td>
</tr>
</tbody>
</table>
</div>
</div>
</div>
</div>
</div>
</div><div class="jp-Cell jp-CodeCell jp-Notebook-cell">
<div class="jp-Cell-inputWrapper" tabindex="0">
<div class="jp-Collapser jp-InputCollapser jp-Cell-inputCollapser">
</div>
<div class="jp-InputArea jp-Cell-inputArea">
<div class="jp-InputPrompt jp-InputArea-prompt">In [ ]:</div>
<div class="jp-CodeMirrorEditor jp-Editor jp-InputArea-editor" data-type="inline">
<div class="cm-editor cm-s-jupyter">
<div class="highlight hl-ipython3"><pre><span></span><span class="n">df5</span><span class="p">[</span><span class="n">df5</span><span class="o">.</span><span class="n">total_sqft</span><span class="o">/</span><span class="n">df5</span><span class="o">.</span><span class="n">bhk</span><span class="o">&lt;</span><span class="mi">300</span><span class="p">]</span><span class="o">.</span><span class="n">head</span><span class="p">()</span>
</pre></div>
</div>
</div>
</div>
</div>
<div class="jp-Cell-outputWrapper">
<div class="jp-Collapser jp-OutputCollapser jp-Cell-outputCollapser">
</div>
<div class="jp-OutputArea jp-Cell-outputArea">
<div class="jp-OutputArea-child jp-OutputArea-executeResult">
<div class="jp-OutputPrompt jp-OutputArea-prompt">Out[ ]:</div>
<div class="jp-RenderedHTMLCommon jp-RenderedHTML jp-OutputArea-output jp-OutputArea-executeResult" data-mime-type="text/html" tabindex="0">
<div>
<style scoped="">
    .dataframe tbody tr th:only-of-type {
        vertical-align: middle;
    }

    .dataframe tbody tr th {
        vertical-align: top;
    }

    .dataframe thead th {
        text-align: right;
    }
</style>
<table border="1" class="dataframe">
<thead>
<tr style="text-align: right;">
<th></th>
<th>location</th>
<th>size</th>
<th>total_sqft</th>
<th>bath</th>
<th>price</th>
<th>bhk</th>
<th>price_sq_ft</th>
</tr>
</thead>
<tbody>
<tr>
<th>9</th>
<td>other</td>
<td>6 Bedroom</td>
<td>1020.0</td>
<td>6.0</td>
<td>370.0</td>
<td>6</td>
<td>36274.509804</td>
</tr>
<tr>
<th>45</th>
<td>HSR Layout</td>
<td>8 Bedroom</td>
<td>600.0</td>
<td>9.0</td>
<td>200.0</td>
<td>8</td>
<td>33333.333333</td>
</tr>
<tr>
<th>58</th>
<td>Murugeshpalya</td>
<td>6 Bedroom</td>
<td>1407.0</td>
<td>4.0</td>
<td>150.0</td>
<td>6</td>
<td>10660.980810</td>
</tr>
<tr>
<th>68</th>
<td>Devarachikkanahalli</td>
<td>8 Bedroom</td>
<td>1350.0</td>
<td>7.0</td>
<td>85.0</td>
<td>8</td>
<td>6296.296296</td>
</tr>
<tr>
<th>70</th>
<td>other</td>
<td>3 Bedroom</td>
<td>500.0</td>
<td>3.0</td>
<td>100.0</td>
<td>3</td>
<td>20000.000000</td>
</tr>
</tbody>
</table>
</div>
</div>
</div>
</div>
</div>
</div><div class="jp-Cell jp-CodeCell jp-Notebook-cell">
<div class="jp-Cell-inputWrapper" tabindex="0">
<div class="jp-Collapser jp-InputCollapser jp-Cell-inputCollapser">
</div>
<div class="jp-InputArea jp-Cell-inputArea">
<div class="jp-InputPrompt jp-InputArea-prompt">In [ ]:</div>
<div class="jp-CodeMirrorEditor jp-Editor jp-InputArea-editor" data-type="inline">
<div class="cm-editor cm-s-jupyter">
<div class="highlight hl-ipython3"><pre><span></span><span class="n">df5</span><span class="o">.</span><span class="n">shape</span>
</pre></div>
</div>
</div>
</div>
</div>
<div class="jp-Cell-outputWrapper">
<div class="jp-Collapser jp-OutputCollapser jp-Cell-outputCollapser">
</div>
<div class="jp-OutputArea jp-Cell-outputArea">
<div class="jp-OutputArea-child jp-OutputArea-executeResult">
<div class="jp-OutputPrompt jp-OutputArea-prompt">Out[ ]:</div>
<div class="jp-RenderedText jp-OutputArea-output jp-OutputArea-executeResult" data-mime-type="text/plain" tabindex="0">
<pre>(13246, 7)</pre>
</div>
</div>
</div>
</div>
</div><div class="jp-Cell jp-CodeCell jp-Notebook-cell">
<div class="jp-Cell-inputWrapper" tabindex="0">
<div class="jp-Collapser jp-InputCollapser jp-Cell-inputCollapser">
</div>
<div class="jp-InputArea jp-Cell-inputArea">
<div class="jp-InputPrompt jp-InputArea-prompt">In [ ]:</div>
<div class="jp-CodeMirrorEditor jp-Editor jp-InputArea-editor" data-type="inline">
<div class="cm-editor cm-s-jupyter">
<div class="highlight hl-ipython3"><pre><span></span><span class="n">df6</span> <span class="o">=</span> <span class="n">df5</span><span class="p">[</span><span class="o">~</span><span class="p">(</span><span class="n">df5</span><span class="o">.</span><span class="n">total_sqft</span><span class="o">/</span><span class="n">df5</span><span class="o">.</span><span class="n">bhk</span><span class="o">&lt;</span><span class="mi">300</span><span class="p">)]</span>
<span class="n">df6</span><span class="o">.</span><span class="n">shape</span>
</pre></div>
</div>
</div>
</div>
</div>
<div class="jp-Cell-outputWrapper">
<div class="jp-Collapser jp-OutputCollapser jp-Cell-outputCollapser">
</div>
<div class="jp-OutputArea jp-Cell-outputArea">
<div class="jp-OutputArea-child jp-OutputArea-executeResult">
<div class="jp-OutputPrompt jp-OutputArea-prompt">Out[ ]:</div>
<div class="jp-RenderedText jp-OutputArea-output jp-OutputArea-executeResult" data-mime-type="text/plain" tabindex="0">
<pre>(12502, 7)</pre>
</div>
</div>
</div>
</div>
</div><div class="jp-Cell jp-CodeCell jp-Notebook-cell">
<div class="jp-Cell-inputWrapper" tabindex="0">
<div class="jp-Collapser jp-InputCollapser jp-Cell-inputCollapser">
</div>
<div class="jp-InputArea jp-Cell-inputArea">
<div class="jp-InputPrompt jp-InputArea-prompt">In [ ]:</div>
<div class="jp-CodeMirrorEditor jp-Editor jp-InputArea-editor" data-type="inline">
<div class="cm-editor cm-s-jupyter">
<div class="highlight hl-ipython3"><pre><span></span><span class="n">df6</span><span class="o">.</span><span class="n">describe</span><span class="p">()</span>
</pre></div>
</div>
</div>
</div>
</div>
<div class="jp-Cell-outputWrapper">
<div class="jp-Collapser jp-OutputCollapser jp-Cell-outputCollapser">
</div>
<div class="jp-OutputArea jp-Cell-outputArea">
<div class="jp-OutputArea-child jp-OutputArea-executeResult">
<div class="jp-OutputPrompt jp-OutputArea-prompt">Out[ ]:</div>
<div class="jp-RenderedHTMLCommon jp-RenderedHTML jp-OutputArea-output jp-OutputArea-executeResult" data-mime-type="text/html" tabindex="0">
<div>
<style scoped="">
    .dataframe tbody tr th:only-of-type {
        vertical-align: middle;
    }

    .dataframe tbody tr th {
        vertical-align: top;
    }

    .dataframe thead th {
        text-align: right;
    }
</style>
<table border="1" class="dataframe">
<thead>
<tr style="text-align: right;">
<th></th>
<th>total_sqft</th>
<th>bath</th>
<th>price</th>
<th>bhk</th>
<th>price_sq_ft</th>
</tr>
</thead>
<tbody>
<tr>
<th>count</th>
<td>12456.000000</td>
<td>12502.000000</td>
<td>12502.000000</td>
<td>12502.000000</td>
<td>12456.000000</td>
</tr>
<tr>
<th>mean</th>
<td>1590.189927</td>
<td>2.564790</td>
<td>111.311915</td>
<td>2.650696</td>
<td>6308.502826</td>
</tr>
<tr>
<th>std</th>
<td>1260.404795</td>
<td>1.084946</td>
<td>152.089966</td>
<td>0.981698</td>
<td>4168.127339</td>
</tr>
<tr>
<th>min</th>
<td>300.000000</td>
<td>1.000000</td>
<td>9.000000</td>
<td>1.000000</td>
<td>267.829813</td>
</tr>
<tr>
<th>25%</th>
<td>1115.000000</td>
<td>2.000000</td>
<td>49.000000</td>
<td>2.000000</td>
<td>4210.526316</td>
</tr>
<tr>
<th>50%</th>
<td>1300.000000</td>
<td>2.000000</td>
<td>70.000000</td>
<td>3.000000</td>
<td>5294.117647</td>
</tr>
<tr>
<th>75%</th>
<td>1700.000000</td>
<td>3.000000</td>
<td>115.000000</td>
<td>3.000000</td>
<td>6916.666667</td>
</tr>
<tr>
<th>max</th>
<td>52272.000000</td>
<td>16.000000</td>
<td>3600.000000</td>
<td>16.000000</td>
<td>176470.588235</td>
</tr>
</tbody>
</table>
</div>
</div>
</div>
</div>
</div>
</div><div class="jp-Cell jp-CodeCell jp-Notebook-cell">
<div class="jp-Cell-inputWrapper" tabindex="0">
<div class="jp-Collapser jp-InputCollapser jp-Cell-inputCollapser">
</div>
<div class="jp-InputArea jp-Cell-inputArea">
<div class="jp-InputPrompt jp-InputArea-prompt">In [ ]:</div>
<div class="jp-CodeMirrorEditor jp-Editor jp-InputArea-editor" data-type="inline">
<div class="cm-editor cm-s-jupyter">
<div class="highlight hl-ipython3"><pre><span></span><span class="n">df6</span><span class="o">.</span><span class="n">price_sq_ft</span><span class="o">.</span><span class="n">describe</span><span class="p">()</span>
</pre></div>
</div>
</div>
</div>
</div>
<div class="jp-Cell-outputWrapper">
<div class="jp-Collapser jp-OutputCollapser jp-Cell-outputCollapser">
</div>
<div class="jp-OutputArea jp-Cell-outputArea">
<div class="jp-OutputArea-child jp-OutputArea-executeResult">
<div class="jp-OutputPrompt jp-OutputArea-prompt">Out[ ]:</div>
<div class="jp-RenderedText jp-OutputArea-output jp-OutputArea-executeResult" data-mime-type="text/plain" tabindex="0">
<pre>count     12456.000000
mean       6308.502826
std        4168.127339
min         267.829813
25%        4210.526316
50%        5294.117647
75%        6916.666667
max      176470.588235
Name: price_sq_ft, dtype: float64</pre>
</div>
</div>
</div>
</div>
</div><div class="jp-Cell jp-CodeCell jp-Notebook-cell">
<div class="jp-Cell-inputWrapper" tabindex="0">
<div class="jp-Collapser jp-InputCollapser jp-Cell-inputCollapser">
</div>
<div class="jp-InputArea jp-Cell-inputArea">
<div class="jp-InputPrompt jp-InputArea-prompt">In [ ]:</div>
<div class="jp-CodeMirrorEditor jp-Editor jp-InputArea-editor" data-type="inline">
<div class="cm-editor cm-s-jupyter">
<div class="highlight hl-ipython3"><pre><span></span><span class="k">def</span> <span class="nf">remove_pps_outliers</span><span class="p">(</span><span class="n">df</span><span class="p">):</span>
    <span class="n">df_out</span> <span class="o">=</span> <span class="n">pd</span><span class="o">.</span><span class="n">DataFrame</span><span class="p">()</span>
    <span class="k">for</span> <span class="n">key</span><span class="p">,</span> <span class="n">subdf</span> <span class="ow">in</span> <span class="n">df</span><span class="o">.</span><span class="n">groupby</span><span class="p">(</span><span class="s1">'location'</span><span class="p">):</span>
        <span class="n">m</span> <span class="o">=</span> <span class="n">np</span><span class="o">.</span><span class="n">mean</span><span class="p">(</span><span class="n">subdf</span><span class="o">.</span><span class="n">price_sq_ft</span><span class="p">)</span>
        <span class="n">st</span> <span class="o">=</span> <span class="n">np</span><span class="o">.</span><span class="n">std</span><span class="p">(</span><span class="n">subdf</span><span class="o">.</span><span class="n">price_sq_ft</span><span class="p">)</span>
        <span class="n">reduced_df</span> <span class="o">=</span> <span class="n">subdf</span><span class="p">[(</span><span class="n">subdf</span><span class="o">.</span><span class="n">price_sq_ft</span><span class="o">&gt;</span> <span class="p">(</span><span class="n">m</span><span class="o">-</span><span class="n">st</span><span class="p">))</span> <span class="o">&amp;</span> <span class="p">(</span><span class="n">subdf</span><span class="o">.</span><span class="n">price_sq_ft</span><span class="o">&lt;=</span> <span class="p">(</span><span class="n">m</span><span class="o">+</span><span class="n">st</span><span class="p">))]</span>
        <span class="n">df_out</span> <span class="o">=</span> <span class="n">pd</span><span class="o">.</span><span class="n">concat</span><span class="p">([</span><span class="n">df_out</span><span class="p">,</span><span class="n">reduced_df</span><span class="p">],</span> <span class="n">ignore_index</span><span class="o">=</span><span class="kc">True</span><span class="p">)</span>
    <span class="k">return</span> <span class="n">df_out</span>
<span class="n">df7</span> <span class="o">=</span> <span class="n">remove_pps_outliers</span><span class="p">(</span><span class="n">df6</span><span class="p">)</span>
<span class="n">df7</span><span class="o">.</span><span class="n">shape</span>
</pre></div>
</div>
</div>
</div>
</div>
<div class="jp-Cell-outputWrapper">
<div class="jp-Collapser jp-OutputCollapser jp-Cell-outputCollapser">
</div>
<div class="jp-OutputArea jp-Cell-outputArea">
<div class="jp-OutputArea-child jp-OutputArea-executeResult">
<div class="jp-OutputPrompt jp-OutputArea-prompt">Out[ ]:</div>
<div class="jp-RenderedText jp-OutputArea-output jp-OutputArea-executeResult" data-mime-type="text/plain" tabindex="0">
<pre>(10241, 7)</pre>
</div>
</div>
</div>
</div>
</div><div class="jp-Cell jp-CodeCell jp-Notebook-cell">
<div class="jp-Cell-inputWrapper" tabindex="0">
<div class="jp-Collapser jp-InputCollapser jp-Cell-inputCollapser">
</div>
<div class="jp-InputArea jp-Cell-inputArea">
<div class="jp-InputPrompt jp-InputArea-prompt">In [ ]:</div>
<div class="jp-CodeMirrorEditor jp-Editor jp-InputArea-editor" data-type="inline">
<div class="cm-editor cm-s-jupyter">
<div class="highlight hl-ipython3"><pre><span></span><span class="k">def</span>  <span class="nf">plot_scatter_chart</span><span class="p">(</span><span class="n">df</span><span class="p">,</span> <span class="n">location</span><span class="p">):</span>
    <span class="n">bhk2</span> <span class="o">=</span> <span class="n">df</span><span class="p">[(</span><span class="n">df</span><span class="o">.</span><span class="n">location</span><span class="o">==</span><span class="n">location</span><span class="p">)</span> <span class="o">&amp;</span> <span class="p">(</span><span class="n">df</span><span class="o">.</span><span class="n">bhk</span><span class="o">==</span><span class="mi">2</span><span class="p">)]</span>
    <span class="n">bhk3</span> <span class="o">=</span> <span class="n">df</span><span class="p">[(</span><span class="n">df</span><span class="o">.</span><span class="n">location</span><span class="o">==</span><span class="n">location</span><span class="p">)</span> <span class="o">&amp;</span> <span class="p">(</span><span class="n">df</span><span class="o">.</span><span class="n">bhk</span><span class="o">==</span><span class="mi">3</span><span class="p">)]</span>
    <span class="n">matplotlib</span><span class="o">.</span><span class="n">rcParams</span><span class="p">[</span><span class="s1">'figure.figsize'</span><span class="p">]</span> <span class="o">=</span> <span class="p">(</span><span class="mi">15</span><span class="p">,</span><span class="mi">10</span><span class="p">)</span>
    <span class="n">plt</span><span class="o">.</span><span class="n">scatter</span><span class="p">(</span><span class="n">bhk2</span><span class="o">.</span><span class="n">total_sqft</span><span class="p">,</span> <span class="n">bhk2</span><span class="o">.</span><span class="n">price</span><span class="p">,</span> <span class="n">color</span> <span class="o">=</span><span class="s1">'blue'</span><span class="p">,</span> <span class="n">label</span> <span class="o">=</span> <span class="s1">'2 BHK'</span><span class="p">,</span> <span class="n">s</span><span class="o">=</span><span class="mi">50</span><span class="p">)</span>
    <span class="n">plt</span><span class="o">.</span><span class="n">scatter</span><span class="p">(</span><span class="n">bhk3</span><span class="o">.</span><span class="n">total_sqft</span><span class="p">,</span> <span class="n">bhk3</span><span class="o">.</span><span class="n">price</span><span class="p">,</span> <span class="n">marker</span> <span class="o">=</span><span class="s1">'*'</span><span class="p">,</span> <span class="n">color</span> <span class="o">=</span><span class="s1">'green'</span><span class="p">,</span> <span class="n">label</span> <span class="o">=</span> <span class="s1">'3 BHK'</span><span class="p">,</span> <span class="n">s</span><span class="o">=</span><span class="mi">50</span><span class="p">)</span>
    <span class="n">plt</span><span class="o">.</span><span class="n">xlabel</span><span class="p">(</span><span class="s2">"Total Square Feet Area"</span><span class="p">)</span>
    <span class="n">plt</span><span class="o">.</span><span class="n">ylabel</span><span class="p">(</span><span class="s2">"Price"</span><span class="p">)</span>
    <span class="n">plt</span><span class="o">.</span><span class="n">title</span><span class="p">(</span><span class="n">location</span><span class="p">)</span>
    <span class="n">plt</span><span class="o">.</span><span class="n">legend</span><span class="p">()</span>
<span class="n">plot_scatter_chart</span><span class="p">(</span><span class="n">df7</span><span class="p">,</span><span class="s1">'Rajaji Nagar'</span><span class="p">)</span>
</pre></div>
</div>
</div>
</div>
</div>
<div class="jp-Cell-outputWrapper">
<div class="jp-Collapser jp-OutputCollapser jp-Cell-outputCollapser">
</div>
<div class="jp-OutputArea jp-Cell-outputArea">
<div class="jp-OutputArea-child">
<div class="jp-OutputPrompt jp-OutputArea-prompt"></div>
<div class="jp-RenderedImage jp-OutputArea-output" tabindex="0">
<img alt="No description has been provided for this image" class="" src="data:image/png;base64,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"/>
</div>
</div>
</div>
</div>
</div><div class="jp-Cell jp-CodeCell jp-Notebook-cell">
<div class="jp-Cell-inputWrapper" tabindex="0">
<div class="jp-Collapser jp-InputCollapser jp-Cell-inputCollapser">
</div>
<div class="jp-InputArea jp-Cell-inputArea">
<div class="jp-InputPrompt jp-InputArea-prompt">In [ ]:</div>
<div class="jp-CodeMirrorEditor jp-Editor jp-InputArea-editor" data-type="inline">
<div class="cm-editor cm-s-jupyter">
<div class="highlight hl-ipython3"><pre><span></span><span class="n">plot_scatter_chart</span><span class="p">(</span><span class="n">df7</span><span class="p">,</span><span class="s2">"Hebbal"</span><span class="p">)</span>
</pre></div>
</div>
</div>
</div>
</div>
<div class="jp-Cell-outputWrapper">
<div class="jp-Collapser jp-OutputCollapser jp-Cell-outputCollapser">
</div>
<div class="jp-OutputArea jp-Cell-outputArea">
<div class="jp-OutputArea-child">
<div class="jp-OutputPrompt jp-OutputArea-prompt"></div>
<div class="jp-RenderedImage jp-OutputArea-output" tabindex="0">
<img alt="No description has been provided for this image" class="" src="data:image/png;base64,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"/>
</div>
</div>
</div>
</div>
</div><div class="jp-Cell jp-CodeCell jp-Notebook-cell">
<div class="jp-Cell-inputWrapper" tabindex="0">
<div class="jp-Collapser jp-InputCollapser jp-Cell-inputCollapser">
</div>
<div class="jp-InputArea jp-Cell-inputArea">
<div class="jp-InputPrompt jp-InputArea-prompt">In [ ]:</div>
<div class="jp-CodeMirrorEditor jp-Editor jp-InputArea-editor" data-type="inline">
<div class="cm-editor cm-s-jupyter">
<div class="highlight hl-ipython3"><pre><span></span><span class="n">df7</span>
</pre></div>
</div>
</div>
</div>
</div>
<div class="jp-Cell-outputWrapper">
<div class="jp-Collapser jp-OutputCollapser jp-Cell-outputCollapser">
</div>
<div class="jp-OutputArea jp-Cell-outputArea">
<div class="jp-OutputArea-child jp-OutputArea-executeResult">
<div class="jp-OutputPrompt jp-OutputArea-prompt">Out[ ]:</div>
<div class="jp-RenderedHTMLCommon jp-RenderedHTML jp-OutputArea-output jp-OutputArea-executeResult" data-mime-type="text/html" tabindex="0">
<div>
<style scoped="">
    .dataframe tbody tr th:only-of-type {
        vertical-align: middle;
    }

    .dataframe tbody tr th {
        vertical-align: top;
    }

    .dataframe thead th {
        text-align: right;
    }
</style>
<table border="1" class="dataframe">
<thead>
<tr style="text-align: right;">
<th></th>
<th>location</th>
<th>size</th>
<th>total_sqft</th>
<th>bath</th>
<th>price</th>
<th>bhk</th>
<th>price_sq_ft</th>
</tr>
</thead>
<tbody>
<tr>
<th>0</th>
<td>1st Block Jayanagar</td>
<td>4 BHK</td>
<td>2850.0</td>
<td>4.0</td>
<td>428.00</td>
<td>4</td>
<td>15017.543860</td>
</tr>
<tr>
<th>1</th>
<td>1st Block Jayanagar</td>
<td>3 BHK</td>
<td>1630.0</td>
<td>3.0</td>
<td>194.00</td>
<td>3</td>
<td>11901.840491</td>
</tr>
<tr>
<th>2</th>
<td>1st Block Jayanagar</td>
<td>3 BHK</td>
<td>1875.0</td>
<td>2.0</td>
<td>235.00</td>
<td>3</td>
<td>12533.333333</td>
</tr>
<tr>
<th>3</th>
<td>1st Block Jayanagar</td>
<td>3 BHK</td>
<td>1200.0</td>
<td>2.0</td>
<td>130.00</td>
<td>3</td>
<td>10833.333333</td>
</tr>
<tr>
<th>4</th>
<td>1st Block Jayanagar</td>
<td>2 BHK</td>
<td>1235.0</td>
<td>2.0</td>
<td>148.00</td>
<td>2</td>
<td>11983.805668</td>
</tr>
<tr>
<th>...</th>
<td>...</td>
<td>...</td>
<td>...</td>
<td>...</td>
<td>...</td>
<td>...</td>
<td>...</td>
</tr>
<tr>
<th>10236</th>
<td>other</td>
<td>2 BHK</td>
<td>1353.0</td>
<td>2.0</td>
<td>110.00</td>
<td>2</td>
<td>8130.081301</td>
</tr>
<tr>
<th>10237</th>
<td>other</td>
<td>1 Bedroom</td>
<td>812.0</td>
<td>1.0</td>
<td>26.00</td>
<td>1</td>
<td>3201.970443</td>
</tr>
<tr>
<th>10238</th>
<td>other</td>
<td>3 BHK</td>
<td>1440.0</td>
<td>2.0</td>
<td>63.93</td>
<td>3</td>
<td>4439.583333</td>
</tr>
<tr>
<th>10239</th>
<td>other</td>
<td>2 BHK</td>
<td>1075.0</td>
<td>2.0</td>
<td>48.00</td>
<td>2</td>
<td>4465.116279</td>
</tr>
<tr>
<th>10240</th>
<td>other</td>
<td>4 BHK</td>
<td>3600.0</td>
<td>5.0</td>
<td>400.00</td>
<td>4</td>
<td>11111.111111</td>
</tr>
</tbody>
</table>
<p>10241 rows × 7 columns</p>
</div>
</div>
</div>
</div>
</div>
</div><div class="jp-Cell jp-CodeCell jp-Notebook-cell">
<div class="jp-Cell-inputWrapper" tabindex="0">
<div class="jp-Collapser jp-InputCollapser jp-Cell-inputCollapser">
</div>
<div class="jp-InputArea jp-Cell-inputArea">
<div class="jp-InputPrompt jp-InputArea-prompt">In [ ]:</div>
<div class="jp-CodeMirrorEditor jp-Editor jp-InputArea-editor" data-type="inline">
<div class="cm-editor cm-s-jupyter">
<div class="highlight hl-ipython3"><pre><span></span><span class="k">def</span> <span class="nf">remove_bhk_outliers</span><span class="p">(</span><span class="n">df</span><span class="p">):</span>
    <span class="n">exclude_indices</span> <span class="o">=</span> <span class="n">np</span><span class="o">.</span><span class="n">array</span><span class="p">([])</span>
    <span class="k">for</span> <span class="n">location</span><span class="p">,</span> <span class="n">location_df</span> <span class="ow">in</span> <span class="n">df</span><span class="o">.</span><span class="n">groupby</span><span class="p">(</span><span class="s1">'location'</span><span class="p">):</span>
        <span class="n">bhk_stats</span> <span class="o">=</span> <span class="p">{}</span>
        <span class="k">for</span> <span class="n">bhk</span><span class="p">,</span> <span class="n">bhk_df</span> <span class="ow">in</span> <span class="n">location_df</span><span class="o">.</span><span class="n">groupby</span><span class="p">(</span><span class="s1">'bhk'</span><span class="p">):</span>
            <span class="n">bhk_stats</span><span class="p">[</span><span class="n">bhk</span><span class="p">]</span> <span class="o">=</span> <span class="p">{</span>
                <span class="s1">'mean'</span><span class="p">:</span> <span class="n">np</span><span class="o">.</span><span class="n">mean</span><span class="p">(</span><span class="n">bhk_df</span><span class="o">.</span><span class="n">price_sq_ft</span><span class="p">),</span>
                <span class="s1">'std'</span><span class="p">:</span> <span class="n">np</span><span class="o">.</span><span class="n">std</span><span class="p">(</span><span class="n">bhk_df</span><span class="o">.</span><span class="n">price_sq_ft</span><span class="p">),</span>
                <span class="s1">'count'</span><span class="p">:</span> <span class="n">bhk_df</span><span class="o">.</span><span class="n">shape</span><span class="p">[</span><span class="mi">0</span><span class="p">]</span>
            <span class="p">}</span>
        <span class="k">for</span> <span class="n">bhk</span><span class="p">,</span> <span class="n">bhk_df</span> <span class="ow">in</span> <span class="n">location_df</span><span class="o">.</span><span class="n">groupby</span><span class="p">(</span><span class="s1">'bhk'</span><span class="p">):</span>
            <span class="n">stats</span> <span class="o">=</span> <span class="n">bhk_stats</span><span class="o">.</span><span class="n">get</span><span class="p">(</span><span class="n">bhk</span><span class="o">-</span><span class="mi">1</span><span class="p">)</span>
            <span class="k">if</span> <span class="n">stats</span> <span class="ow">and</span> <span class="n">stats</span><span class="p">[</span><span class="s1">'count'</span><span class="p">]</span><span class="o">&gt;</span><span class="mi">5</span><span class="p">:</span>
                <span class="n">exclude_indices</span> <span class="o">=</span> <span class="n">np</span><span class="o">.</span><span class="n">append</span><span class="p">(</span><span class="n">exclude_indices</span><span class="p">,</span> <span class="n">bhk_df</span><span class="p">[</span><span class="n">bhk_df</span><span class="o">.</span><span class="n">price_sq_ft</span><span class="o">&lt;</span><span class="p">(</span><span class="n">stats</span><span class="p">[</span><span class="s1">'mean'</span><span class="p">])]</span><span class="o">.</span><span class="n">index</span><span class="o">.</span><span class="n">values</span><span class="p">)</span>
    <span class="k">return</span> <span class="n">df</span><span class="o">.</span><span class="n">drop</span><span class="p">(</span><span class="n">exclude_indices</span><span class="p">,</span><span class="n">axis</span><span class="o">=</span><span class="s1">'index'</span><span class="p">)</span>
<span class="n">df8</span> <span class="o">=</span> <span class="n">remove_bhk_outliers</span><span class="p">(</span><span class="n">df7</span><span class="p">)</span>
<span class="c1"># df8 = df7.copy()</span>
<span class="n">df8</span><span class="o">.</span><span class="n">shape</span>
</pre></div>
</div>
</div>
</div>
</div>
<div class="jp-Cell-outputWrapper">
<div class="jp-Collapser jp-OutputCollapser jp-Cell-outputCollapser">
</div>
<div class="jp-OutputArea jp-Cell-outputArea">
<div class="jp-OutputArea-child jp-OutputArea-executeResult">
<div class="jp-OutputPrompt jp-OutputArea-prompt">Out[ ]:</div>
<div class="jp-RenderedText jp-OutputArea-output jp-OutputArea-executeResult" data-mime-type="text/plain" tabindex="0">
<pre>(7329, 7)</pre>
</div>
</div>
</div>
</div>
</div><div class="jp-Cell jp-CodeCell jp-Notebook-cell">
<div class="jp-Cell-inputWrapper" tabindex="0">
<div class="jp-Collapser jp-InputCollapser jp-Cell-inputCollapser">
</div>
<div class="jp-InputArea jp-Cell-inputArea">
<div class="jp-InputPrompt jp-InputArea-prompt">In [ ]:</div>
<div class="jp-CodeMirrorEditor jp-Editor jp-InputArea-editor" data-type="inline">
<div class="cm-editor cm-s-jupyter">
<div class="highlight hl-ipython3"><pre><span></span><span class="k">def</span>  <span class="nf">plot_scatter_chart</span><span class="p">(</span><span class="n">df</span><span class="p">,</span> <span class="n">location</span><span class="p">):</span>
    <span class="n">bhk2</span> <span class="o">=</span> <span class="n">df</span><span class="p">[(</span><span class="n">df</span><span class="o">.</span><span class="n">location</span><span class="o">==</span><span class="n">location</span><span class="p">)</span> <span class="o">&amp;</span> <span class="p">(</span><span class="n">df</span><span class="o">.</span><span class="n">bhk</span><span class="o">==</span><span class="mi">2</span><span class="p">)]</span>
    <span class="n">bhk3</span> <span class="o">=</span> <span class="n">df</span><span class="p">[(</span><span class="n">df</span><span class="o">.</span><span class="n">location</span><span class="o">==</span><span class="n">location</span><span class="p">)</span> <span class="o">&amp;</span> <span class="p">(</span><span class="n">df</span><span class="o">.</span><span class="n">bhk</span><span class="o">==</span><span class="mi">3</span><span class="p">)]</span>
    <span class="n">matplotlib</span><span class="o">.</span><span class="n">rcParams</span><span class="p">[</span><span class="s1">'figure.figsize'</span><span class="p">]</span> <span class="o">=</span> <span class="p">(</span><span class="mi">15</span><span class="p">,</span><span class="mi">10</span><span class="p">)</span>
    <span class="n">plt</span><span class="o">.</span><span class="n">scatter</span><span class="p">(</span><span class="n">bhk2</span><span class="o">.</span><span class="n">total_sqft</span><span class="p">,</span> <span class="n">bhk2</span><span class="o">.</span><span class="n">price</span><span class="p">,</span> <span class="n">color</span> <span class="o">=</span><span class="s1">'blue'</span><span class="p">,</span> <span class="n">label</span> <span class="o">=</span> <span class="s1">'2 BHK'</span><span class="p">,</span> <span class="n">s</span><span class="o">=</span><span class="mi">50</span><span class="p">)</span>
    <span class="n">plt</span><span class="o">.</span><span class="n">scatter</span><span class="p">(</span><span class="n">bhk3</span><span class="o">.</span><span class="n">total_sqft</span><span class="p">,</span> <span class="n">bhk3</span><span class="o">.</span><span class="n">price</span><span class="p">,</span> <span class="n">marker</span> <span class="o">=</span><span class="s1">'*'</span><span class="p">,</span> <span class="n">color</span> <span class="o">=</span><span class="s1">'green'</span><span class="p">,</span> <span class="n">label</span> <span class="o">=</span> <span class="s1">'3 BHK'</span><span class="p">,</span> <span class="n">s</span><span class="o">=</span><span class="mi">50</span><span class="p">)</span>
    <span class="n">plt</span><span class="o">.</span><span class="n">xlabel</span><span class="p">(</span><span class="s2">"Total Square Feet Area"</span><span class="p">)</span>
    <span class="n">plt</span><span class="o">.</span><span class="n">ylabel</span><span class="p">(</span><span class="s2">"Price"</span><span class="p">)</span>
    <span class="n">plt</span><span class="o">.</span><span class="n">title</span><span class="p">(</span><span class="n">location</span><span class="p">)</span>
    <span class="n">plt</span><span class="o">.</span><span class="n">legend</span><span class="p">()</span>
<span class="n">plot_scatter_chart</span><span class="p">(</span><span class="n">df8</span><span class="p">,</span><span class="s1">'Rajaji Nagar'</span><span class="p">)</span>
</pre></div>
</div>
</div>
</div>
</div>
<div class="jp-Cell-outputWrapper">
<div class="jp-Collapser jp-OutputCollapser jp-Cell-outputCollapser">
</div>
<div class="jp-OutputArea jp-Cell-outputArea">
<div class="jp-OutputArea-child">
<div class="jp-OutputPrompt jp-OutputArea-prompt"></div>
<div class="jp-RenderedImage jp-OutputArea-output" tabindex="0">
<img alt="No description has been provided for this image" class="" src="data:image/png;base64,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"/>
</div>
</div>
</div>
</div>
</div><div class="jp-Cell jp-CodeCell jp-Notebook-cell">
<div class="jp-Cell-inputWrapper" tabindex="0">
<div class="jp-Collapser jp-InputCollapser jp-Cell-inputCollapser">
</div>
<div class="jp-InputArea jp-Cell-inputArea">
<div class="jp-InputPrompt jp-InputArea-prompt">In [ ]:</div>
<div class="jp-CodeMirrorEditor jp-Editor jp-InputArea-editor" data-type="inline">
<div class="cm-editor cm-s-jupyter">
<div class="highlight hl-ipython3"><pre><span></span><span class="n">plot_scatter_chart</span><span class="p">(</span><span class="n">df8</span><span class="p">,</span><span class="s2">"Hebbal"</span><span class="p">)</span>
</pre></div>
</div>
</div>
</div>
</div>
<div class="jp-Cell-outputWrapper">
<div class="jp-Collapser jp-OutputCollapser jp-Cell-outputCollapser">
</div>
<div class="jp-OutputArea jp-Cell-outputArea">
<div class="jp-OutputArea-child">
<div class="jp-OutputPrompt jp-OutputArea-prompt"></div>
<div class="jp-RenderedImage jp-OutputArea-output" tabindex="0">
<img alt="No description has been provided for this image" class="" src="data:image/png;base64,iVBORw0KGgoAAAANSUhEUgAABNYAAANXCAYAAAD5PtJMAAAAOXRFWHRTb2Z0d2FyZQBNYXRwbG90bGliIHZlcnNpb24zLjguMiwgaHR0cHM6Ly9tYXRwbG90bGliLm9yZy8g+/7EAAAACXBIWXMAAA9hAAAPYQGoP6dpAACCkUlEQVR4nOz9fXzddX0//j9OkpamtEkvKA0IssqFCIr2i1cdBcRyqXZIoQ6/bqhzc9jiftLpAD9+/TqnpaiAc9iyfTYvN2iBiRX3sYiotYXokO9YabAqF+VCaJGVJgJJ6EnO749jA6FXyWmSk6T3++12bu9zXu/Xeb+f7+xmRh95XRRKpVIpAAAAAEC/1FS7AAAAAAAYiQRrAAAAAFABwRoAAAAAVECwBgAAAAAVEKwBAAAAQAUEawAAAABQAcEaAAAAAFRAsAYAAAAAFRCsAQAAAEAFBGsAAPugt7zlLXn1q1+9x34//vGPUygUctNNNw3YvT/1qU+lUCgM2PUAAKpFsAYAMIx97WtfS6FQyM9//vOdnu9rQAYAwMATrAEAAABABQRrAAAAAFABwRoAwCjzr//6rzn++ONTX1+fKVOm5Pzzz8+jjz6607533313/vAP/zD19fWZMWNGrr322p326+rqysc//vE0NTVl//33zx/90R/tcM01a9Zk/vz5efnLX5799tsvhx56aC6++OK0t7cP+DMCAAwHddUuAACAPWttbc1TTz21Q/u2bdt6ff7sZz+b/+f/+X/yrne9K3/+53+e3/72t/mHf/iHnHTSSfmv//qvTJo0qafv008/nbe97W1517velXe/+9254YYb8qEPfShjx47Nn/3Zn+1w3UKhkEsuuSRPPvlkvvjFL+bUU0/NPffck/r6+iTJjTfemOeeey4f+tCHMnXq1Pznf/5n/uEf/iGPPfZYbrzxxoH/oQAAVJlgDQBgBDj11FN3ee7YY49Nkjz88MP5f//f/zef+cxn8vGPf7zn/Lx58zJz5swsXbq0V/vjjz+eK6+8MosWLUqS/OVf/mXe9KY35bLLLsuf/umfZsyYMT19t2zZkl/84heZOHFikuT/+r/+r7zrXe/K//7f/zt/9Vd/lSS54oorekK2JPngBz+YI444Ih//+MfzyCOP5OUvf/kA/CQAAIYPU0EBAEaAL3/5y7ntttt2eB133HE9fb71rW+lu7s773rXu/LUU0/1vJqamnLkkUfmRz/6Ua9r1tXV5S//8i97Po8dOzZ/+Zd/mSeffDJ33313r74XXHBBT6iWJOedd14OOuig/J//83962l4cqj377LN56qmn8od/+IcplUr5r//6rwH7WQAADBdGrAEAjABvfOMb8/rXv36H9smTJ/dMEf31r3+dUqmUI488cqfXePEItCQ5+OCDs//++/dqO+qoo5IkGzduzJvf/Oae9pdes1Ao5IgjjsjGjRt72h555JF88pOfzHe+8508/fTTvfq3trbu4QkBAEYewRoAwCjR3d2dQqGQ733ve6mtrd3h/IQJEwbt3l1dXTnttNOyZcuWXHLJJTn66KOz//775ze/+U3e9773pbu7e9DuDQBQLYI1AIBR4vDDD0+pVMqMGTN6Rp7tzuOPP55nn32216i1X/3qV0mSP/iDP+jV99e//nWvz6VSKffff3/PVNR77703v/rVr/L1r389F1xwQU+/2267rdLHAQAY9qyxBgAwSsybNy+1tbX527/925RKpV7nSqVS/ud//qdXW7FYzD/+4z/2fH7++efzj//4j5k2bVqOP/74Xn2/8Y1v5He/+13P55tuuilPPPFEzjrrrCTpGSH34vuWSqX8/d///cA8HADAMGTEGgDAKHH44YfnM5/5TC677LJs3Lgx73znOzNx4sQ89NBDufnmm/PBD34wH/3oR3v6H3zwwbniiiuycePGHHXUUVmxYkXuueee/NM//dMO67FNmTIls2fPzvvf//5s3rw5X/ziF3PEEUfkL/7iL5IkRx99dA4//PB89KMfzW9+85s0NDTk3//933dYaw0AYDQRrAEAjCKXXnppjjrqqFx99dX527/92yTJoYcemtNPPz1/9Ed/1Kvv5MmT8/Wvfz0f/vCH87//9//O9OnTc8011/SEZS/28Y9/POvWrcvll1+e3/3ud5kzZ06WLl2a8ePHJylvjHDLLbfkr/7qr3L55Zdn3LhxOeecc3LRRRflta997eA/OABAFRRKL50nAAAAAADskTXWAAAAAKACgjUAAAAAqIBgDQAAAAAqIFgDAAAAgAoI1gAAAACgAoI1AAAAAKhAXbULGA66u7vz+OOPZ+LEiSkUCtUuBwAAAIAqKZVK+d3vfpeDDz44NTW7H5MmWEvy+OOP59BDD612GQAAAAAME48++mgOOeSQ3fYRrCWZOHFikvIPrKGhocrVAAAAAFAtbW1tOfTQQ3vyot0RrCU90z8bGhoEawAAAAD0abkwmxcAAAAAQAUEawAAAABQAcEaAAAAAFTAGmt91NXVlW3btlW7jFGttrY2dXV1fZrDDAAAAFBtgrU+eOaZZ/LYY4+lVCpVu5RRb/z48TnooIMyduzYapcCAAAAsFuCtT3o6urKY489lvHjx2fatGlGUw2SUqmU559/Pr/97W/z0EMP5cgjj0xNjZnKAAAAwPAlWNuDbdu2pVQqZdq0aamvr692OaNafX19xowZk4cffjjPP/98xo0bV+2SAAAAAHbJkKA+MlJtaBilBgAAAIwUUgwAAAAAqIBgDQAAAAAqIFgDAAAAgAoI1oZQe3uyeXP5ONguv/zyvOENb8jEiRNz4IEH5p3vfGd++ctf7vY7n/rUp1IoFHpejY2NOfHEE7N69epe/f7gD/4gX/ziF3f6/de97nW7/Jwka9asyaRJk/KRj3wkpVKp0scDAAAAqDrB2hBYuzaZNy+ZMCFpaiof581L7rhj8O65evXqLFy4MD/96U9z2223Zdu2bTn99NPz7LPP7vZ7xx57bJ544ok88cQTaW5uzpFHHpl3vOMdaW1t3eua/uM//iNnnHFGFi1alC9+8Ys2hAAAAABGNMHaIFu2LDnppOSWW5Lu7nJbd3f584knJtdeOzj3XbVqVd73vvfl2GOPzWtf+9p87WtfyyOPPJK77757t9+rq6tLU1NTmpqacswxx+TTn/50nnnmmfzqV7/aq3quu+66zJs3L5/73OfyyU9+cq+uBQAAADAcCNYG0dq1ycKFSamUFIu9zxWL5fYFCwZ35Np220ecTZkypc/f6ezszFe/+tVMmjQpr3zlKyu+95e//OW8//3vz1e+8pVcdNFFFV8HAAAAYDipq3YBo9lVVyW1tTuGai9WW5tcfXVywgmDV0d3d3c+8pGP5IQTTsirX/3q3fa99957M2HChCTJc889l4kTJ2bFihVpaGjo1e+SSy7JJz7xiV5tzz//fI455phebb/4xS9y0UUX5V/+5V/ynve8ZwCeBgAAAGB4EKwNkvb2ZOXKF6Z/7kqxmNx8c7l/ff3g1LJw4cKsX78+a9eu3WPfV77ylfnOd76TJPnd736XFStWZP78+fnRj36U17/+9T39Pvaxj+V973tfr+9+6Utfyk9+8pNebYccckgmTZqUz3/+8znrrLNy0EEH7f0DAQAAAAwDpoIOkra2PYdq23V3l/sPhosuuijf/e5386Mf/SiHHHLIHvuPHTs2RxxxRI444ojMnDkzS5Ysycte9rIddgE94IADevptf+1smunEiRPzgx/8IPvvv39OOeWUPPHEEwP1aAAAAABVJVgbJA0NSU0ff7o1NeX+A6lUKuWiiy7KzTffnB/+8IeZMWNGxdeqra1Ne3t7xd+fPHlyfvCDH6ShoSFvectb8vjjj1d8LQAAAIDhQrA2SOrrk7PPTur2MNm2ri4555yBnwa6cOHC/Ou//muuu+66TJw4MZs2bcqmTZv2GJAVi8Wevr/+9a/zmc98Jvfdd1/OPvvsvapn0qRJue222zJ58mThGgAAADAqCNYG0aJFSVfX7vt0dSUXXzzw9162bFlaW1vzlre8JQcddFDPa8WKFbv9XktLS0/f173udbnhhhuybNmyXHDBBXtdU2NjY77//e/ngAMOyMknn5zf/OY3e31NAAAAgGoplEqlUrWLqLa2trY0NjamtbV1h90vOzo68tBDD2XGjBkZN25cv6997bXJggU77g5aV1cO1ZYuTS68cG+fYPTY2583AAAAwN7YXU70UkasDbILL0zWrClPC92+5lpNTfnzmjVCNQAAAICRag8rgDEQTjih/GpvL+/+2dAw8GuqAQAAADC0BGtDqL5eoAYAAAAwWpgKCgAAAAAVEKwBAAAAULHOYme1S6gawRoAAAAAFVm3eV0mXTEp6zavq3YpVSFYAwAAAKAi1997fTqKHVm+fnm1S6kKwRoAAAAA/VYqlbK8pRyorVi/IqVSqcoVDT27ggIAAADQJ0vWLsnqh1cnSbZ1bcvGrRuTJA9ufTCnffO0jKkdkyQ5+bCTc+nsS6tV5pARrAEAAADQJ22dbVl1/6qdnrv9odt73s9smjlUJVWVqaBDbKh2yli2bFmOO+64NDQ0pKGhIbNmzcr3vve93X7nU5/6VAqFQs+rsbExJ554YlavXt2r3x/8wR/ki1/84k6//7rXvW6Xn5NkzZo1mTRpUj7ykY/sk0NEAQAAYCRbPGdxbjjvhkwYOyF1Nb3Ha9XV1GXi2Im5cf6NWTxncZUqHFqCtSE0lDtlHHLIIVmyZEnuvvvu/PznP89b3/rWnH322Wlpadnt94499tg88cQTeeKJJ9Lc3Jwjjzwy73jHO9La2rrXNf3Hf/xHzjjjjCxatChf/OIXUygU9vqaAAAAwNCaf+z8rDx/ZYrdxV7txe5iVp6/Mucdc16VKht6grUhNJQ7ZcydOzdve9vbcuSRR+aoo47KZz/72UyYMCE//elPd/u9urq6NDU1pampKcccc0w+/elP55lnnsmvfvWrvarnuuuuy7x58/K5z30un/zkJ/fqWgAAAEB1NT/anCSpKdT0OjY/1ly1mqpBsDZEqrlTRldXV5YvX55nn302s2bN6vP3Ojs789WvfjWTJk3KK1/5yorv/+Uvfznvf//785WvfCUXXXRRxdcBAAAAhocVLSuSJNPGT8s1Z12TaeOn9WrfV9i8YBBVe6eMe++9N7NmzUpHR0cmTJiQm2++Occcc8wevzNhwoQkyXPPPZeJEydmxYoVaWho6NXvkksuySc+8Ylebc8///wO1//FL36Riy66KP/yL/+S97znPQPwVAAAAEA1FbuL2fDUhsw9am6+evZXM3X81Jz/6vPz/pXvz60P3Jpid3GH9ddGq33jKauk2jtlvPKVr8w999yT1tbW3HTTTXnve9+b1atX7zZce+UrX5nvfOc7SZLf/e53WbFiRebPn58f/ehHef3rX9/T72Mf+1je97739frul770pfzkJz/p1XbIIYdk0qRJ+fznP5+zzjorBx100MA9IAAAADDk6mrqsumjmzJ53OSe9dOnjp+aleevzNMdT+8zoVpiKuigqvZOGWPHjs0RRxyR448/Ppdffnle+9rX5u///u/79J0jjjgiM2fOzJIlS/Kyl71sh11ADzjggJ5+219TpkzZ4XoTJ07MD37wg+y///455ZRT8sQTTwzkIwIAAABVMKV+yg6bEhYKhUyp3zEbGM0Ea4NsOO2U0d3dnc7Ozn5/r7a2Nu3t7RXfd/LkyfnBD36QhoaGvOUtb8njjz9e8bUAAAAAhgvB2hCoxk4Zl112WX7yk59k48aNuffee3PZZZflxz/+8R7XOSsWi9m0aVM2bdqUX//61/nMZz6T++67L2efffZe1TNp0qTcdtttmTx5snANAAAAGBUEa0OgGjtlPPnkk7ngggvyyle+MnPmzMldd92VW2+9Naeddtpuv9fS0pKDDjooBx10UF73utflhhtuyLJly3LBBRfsdU2NjY35/ve/nwMOOCAnn3xyfvOb3+z1NQEAAACqpVAqlUrVLqLa2tra0tjYmNbW1h12v+zo6MhDDz2UGTNmZNy4cf2+drG7mPGfHZ8zjzizZ6eM/3nuf3p2ynj248/uU4v67cne/rwBAAAA9sbucqKXkugMMjtlAAAAAIxOUp0hsLMdMfbFnTIAAAAARhNrrAEAAABABQRrAAAAAFABwVof2eNhaPg5AwAAACOFYG0PamtrkyTPP/98lSvZNzz33HNJkjFjxlS5EgAAAIDds3nBHtTV1WX8+PH57W9/mzFjxqSmRhY5GEqlUp577rk8+eSTmTRpUk+gCQAAADBcCdb2oFAo5KCDDspDDz2Uhx9+uNrljHqTJk1KU1NTtcsAAAAA2CPBWh+MHTs2Rx55pOmgg2zMmDFGqgEAAAAjhmCtj2pqajJu3LhqlwEAAADAMGHBMAAAAACogGANAAAAACogWAMAAACACgjWAAAAAKACgjUAAAAAqIBgDQAAAAAqIFgDAAAAgAoI1gAAAACgAoI1AAAAAKiAYA0AAAAAKiBYAwAAAIAKCNYAAAAAoAKCNQAAAACogGANAAAAACogWAMAAACACgjWAAAAAKACgjUAAAAAqIBgDQAAAAAqIFgDAAAAgAoI1gAAAACgAoI1AAAAAKiAYA0AAAAAKiBYAwAAAIAKCNYAAAAAoAKCNQAAAACoQFWDtWXLluW4445LQ0NDGhoaMmvWrHzve9/rOd/R0ZGFCxdm6tSpmTBhQs4999xs3ry51zUeeeSRvP3tb8/48eNz4IEH5mMf+1iKxeJQPwoAAAAA+5iqBmuHHHJIlixZkrvvvjs///nP89a3vjVnn312WlpakiQXX3xxbrnlltx4441ZvXp1Hn/88cybN6/n+11dXXn729+e559/PnfeeWe+/vWv52tf+1o++clPVuuRAAAAANhHFEqlUqnaRbzYlClT8vnPfz7nnXdepk2bluuuuy7nnXdekmTDhg151atelebm5rz5zW/O9773vbzjHe/I448/nunTpydJrr322lxyySX57W9/m7Fjx/bpnm1tbWlsbExra2saGhoG7dkAAAAAGN76kxMNmzXWurq6snz58jz77LOZNWtW7r777mzbti2nnnpqT5+jjz46L3/5y9Pc3JwkaW5uzmte85qeUC1JzjjjjLS1tfWMetuZzs7OtLW19XoBAAAAQH9UPVi79957M2HChOy333658MILc/PNN+eYY47Jpk2bMnbs2EyaNKlX/+nTp2fTpk1Jkk2bNvUK1baf335uVy6//PI0Njb2vA499NCBfSgAAAAARr2qB2uvfOUrc8899+RnP/tZPvShD+W9731v7rvvvkG952WXXZbW1tae16OPPjqo9wMAAABg9KmrdgFjx47NEUcckSQ5/vjjc9ddd+Xv//7v88d//Md5/vnns3Xr1l6j1jZv3pympqYkSVNTU/7zP/+z1/W27xq6vc/O7Lffftlvv/0G+EkAAAAA2JdUfcTaS3V3d6ezszPHH398xowZk9tvv73n3C9/+cs88sgjmTVrVpJk1qxZuffee/Pkk0/29LntttvS0NCQY445ZshrBwAAAGDfUdURa5dddlnOOuusvPzlL8/vfve7XHfddfnxj3+cW2+9NY2NjfnABz6QRYsWZcqUKWloaMiHP/zhzJo1K29+85uTJKeffnqOOeaY/Omf/mk+97nPZdOmTfnEJz6RhQsXGpEGAAAAwKCqarD25JNP5oILLsgTTzyRxsbGHHfccbn11ltz2mmnJUmuvvrq1NTU5Nxzz01nZ2fOOOOMLF26tOf7tbW1+e53v5sPfehDmTVrVvbff/+8973vzac//elqPRIAAAAA+4hCqVQqVbuIamtra0tjY2NaW1vT0NBQ7XIAAAAAqJL+5ETDbo01AAAAABgJBGsAAAAAUAHBGgAAAABUQLAGAAAAABUQrAEAAABABQRrAAAAAFABwRoAAAAAVECwBgAAAAAVEKwBAAAAQAUEawAAAABQAcEaAAAAAFRAsAYAAAAAFRCsAQAAAEAFBGsAAAAAUAHBGgAAAABUQLAGAAAAABUQrAEAAABABQRrAAAAAFABwRoAAAAAVECwBgAAAAAVEKwBAAAAQAUEawAAAABQAcEaAAAAAFRAsAYAAAAAFRCsAQAAAEAFBGsAAAAAUAHBGgAAAABUQLAGAAAAABUQrAEAAABABQRrAAAAAFABwRoAAAAAVECwBgAAAAAVEKwBAAAAQAUEawAAAABQAcEaAAAAAFRAsAYAAAAAFRCsAQAAAEAFBGsAAAAAUAHBGgAAAABUQLAGAAAAABUQrAEAAABABQRrAAAAAFABwRoAAAAAVECwBgAAAAAVEKwBAAAAQAUEawAAAABQAcEaAAAAAFRAsAYAAAAAFRCsAQAAAEAFBGsAAAAAUAHBGgAAAABUQLAGAAAAABUQrAEAAABABQRrAAAAAFABwRoAAAAAVECwBgAAAAAVEKwBAAAAQAUEawAAAABQAcEaAAAAAFRAsAYAAAAAFRCsAQAAAEAFBGsAAAAAUAHBGgAAAABUQLAGAAAAABUQrAEAAABABQRrAAAAAFABwRoAAAAAVECwBgAAAAAVEKwBAAAAQAUEawAAAABQAcEaAAAAAFRAsAYAAAAAFRCsAQAAAEAFBGsAAAAAUAHBGgAAAABUQLAGAAAAABUQrAEAAABABQRrAAAAAFABwRoAAAAAVECwBgAAAAAVEKwBAAAAQAUEawAAAABQAcEaAAAAAFRAsAYAAAAAFRCsAQAAAEAFBGsAAAAAUAHBGgAAAABUQLAGAAAAABUQrAEAAACMQp3FzmqXMOoJ1gAAAABGmXWb12XSFZOybvO6apcyqgnWAAAAAEaZ6++9Ph3Fjixfv7zapYxqgjUAAACAUaRUKmV5SzlQW7F+RUqlUpUrGr3qql0AAAAAAHtnydolWf3w6iTJtq5t2bh1Y5Lkwa0P5rRvnpYxtWOSJCcfdnIunX1ptcocdQRrAAAAACNcW2dbVt2/aqfnbn/o9p73M5tmDlVJ+wRTQQEAAABGuMVzFueG827IhLETUlfTexxVXU1dJo6dmBvn35jFcxZXqcLRyYg1AAAAgFFg/rHzM3X81Mz5xpxe7cXuYlaevzKnzDilSpWNXkasAQAAAIwSzY82J0lqCjW9js2PNVetptFMsAYAAAAwSqxoWZEkmTZ+Wq4565pMGz+tVzsDS7AGAAAAMAoUu4vZ8NSGzD1qbloWtGThGxemZUFL5h41Nxue2pBid7HaJY46hVKpVKp2EdXW1taWxsbGtLa2pqGhodrlAAAAAFRkS/uWTB43OYVCoaetVCrl6Y6nM6V+ShUrGzn6kxPZvAAAAABglNhZeFYoFIRqg8RUUAAAAACogGANAAAAACogWAMAAACACgjWAAAAAKACgjUAAAAAqIBgDQAAAAAqIFgDAAAAgAoI1gAAAACgAoI1AAAAAKiAYA0AAAAAKiBYAwAAAIAKCNYAAAAAoAKCNQAAoGo6i53VLgEAKiZYAwAAqmLd5nWZdMWkrNu8rtqlAEBFBGsAAEBVXH/v9ekodmT5+uXVLgUAKlLVYO3yyy/PG97whkycODEHHnhg3vnOd+aXv/xlrz5vectbUigUer0uvPDCXn0eeeSRvP3tb8/48eNz4IEH5mMf+1iKxeJQPgoAANAPpVIpy1vKgdqK9StSKpWqXBEA9F9dNW++evXqLFy4MG94wxtSLBbz8Y9/PKeffnruu+++7L///j39/uIv/iKf/vSnez6PHz++531XV1fe/va3p6mpKXfeeWeeeOKJXHDBBRkzZkwWL148pM8DAADs2pK1S7L64dVJkm1d27Jx68YkyYNbH8xp3zwtY2rHJElOPuzkXDr70mqVCQB9VtVgbdWqVb0+f+1rX8uBBx6Yu+++OyeddFJP+/jx49PU1LTTa3z/+9/Pfffdlx/84AeZPn16Xve61+Xv/u7vcskll+RTn/pUxo4du8N3Ojs709n5wiKpbW1tA/REAADArrR1tmXV/at2eu72h27veT+zaeZQlQQAe2VYrbHW2tqaJJkyZUqv9n/7t3/LAQcckFe/+tW57LLL8txzz/Wca25uzmte85pMnz69p+2MM85IW1tbWlpadnqfyy+/PI2NjT2vQw89dBCeBgAAeLHFcxbnhvNuyISxE1JX0/tv/HU1dZk4dmJunH9jFs8x8wSAkaGqI9ZerLu7Ox/5yEdywgkn5NWvfnVP+//9f//fOeyww3LwwQdn3bp1ueSSS/LLX/4y3/rWt5IkmzZt6hWqJen5vGnTpp3e67LLLsuiRYt6Pre1tQnXAABgCMw/dn6mjp+aOd+Y06u92F3MyvNX5pQZp1SpMgDov2ETrC1cuDDr16/P2rVre7V/8IMf7Hn/mte8JgcddFDmzJmTBx54IIcffnhF99pvv/2y33777VW9AABAZZofbU6S1BRq0l3q7jk2P9YsWANgRBkWU0EvuuiifPe7382PfvSjHHLIIbvt+6Y3vSlJcv/99ydJmpqasnnz5l59tn/e1bpsAABA9axoWZEkmTZ+Wq4565pMGz+tVzsAjBRVDdZKpVIuuuii3HzzzfnhD3+YGTNm7PE799xzT5LkoIMOSpLMmjUr9957b5588smePrfddlsaGhpyzDHHDErdAABAZYrdxWx4akPmHjU3LQtasvCNC9OyoCVzj5qbDU9tSLG7WO0SAaDPCqVSqVStmy9YsCDXXXddVq5cmVe+8pU97Y2Njamvr88DDzyQ6667Lm9729syderUrFu3LhdffHEOOeSQrF5d3qa7q6srr3vd63LwwQfnc5/7XDZt2pQ//dM/zZ//+Z9n8eK+LXra1taWxsbGtLa2pqGhYVCeFQAAKNvSviWTx01OoVDoaSuVSnm64+lMqZ+ym28CwODrT05U1WDtxf+P9MW++tWv5n3ve18effTR/Mmf/EnWr1+fZ599NoceemjOOeecfOITn+j1YA8//HA+9KEP5cc//nH233//vPe9782SJUtSV9e3JeQEawAAAAAkIyhYGy4EawAAAAAk/cuJhsXmBQAAAAAw0gjWAAAAAKACgjUAAAAAqIBgDQAAAAAqIFgDAAAAgAoI1gAAAACgAoI1AAAAAKiAYA0AAAAAKiBYAwAAAIAKCNYAAAAAoAKCNQAAAACogGANAAAAACogWAMAAACgYp3FzmqXUDWCNQAAAAAqsm7zuky6YlLWbV5X7VKqQrAGAAAAQEWuv/f6dBQ7snz98mqXUhWCNQAAAAD6rVQqZXlLOVBbsX5FSqVSlSsaenXVLgAAAACAkWHJ2iVZ/fDqJMm2rm3ZuHVjkuTBrQ/mtG+eljG1Y5IkJx92ci6dfWm1yhwygjUAAAAA+qStsy2r7l+103O3P3R7z/uZTTOHqqSqMhUUAAAAgD5ZPGdxbjjvhkwYOyF1Nb3Ha9XV1GXi2Im5cf6NWTxncZUqHFpGrAEAAADQZ/OPnZ+p46dmzjfm9Govdhez8vyVOWXGKVWqbOgZsQYAAABAvzQ/2pwkqSnU9Do2P9ZctZqqQbAGAAAAQL+saFmRJJk2flquOeuaTBs/rVf7vkKwBgAAAECfFbuL2fDUhsw9am5aFrRk4RsXpmVBS+YeNTcbntqQYnex2iUOmUKpVCpVu4hqa2trS2NjY1pbW9PQ0FDtcgAAAACGtS3tWzJ53OQUCoWetlKplKc7ns6U+ilVrGzv9ScnsnkBAAAAAP2ys/CsUCiM+FCtv0wFBQAAAIAKCNYAAAAAoAKCNQAAAACogGANAAAAACogWAMAAACACgjWAAAAAKACgjUAAAAAqIBgDQAAAAAqIFgDAAAAgAoI1gAAAACgAoI1AAAAAKiAYA0AAAAAKiBYAwAAAIAKCNYAAAAAoAKCNQAAAACogGANAAAAACogWAMAAACACgjWAAAAAKACgjUAAAAAqIBgDQAAAAAqIFgDAAAAgAoI1gAAAACgAoI1AAAAAKiAYA0AAAAAKiBYAwAAAIAKCNYAAAAAoAKCNQAAAACogGANAAAAACogWAMAAACACgjWAAAAAKACgjUAAAAAqIBgDQAAAAAqIFgDAAAAgAoI1gAAAACgAoI1AAAAAKiAYA0AAAAAKiBYAwAAAIAKCNYAAAAAoAKCNQAAAACogGANAAAAACogWAMAYNTrLHZWuwQAYBQSrAEAMKqt27wuk66YlHWb11W7FABglBGsAQAwql1/7/XpKHZk+frl1S4FABhlBGsAAIxapVIpy1vKgdqK9StSKpWqXBEAMJrUVbsAAAAYSEvWLsnqh1cnSbZ1bcvGrRuTJA9ufTCnffO0jKkdkyQ5+bCTc+nsS6tVJgAwCgjWAAAYVdo627Lq/lU7PXf7Q7f3vJ/ZNHOoSgIARilTQQEAGFUWz1mcG867IRPGTkhdTe+/I9fV1GXi2Im5cf6NWTxncZUqBABGCyPWAAAYdeYfOz9Tx0/NnG/M6dVe7C5m5fkrc8qMU6pUGQAwmhixBgDAqNT8aHOSpKZQ0+vY/Fhz1WoCAEYXwRoAAKPSipYVSZJp46flmrOuybTx03q1AwDsLcEaAACjTrG7mA1Pbcjco+amZUFLFr5xYVoWtGTuUXOz4akNKXYXq10iADAKFEqlUqnaRVRbW1tbGhsb09ramoaGhmqXAwDAANjSviWTx01OoVDoaSuVSnm64+lMqZ9SxcoAgOGsPzmRzQsAABiVdhaeFQoFoRoAMGBMBQUAAACACgjWAAAAAKACgjUAAAAAqIBgDQAAAAAqIFgDAAAAgAoI1gAAAACgAoI1AAAAAKiAYA0AAAAAKiBYAwAAAIAKCNYAAAAAoAKCNQAAAACogGANAAAAACogWAMAAACACgjWAAAAAKACgjUAAAAAqIBgDQAAAAAqIFgDAAAAgAoI1gAAAACgAoI1AAAAAKiAYA0AAAAAKiBYAwAAAIAKCNYAAAAAoAKCNQAAAACogGANAAAAACogWAMAAACACgjWAAAAAKACgjUAAAAAqIBgDQAAAAAqIFgDAAAAgAoI1gAAAACgAoI1AAAAAKiAYA0AAAAAKiBYAwAAAIAKCNYAAAAAoAKCNQAAAACogGANAAAAACogWAMAAACAClQ1WLv88svzhje8IRMnTsyBBx6Yd77znfnlL3/Zq09HR0cWLlyYqVOnZsKECTn33HOzefPmXn0eeeSRvP3tb8/48eNz4IEH5mMf+1iKxeJQPgoAADACdBY7h+W1ABiZqhqsrV69OgsXLsxPf/rT3Hbbbdm2bVtOP/30PPvssz19Lr744txyyy258cYbs3r16jz++OOZN29ez/murq68/e1vz/PPP58777wzX//61/O1r30tn/zkJ6vxSAAAwDC1bvO6TLpiUtZtXjesrgXAyFVXzZuvWrWq1+evfe1rOfDAA3P33XfnpJNOSmtra/7lX/4l1113Xd761rcmSb761a/mVa96VX7605/mzW9+c77//e/nvvvuyw9+8INMnz49r3vd6/J3f/d3ueSSS/KpT30qY8eOrcajAQAAw8z1916fjmJHlq9fnuOmHzdsrgXAyDWs1lhrbW1NkkyZMiVJcvfdd2fbtm059dRTe/ocffTRefnLX57m5uYkSXNzc17zmtdk+vTpPX3OOOOMtLW1paWlZaf36ezsTFtbW68XAAAwepVKpSxvWZ4kWbF+RUql0rC4FgAjW1VHrL1Yd3d3PvKRj+SEE07Iq1/96iTJpk2bMnbs2EyaNKlX3+nTp2fTpk09fV4cqm0/v/3czlx++eX527/92wF+AgAAYDhZsnZJVj+8OkmyrWtbNm7dmCR5cOuDOe2bp2VM7ZgkycmHnZxLZ186ZNcCYPQYNsHawoULs379+qxdu3bQ73XZZZdl0aJFPZ/b2tpy6KGHDvp9AQCAodPW2ZZV96/a6bnbH7q95/3MpplDei0ARo9hMRX0oosuyne/+9386Ec/yiGHHNLT3tTUlOeffz5bt27t1X/z5s1pamrq6fPSXUK3f97e56X222+/NDQ09HoBAACjy+I5i3PDeTdkwtgJqavpPaagrqYuE8dOzI3zb8ziOYuH9FoAjB5VDdZKpVIuuuii3HzzzfnhD3+YGTNm9Dp//PHHZ8yYMbn99hf+AvTLX/4yjzzySGbNmpUkmTVrVu699948+eSTPX1uu+22NDQ05JhjjhmaBwEAAIal+cfOz8rzV6bYXezVXuwuZuX5K3PeMedV5VoAjA5VDdYWLlyYf/3Xf811112XiRMnZtOmTdm0aVPa29uTJI2NjfnABz6QRYsW5Uc/+lHuvvvuvP/978+sWbPy5je/OUly+umn55hjjsmf/umf5r//+79z66235hOf+EQWLlyY/fbbr5qPBwAADAPNj5Y3Pqsp1PQ6Nj/WXNVrATDyVTVYW7ZsWVpbW/OWt7wlBx10UM9rxYoVPX2uvvrqvOMd78i5556bk046KU1NTfnWt77Vc762tjbf/e53U1tbm1mzZuVP/uRPcsEFF+TTn/50NR4JAAAYZla0lP99MW38tFxz1jWZNn5ar/ZqXQuAka9Qsjd02tra0tjYmNbWVuutAQAw7HUWO7NfndkZfVHsLmb8Z8fnzCPOzFfP/mrG1IzJtu5tef/K9+fWB27Nsx9/doc10/p6ranjp+Z/nvufiq4FwPDVn5xIsBbBGgAAI8e6zevypn9+U3725z/LcdOPq3Y5I8KW9i2ZPG5y/v0X/575N87PjfNvzLmvOjdPdzydKfVTKrpWoVDoaSuVShVdC4DhqT850bDYFRQAAOib6++9Ph3Fjixfv7zapYwYU+qnpFAo5Mo7r0ySXNV8VQqFQkVB2PZrvVil1wJg5BOsAQDACFEqlbK8pRyorVi/Iiaf9F13d3fuevyuJMldj9+V7u7uKlcEwGhgAQAAABjGlqxdktUPr06SbOvalo1bNyZJHtz6YE775mkZUzsmSXLyYSfn0tmXVqvMYenMfz0zdz9xd5Kkq7srXaWuJOW10g74/AGpralNkhx/0PFZ9SerqlYnACOXYA0AAIaxts62rLp/56HP7Q/d3vN+ZtPMoSppxGjrbMtTzz2103NPdzzdqx8AVMJUUAAAGMYWz1mcG867IRPGTthhx8m6mrpMHDsxN86/MYvnLK5ShcPXnR+4Mxe/+eLd9lk0a1Hu/MCdQ1QRAKONYA0AAIa5+cfOz8rzV6bYXezVXuwuZuX5K3PeMedVqbLh76ozrsoXTvvCTs9defqVufL0K4e4IgBGE8EaAACMAM2PNidJago1vY7NjzVXraaRYldTaXfVDgB9JVgDAIARYEXLiiTJtPHTcs1Z12Ta+Gm92tm1NY+sSZLUpCbzj5mfmt//M2h7OwBUSrAGAADDXLG7mA1Pbcjco+amZUFLFr5xYVoWtGTuUXOz4akNO0wR5QUdxY50dnVm+v7Ts+GiDblh/g3ZcNGGTN9/ejqKHekodlS7RABGsEKpVCpVu4hqa2trS2NjY1pbW9PQ0FDtcgAAYAdb2rdk8rjJKRQKPW2lUilPdzydKfVTqljZ8PfAlgcyY9KM1NS8MK6gu7s7D219KIdPObyKlQEwHPUnJ6rb7VkAAGBY2Fl4VigUhGp9sLPwrKamRqgGwF4zFRQAAAAAKiBYAwAAAIAKCNYAAAZRZ7Gz2iUAADBIBGsAAINk3eZ1mXTFpKzbvK7apQAAMAgEawAAg+T6e69PR7Ejy9cvr3YpAAAMAsEaAMAgKJVKWd5SDtRWrF+RUqlU5YoAABhoddUuAABgtFiydklWP7w6SbKta1s2bt2YJHlw64M57ZunZUztmCTJyYednEtnX1qtMgEAGCCCNQCAAdLW2ZZV96/a6bnbH7q95/3MpplDVRIAAIPIVFAAgAGyeM7i3HDeDZkwdkLqanr//bKupi4Tx07MjfNvzOI5i6tUIQAAA8mINQCAATT/2PmZOn5q5nxjTq/2YncxK89fmVNmnFKlygAAGGhGrAEADLDmR5uTJDWFml7H5seaq1YTAAADT7AGADDAVrSsSJJMGz8t15x1TaaNn9arHQCA0UGwBgAwgIrdxWx4akPmHjU3LQtasvCNC9OyoCVzj5qbDU9tSLG7WO0SAQAYIIVSqVSqdhHV1tbWlsbGxrS2tqahoaHa5QAAI9yW9i2ZPG5yCoVCT1upVMrTHU9nSv2UKlYGAMCe9Ccn2qsRa88//3x++ctfplj0l1cAgO2m1E/pFaolSaFQEKoBAIwyFQVrzz33XD7wgQ9k/PjxOfbYY/PII48kST784Q9nyZIlA1ogAAAAAAxHFQVrl112Wf77v/87P/7xjzNu3Lie9lNPPTUrVliUFwAAAIDRr66SL33729/OihUr8uY3v7nXNIdjjz02DzzwwIAVBwAAAADDVUUj1n7729/mwAMP3KH92Wef3WE9EQAAAAAYjSoK1l7/+tfnP/7jP3o+bw/T/vmf/zmzZs0amMoAAAAAYBiraCro4sWLc9ZZZ+W+++5LsVjM3//93+e+++7LnXfemdWrVw90jQAAAAAw7FQ0Ym327Nm55557UiwW85rXvCbf//73c+CBB6a5uTnHH3/8QNcIAAAAAMNOoVQqlapdRLW1tbWlsbExra2taWhoqHY5AAAAAFRJf3Kiikas/Z//839y66237tB+66235nvf+14llwQAAACAEaWiYO3SSy9NV1fXDu2lUimXXnrpXhcFAAAAAMNdRcHar3/96xxzzDE7tB999NG5//7797ooAACg7zqLndUuAQD2SRUFa42NjXnwwQd3aL///vuz//7773VRAABA36zbvC6TrpiUdZvXVbsUANjnVBSsnX322fnIRz6SBx54oKft/vvvz1//9V/nj/7ojwasOAAAYPeuv/f6dBQ7snz98mqXAgD7nIqCtc997nPZf//9c/TRR2fGjBmZMWNGXvWqV2Xq1Kn5whe+MNA1AgAAO1EqlbK8pRyorVi/IqVSqcoVAcC+pa6SLzU2NubOO+/Mbbfdlv/+7/9OfX19jjvuuJx00kkDXR8AAPAiS9YuyeqHVydJtnVty8atG5MkD259MKd987SMqR2TJDn5sJNz6WwbiwHAYKooWEuSQqGQ008/PaeffvpA1gMAAOxGW2dbVt2/aqfnbn/o9p73M5tmDlVJALDP6nOw9qUvfSkf/OAHM27cuHzpS1/abd+/+qu/2uvCAACAHS2eszgzm2bmz77zZ+kodqTYXew5V1dTl/q6+nzl7K/kvGPOq2KVALBvKJT6uBDDjBkz8vOf/zxTp07NjBkzdn3BQmGnO4YOZ21tbWlsbExra2saGhqqXQ4AAOzRDx/6YeZ8Y86O7Rf8MKfMOKUKFQHA6NCfnKjPI9Yeeuihnb4HAACGXvOjzUmSmkJNukvdPcfmx5oFawAwRPq9K+i2bdty+OGH5xe/+MVg1AMAAPTBipYVSZJp46flmrOuybTx03q1AwCDr9/B2pgxY9LR0TEYtQAAAH1Q7C5mw1MbMveouWlZ0JKFb1yYlgUtmXvU3Gx4akOvddcAgMHT5zXWXmzx4sX51a9+lX/+539OXV3FG4sOG9ZYAwBgpNnSviWTx01OoVDoaSuVSnm64+lMqZ9SxcoAYGQblDXWXuyuu+7K7bffnu9///t5zWtek/3337/X+W9961uVXBYAAOijnYVnhUJBqAYAQ6iiYG3SpEk599xzB7oWAAAGUWexM/vV7VftMgAARo1+BWvd3d35/Oc/n1/96ld5/vnn89a3vjWf+tSnUl9fP1j1AQAwANZtXpc3/fOb8rM//1mOm35ctcsBABgV+rV5wWc/+9l8/OMfz4QJE/Kyl70sX/rSl7Jw4cLBqg0AgAFy/b3Xp6PYkeXrl1e7FACAUaNfwdo3vvGNLF26NLfeemu+/e1v55Zbbsm//du/pbu7e7DqAwBgL5VKpSxvKQdqK9avSAV7VwEAsBP9mgr6yCOP5G1ve1vP51NPPTWFQiGPP/54DjnkkAEvDgCAyixZuySrH16dJNnWtS0bt25Mkjy49cGc9s3TMqZ2TJLk5MNOzqWzL61WmQAAI1q/grVisZhx48b1ahszZky2bds2oEUBALB32jrbsur+VTs9d/tDt/e8n9k0c6hKAgAYdfoVrJVKpbzvfe/Lfvu9sJtUR0dHLrzwwuy///49bd/61rcGrkIAAPpt8ZzFmdk0M3/2nT9LR7Ejxe5iz7m6mrrU19XnK2d/Jecdc14VqwQAGNn6Fay9973v3aHtT/7kTwasGAAABs78Y+dn6vipmfONOb3ai93FrDx/ZU6ZcUqVKgMAGB36Fax99atfHaw6AAAYBM2PNidJago16S519xybH2sWrAEA7KV+7QoKAMDIsqJlRZJk2vhpueasazJt/LRe7QAAVE6wBgAwShW7i9nw1IbMPWpuWha0ZOEbF6ZlQUvmHjU3G57a0GvdNQAA+q9QKpVK1S6i2tra2tLY2JjW1tY0NDRUuxwAgAGzpX1LJo+bnEKh0NNWKpXydMfTmVI/pYqVAQAMT/3Jifq1xhoAACPLzsKzQqEgVAMAGACmggIAAABABQRrAAAAAFABwRoAAAAAVECwBgAAAAAVEKwBAAAAQAUEawAAAABQAcEaAAAAAFRAsAYAAAAAFRCsAQAAAEAFBGsAAAAAUAHBGgAAAABUQLAGAAAAABUQrAEADKLOYme1SwAAYJAI1gAABsm6zesy6YpJWbd5XbVLAQBgEAjWAAAGyfX3Xp+OYkeWr19e7VIAABgEgjUAgEFQKpWyvKUcqK1YvyKlUqnKFQEAMNDqql0AAMBosWTtkqx+eHWSZFvXtmzcujFJ8uDWB3PaN0/LmNoxSZKTDzs5l86+tFplAgAwQARrAAADpK2zLavuX7XTc7c/dHvP+5lNM4eqJAAABpGpoAAAA2TxnMW54bwbMmHshNTV9P77ZV1NXSaOnZgb59+YxXMWV6lCAAAGkhFrAAADaP6x8zN1/NTM+cacXu3F7mJWnr8yp8w4pUqVAQAw0IxYAwAYYM2PNidJago1vY7NjzVXrSYAAAaeYA0AYICtaFmRJJk2flquOeuaTBs/rVc7AACjg2ANAGAAFbuL2fDUhsw9am5aFrRk4RsXpmVBS+YeNTcbntqQYnex2iUCADBACqVSqVTtIqqtra0tjY2NaW1tTUNDQ7XLAQBGuC3tWzJ53OQUCoWetlKplKc7ns6U+ilVrAwAgD3pT05k8wIAgAG2s/CsUCgI1QAARhlTQQEAAACgAoI1AAAAAKiAYA0AAAAAKiBYAwAAAIAKCNYAAAAAoAKCNQAAAACogGANAAAAACogWAMAAACACgjWAAAAAKACgjUAAAAAqIBgDQAAAAAqIFgDAAAAgAoI1gCgijqLndUuAQAAqJBgDQCqZN3mdZl0xaSs27yu2qUAAAAVEKwBQJVcf+/16Sh2ZPn65dUuBQAAqIBgDQCqoFQqZXlLOVBbsX5FSqVSlSsCAAD6q67aBQDAvmLJ2iVZ/fDqJMm2rm3ZuHVjkuTBrQ/mtG+eljG1Y5IkJx92ci6dfWm1ygQAAPpIsAYAQ6Stsy2r7l+103O3P3R7z/uZTTOHqiQAAGAvmAoKAENk8ZzFueG8GzJh7ITU1fT+21ZdTV0mjp2YG+ffmMVzFlepQgAAoD+MWAOAITT/2PmZOn5q5nxjTq/2YncxK89fmVNmnFKlygAAgP4yYg0Ahljzo81JkppCTa9j82PNVasJAADoP8EaAAyxFS0rkiTTxk/LNWddk2njp/VqBwAARgbBGgAMoWJ3MRue2pC5R81Ny4KWLHzjwrQsaMnco+Zmw1MbUuwuVrtEAACgjwqlUqlU7SKqra2tLY2NjWltbU1DQ0O1ywFglNvSviWTx01OoVDoaSuVSnm64+lMqZ9SxcoAAID+5EQ2LwCAIbaz8KxQKAjVAABghDEVFADYZ3UWO6tdAgAAI5hgDQDYJ63bvC6TrpiUdZvXVbsUAABGqKoGaz/5yU8yd+7cHHzwwSkUCvn2t7/d6/z73ve+FAqFXq8zzzyzV58tW7bkPe95TxoaGjJp0qR84AMfyDPPPDOETwEAjETX33t9OoodWb5+ebVLAQBghKpqsPbss8/mta99bb785S/vss+ZZ56ZJ554oud1/fXX9zr/nve8Jy0tLbntttvy3e9+Nz/5yU/ywQ9+cLBLBwBGsFKplOUt5UBtxfoVsZcTAACVqOrmBWeddVbOOuus3fbZb7/90tTUtNNzv/jFL7Jq1arcddddef3rX58k+Yd/+Ie87W1vyxe+8IUcfPDBA14zADAyLVm7JKsfXp0k2da1LRu3bkySPLj1wZz2zdMypnZMkuTkw07OpbMvrVaZAACMIMN+V9Af//jHOfDAAzN58uS89a1vzWc+85lMnTo1SdLc3JxJkyb1hGpJcuqpp6ampiY/+9nPcs455+z0mp2dnensfGGx4ra2tsF9CACg6to627Lq/lU7PXf7Q7f3vJ/ZNHOoSgIAYIQb1psXnHnmmfnGN76R22+/PVdccUVWr16ds846K11dXUmSTZs25cADD+z1nbq6ukyZMiWbNm3a5XUvv/zyNDY29rwOPfTQQX0OAKD6Fs9ZnBvOuyETxk5IXU3vvy3W1dRl4tiJuXH+jVk8Z3GVKgQAYKQZ1iPWzj///J73r3nNa3Lcccfl8MMPz49//OPMmTOn4utedtllWbRoUc/ntrY24RoA7APmHzs/U8dPzZxv9P7viGJ3MSvPX5lTZpxSpcoAABiJhvWItZd6xStekQMOOCD3339/kqSpqSlPPvlkrz7FYjFbtmzZ5bpsSXndtoaGhl4vAGDf0Pxoc5KkplDT69j8WHPVagIAYGQaUcHaY489lv/5n//JQQcdlCSZNWtWtm7dmrvvvrunzw9/+MN0d3fnTW96U7XKBACGsRUtK5Ik08ZPyzVnXZNp46f1agcAgL6q6lTQZ555pmf0WZI89NBDueeeezJlypRMmTIlf/u3f5tzzz03TU1NeeCBB/I3f/M3OeKII3LGGWckSV71qlflzDPPzF/8xV/k2muvzbZt23LRRRfl/PPPtyMoALCDYncxG57akLlHzc1Xz/5qpo6fmvNffX7ev/L9ufWBW1PsLu6w/hoAAOxKoVQqlap18x//+Mc55ZQd1zJ573vfm2XLluWd73xn/uu//itbt27NwQcfnNNPPz1/93d/l+nTp/f03bJlSy666KLccsstqampybnnnpsvfelLmTBhQp/raGtrS2NjY1pbW00LBYBRbkv7lkweNzmFQqGnrVQq5emOpzOlfkoVKwMAYDjoT05U1WBtuBCsAQAAAJD0LycaUWusAQAAAMBwIVgDAAAAgAoI1gAAAACgAoI1AAAAAKiAYA0AAAAAKiBYAwAAAIAKCNYAAAAAoAKCNQAAAACogGANAAAAACogWAMAAACACgjWAAAAAKACgjUAAAAAqIBgDQAYMJ3FzmqXAAAAQ0awBgAMiHWb12XSFZOybvO6apcCAABDQrAGAAyI6++9Ph3Fjixfv7zapQAAwJAQrAEAe61UKmV5SzlQW7F+RUqlUpUrAgCAwVdX7QIAgJFpydolWf3w6iTJtq5t2bh1Y5Lkwa0P5rRvnpYxtWOSJCcfdnIunX1ptcoEAIBBI1gDACrS1tmWVfev2um52x+6vef9zKaZQ1USAAAMKVNBAYCKLJ6zODecd0MmjJ2Qupref6urq6nLxLETc+P8G7N4zuIqVQgAAIPLiDUAoGLzj52fqeOnZs435vRqL3YXs/L8lTllxilVqgwAAAafEWsAsI/pLHYO6PWaH21OktQUanodmx9rHtD7AADAcCNYA4B9yLrN6zLpiklZt3ndgF1zRcuKJMm08dNyzVnXZNr4ab3aAQBgtBKsAcA+5Pp7r09HsSPL1y8fkOsVu4vZ8NSGzD1qbloWtGThGxemZUFL5h41Nxue2pBid3FA7gMAAMNRoVQqlapdRLW1tbWlsbExra2taWhoqHY5ADAoSqVSXvGlV2Tj1o15xaRX5P6/uj+FQmGvr7ulfUsmj5vc61qlUilPdzydKfVT9vr6AAAwlPqTE9m8AABGsSVrl2T1w6uTJNu6tmXj1o1Jkge3PpjTvnlaxtSOSZKcfNjJuXT2pRXdY2fhWaFQEKoBADDqCdYAYAh0FjuzX91+Q37fts62rLp/1U7P3f7Q7T3vZzbNHKqSAABg1LDGGgAMssHYMKCvFs9ZnBvOuyETxk5IXU3vv6fV1dRl4tiJuXH+jVk8Z/GQ1wYAACOdYA0ABtlAbxjQX/OPnZ+V56/cYSOBYncxK89fmfOOOa8qdQ0HbR1t1S4BAIARTLAGAIOoVCpleUs5UFuxfkWqtWdQ86PNSZKaQk2vY/NjzVWpZzi46b6b0nhFY26676ZqlwIAwAglWAOAAbZk7ZKc9W9n5ax/OyunffO0HTYM2H5uydolQ1bTipYVSZJp46flmrOuybTx03q174uuvPPKJMlVzVdVuRIAAEYqmxcAwAAbbhsGFLuL2fDUhsw9am6+evZXM3X81Jz/6vPz/pXvz60P3Jpid3GH9ddGu+7u7tz1+F1Jkrsevyvd3d2pqfH3RgAA+qdQqtaclGGkra0tjY2NaW1tTUNDQ7XLAWAUuLHlxvzZd/4sHcWOXmub1dXUpb6uPl85+ytDurbZlvYtmTxucgqFQk9bqVTK0x1PZ0r9lCGro5rO/Nczc/cTdydJurq78nTH0z3nJo+bnNqa2iTJ8Qcdn1V/svNgFACA0a8/OdG+9edpABgi84+dn6njp2bON+b0at++YcApM04Z0np2Fp4VCoV9JlRLyiMJn3ruqZ2ee3HI1tZpQwMAAPrGnAcAGCQ2DBhe7vzAnbn4zRfvts+iWYty5wfuHKKKAAAY6QRrADBIbBgw/Fx1xlX5wmlf2Om5K0+/MleefuUQVwQAwEgmWAOAQfDiDQNaFrRk4RsXpmVBS+YeNTcbntrQa901htauNpbYVTsAAOyKzQti8wIABocNA4ancZ8Zl86uztSkJucec27+/b5/T3e6M65uXNr/V3u1ywMAoMr6kxMZsQYAg2RK/ZReoVoyMjYM6Cx2VruEQdNR7EhnV2em7z89Gy7akBvm35ANF23I9P2np6PYkY5iR7VLBABgBLErKADQY93mdXnTP78pP/vzn+W46cdVu5wBN65uXO7/8P2ZMWlGamrKf188cuqReXzR43lo60MZVzeuyhUCADCSGLEGAPS4/t7r01HsyPL1y6tdyqA5fMrhPaHadjU1NTl8yuFVqggAgJFKsAYAJCmv/7a8pRyorVi/IpZhBQCA3TMVFAD2YUvWLsnqh1cnSbZ1bcvGrRuTJA9ufTCnffO0jKkdkyQ5+bCTc+nsS6tVJgAADEuCNQDYh7V1tmXV/at2eu72h27veT+zaeZQlQQAACOGqaAAsA9bPGdxbjjvhkwYOyF1Nb3/3lZXU5eJYyfmxvk3ZvGcxVWqEAAAhi8j1gBgHzf/2PmZOn5q5nxjTq/2YncxK89fmVNmnFKlygAAYHgzYg0ASPOjzUmSmkJNr2PzY827/V5nsXNwCwMAgGFMsAYAZEXLiiTJtPHTcs1Z12Ta+Gm92ndm3eZ1mXTFpKzbvG5IagQAgOFGsAYA+7hidzEbntqQuUfNTcuClix848K0LGjJ3KPmZsNTG1LsLu70e9ffe306ih1Zvn75EFcMAADDQ6FUKpWqXUS1tbW1pbGxMa2trWloaKh2OQAw5La0b8nkcZNTKBR62kqlUp7ueDpT6qfs0L9UKuUVX3pFNm7dmFdMekXu/6v7e30XAABGqv7kRDYvAAB2Gp4VCoVe7UvWLsnqh1cnSbZ1bcvGrRuTJA9ufTCnffO0jKkdkyQ5+bCTc+nsSwe/aAAAqDLBGgDQJ22dbVl1/6qdnrv9odt73s9smjlUJQEAQFVZYw0A6JPFcxbnhvNuyISxE1JX0/tvc3U1dZk4dmJunH9jFs9ZXKUKAQBgaBmxBgD02fxj52fq+KmZ8405vdqL3cWsPH9lTplxSpUqAwCAoWfEGgCMQJ3Fzqrdu/nR5iRJTaGm17H5seaq1QQAANUgWAOAEWbd5nWZdMWkrNu8rir3X9GyIkkybfy0XHPWNZk2flqvdgAA2FcI1gDYQXt7snlz+cjwc/2916ej2JHl65cPyvXbOtp2ea7YXcyGpzZk7lFz07KgJQvfuDAtC1oy96i52fDUhhS7i4NSEwAADEeCNQB6rF2bzJuXTJiQNDWVj/PmJXfcUe3K2K5UKmV5SzlQW7F+RUql0oBe/6b7bkrjFY256b6bdnq+rqYumz66KSvPX5mp46cmSaaOn5qV56/ME3/9xA6bGgAAwGhWKA30f5GPQG1tbWlsbExra2saGhqqXQ5AVSxblixcmNTWJsUXDTqqq0u6upKlS5MLL6xeffuyJWuXZPXDq5Mk27q25faHbu85N2fGnIypHZMkOfmwk3Pp7Ev36l6z/nlWfvqbn2bWIbNy5wfu3KtrAQDASNSfnMiflQHI2rXlUK1U6h2qJS98XrAgec1rkhNOGPr69nVtnW1Zdf+qnZ57ccg2s2nmXt2nu7s7dz1+V5LkrsfvSnd3d2pqDG4HAIBdEawBkKuu2nGk2kvV1iZXXy1Yq4bFcxZnZtPM/Nl3/iwdxY5e65jV1dSlvq4+Xzn7KznvmPP6fe0z//XM3P3E3UmSru6udJW6kpTXUjvg8wektqY2SXL8Qcdn1Z/sPNwDAIB9lWANYB/X3p6sXJl0d+++X7GY3HxzuX99/dDUNpp0FjuzX91+FX9//rHzM3X81Mz5xpxe7cXuYlaevzKnzDilouu2dbblqeee2um5pzue7tUPAADozfwOgH1cW9ueQ7XturvL/emfdZvXZdIVk7Ju87q9uk7zo81JkppCTa9j82PNFV/zzg/cmYvffPFu+yyatch6awAAsBOCNYB9XEND0tdltGpqyv3pn+vvvT4dxY4sX798r66zomVFkmTa+Gm55qxrMm38tF7tlbrqjKvyhdO+sNNzV55+Za48/cq9uj4AAIxWgjWAfVx9fXL22eXdP3enri455xzTQPurVCpleUs5UFuxfkUq3Yy72F3Mhqc2ZO5Rc9OyoCUL37gwLQtaMveoudnw1IZe665VYlebI+yqHQAASAqlSv8LfxTpzzaqAKPR2rXJSSeVdwXdlUIhWbPG5gV9sWTtkqx+eHWSZFvXtl47d86ZMSdjasckSU4+7ORcOvvSPl93S/uWTB43OYVCoaetVCrl6Y6nM6V+yl7VPO4z49LZ1Zma1OTcY87Nv9/37+lOd8bVjUv7/2rfq2sDAMBI0p+cyOYFAGT27GTp0mTBgh13B62rS7q6yueFan3T1tm2y5FeLw7ZZjbN7Nd1dxaeFQqFvQ7VOood6ezqzPT9p2fN+9fkyKlH5tf/8+uc+NUTs/nZzekodmRc3bi9ugcAAIxGRqzFiDWA7e64I7n66vLun93d5TXVzjknufhioVp/rNu8Lq//p9enrqYuz3c9n65SV8+52kJtxo8Zn6+c/ZWcd8x5Vayytwe2PJAZk2ak5kUL7nV3d+ehrQ/l8CmHV7EyAAAYWv3JiQRrEawBvFR7e3n3z4YGa6pV4i1fe0tWP7w6B004KE8888QO599w8BsydfzUfk8FBQAABp+poADslfp6gVqlSqVS7tl0T5LsNFRLkrsevytJ/6eCAgAAw4tgDQD20ks3K2jtbN1t/5pCTVact2JYTQUFAAD6T7AGAHtpd5sV7ExNoSbvPPqdg1cQAAAwJGr23AUA2J3FcxbnhvNuyISxE1JXs+e/WV1ywiV96gcAAAxvgjUAGADzj52fleevTLG7uMe+t/zqliGoCAAAGGyCNQAYIM2PNicpT/XclbNecVY2PLWhTwEcAAAwvAnWAGCArGhZkSTpLnXvss/3Hvxenu96PmP+bkz2/+z+Q1UaAAAwCARrAIOkvT3ZvLl8HE1G63PtrWJ3MRue2pC5R81NXaFv66c93/X8IFcFAAAMJsEawABbuzaZNy+ZMCFpaiof581L7rij2pXtndH6XAOlrqYumz66KSvPX5ltn9yWGZNm7Lb/jEkzsu2T24aoOgAAYDAI1gAG0LJlyUknJbfcknT/fjZgd3f584knJtdeW936KjVan2ugTamfkkKhkCR58P/3YN78sjfvtN8fHvKHefD/9+BQlgYAAAwCwRrAAFm7Nlm4MCmVkuJL1qUvFsvtCxaMvBFeo/W5hsJ/b/7vnbb/16b/GuJKAACAwSBYAxggV12V1Nbuvk9tbXL11UNTz0AZrc81FNqLLyxEN2m/STttBwAARi7BGsAAaG9PVq7ccUTXSxWLyc03j5yF/0frcw2Fp557quf9TefdlE0f3ZSbzrtpp+cBAICRSbAGMADa2l5Ye2xPurvL/UeC0fpcQ+GA8Qfk5nfdnOc//nyOPODITLpiUo484Mg8//Hnc/O7bs4B4w+odokAAMBeEqwBDICGhqSmj79Ra2rK/UeC0fpcQ+Wdr3pnxowZk+vvvT4dxY4sX788Y8aMyTtf9c5qlwYAAAwAwRrAAKivT84+O6mr232/urrknHPK/UeC0fpcQ6lUKmV5y/IkyYr1K1IqlapcEQAAMFD28E8lAPpq0aLk29/efZ+uruTii4eknAEzWp9rMC1ZuySrH16dJNnWtS0bt25Mkjy49cGc9s3TMqZ2TJLk5MNOzqWzL61WmQAAwF4SrAEMkNmzk6VLkwULyrtkvnjB/7q6cvi0dGlywgnVq7ESo/W5BlNbZ1tW3b9qp+duf+j2nvczm2YOVUkAAMAgMBUUYABdeGGyZk15+uT2tclqasqf16wpnx+JRutzDZbFcxbnhvNuyISxE1JX0/tvWHU1dZk4dmJunH9jFs9ZXKUKAQCAgVAoWewlbW1taWxsTGtraxqsvA0MkPb28i6ZDQ2ja+2x0fpcg+GHD/0wc74xZ8f2C36YU2acUoWKAACAPelPTmTEGjDk2tuTzZvLx9Gsvj6ZPn30hU+j9bkGQ/OjzUmSmkJNr2PzY81VqwkAABg4gjVgyKxdm8ybl0yYkDQ1lY/z5iV33FHtymBwrGhZkSSZNn5arjnrmkwbP61XOwAAMLIJ1oAhsWxZctJJyS23JN3d5bbu7vLnE09Mrr22uvXBQCt2F7PhqQ2Ze9TctCxoycI3LkzLgpbMPWpuNjy1IcXu4p4vAgAADGvWWIs11mCwrV1bDtV299umUCgvgm9nSUaTLe1bMnnc5BQKhZ62UqmUpzuezpT6KVWsDAAA2BVrrAHDylVXJbW1u+9TW5tcffXQ1ANDZUr9lF6hWpIUCgWhGgAAjBKCNWBQtbcnK1cmxT3MeisWk5tvHv0bGlRiX9nsAQAAYKQRrAGDqq3thTXV9qS7u9yfMps9AAAADG+CNWBQNTQkNX38TVNTU+5P9Td7MEoOAABgzwRrwKCqr0/OPjupq9t9v7q65Jxzyv33dWvXJgsXljd7eOkU2mKx3L5gweCMXDNKDgAAoO8Ea8CgW7Qo6erafZ+uruTii4emnuGuWps9VHuUHAAAwEgjWAMG3ezZydKlSaGw48i1urpy+9KlyQknVKe+4aRamz1Uc5QcAADASCVYA4bEhRcma9aUp4VuX3Otpqb8ec2a8nmqt9lDtUbJAQAAjGSFUqlUqnYR1dbW1pbGxsa0tramwcrpMOja28uBUEODNdVeqr29vK5ZX8K1mprkmWf2/mdYjXsCAAAMV/3JiYxYA4ZcfX0yfbpwZmeqsdlDtUbJAQAAjHSCNYBhZqg3e2hoeGF67p7U1JT7AwAAIFgDGHaOPz5ZsqT8fig2e6jGKDkAAIDRQLAGMEysXZvMm1de7+ySS8qjww48sBykJYO72cNQj5IDAAAYDQRrAMPAsmXJSSclt9zywnpn3d3Jk0+W319xRXnTgJtuGriRai82e3Z5FFyhMDSj5AAAAEYDwRpAla1dmyxcmJRKSbHY+1yxWG6/9NLk//v/BreOCy8sj4Y7++wX1lwbzFFyAAAAI90eVtQBYLBddVVSW7tjqPZitbXJ1VcP/oixE04ov9rby7t/NjRYUw0AAGBXBGsAVdTenqxc+cL0z10pFpObby73H4qgq75eoAYAALAnpoICVFFb255Dte26u8v9AQAAGB4EawBV1NDwwnpme1JTU+4PAADA8CBYA6ii+vry5gAv3YnzperqknPOMT0TAABgOBGsAVTZokVJV9fu+3R1JRdfPDT1AAAA0DeCNYBB1t6ebN5cPu7M7NnJ0qVJobDjyLW6unL70qWDvyMoAAAA/SNYAxgka9cm8+YlEyYkTU3l47x5yR137Nj3wguTa65JDjywd/uBByZf/nL5PAAAAMNLVYO1n/zkJ5k7d24OPvjgFAqFfPvb3+51vlQq5ZOf/GQOOuig1NfX59RTT82vf/3rXn22bNmS97znPWloaMikSZPygQ98IM8888wQPgXAjpYtS046Kbnllhd2/ezuLn8+8cTk2mt37H/RRcmTT/Zuf/LJZOHCHfsPtvvvT771rfIRAACAnatqsPbss8/mta99bb785S/v9PznPve5fOlLX8q1116bn/3sZ9l///1zxhlnpKOjo6fPe97znrS0tOS2227Ld7/73fzkJz/JBz/4waF6BIAdrF1bDsNKpaRY7H2uWCy3L1jwwsi1/vYfTH/8x+XdR488Mjn33PKxpiZ597sH/94AAAAjTaFUKpWqXUSSFAqF3HzzzXnnO9+ZpDxa7eCDD85f//Vf56Mf/WiSpLW1NdOnT8/Xvva1nH/++fnFL36RY445JnfddVde//rXJ0lWrVqVt73tbXnsscdy8MEH9+nebW1taWxsTGtraxoaGgbl+YB9x7x55ZFpLw3JXqyurrwb6E039b//YDnssOSRR3Z9/uUvTx5+ePDuDwAAMBz0JycatmusPfTQQ9m0aVNOPfXUnrbGxsa86U1vSnNzc5Kkubk5kyZN6gnVkuTUU09NTU1Nfvazn+3y2p2dnWlra+v1AhgI7e3JypW7D8mS8vmbb062bOl7/299K7n11uQ3vxm4erf74z/efaiWlM8buQYAAPCCYRusbdq0KUkyffr0Xu3Tp0/vObdp06Yc+JKVvuvq6jJlypSePjtz+eWXp7Gxsed16KGHDnD1wL6qre2FNdX2pLs7efzxvvcvlZIzz0wOOSQZNy75/WDeAXHjjX3rd8MNA3dPAACAkW7YBmuD6bLLLktra2vP69FHH612ScAo0dBQXpOsL2pqkoMP7nv/F+vsTK68MnnDG/r/3Ze6//5yaNcX3d02NAAAANhu2AZrTU1NSZLNmzf3at+8eXPPuaampjz5ki30isVitmzZ0tNnZ/bbb780NDT0egEMhPr68lpodXW771dXl5xzTjJlSt/678rPf773I9fWrRvc/gAAAKPVsA3WZsyYkaamptx+++09bW1tbfnZz36WWbNmJUlmzZqVrVu35u677+7p88Mf/jDd3d1505veNOQ1AyTJokVJV9fu+3R1JRdf3Pf+u/OlL1X+3SQ57rjB7Q8AADBaVTVYe+aZZ3LPPffknnvuSVLesOCee+7JI488kkKhkI985CP5zGc+k+985zu59957c8EFF+Tggw/u2Tn0Va96Vc4888z8xV/8Rf7zP/8zd9xxRy666KKcf/75fd4RFGCgzZ5d3gxgd84/PznhhBf6L12aFAqVjVzbtm3vNjQ44ojyvfuipqbcHwAAgCoHaz//+c8zc+bMzJw5M0myaNGizJw5M5/85CeTJH/zN3+TD3/4w/ngBz+YN7zhDXnmmWeyatWqjBs3ruca//Zv/5ajjz46c+bMydve9rbMnj07//RP/1SV5wFIkrVrkxUrdt9n+fLkjjte+HzhhcmaNeVpoZWsubZ+ff+/82Lz5/et37vetXf3AQAAGE0KpVJfl6wevdra2tLY2JjW1lbrrQF7bd685JZbkmJx133q6soh2k037XiuvT057bTewdue/Nd/Ja97Xb9L7eWww5JHHtn1+Ze/PHn44b27BwAAwHDXn5xo2K6xBjBc/PaZ3/a5b3t7snLl7kO1pHz+5pvL/Xfmzjv7UWDKoVdfatu8edf3fPjh8hTVl46Yq6kptwvVAAAAehOsAezGlXdemQOvPDBX3nlln/q3tSXd3X27dnd3uf/OrtHfscTbtu363Nq15VF0EyYkTU3l47x5Ox8Rd/315Y0Ufv3r5N//vXzs6iq3AwAA0JupoDEVFNi1l135sjz+zON52cSX5bFFj+2xf3t7ObjqS7hWU5M880xSX7/jNfbfv+/h2q6ukyTLliULFya1tb1H0dXVlQOzpUvL67sBAABQZioowADo6urK4888niT5ze9+k66urj1+p76+vHbannb3rKtLzjln52FYfX3y+82P+2RX11m7thyqlUo7Tk0tFsvtCxb0by03AAAAXrCHf/oB7FuO+oejsnHrxiTJSwf0jvvsuBQKhSTJH0z6g/zqw7/a6TUWLUq+/e3d36erK7n44l2fX7SovAZbX+zqOlddteNItZeqrU2uvjo54YS+3QsAAIAXGLEG8CLPPv9stnVvy7bubSmWeidSxVKx59yzzz+7y2vMnl2eYlko7Dhyra6u3L506e7DrNmzy9M492TZsp1fZ6A2UQAAAGDXBGsAL/Kbv/5N3n7k23fb5x1HvSO/+evf7LbPhRcma9aUp4Vu32Wzpqb8ec2avq1rduGF5emcJ5+847mTTy6f29V1BmITBQAAAHbP5gWxeQGwowu/e2H+8e5/3KH9Q6//UJa+fWm/rtXeXg6uGhp2vhbans5v77N5c/n99Om77vfi/nu7iQIAAMC+yOYFAHth7drkm3f+oPxh+58efn+87YHb+n29+vqdh2Fr1ybz5pUDsKam8nHevJ1vJlBfn/zBH5RffQnABmITBQAAAHZPsAbwIsuWJSedlDw39sEXGh+f2fP2/qcfGND73HLLC6PKurvLn088Mbn22r2/x6JF5U0SdmdPmygAAACwa4I1gN9buzZZuDAp1T6TpJRsG5v808+Sf/r/ysdtY5NSKd//0TMDc5/SjpsLFIvl9gULdj5yrT8GYhMFAAAAdk2wBvB7V12V1NYmKU5I/vHnyWefS554Y/nkE29MPvtcCv/88/zTlycMzH12o7Y2ufrqvbpNkoHZRAEAAICds3lBbF4A7GGx/7FtyfMv/G7Ym8X+q7mpQF82SQAAANjX2bwAoJ/a2nYRdr3qpuSyxvLx97q7y/0H9D47sTf32ZldbaIAAABAZQRrACmP4qrZ2W/EP7wyKSSZdVVPU01NuX+l9xnM/gAAAAwdwRpAyqO4zj77pYv8dycH35WUkrzsriTdqatLzjnHqC8AAACSuj13Adg3LFqU3Dz+zOTgu8sNha6ktqv8vraY/M0BKZZq84NJyZn/enxW/cmqft+jv1M729qEeAAAAMOVYA3g92bPTmasbstDxad23mH800mS1m1JW2dli59tn3La180LTAUFAAAYvkwFBXiRj025M7nz4vL0z5fumfz7z4tmLcqdH7izouvvfMrpjkw5BQAAGP4EawC/t3ZtsnBhku9flXz/C+VNC16skOTWKzNv/yv36j6LFiVdXbvv09WVXHzxXt0GAACAQSZYA/i9q65Kamt//+GI36+ftn3U2u+PhSNX5eqr9+4+s2cnS5cmhcKOI9fq6srtS5cmJ5ywd/cBAABgcAnWAJK0tycrVybF4u8bXr6mfCzVJOvnl49JSoeuyc03l/vvjQsvTNasKU8Lrfn9b+KamvLnNWvK5wEAABjebF4AkPLumz0bCtR2JHWdye+mJ19Zkzx9ZDL518mfnZhM2JzuQkfa2sbt9fpnJ5xQfrW3l+/f0GBNNQAAgJFEsAaQl+zW2TUu+dL9ydMz0jOw9+kjkysfTyY/lJrSuAHdrbO+XqAGAAAwEpkKCpCd7Nb59OHZ8VdkTep+d7jdOgEAAEgiWAPoYbdOAAAA+kOwBvB7dusEAACgPwRrAC9it04AAAD6yuYFAC9ht04AAAD6QrAGsAt26wQAAGB3TAUFAAAAgAoI1gAAAACgAoI1AAAAAKiAYA1gmGpvTzZvLh8BAAAYfgRrAMPM2rXJvHnJhAlJU1P5OG9ecscd1a4MAACAFxOsAQwjy5YlJ52U3HJL0t1dbuvuLn8+8cTk2murWx8AAAAvEKwBDBNr1yYLFyalUlIs9j5XLJbbFywwcg0AAGC4EKwBDBNXXZXU1u6+T21tcvXVQ1MPAAAAuydYAxgG2tuTlSt3HKn2UsVicvPNNjQAAAAYDgRrAMNAW9sLa6rtSXd3uT8AAADVJVgDGAYaGpKaPv5Grqkp9wcAAKC6BGsAw0B9fXL22Uld3e771dUl55xT7g8AAEB1CdYAholFi5Kurt336epKLr54aOoBAABg9wRrAMPE7NnJ0qVJobDjyLW6unL70qXJCSdUpz4AAAB6E6wBDCMXXpisWVOeFrp9zbWamvLnNWvK5wEAABge9rCaDwBD7YQTyq/29vLunw0N1lQDAAAYjgRrAMNUfb1ADQAAYDgzFRQAAAAAKiBYAwAAAIAKCNYAAAAAoAKCNQAAAACogGANAAAAACogWAMAAACACgjWAAAAAKACgjUAAAAAqIBgDQAAAAAqIFgDAAAAgAoI1gAAAACgAoI1AAAAAKiAYA0AAAAAKiBYAwAAAIAKCNYAAAAAoAKCNQAAAACogGANAAAAACogWAMAAACACgjWgGGpvT3ZvLl8BAAAgOFIsAYMK2vXJvPmJRMmJE1N5eO8eckdd1S7MgAAAOhNsAYMG8uWJSedlNxyS9LdXW7r7i5/PvHE5Nprq1sfAAAAvJhgDRgW1q5NFi5MSqWkWOx9rlgsty9YYOQaAAAAw4dgDRgWrroqqa3dfZ/a2uTqq4emHgAAANgTwRpQde3tycqVO45Ue6liMbn5ZhsaAAAAMDwI1oCqa2t7YU21PenuLvcHAACAahOsAVXX0JDU9PG3UU1NuT8AAABUm2ANqLr6+uTss5O6ut33q6tLzjmn3B8AAACqTbAGDAuLFiVdXbvv09WVXHzx0NQDAAAAeyJYA4aF2bOTpUuTQmHHkWt1deX2pUuTE06oTn0AAADwUoI1YNi48MJkzZrytNDta67V1JQ/r1lTPg8AAADDxR5WNAIYWiecUH61t5d3/2xosKYaAAAAw5NgDRiW6usFagAAAAxvpoICAAAAQAUEawAAAABQAcEaAAAAAFRAsAYAAAAAFRCswTDT3p5s3lw+DifDtS4AAACoFsEaDBNr1ybz5iUTJiRNTeXjvHnJHXeoCwAAAIYjwRoMA8uWJSedlNxyS9LdXW7r7i5/PvHE5Nprq1fXiScm3/5277q+/e1k9uzq1QUAAADDQaFUKpWqXUS1tbW1pbGxMa2trWloaKh2Oexj1q4th2q7+19ioZCsWZOccMLQ1nXiiX3rN5R1AQAAwGDqT05kxBpU2VVXJbW1u+9TW5tcffXQ1LPd//pfA9sPAAAARhsj1mLEGtXT3l5es2z7NMvdqalJnnkmqa8fmrrGj+97/+eeG5q6+qK9PWlrSxoahk9NAAAAjBxGrMEI0dbWt1AtKfdraxvcerbbvLl//c85p/qbGdhkAQAAgKEmWIMqamgoj0Tri5qacv/h6Ac/qP4mC8Nx8wcAAABGN8EaVFF9fXL22Uld3e771dWVR4UN1dTG6dP717+rq7z5woIFAzdCrL29PHKuvX33/dauTRYuLN+/WOx9rlgc+LoAAABgO8EaVNmiReVgane6upKLLx6aepJygNeXHUFfaiA2WejvlM7huvkDAAAAo59gDaps9uxk6dKkUNhx5FpdXbl96dLkhBOGtq7Fi/v/nWIxufnmPY8y25X+Tulsb09WrtxxpNpA1wUAAAA7I1iDYeDCC5M1a8rTQrevuVZTU/68Zk35/FCbPbscdPVXpZssVDKlc7hu/gAAAMC+YQ8rOwFD5YQTyq/29nIA1NAwdGuq7cqFFyaveU3yhS8k3/52375T6SYL26d07m702fYpndtH723f/KEv4dpw3vwBAACAkcmINRhm6uvLmwdUO1Tb7oQTytMo/+iP9ryWWaWbLGzZUg7u+julc7hu/gAAAMC+QbAG9MnHPrbnkWH93WRh+0YF06aVp3r2xUundA7HzR8AAADYNwjWgD4Z6E0WdrZRQV+8dErncN38AQAAgNFPsAb02UBtsrC7jQp2Z1dTOofj5g8AAACMfoVSqa8TsEavtra2NDY2prW1NQ1WN4c+2ZtNFubNK49U60+olpRHn61Zs/vRZ8Np8wcAAABGnv7kRHYFZVgRigy8wfqZ1tdXdr329mTlyv5N/6yrK6+T1pcpnZXWBQAAAP1lKijDwvZF7CdMSJqaysd585I77qh2ZSPXcP2ZtrX1L1QrFEzpBAAAYHgyFTSmglbbsmXl9bZqa3tPDXzxKCWBSv8M1M90d6PdKh0J195eDvn6Eq7V1CS//W0yZUrfrw8AAAB7oz85kRFrVNXuFrEvFsvtCxZUf5TVSDIQP9PdjXbb25Fw9fXlEWgv3cHzpbZvVCBUAwAAYLgSrFFVV11VHlW1O7W1ydVXD009o8He/kyXLUtOOqm8ucD2UWXd3eXPs2cnJ56483Mnnphce23faly0qDxybne6upKLL+7b9QAAAKAaTAWNqaDV0t8pgc88Y1H6Pdnbn+nateVQrdLfCn3ZtXO7a68tj5wzBRgAAIDhxFRQRoT+LGLf3V3uz+7t7c+0L6Pddqc/owsvvLAcwp19djnkS8pHGxUAAAAwUhixFiPWqsWItYG3Nz/T/ny3P9fti0o3QgAAAICBZsQaI0J/F7EXuOzZ3vxM+zPabXcqGV1YX59Mn+7/xgAAAIwsgjWqyiL2A6/Sn+lFFw3M/WtqyiPPAAAAYLQTrFFVs2eXF6kvFHYcZVVXV25furRvi+FTVsnPdOnS5Kab9v7eRhcCAACwLxGsUXW7W8T+Bz8oBzXt7dWtcaTp78YAn/nMwNzX6EIAAAD2JTYviM0LhpPti9ivX598+cvJypXlNbu2h0J//ddGr/XXnjYG2LIlmTq1f9esq0uKxd6fu7rKI9/s5gkAAMBIZvMCRqz6+uRb30pOOy255ZYXFtPv7i5/PvHE5Nprq1vjSLOnjQEef7x/1/v61/s+Eg4AAABGs2EdrH3qU59KoVDo9Tr66KN7znd0dGThwoWZOnVqJkyYkHPPPTebN2+uYsXsrbVrk4ULk1Kp94iopPy5VEoWLEjuuKM69Y1GBx/cv/7veEd5PbZnnkk2bSofb7rJSEIAAAD2PcM6WEuSY489Nk888UTPa+3atT3nLr744txyyy258cYbs3r16jz++OOZN29eFatlb111VVJbu/s+tbXJ1VcPTT0v1d6ebN48utZ8mzIlOeigvvU9+OBy/2TPI+EAAABgtBv2wVpdXV2ampp6XgcccECSpLW1Nf/yL/+Sq666Km9961tz/PHH56tf/WruvPPO/PSnP61y1VSivb28ptpLR6q9VLGY3Hzz0IZba9cm8+YlEyYkTU3l47x5o2fk3Cc+MbD9AAAAYF8w7IO1X//61zn44IPzile8Iu95z3vyyCOPJEnuvvvubNu2LaeeempP36OPPjovf/nL09zcvNtrdnZ2pq2trdeL6mtre2FNtT3p7i73HwrLliUnnTS613xbsCB597t33+fd704+9KGhqQcAAABGgmEdrL3pTW/K1772taxatSrLli3LQw89lBNPPDG/+93vsmnTpowdOzaTJk3q9Z3p06dn06ZNu73u5ZdfnsbGxp7XoYceOohPQV81NLywIP6e1NSU+w+2fWnNt+uuK+/q+dI11w4+uNx+3XXVqQsAAACGq7pqF7A7Z511Vs/74447Lm9605ty2GGH5YYbbkj9XizsdNlll2XRokU9n9va2oRrw0B9fXl3yVtu2f100Lq6cr+hWNtr+5pvu6tn+5pvo2Hx/g99qPzasqW8W+iL11QDAAAAehvWI9ZeatKkSTnqqKNy//33p6mpKc8//3y2bt3aq8/mzZvT1NS02+vst99+aWho6PVieFi0KOnq2n2frq7k4osHv5bhvObbYJsyJXn1q4VqAAAAsDsjKlh75pln8sADD+Sggw7K8ccfnzFjxuT222/vOf/LX/4yjzzySGbNmlXFKtkbs2eXpx0WCuWRaS9WV1duX7p0aEaHDdc13wAAAIDhYVgHax/96EezevXqbNy4MXfeeWfOOeec1NbW5t3vfncaGxvzgQ98IIsWLcqPfvSj3H333Xn/+9+fWbNm5c1vfnO1S2cvXHhhsmZNebrn9jXXamrKn9esKZ8fCsNxzTcAAABg+BjWa6w99thjefe7353/+Z//ybRp0zJ79uz89Kc/zbRp05IkV199dWpqanLuueems7MzZ5xxRpYuXVrlqhkIJ5xQfrW3l0eCNTQMzZpqLzYc13wDAAAAho9CqVQqVbuIamtra0tjY2NaW1utt0Yva9cmJ51U3v1zVwqF8ki60bB5AQAAAOzr+pMTDeupoFBtw2nNNwAAAGB4EazBHgyXNd8AAACA4WVYr7EGw8VwWPMNAAAAGF4Ea9AP9fUCNQAAAKDMVFAAAAAAqIBgDQAAAAAqIFgbhdrbk82by0cAAAAABodgbRRZuzaZNy+ZMCFpaiof581L7rij2pUBAAAAjD6CtVFi2bLkpJOSW25JurvLbd3d5c8nnphce2116wMAAAAYbQRro8DatcnChUmplBSLvc8Vi+X2BQuMXAPg/9/evUfXfOX/H3+diESIkwsiUqRBxmUSrRisjBZ1C1VNy6x2MmppB50qS5UxmCnttDVuQ4c1ResSVsdgMY3eRlCECDJkJOhkUtIYWpFWiAQJkezvH/nl8+sRSThIJHk+1vqslfPZ78/+7H3Oe+0/3vlcAAAAANxLFNZqgUWLpHr1Ko6pV096772qGQ8AAAAAAEBdQGGthsvPlz75pOyVaje7cUOKieGFBgAAAAAAAPcKhbUaLjf3/z9TrTLFxSXxAAAAAAAAuHsU1mo4u11yuc1f0cWlJB4AAAAAAAB3j8JaDefhIUVGSq6uFce5ukrPPlsSDwAAAAAAgLtHYa0WmDxZKiqqOKaoSHr99aoZDwAAAAAAQF1AYa0WeOwxaelSyWYre+Waq2vJ/qVLpZ49q2d8AAAAAAAAtRGFtVrilVek+PiS20JLn7nm4lLyOT6+pB0AAAAAAAD3TiVP5kJN0rNnyZafX/L2T7udZ6oBAAAAAADcLxTWaiEPDwpqAAAAAAAA9xu3ggIAAAAAAABOoLAGAAAAAAAAOIHCGgAAAAAAAOAECmsAAAAAAACAEyisAQAAAAAAAE6gsAYAAAAAAAA4gcIaAAAAAAAA4AQKawAAAAAAAIATKKwBAAAAAAAATqCwBgAAAAAAADiBwhoAAAAAAADgBAprAAAAAAAAgBMorAEAAAAAAABOoLAGAAAAAAAAOIHCGgAAAAAAAOAECmsAAAAAAACAEyisAQAAAAAAAE6gsAYAAAAAAAA4gcIaAAAAAAAA4AQKawAAAAAAAIATKKwBAAAAAAAATqCwBgAAAAAAADiBwhoAAAAAAADgBAprAAAAAAAAgBMorAEAAAAAAABOoLAGAAAAAAAAOMG1ugfwIDDGSJJyc3OreSQAAAAAAACoTqX1odJ6UUUorEnKy8uTJLVq1aqaRwIAAAAAAIAHQV5enry8vCqMsZnbKb/VcsXFxTp79qwaN24sm81W3cMBysjNzVWrVq105swZ2e326h4OcN+Q66gLyHPUFeQ66gLyHHVFXct1Y4zy8vIUEBAgF5eKn6LGFWuSXFxc1LJly+oeBlApu91eJxYxgFxHXUCeo64g11EXkOeoK+pSrld2pVopXl4AAAAAAAAAOIHCGgAAAAAAAOAECmtADeDu7q4333xT7u7u1T0U4L4i11EXkOeoK8h11AXkOeoKcr18vLwAAAAAAAAAcAJXrAEAAAAAAABOoLAGAAAAAAAAOIHCGgAAAAAAAOAECmsAAAAAAACAEyisAVVk7969Gjp0qAICAmSz2bRlyxaHdmOMZs2apRYtWsjDw0P9+/fXiRMnHGIuXLigESNGyG63y9vbW6NHj9bly5cdYo4eParHH39cDRo0UKtWrTR//vz7PTXAQWW5/uKLL8pmszlsgwYNcogh1/GgmzNnjrp166bGjRvLz89PzzzzjNLS0hxiCgoKNH78eDVp0kSenp4aPny4srKyHGJOnz6tIUOGqGHDhvLz89PUqVN148YNh5i4uDiFhYXJ3d1d7dq105o1a+739ABJt5fnffr0KbOmv/LKKw4x5DkedMuWLVPnzp1lt9tlt9sVHh6urVu3Wu2s56gNKstz1nPnUVgDqsiVK1f0yCOP6P33379l+/z587VkyRItX75ciYmJatSokSIiIlRQUGDFjBgxQl999ZV27Nihzz//XHv37tXLL79stefm5mrgwIEKDAxUUlKSFixYoLfeeksffvjhfZ8fUKqyXJekQYMGKTMz09rWr1/v0E6u40G3Z88ejR8/XgcPHtSOHTtUWFiogQMH6sqVK1bM66+/rs8++0ybNm3Snj17dPbsWQ0bNsxqLyoq0pAhQ3T9+nXt379fa9eu1Zo1azRr1iwrJiMjQ0OGDNETTzyh5ORkTZo0SWPGjNG2bduqdL6om24nzyVp7NixDmv6j//RQZ6jJmjZsqXmzp2rpKQkHT58WH379lVkZKS++uorSaznqB0qy3OJ9dxpBkCVk2RiYmKsz8XFxcbf398sWLDA2peTk2Pc3d3N+vXrjTHG/Oc//zGSzKFDh6yYrVu3GpvNZr777jtjjDFLly41Pj4+5tq1a1bMtGnTTPv27e/zjIBbuznXjTFm1KhRJjIystxjyHXURN9//72RZPbs2WOMKVnD69evbzZt2mTFpKamGknmwIEDxhhj/vnPfxoXFxdz7tw5K2bZsmXGbrdbuf273/3O/PSnP3U41/PPP28iIiLu95SAMm7Oc2OM6d27t3nttdfKPYY8R03l4+NjVq5cyXqOWq00z41hPb8bXLEGPAAyMjJ07tw59e/f39rn5eWlHj166MCBA5KkAwcOyNvbWz/72c+smP79+8vFxUWJiYlWTK9eveTm5mbFREREKC0tTRcvXqyi2QCVi4uLk5+fn9q3b69x48YpOzvbaiPXURNdunRJkuTr6ytJSkpKUmFhocO63qFDB7Vu3dphXQ8NDVXz5s2tmIiICOXm5lr/PT5w4IBDH6UxpX0AVenmPC+1bt06NW3aVCEhIZoxY4auXr1qtZHnqGmKioq0YcMGXblyReHh4aznqJVuzvNSrOfOca3uAQCQzp07J0kOi1Tp59K2c+fOyc/Pz6Hd1dVVvr6+DjFBQUFl+iht8/HxuS/jB+7EoEGDNGzYMAUFBSk9PV2///3vNXjwYB04cED16tUj11HjFBcXa9KkSerZs6dCQkIkleShm5ubvL29HWJvXtdvte6XtlUUk5ubq/z8fHl4eNyPKQFl3CrPJelXv/qVAgMDFRAQoKNHj2ratGlKS0vTxx9/LIk8R81x7NgxhYeHq6CgQJ6enoqJiVGnTp2UnJzMeo5ao7w8l1jP7waFNQBAlfrlL39p/R0aGqrOnTurbdu2iouLU79+/apxZIBzxo8fr+PHj2vfvn3VPRTgvikvz3/8/MvQ0FC1aNFC/fr1U3p6utq2bVvVwwSc1r59eyUnJ+vSpUvavHmzRo0apT179lT3sIB7qrw879SpE+v5XeBWUOAB4O/vL0ll3i6UlZVltfn7++v77793aL9x44YuXLjgEHOrPn58DuBB06ZNGzVt2lQnT56URK6jZpkwYYI+//xz7d69Wy1btrT2+/v76/r168rJyXGIv3ldryyPy4ux2+219r++ePCUl+e30qNHD0lyWNPJc9QEbm5uateunbp27ao5c+bokUce0eLFi1nPUauUl+e3wnp++yisAQ+AoKAg+fv7a+fOnda+3NxcJSYmWve8h4eHKycnR0lJSVbMrl27VFxcbC164eHh2rt3rwoLC62YHTt2qH379twahwfWt99+q+zsbLVo0UISuY6awRijCRMmKCYmRrt27Spza3LXrl1Vv359h3U9LS1Np0+fdljXjx075lBI3rFjh+x2u3VbRnh4uEMfpTE/fh4KcL9Ulue3kpycLEkOazp5jpqouLhY165dYz1HrVaa57fCen4HqvvtCUBdkZeXZ44cOWKOHDliJJlFixaZI0eOmP/973/GGGPmzp1rvL29zSeffGKOHj1qIiMjTVBQkMnPz7f6GDRokOnSpYtJTEw0+/btM8HBwSYqKspqz8nJMc2bNzcjR440x48fNxs2bDANGzY0H3zwQZXPF3VXRbmel5dnfvvb35oDBw6YjIwM8+WXX5qwsDATHBxsCgoKrD7IdTzoxo0bZ7y8vExcXJzJzMy0tqtXr1oxr7zyimndurXZtWuXOXz4sAkPDzfh4eFW+40bN0xISIgZOHCgSU5ONrGxsaZZs2ZmxowZVsw333xjGjZsaKZOnWpSU1PN+++/b+rVq2diY2OrdL6omyrL85MnT5q3337bHD582GRkZJhPPvnEtGnTxvTq1cvqgzxHTTB9+nSzZ88ek5GRYY4ePWqmT59ubDab2b59uzGG9Ry1Q0V5znp+dyisAVVk9+7dRlKZbdSoUcYYY4qLi83MmTNN8+bNjbu7u+nXr59JS0tz6CM7O9tERUUZT09PY7fbzUsvvWTy8vIcYlJSUsxjjz1m3N3dzUMPPWTmzp1bVVMEjDEV5/rVq1fNwIEDTbNmzUz9+vVNYGCgGTt2rMNru40h1/Hgu1WOSzLR0dFWTH5+vnn11VeNj4+PadiwoXn22WdNZmamQz+nTp0ygwcPNh4eHqZp06ZmypQpprCw0CFm9+7d5tFHHzVubm6mTZs2DucA7qfK8vz06dOmV69extfX17i7u5t27dqZqVOnmkuXLjn0Q57jQffrX//aBAYGGjc3N9OsWTPTr18/q6hmDOs5aoeK8pz1/O7YjDGm6q6PAwAAAAAAAGoHnrEGAAAAAAAAOIHCGgAAAAAAAOAECmsAAAAAAACAEyisAQAAAAAAAE6gsAYAAAAAAAA4gcIaAAAAAAAA4AQKawAAAAAAAIATKKwBAAAAAAAATqCwBgAAcA/ZbDZt2bKluocBAACAKkBhDQAA1Eo2m63C7a233ir32FOnTslmsyk5Ofmej+uHH37QuHHj1Lp1a7m7u8vf318RERFKSEi45+eqKnFxcbf8jt9444170r8zv0dERITq1aunQ4cO3ZMxAAAA3IprdQ8AAADgfsjMzLT+3rhxo2bNmqW0tDRrn6enZ3UMS8OHD9f169e1du1atWnTRllZWdq5c6eys7OrZTw/dv36dbm5uTl9fFpamux2u/W5ur7j06dPa//+/ZowYYJWr16tbt26VRh/t/MGAAB1F1esAQCAWsnf39/avLy8ZLPZrM9+fn5atGiRWrZsKXd3dz366KOKjY21jg0KCpIkdenSRTabTX369JEkHTp0SAMGDFDTpk3l5eWl3r1769///vdtjyknJ0fx8fGaN2+ennjiCQUGBqp79+6aMWOGnn76aSvuxIkT6tWrlxo0aKBOnTppx44dDreYll4hlpOTYx2TnJwsm82mU6dOSZKys7MVFRWlhx56SA0bNlRoaKjWr1/vMJ4+ffpowoQJmjRpkpo2baqIiAhJ0vHjxzV48GB5enqqefPmGjlypM6fP1/p/Pz8/By+99LC2pkzZ/Tcc8/J29tbvr6+ioyMtMZZauXKlerYsaMaNGigDh06aOnSpVZbeb9HeaKjo/XUU09p3LhxWr9+vfLz8+/JvGNjY/XYY4/J29tbTZo00VNPPaX09PRKvxcAAFB7UVgDAAB1zuLFi7Vw4UL9+c9/1tGjRxUREaGnn35aJ06ckCT961//kiR9+eWXyszM1McffyxJysvL06hRo7Rv3z4dPHhQwcHBevLJJ5WXl3db5/X09JSnp6e2bNmia9eu3TKmuLhYw4YNk5ubmxITE7V8+XJNmzbtjudYUFCgrl276osvvtDx48f18ssva+TIkdbcSq1du1Zubm5KSEjQ8uXLlZOTo759+6pLly46fPiwYmNjlZWVpeeee+6OxyBJhYWFioiIUOPGjRUfH6+EhAR5enpq0KBBun79uiRp3bp1mjVrlmbPnq3U1FT96U9/0syZM7V27VpJ5f8et2KMUXR0tF544QV16NBB7dq10+bNm8vEOTPvK1euaPLkyTp8+LB27twpFxcXPfvssyouLnbquwEAALWAAQAAqOWio6ONl5eX9TkgIMDMnj3bIaZbt27m1VdfNcYYk5GRYSSZI0eOVNhvUVGRady4sfnss8+sfZJMTExMucds3rzZ+Pj4mAYNGpif//znZsaMGSYlJcVq37Ztm3F1dTXfffedtW/r1q0O/e7evdtIMhcvXrRijhw5YiSZjIyMcs89ZMgQM2XKFOtz7969TZcuXRxi3nnnHTNw4ECHfWfOnDGSTFpa2i37LR1Po0aNHLbz58+bjz76yLRv394UFxdb8deuXTMeHh5m27Ztxhhj2rZta/7+97+XGUd4eLgx5vZ/D2OM2b59u2nWrJkpLCw0xhjz3nvvmd69ezvE3Kt5//DDD0aSOXbsWKXjAgAAtRNXrAEAgDolNzdXZ8+eVc+ePR329+zZU6mpqRUem5WVpbFjxyo4OFheXl6y2+26fPmyTp8+fdvnHz58uM6ePatPP/1UgwYNUlxcnMLCwrRmzRpJUmpqqlq1aqWAgADrmPDw8Nuf4P9TVFSkd955R6GhofL19ZWnp6e2bdtWZqxdu3Z1+JySkqLdu3dbV9d5enqqQ4cOklTpbY/x8fFKTk62Nh8fH6WkpOjkyZNq3Lix1Z+vr68KCgqUnp6uK1euKD09XaNHj3Y457vvvuvUbZarV6/W888/L1fXkkcJR0VFKSEhoUxfzsz7xIkTioqKUps2bWS32/Xwww9L0h39/gAAoHbh5QUAAAC3adSoUcrOztbixYsVGBgod3d3hYeHW7c03q4GDRpowIABGjBggGbOnKkxY8bozTff1Isvvnhbx7u4lPxv1Bhj7SssLHSIWbBggRYvXqy//OUvCg0NVaNGjTRp0qQyY23UqJHD58uXL2vo0KGaN29emfO2aNGiwnEFBQXJ29u7TH9du3bVunXrysQ3a9ZMly9fliStWLFCPXr0cGivV69ehee72YULFxQTE6PCwkItW7bM2l9UVKTVq1dr9uzZ1j5n5j106FAFBgZqxYoVCggIUHFxsUJCQu749wcAALUHhTUAAFCn2O12BQQEKCEhQb1797b2JyQkqHv37pJkvSGyqKjI4diEhAQtXbpUTz75pKSSh/LfzkP9K9OpUyfrxQQdO3bUmTNnlJmZaRV0Dh486BDfrFkzSSVvPvXx8ZFU8vKCm8caGRmpF154QVLJs9u+/vprderUqcKxhIWF6R//+Icefvhh66qvuxEWFqaNGzfKz8/P4Y2hpby8vBQQEKBvvvlGI0aMuGUf5f0eN1u3bp1atmxpfZeltm/froULF+rtt98ut1hX2byzs7OVlpamFStW6PHHH5ck7du3r8LxAACA2o9bQQEAQJ0zdepUzZs3Txs3blRaWpqmT5+u5ORkvfbaa5JK3m7p4eFhPcD+0qVLkqTg4GB99NFHSk1NVWJiokaMGCEPD4/bPm92drb69u2rv/3tbzp69KgyMjK0adMmzZ8/X5GRkZKk/v376yc/+YlGjRqllJQUxcfH6w9/+INDP+3atVOrVq301ltv6cSJE/riiy+0cOFCh5jg4GDt2LFD+/fvV2pqqn7zm98oKyur0jGOHz9eFy5cUFRUlA4dOqT09HRt27ZNL730UqWFrVsZMWKEmjZtqsjISMXHxysjI0NxcXGaOHGivv32W0nSH//4R82ZM0dLlizR119/rWPHjik6OlqLFi2SVP7vcbNVq1bpF7/4hUJCQhy20aNH6/z58w5vfr3Tefv4+KhJkyb68MMPdfLkSe3atUuTJ0++4+8DAADULhTWAABAnTNx4kRNnjxZU6ZMUWhoqGJjY/Xpp58qODhYkuTq6qolS5bogw8+UEBAgFX0WrVqlS5evKiwsDCNHDlSEydOlJ+f322f19PTUz169NB7772nXr16KSQkRDNnztTYsWP117/+VVLJbZ4xMTHKz89X9+7dNWbMGIdbGCWpfv36Wr9+vf773/+qc+fOmjdvnt59912HmDfeeENhYWGKiIhQnz595O/vr2eeeabSMZZezVdUVKSBAwcqNDRUkyZNkre3t3UL6p1o2LCh9u7dq9atW2vYsGHq2LGjRo8erYKCAusKtjFjxmjlypWKjo5WaGioevfurTVr1igoKEhS+b/HjyUlJSklJUXDhw8v0+bl5aV+/fpp1apVTs/bxcVFGzZsUFJSkkJCQvT6669rwYIFd/x9AACA2sVmfvxwDgAAADyQbDabYmJibqs4BgAAgKrBFWsAAAAAAACAEyisAQAAAAAAAE7graAAAAA1AE/vAAAAePBwxRoAAAAAAADgBAprAAAAAAAAgBMorAEAAAAAAABOoLAGAAAAAAAAOIHCGgAAAAAAAOAECmsAAAAAAACAEyisAQAAAAAAAE6gsAYAAAAAAAA44f8ASf3EQFHcdSEAAAAASUVORK5CYII="/>
</div>
</div>
</div>
</div>
</div><div class="jp-Cell jp-CodeCell jp-Notebook-cell">
<div class="jp-Cell-inputWrapper" tabindex="0">
<div class="jp-Collapser jp-InputCollapser jp-Cell-inputCollapser">
</div>
<div class="jp-InputArea jp-Cell-inputArea">
<div class="jp-InputPrompt jp-InputArea-prompt">In [ ]:</div>
<div class="jp-CodeMirrorEditor jp-Editor jp-InputArea-editor" data-type="inline">
<div class="cm-editor cm-s-jupyter">
<div class="highlight hl-ipython3"><pre><span></span><span class="kn">import</span> <span class="nn">matplotlib</span>
<span class="n">matplotlib</span><span class="o">.</span><span class="n">rcParams</span><span class="p">[</span><span class="s2">"figure.figsize"</span><span class="p">]</span> <span class="o">=</span> <span class="p">(</span><span class="mi">20</span><span class="p">,</span><span class="mi">10</span><span class="p">)</span>
<span class="n">plt</span><span class="o">.</span><span class="n">hist</span><span class="p">(</span><span class="n">df8</span><span class="o">.</span><span class="n">price_sq_ft</span><span class="p">,</span><span class="n">rwidth</span><span class="o">=</span><span class="mf">0.8</span><span class="p">)</span>
<span class="n">plt</span><span class="o">.</span><span class="n">xlabel</span><span class="p">(</span><span class="s2">"Price Per Square Feet"</span><span class="p">)</span>
<span class="n">plt</span><span class="o">.</span><span class="n">ylabel</span><span class="p">(</span><span class="s2">"Count"</span><span class="p">)</span>
</pre></div>
</div>
</div>
</div>
</div>
<div class="jp-Cell-outputWrapper">
<div class="jp-Collapser jp-OutputCollapser jp-Cell-outputCollapser">
</div>
<div class="jp-OutputArea jp-Cell-outputArea">
<div class="jp-OutputArea-child jp-OutputArea-executeResult">
<div class="jp-OutputPrompt jp-OutputArea-prompt">Out[ ]:</div>
<div class="jp-RenderedText jp-OutputArea-output jp-OutputArea-executeResult" data-mime-type="text/plain" tabindex="0">
<pre>Text(0, 0.5, 'Count')</pre>
</div>
</div>
<div class="jp-OutputArea-child">
<div class="jp-OutputPrompt jp-OutputArea-prompt"></div>
<div class="jp-RenderedImage jp-OutputArea-output" tabindex="0">
<img alt="No description has been provided for this image" class="" src="data:image/png;base64,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"/>
</div>
</div>
</div>
</div>
</div><div class="jp-Cell jp-CodeCell jp-Notebook-cell">
<div class="jp-Cell-inputWrapper" tabindex="0">
<div class="jp-Collapser jp-InputCollapser jp-Cell-inputCollapser">
</div>
<div class="jp-InputArea jp-Cell-inputArea">
<div class="jp-InputPrompt jp-InputArea-prompt">In [ ]:</div>
<div class="jp-CodeMirrorEditor jp-Editor jp-InputArea-editor" data-type="inline">
<div class="cm-editor cm-s-jupyter">
<div class="highlight hl-ipython3"><pre><span></span><span class="n">df8</span><span class="o">.</span><span class="n">bath</span><span class="o">.</span><span class="n">unique</span><span class="p">()</span>
</pre></div>
</div>
</div>
</div>
</div>
<div class="jp-Cell-outputWrapper">
<div class="jp-Collapser jp-OutputCollapser jp-Cell-outputCollapser">
</div>
<div class="jp-OutputArea jp-Cell-outputArea">
<div class="jp-OutputArea-child jp-OutputArea-executeResult">
<div class="jp-OutputPrompt jp-OutputArea-prompt">Out[ ]:</div>
<div class="jp-RenderedText jp-OutputArea-output jp-OutputArea-executeResult" data-mime-type="text/plain" tabindex="0">
<pre>array([ 4.,  3.,  2.,  5.,  8.,  1.,  6.,  7.,  9., 12., 16., 13.])</pre>
</div>
</div>
</div>
</div>
</div><div class="jp-Cell jp-CodeCell jp-Notebook-cell">
<div class="jp-Cell-inputWrapper" tabindex="0">
<div class="jp-Collapser jp-InputCollapser jp-Cell-inputCollapser">
</div>
<div class="jp-InputArea jp-Cell-inputArea">
<div class="jp-InputPrompt jp-InputArea-prompt">In [ ]:</div>
<div class="jp-CodeMirrorEditor jp-Editor jp-InputArea-editor" data-type="inline">
<div class="cm-editor cm-s-jupyter">
<div class="highlight hl-ipython3"><pre><span></span><span class="n">df8</span><span class="p">[(</span><span class="n">df8</span><span class="o">.</span><span class="n">bath</span><span class="o">&gt;</span><span class="mi">1</span><span class="p">)]</span>
</pre></div>
</div>
</div>
</div>
</div>
<div class="jp-Cell-outputWrapper">
<div class="jp-Collapser jp-OutputCollapser jp-Cell-outputCollapser">
</div>
<div class="jp-OutputArea jp-Cell-outputArea">
<div class="jp-OutputArea-child jp-OutputArea-executeResult">
<div class="jp-OutputPrompt jp-OutputArea-prompt">Out[ ]:</div>
<div class="jp-RenderedHTMLCommon jp-RenderedHTML jp-OutputArea-output jp-OutputArea-executeResult" data-mime-type="text/html" tabindex="0">
<div>
<style scoped="">
    .dataframe tbody tr th:only-of-type {
        vertical-align: middle;
    }

    .dataframe tbody tr th {
        vertical-align: top;
    }

    .dataframe thead th {
        text-align: right;
    }
</style>
<table border="1" class="dataframe">
<thead>
<tr style="text-align: right;">
<th></th>
<th>location</th>
<th>size</th>
<th>total_sqft</th>
<th>bath</th>
<th>price</th>
<th>bhk</th>
<th>price_sq_ft</th>
</tr>
</thead>
<tbody>
<tr>
<th>0</th>
<td>1st Block Jayanagar</td>
<td>4 BHK</td>
<td>2850.0</td>
<td>4.0</td>
<td>428.0</td>
<td>4</td>
<td>15017.543860</td>
</tr>
<tr>
<th>1</th>
<td>1st Block Jayanagar</td>
<td>3 BHK</td>
<td>1630.0</td>
<td>3.0</td>
<td>194.0</td>
<td>3</td>
<td>11901.840491</td>
</tr>
<tr>
<th>2</th>
<td>1st Block Jayanagar</td>
<td>3 BHK</td>
<td>1875.0</td>
<td>2.0</td>
<td>235.0</td>
<td>3</td>
<td>12533.333333</td>
</tr>
<tr>
<th>3</th>
<td>1st Block Jayanagar</td>
<td>3 BHK</td>
<td>1200.0</td>
<td>2.0</td>
<td>130.0</td>
<td>3</td>
<td>10833.333333</td>
</tr>
<tr>
<th>4</th>
<td>1st Block Jayanagar</td>
<td>2 BHK</td>
<td>1235.0</td>
<td>2.0</td>
<td>148.0</td>
<td>2</td>
<td>11983.805668</td>
</tr>
<tr>
<th>...</th>
<td>...</td>
<td>...</td>
<td>...</td>
<td>...</td>
<td>...</td>
<td>...</td>
<td>...</td>
</tr>
<tr>
<th>10224</th>
<td>other</td>
<td>3 BHK</td>
<td>1490.0</td>
<td>3.0</td>
<td>140.0</td>
<td>3</td>
<td>9395.973154</td>
</tr>
<tr>
<th>10230</th>
<td>other</td>
<td>2 BHK</td>
<td>1155.0</td>
<td>2.0</td>
<td>64.0</td>
<td>2</td>
<td>5541.125541</td>
</tr>
<tr>
<th>10232</th>
<td>other</td>
<td>2 BHK</td>
<td>1200.0</td>
<td>2.0</td>
<td>70.0</td>
<td>2</td>
<td>5833.333333</td>
</tr>
<tr>
<th>10236</th>
<td>other</td>
<td>2 BHK</td>
<td>1353.0</td>
<td>2.0</td>
<td>110.0</td>
<td>2</td>
<td>8130.081301</td>
</tr>
<tr>
<th>10240</th>
<td>other</td>
<td>4 BHK</td>
<td>3600.0</td>
<td>5.0</td>
<td>400.0</td>
<td>4</td>
<td>11111.111111</td>
</tr>
</tbody>
</table>
<p>6761 rows × 7 columns</p>
</div>
</div>
</div>
</div>
</div>
</div><div class="jp-Cell jp-CodeCell jp-Notebook-cell">
<div class="jp-Cell-inputWrapper" tabindex="0">
<div class="jp-Collapser jp-InputCollapser jp-Cell-inputCollapser">
</div>
<div class="jp-InputArea jp-Cell-inputArea">
<div class="jp-InputPrompt jp-InputArea-prompt">In [ ]:</div>
<div class="jp-CodeMirrorEditor jp-Editor jp-InputArea-editor" data-type="inline">
<div class="cm-editor cm-s-jupyter">
<div class="highlight hl-ipython3"><pre><span></span><span class="n">plt</span><span class="o">.</span><span class="n">hist</span><span class="p">(</span><span class="n">df8</span><span class="o">.</span><span class="n">bath</span><span class="p">,</span><span class="n">rwidth</span><span class="o">=</span><span class="mf">0.8</span><span class="p">)</span>
<span class="n">plt</span><span class="o">.</span><span class="n">xlabel</span><span class="p">(</span><span class="s2">"Number of bathrooms"</span><span class="p">)</span>
<span class="n">plt</span><span class="o">.</span><span class="n">ylabel</span><span class="p">(</span><span class="s2">"Count"</span><span class="p">)</span>
</pre></div>
</div>
</div>
</div>
</div>
<div class="jp-Cell-outputWrapper">
<div class="jp-Collapser jp-OutputCollapser jp-Cell-outputCollapser">
</div>
<div class="jp-OutputArea jp-Cell-outputArea">
<div class="jp-OutputArea-child jp-OutputArea-executeResult">
<div class="jp-OutputPrompt jp-OutputArea-prompt">Out[ ]:</div>
<div class="jp-RenderedText jp-OutputArea-output jp-OutputArea-executeResult" data-mime-type="text/plain" tabindex="0">
<pre>Text(0, 0.5, 'Count')</pre>
</div>
</div>
<div class="jp-OutputArea-child">
<div class="jp-OutputPrompt jp-OutputArea-prompt"></div>
<div class="jp-RenderedImage jp-OutputArea-output" tabindex="0">
<img alt="No description has been provided for this image" class="" src="data:image/png;base64,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"/>
</div>
</div>
</div>
</div>
</div><div class="jp-Cell jp-CodeCell jp-Notebook-cell">
<div class="jp-Cell-inputWrapper" tabindex="0">
<div class="jp-Collapser jp-InputCollapser jp-Cell-inputCollapser">
</div>
<div class="jp-InputArea jp-Cell-inputArea">
<div class="jp-InputPrompt jp-InputArea-prompt">In [ ]:</div>
<div class="jp-CodeMirrorEditor jp-Editor jp-InputArea-editor" data-type="inline">
<div class="cm-editor cm-s-jupyter">
<div class="highlight hl-ipython3"><pre><span></span><span class="n">df8</span><span class="p">[</span><span class="n">df8</span><span class="o">.</span><span class="n">bath</span><span class="o">&gt;</span><span class="n">df8</span><span class="o">.</span><span class="n">bhk</span><span class="o">+</span><span class="mi">2</span><span class="p">]</span>
</pre></div>
</div>
</div>
</div>
</div>
<div class="jp-Cell-outputWrapper">
<div class="jp-Collapser jp-OutputCollapser jp-Cell-outputCollapser">
</div>
<div class="jp-OutputArea jp-Cell-outputArea">
<div class="jp-OutputArea-child jp-OutputArea-executeResult">
<div class="jp-OutputPrompt jp-OutputArea-prompt">Out[ ]:</div>
<div class="jp-RenderedHTMLCommon jp-RenderedHTML jp-OutputArea-output jp-OutputArea-executeResult" data-mime-type="text/html" tabindex="0">
<div>
<style scoped="">
    .dataframe tbody tr th:only-of-type {
        vertical-align: middle;
    }

    .dataframe tbody tr th {
        vertical-align: top;
    }

    .dataframe thead th {
        text-align: right;
    }
</style>
<table border="1" class="dataframe">
<thead>
<tr style="text-align: right;">
<th></th>
<th>location</th>
<th>size</th>
<th>total_sqft</th>
<th>bath</th>
<th>price</th>
<th>bhk</th>
<th>price_sq_ft</th>
</tr>
</thead>
<tbody>
<tr>
<th>1626</th>
<td>Chikkabanavar</td>
<td>4 Bedroom</td>
<td>2460.0</td>
<td>7.0</td>
<td>80.0</td>
<td>4</td>
<td>3252.032520</td>
</tr>
<tr>
<th>5238</th>
<td>Nagasandra</td>
<td>4 Bedroom</td>
<td>7000.0</td>
<td>8.0</td>
<td>450.0</td>
<td>4</td>
<td>6428.571429</td>
</tr>
<tr>
<th>6711</th>
<td>Thanisandra</td>
<td>3 BHK</td>
<td>1806.0</td>
<td>6.0</td>
<td>116.0</td>
<td>3</td>
<td>6423.034330</td>
</tr>
<tr>
<th>8411</th>
<td>other</td>
<td>6 BHK</td>
<td>11338.0</td>
<td>9.0</td>
<td>1000.0</td>
<td>6</td>
<td>8819.897689</td>
</tr>
</tbody>
</table>
</div>
</div>
</div>
</div>
</div>
</div><div class="jp-Cell jp-CodeCell jp-Notebook-cell">
<div class="jp-Cell-inputWrapper" tabindex="0">
<div class="jp-Collapser jp-InputCollapser jp-Cell-inputCollapser">
</div>
<div class="jp-InputArea jp-Cell-inputArea">
<div class="jp-InputPrompt jp-InputArea-prompt">In [ ]:</div>
<div class="jp-CodeMirrorEditor jp-Editor jp-InputArea-editor" data-type="inline">
<div class="cm-editor cm-s-jupyter">
<div class="highlight hl-ipython3"><pre><span></span><span class="n">df9</span> <span class="o">=</span> <span class="n">df8</span><span class="p">[</span><span class="n">df8</span><span class="o">.</span><span class="n">bath</span><span class="o">&lt;</span><span class="n">df8</span><span class="o">.</span><span class="n">bhk</span><span class="o">+</span><span class="mi">2</span><span class="p">]</span>
<span class="n">df9</span><span class="o">.</span><span class="n">shape</span>
</pre></div>
</div>
</div>
</div>
</div>
<div class="jp-Cell-outputWrapper">
<div class="jp-Collapser jp-OutputCollapser jp-Cell-outputCollapser">
</div>
<div class="jp-OutputArea jp-Cell-outputArea">
<div class="jp-OutputArea-child jp-OutputArea-executeResult">
<div class="jp-OutputPrompt jp-OutputArea-prompt">Out[ ]:</div>
<div class="jp-RenderedText jp-OutputArea-output jp-OutputArea-executeResult" data-mime-type="text/plain" tabindex="0">
<pre>(7251, 7)</pre>
</div>
</div>
</div>
</div>
</div><div class="jp-Cell jp-CodeCell jp-Notebook-cell">
<div class="jp-Cell-inputWrapper" tabindex="0">
<div class="jp-Collapser jp-InputCollapser jp-Cell-inputCollapser">
</div>
<div class="jp-InputArea jp-Cell-inputArea">
<div class="jp-InputPrompt jp-InputArea-prompt">In [ ]:</div>
<div class="jp-CodeMirrorEditor jp-Editor jp-InputArea-editor" data-type="inline">
<div class="cm-editor cm-s-jupyter">
<div class="highlight hl-ipython3"><pre><span></span><span class="n">df10</span> <span class="o">=</span> <span class="n">df9</span><span class="o">.</span><span class="n">drop</span><span class="p">([</span><span class="s1">'size'</span><span class="p">,</span> <span class="s1">'price_sq_ft'</span><span class="p">],</span> <span class="n">axis</span> <span class="o">=</span><span class="mi">1</span><span class="p">)</span>
<span class="n">df10</span><span class="o">.</span><span class="n">head</span><span class="p">()</span>
</pre></div>
</div>
</div>
</div>
</div>
<div class="jp-Cell-outputWrapper">
<div class="jp-Collapser jp-OutputCollapser jp-Cell-outputCollapser">
</div>
<div class="jp-OutputArea jp-Cell-outputArea">
<div class="jp-OutputArea-child jp-OutputArea-executeResult">
<div class="jp-OutputPrompt jp-OutputArea-prompt">Out[ ]:</div>
<div class="jp-RenderedHTMLCommon jp-RenderedHTML jp-OutputArea-output jp-OutputArea-executeResult" data-mime-type="text/html" tabindex="0">
<div>
<style scoped="">
    .dataframe tbody tr th:only-of-type {
        vertical-align: middle;
    }

    .dataframe tbody tr th {
        vertical-align: top;
    }

    .dataframe thead th {
        text-align: right;
    }
</style>
<table border="1" class="dataframe">
<thead>
<tr style="text-align: right;">
<th></th>
<th>location</th>
<th>total_sqft</th>
<th>bath</th>
<th>price</th>
<th>bhk</th>
</tr>
</thead>
<tbody>
<tr>
<th>0</th>
<td>1st Block Jayanagar</td>
<td>2850.0</td>
<td>4.0</td>
<td>428.0</td>
<td>4</td>
</tr>
<tr>
<th>1</th>
<td>1st Block Jayanagar</td>
<td>1630.0</td>
<td>3.0</td>
<td>194.0</td>
<td>3</td>
</tr>
<tr>
<th>2</th>
<td>1st Block Jayanagar</td>
<td>1875.0</td>
<td>2.0</td>
<td>235.0</td>
<td>3</td>
</tr>
<tr>
<th>3</th>
<td>1st Block Jayanagar</td>
<td>1200.0</td>
<td>2.0</td>
<td>130.0</td>
<td>3</td>
</tr>
<tr>
<th>4</th>
<td>1st Block Jayanagar</td>
<td>1235.0</td>
<td>2.0</td>
<td>148.0</td>
<td>2</td>
</tr>
</tbody>
</table>
</div>
</div>
</div>
</div>
</div>
</div><div class="jp-Cell jp-CodeCell jp-Notebook-cell">
<div class="jp-Cell-inputWrapper" tabindex="0">
<div class="jp-Collapser jp-InputCollapser jp-Cell-inputCollapser">
</div>
<div class="jp-InputArea jp-Cell-inputArea">
<div class="jp-InputPrompt jp-InputArea-prompt">In [ ]:</div>
<div class="jp-CodeMirrorEditor jp-Editor jp-InputArea-editor" data-type="inline">
<div class="cm-editor cm-s-jupyter">
<div class="highlight hl-ipython3"><pre><span></span><span class="n">dummies</span> <span class="o">=</span> <span class="n">pd</span><span class="o">.</span><span class="n">get_dummies</span><span class="p">(</span><span class="n">df10</span><span class="o">.</span><span class="n">location</span><span class="p">)</span>
<span class="n">dummies</span><span class="o">.</span><span class="n">head</span><span class="p">()</span>
</pre></div>
</div>
</div>
</div>
</div>
<div class="jp-Cell-outputWrapper">
<div class="jp-Collapser jp-OutputCollapser jp-Cell-outputCollapser">
</div>
<div class="jp-OutputArea jp-Cell-outputArea">
<div class="jp-OutputArea-child jp-OutputArea-executeResult">
<div class="jp-OutputPrompt jp-OutputArea-prompt">Out[ ]:</div>
<div class="jp-RenderedHTMLCommon jp-RenderedHTML jp-OutputArea-output jp-OutputArea-executeResult" data-mime-type="text/html" tabindex="0">
<div>
<style scoped="">
    .dataframe tbody tr th:only-of-type {
        vertical-align: middle;
    }

    .dataframe tbody tr th {
        vertical-align: top;
    }

    .dataframe thead th {
        text-align: right;
    }
</style>
<table border="1" class="dataframe">
<thead>
<tr style="text-align: right;">
<th></th>
<th>1st Block Jayanagar</th>
<th>1st Phase JP Nagar</th>
<th>2nd Phase Judicial Layout</th>
<th>2nd Stage Nagarbhavi</th>
<th>5th Block Hbr Layout</th>
<th>5th Phase JP Nagar</th>
<th>6th Phase JP Nagar</th>
<th>7th Phase JP Nagar</th>
<th>8th Phase JP Nagar</th>
<th>9th Phase JP Nagar</th>
<th>...</th>
<th>Vishveshwarya Layout</th>
<th>Vishwapriya Layout</th>
<th>Vittasandra</th>
<th>Whitefield</th>
<th>Yelachenahalli</th>
<th>Yelahanka</th>
<th>Yelahanka New Town</th>
<th>Yelenahalli</th>
<th>Yeshwanthpur</th>
<th>other</th>
</tr>
</thead>
<tbody>
<tr>
<th>0</th>
<td>True</td>
<td>False</td>
<td>False</td>
<td>False</td>
<td>False</td>
<td>False</td>
<td>False</td>
<td>False</td>
<td>False</td>
<td>False</td>
<td>...</td>
<td>False</td>
<td>False</td>
<td>False</td>
<td>False</td>
<td>False</td>
<td>False</td>
<td>False</td>
<td>False</td>
<td>False</td>
<td>False</td>
</tr>
<tr>
<th>1</th>
<td>True</td>
<td>False</td>
<td>False</td>
<td>False</td>
<td>False</td>
<td>False</td>
<td>False</td>
<td>False</td>
<td>False</td>
<td>False</td>
<td>...</td>
<td>False</td>
<td>False</td>
<td>False</td>
<td>False</td>
<td>False</td>
<td>False</td>
<td>False</td>
<td>False</td>
<td>False</td>
<td>False</td>
</tr>
<tr>
<th>2</th>
<td>True</td>
<td>False</td>
<td>False</td>
<td>False</td>
<td>False</td>
<td>False</td>
<td>False</td>
<td>False</td>
<td>False</td>
<td>False</td>
<td>...</td>
<td>False</td>
<td>False</td>
<td>False</td>
<td>False</td>
<td>False</td>
<td>False</td>
<td>False</td>
<td>False</td>
<td>False</td>
<td>False</td>
</tr>
<tr>
<th>3</th>
<td>True</td>
<td>False</td>
<td>False</td>
<td>False</td>
<td>False</td>
<td>False</td>
<td>False</td>
<td>False</td>
<td>False</td>
<td>False</td>
<td>...</td>
<td>False</td>
<td>False</td>
<td>False</td>
<td>False</td>
<td>False</td>
<td>False</td>
<td>False</td>
<td>False</td>
<td>False</td>
<td>False</td>
</tr>
<tr>
<th>4</th>
<td>True</td>
<td>False</td>
<td>False</td>
<td>False</td>
<td>False</td>
<td>False</td>
<td>False</td>
<td>False</td>
<td>False</td>
<td>False</td>
<td>...</td>
<td>False</td>
<td>False</td>
<td>False</td>
<td>False</td>
<td>False</td>
<td>False</td>
<td>False</td>
<td>False</td>
<td>False</td>
<td>False</td>
</tr>
</tbody>
</table>
<p>5 rows × 242 columns</p>
</div>
</div>
</div>
</div>
</div>
</div><div class="jp-Cell jp-CodeCell jp-Notebook-cell">
<div class="jp-Cell-inputWrapper" tabindex="0">
<div class="jp-Collapser jp-InputCollapser jp-Cell-inputCollapser">
</div>
<div class="jp-InputArea jp-Cell-inputArea">
<div class="jp-InputPrompt jp-InputArea-prompt">In [ ]:</div>
<div class="jp-CodeMirrorEditor jp-Editor jp-InputArea-editor" data-type="inline">
<div class="cm-editor cm-s-jupyter">
<div class="highlight hl-ipython3"><pre><span></span><span class="n">df11</span> <span class="o">=</span> <span class="n">pd</span><span class="o">.</span><span class="n">concat</span><span class="p">([</span><span class="n">df10</span><span class="p">,</span><span class="n">dummies</span><span class="o">.</span><span class="n">drop</span><span class="p">(</span><span class="s1">'other'</span><span class="p">,</span> <span class="n">axis</span> <span class="o">=</span><span class="mi">1</span><span class="p">)],</span> <span class="n">axis</span><span class="o">=</span><span class="mi">1</span><span class="p">)</span>
<span class="n">df11</span><span class="o">.</span><span class="n">head</span><span class="p">()</span>
</pre></div>
</div>
</div>
</div>
</div>
<div class="jp-Cell-outputWrapper">
<div class="jp-Collapser jp-OutputCollapser jp-Cell-outputCollapser">
</div>
<div class="jp-OutputArea jp-Cell-outputArea">
<div class="jp-OutputArea-child jp-OutputArea-executeResult">
<div class="jp-OutputPrompt jp-OutputArea-prompt">Out[ ]:</div>
<div class="jp-RenderedHTMLCommon jp-RenderedHTML jp-OutputArea-output jp-OutputArea-executeResult" data-mime-type="text/html" tabindex="0">
<div>
<style scoped="">
    .dataframe tbody tr th:only-of-type {
        vertical-align: middle;
    }

    .dataframe tbody tr th {
        vertical-align: top;
    }

    .dataframe thead th {
        text-align: right;
    }
</style>
<table border="1" class="dataframe">
<thead>
<tr style="text-align: right;">
<th></th>
<th>location</th>
<th>total_sqft</th>
<th>bath</th>
<th>price</th>
<th>bhk</th>
<th>1st Block Jayanagar</th>
<th>1st Phase JP Nagar</th>
<th>2nd Phase Judicial Layout</th>
<th>2nd Stage Nagarbhavi</th>
<th>5th Block Hbr Layout</th>
<th>...</th>
<th>Vijayanagar</th>
<th>Vishveshwarya Layout</th>
<th>Vishwapriya Layout</th>
<th>Vittasandra</th>
<th>Whitefield</th>
<th>Yelachenahalli</th>
<th>Yelahanka</th>
<th>Yelahanka New Town</th>
<th>Yelenahalli</th>
<th>Yeshwanthpur</th>
</tr>
</thead>
<tbody>
<tr>
<th>0</th>
<td>1st Block Jayanagar</td>
<td>2850.0</td>
<td>4.0</td>
<td>428.0</td>
<td>4</td>
<td>True</td>
<td>False</td>
<td>False</td>
<td>False</td>
<td>False</td>
<td>...</td>
<td>False</td>
<td>False</td>
<td>False</td>
<td>False</td>
<td>False</td>
<td>False</td>
<td>False</td>
<td>False</td>
<td>False</td>
<td>False</td>
</tr>
<tr>
<th>1</th>
<td>1st Block Jayanagar</td>
<td>1630.0</td>
<td>3.0</td>
<td>194.0</td>
<td>3</td>
<td>True</td>
<td>False</td>
<td>False</td>
<td>False</td>
<td>False</td>
<td>...</td>
<td>False</td>
<td>False</td>
<td>False</td>
<td>False</td>
<td>False</td>
<td>False</td>
<td>False</td>
<td>False</td>
<td>False</td>
<td>False</td>
</tr>
<tr>
<th>2</th>
<td>1st Block Jayanagar</td>
<td>1875.0</td>
<td>2.0</td>
<td>235.0</td>
<td>3</td>
<td>True</td>
<td>False</td>
<td>False</td>
<td>False</td>
<td>False</td>
<td>...</td>
<td>False</td>
<td>False</td>
<td>False</td>
<td>False</td>
<td>False</td>
<td>False</td>
<td>False</td>
<td>False</td>
<td>False</td>
<td>False</td>
</tr>
<tr>
<th>3</th>
<td>1st Block Jayanagar</td>
<td>1200.0</td>
<td>2.0</td>
<td>130.0</td>
<td>3</td>
<td>True</td>
<td>False</td>
<td>False</td>
<td>False</td>
<td>False</td>
<td>...</td>
<td>False</td>
<td>False</td>
<td>False</td>
<td>False</td>
<td>False</td>
<td>False</td>
<td>False</td>
<td>False</td>
<td>False</td>
<td>False</td>
</tr>
<tr>
<th>4</th>
<td>1st Block Jayanagar</td>
<td>1235.0</td>
<td>2.0</td>
<td>148.0</td>
<td>2</td>
<td>True</td>
<td>False</td>
<td>False</td>
<td>False</td>
<td>False</td>
<td>...</td>
<td>False</td>
<td>False</td>
<td>False</td>
<td>False</td>
<td>False</td>
<td>False</td>
<td>False</td>
<td>False</td>
<td>False</td>
<td>False</td>
</tr>
</tbody>
</table>
<p>5 rows × 246 columns</p>
</div>
</div>
</div>
</div>
</div>
</div><div class="jp-Cell jp-CodeCell jp-Notebook-cell">
<div class="jp-Cell-inputWrapper" tabindex="0">
<div class="jp-Collapser jp-InputCollapser jp-Cell-inputCollapser">
</div>
<div class="jp-InputArea jp-Cell-inputArea">
<div class="jp-InputPrompt jp-InputArea-prompt">In [ ]:</div>
<div class="jp-CodeMirrorEditor jp-Editor jp-InputArea-editor" data-type="inline">
<div class="cm-editor cm-s-jupyter">
<div class="highlight hl-ipython3"><pre><span></span><span class="n">df12</span> <span class="o">=</span> <span class="n">df11</span><span class="o">.</span><span class="n">drop</span><span class="p">(</span><span class="s1">'location'</span><span class="p">,</span> <span class="n">axis</span> <span class="o">=</span><span class="mi">1</span><span class="p">)</span>
<span class="n">df12</span><span class="o">.</span><span class="n">head</span><span class="p">()</span>
</pre></div>
</div>
</div>
</div>
</div>
<div class="jp-Cell-outputWrapper">
<div class="jp-Collapser jp-OutputCollapser jp-Cell-outputCollapser">
</div>
<div class="jp-OutputArea jp-Cell-outputArea">
<div class="jp-OutputArea-child jp-OutputArea-executeResult">
<div class="jp-OutputPrompt jp-OutputArea-prompt">Out[ ]:</div>
<div class="jp-RenderedHTMLCommon jp-RenderedHTML jp-OutputArea-output jp-OutputArea-executeResult" data-mime-type="text/html" tabindex="0">
<div>
<style scoped="">
    .dataframe tbody tr th:only-of-type {
        vertical-align: middle;
    }

    .dataframe tbody tr th {
        vertical-align: top;
    }

    .dataframe thead th {
        text-align: right;
    }
</style>
<table border="1" class="dataframe">
<thead>
<tr style="text-align: right;">
<th></th>
<th>total_sqft</th>
<th>bath</th>
<th>price</th>
<th>bhk</th>
<th>1st Block Jayanagar</th>
<th>1st Phase JP Nagar</th>
<th>2nd Phase Judicial Layout</th>
<th>2nd Stage Nagarbhavi</th>
<th>5th Block Hbr Layout</th>
<th>5th Phase JP Nagar</th>
<th>...</th>
<th>Vijayanagar</th>
<th>Vishveshwarya Layout</th>
<th>Vishwapriya Layout</th>
<th>Vittasandra</th>
<th>Whitefield</th>
<th>Yelachenahalli</th>
<th>Yelahanka</th>
<th>Yelahanka New Town</th>
<th>Yelenahalli</th>
<th>Yeshwanthpur</th>
</tr>
</thead>
<tbody>
<tr>
<th>0</th>
<td>2850.0</td>
<td>4.0</td>
<td>428.0</td>
<td>4</td>
<td>True</td>
<td>False</td>
<td>False</td>
<td>False</td>
<td>False</td>
<td>False</td>
<td>...</td>
<td>False</td>
<td>False</td>
<td>False</td>
<td>False</td>
<td>False</td>
<td>False</td>
<td>False</td>
<td>False</td>
<td>False</td>
<td>False</td>
</tr>
<tr>
<th>1</th>
<td>1630.0</td>
<td>3.0</td>
<td>194.0</td>
<td>3</td>
<td>True</td>
<td>False</td>
<td>False</td>
<td>False</td>
<td>False</td>
<td>False</td>
<td>...</td>
<td>False</td>
<td>False</td>
<td>False</td>
<td>False</td>
<td>False</td>
<td>False</td>
<td>False</td>
<td>False</td>
<td>False</td>
<td>False</td>
</tr>
<tr>
<th>2</th>
<td>1875.0</td>
<td>2.0</td>
<td>235.0</td>
<td>3</td>
<td>True</td>
<td>False</td>
<td>False</td>
<td>False</td>
<td>False</td>
<td>False</td>
<td>...</td>
<td>False</td>
<td>False</td>
<td>False</td>
<td>False</td>
<td>False</td>
<td>False</td>
<td>False</td>
<td>False</td>
<td>False</td>
<td>False</td>
</tr>
<tr>
<th>3</th>
<td>1200.0</td>
<td>2.0</td>
<td>130.0</td>
<td>3</td>
<td>True</td>
<td>False</td>
<td>False</td>
<td>False</td>
<td>False</td>
<td>False</td>
<td>...</td>
<td>False</td>
<td>False</td>
<td>False</td>
<td>False</td>
<td>False</td>
<td>False</td>
<td>False</td>
<td>False</td>
<td>False</td>
<td>False</td>
</tr>
<tr>
<th>4</th>
<td>1235.0</td>
<td>2.0</td>
<td>148.0</td>
<td>2</td>
<td>True</td>
<td>False</td>
<td>False</td>
<td>False</td>
<td>False</td>
<td>False</td>
<td>...</td>
<td>False</td>
<td>False</td>
<td>False</td>
<td>False</td>
<td>False</td>
<td>False</td>
<td>False</td>
<td>False</td>
<td>False</td>
<td>False</td>
</tr>
</tbody>
</table>
<p>5 rows × 245 columns</p>
</div>
</div>
</div>
</div>
</div>
</div><div class="jp-Cell jp-CodeCell jp-Notebook-cell">
<div class="jp-Cell-inputWrapper" tabindex="0">
<div class="jp-Collapser jp-InputCollapser jp-Cell-inputCollapser">
</div>
<div class="jp-InputArea jp-Cell-inputArea">
<div class="jp-InputPrompt jp-InputArea-prompt">In [ ]:</div>
<div class="jp-CodeMirrorEditor jp-Editor jp-InputArea-editor" data-type="inline">
<div class="cm-editor cm-s-jupyter">
<div class="highlight hl-ipython3"><pre><span></span><span class="n">df12</span><span class="o">.</span><span class="n">shape</span>
</pre></div>
</div>
</div>
</div>
</div>
<div class="jp-Cell-outputWrapper">
<div class="jp-Collapser jp-OutputCollapser jp-Cell-outputCollapser">
</div>
<div class="jp-OutputArea jp-Cell-outputArea">
<div class="jp-OutputArea-child jp-OutputArea-executeResult">
<div class="jp-OutputPrompt jp-OutputArea-prompt">Out[ ]:</div>
<div class="jp-RenderedText jp-OutputArea-output jp-OutputArea-executeResult" data-mime-type="text/plain" tabindex="0">
<pre>(7251, 245)</pre>
</div>
</div>
</div>
</div>
</div><div class="jp-Cell jp-CodeCell jp-Notebook-cell">
<div class="jp-Cell-inputWrapper" tabindex="0">
<div class="jp-Collapser jp-InputCollapser jp-Cell-inputCollapser">
</div>
<div class="jp-InputArea jp-Cell-inputArea">
<div class="jp-InputPrompt jp-InputArea-prompt">In [ ]:</div>
<div class="jp-CodeMirrorEditor jp-Editor jp-InputArea-editor" data-type="inline">
<div class="cm-editor cm-s-jupyter">
<div class="highlight hl-ipython3"><pre><span></span><span class="n">X</span> <span class="o">=</span> <span class="n">df12</span><span class="o">.</span><span class="n">drop</span><span class="p">(</span><span class="s1">'price'</span><span class="p">,</span> <span class="n">axis</span> <span class="o">=</span><span class="mi">1</span><span class="p">)</span>  <span class="c1">#independant variables</span>
<span class="n">X</span>
</pre></div>
</div>
</div>
</div>
</div>
<div class="jp-Cell-outputWrapper">
<div class="jp-Collapser jp-OutputCollapser jp-Cell-outputCollapser">
</div>
<div class="jp-OutputArea jp-Cell-outputArea">
<div class="jp-OutputArea-child jp-OutputArea-executeResult">
<div class="jp-OutputPrompt jp-OutputArea-prompt">Out[ ]:</div>
<div class="jp-RenderedHTMLCommon jp-RenderedHTML jp-OutputArea-output jp-OutputArea-executeResult" data-mime-type="text/html" tabindex="0">
<div>
<style scoped="">
    .dataframe tbody tr th:only-of-type {
        vertical-align: middle;
    }

    .dataframe tbody tr th {
        vertical-align: top;
    }

    .dataframe thead th {
        text-align: right;
    }
</style>
<table border="1" class="dataframe">
<thead>
<tr style="text-align: right;">
<th></th>
<th>total_sqft</th>
<th>bath</th>
<th>bhk</th>
<th>1st Block Jayanagar</th>
<th>1st Phase JP Nagar</th>
<th>2nd Phase Judicial Layout</th>
<th>2nd Stage Nagarbhavi</th>
<th>5th Block Hbr Layout</th>
<th>5th Phase JP Nagar</th>
<th>6th Phase JP Nagar</th>
<th>...</th>
<th>Vijayanagar</th>
<th>Vishveshwarya Layout</th>
<th>Vishwapriya Layout</th>
<th>Vittasandra</th>
<th>Whitefield</th>
<th>Yelachenahalli</th>
<th>Yelahanka</th>
<th>Yelahanka New Town</th>
<th>Yelenahalli</th>
<th>Yeshwanthpur</th>
</tr>
</thead>
<tbody>
<tr>
<th>0</th>
<td>2850.0</td>
<td>4.0</td>
<td>4</td>
<td>True</td>
<td>False</td>
<td>False</td>
<td>False</td>
<td>False</td>
<td>False</td>
<td>False</td>
<td>...</td>
<td>False</td>
<td>False</td>
<td>False</td>
<td>False</td>
<td>False</td>
<td>False</td>
<td>False</td>
<td>False</td>
<td>False</td>
<td>False</td>
</tr>
<tr>
<th>1</th>
<td>1630.0</td>
<td>3.0</td>
<td>3</td>
<td>True</td>
<td>False</td>
<td>False</td>
<td>False</td>
<td>False</td>
<td>False</td>
<td>False</td>
<td>...</td>
<td>False</td>
<td>False</td>
<td>False</td>
<td>False</td>
<td>False</td>
<td>False</td>
<td>False</td>
<td>False</td>
<td>False</td>
<td>False</td>
</tr>
<tr>
<th>2</th>
<td>1875.0</td>
<td>2.0</td>
<td>3</td>
<td>True</td>
<td>False</td>
<td>False</td>
<td>False</td>
<td>False</td>
<td>False</td>
<td>False</td>
<td>...</td>
<td>False</td>
<td>False</td>
<td>False</td>
<td>False</td>
<td>False</td>
<td>False</td>
<td>False</td>
<td>False</td>
<td>False</td>
<td>False</td>
</tr>
<tr>
<th>3</th>
<td>1200.0</td>
<td>2.0</td>
<td>3</td>
<td>True</td>
<td>False</td>
<td>False</td>
<td>False</td>
<td>False</td>
<td>False</td>
<td>False</td>
<td>...</td>
<td>False</td>
<td>False</td>
<td>False</td>
<td>False</td>
<td>False</td>
<td>False</td>
<td>False</td>
<td>False</td>
<td>False</td>
<td>False</td>
</tr>
<tr>
<th>4</th>
<td>1235.0</td>
<td>2.0</td>
<td>2</td>
<td>True</td>
<td>False</td>
<td>False</td>
<td>False</td>
<td>False</td>
<td>False</td>
<td>False</td>
<td>...</td>
<td>False</td>
<td>False</td>
<td>False</td>
<td>False</td>
<td>False</td>
<td>False</td>
<td>False</td>
<td>False</td>
<td>False</td>
<td>False</td>
</tr>
<tr>
<th>...</th>
<td>...</td>
<td>...</td>
<td>...</td>
<td>...</td>
<td>...</td>
<td>...</td>
<td>...</td>
<td>...</td>
<td>...</td>
<td>...</td>
<td>...</td>
<td>...</td>
<td>...</td>
<td>...</td>
<td>...</td>
<td>...</td>
<td>...</td>
<td>...</td>
<td>...</td>
<td>...</td>
<td>...</td>
</tr>
<tr>
<th>10232</th>
<td>1200.0</td>
<td>2.0</td>
<td>2</td>
<td>False</td>
<td>False</td>
<td>False</td>
<td>False</td>
<td>False</td>
<td>False</td>
<td>False</td>
<td>...</td>
<td>False</td>
<td>False</td>
<td>False</td>
<td>False</td>
<td>False</td>
<td>False</td>
<td>False</td>
<td>False</td>
<td>False</td>
<td>False</td>
</tr>
<tr>
<th>10233</th>
<td>1800.0</td>
<td>1.0</td>
<td>1</td>
<td>False</td>
<td>False</td>
<td>False</td>
<td>False</td>
<td>False</td>
<td>False</td>
<td>False</td>
<td>...</td>
<td>False</td>
<td>False</td>
<td>False</td>
<td>False</td>
<td>False</td>
<td>False</td>
<td>False</td>
<td>False</td>
<td>False</td>
<td>False</td>
</tr>
<tr>
<th>10236</th>
<td>1353.0</td>
<td>2.0</td>
<td>2</td>
<td>False</td>
<td>False</td>
<td>False</td>
<td>False</td>
<td>False</td>
<td>False</td>
<td>False</td>
<td>...</td>
<td>False</td>
<td>False</td>
<td>False</td>
<td>False</td>
<td>False</td>
<td>False</td>
<td>False</td>
<td>False</td>
<td>False</td>
<td>False</td>
</tr>
<tr>
<th>10237</th>
<td>812.0</td>
<td>1.0</td>
<td>1</td>
<td>False</td>
<td>False</td>
<td>False</td>
<td>False</td>
<td>False</td>
<td>False</td>
<td>False</td>
<td>...</td>
<td>False</td>
<td>False</td>
<td>False</td>
<td>False</td>
<td>False</td>
<td>False</td>
<td>False</td>
<td>False</td>
<td>False</td>
<td>False</td>
</tr>
<tr>
<th>10240</th>
<td>3600.0</td>
<td>5.0</td>
<td>4</td>
<td>False</td>
<td>False</td>
<td>False</td>
<td>False</td>
<td>False</td>
<td>False</td>
<td>False</td>
<td>...</td>
<td>False</td>
<td>False</td>
<td>False</td>
<td>False</td>
<td>False</td>
<td>False</td>
<td>False</td>
<td>False</td>
<td>False</td>
<td>False</td>
</tr>
</tbody>
</table>
<p>7251 rows × 244 columns</p>
</div>
</div>
</div>
</div>
</div>
</div><div class="jp-Cell jp-CodeCell jp-Notebook-cell">
<div class="jp-Cell-inputWrapper" tabindex="0">
<div class="jp-Collapser jp-InputCollapser jp-Cell-inputCollapser">
</div>
<div class="jp-InputArea jp-Cell-inputArea">
<div class="jp-InputPrompt jp-InputArea-prompt">In [ ]:</div>
<div class="jp-CodeMirrorEditor jp-Editor jp-InputArea-editor" data-type="inline">
<div class="cm-editor cm-s-jupyter">
<div class="highlight hl-ipython3"><pre><span></span><span class="n">y</span> <span class="o">=</span> <span class="n">df12</span><span class="o">.</span><span class="n">price</span>
<span class="n">y</span>
</pre></div>
</div>
</div>
</div>
</div>
<div class="jp-Cell-outputWrapper">
<div class="jp-Collapser jp-OutputCollapser jp-Cell-outputCollapser">
</div>
<div class="jp-OutputArea jp-Cell-outputArea">
<div class="jp-OutputArea-child jp-OutputArea-executeResult">
<div class="jp-OutputPrompt jp-OutputArea-prompt">Out[ ]:</div>
<div class="jp-RenderedText jp-OutputArea-output jp-OutputArea-executeResult" data-mime-type="text/plain" tabindex="0">
<pre>0        428.0
1        194.0
2        235.0
3        130.0
4        148.0
         ...  
10232     70.0
10233    200.0
10236    110.0
10237     26.0
10240    400.0
Name: price, Length: 7251, dtype: float64</pre>
</div>
</div>
</div>
</div>
</div><div class="jp-Cell jp-CodeCell jp-Notebook-cell jp-mod-noOutputs">
<div class="jp-Cell-inputWrapper" tabindex="0">
<div class="jp-Collapser jp-InputCollapser jp-Cell-inputCollapser">
</div>
<div class="jp-InputArea jp-Cell-inputArea">
<div class="jp-InputPrompt jp-InputArea-prompt">In [ ]:</div>
<div class="jp-CodeMirrorEditor jp-Editor jp-InputArea-editor" data-type="inline">
<div class="cm-editor cm-s-jupyter">
<div class="highlight hl-ipython3"><pre><span></span><span class="kn">from</span> <span class="nn">sklearn.model_selection</span> <span class="kn">import</span> <span class="n">train_test_split</span>
<span class="n">X_train</span><span class="p">,</span> <span class="n">X_test</span><span class="p">,</span> <span class="n">y_train</span><span class="p">,</span> <span class="n">y_test</span> <span class="o">=</span> <span class="n">train_test_split</span><span class="p">(</span><span class="n">X</span><span class="p">,</span><span class="n">y</span><span class="p">,</span><span class="n">test_size</span><span class="o">=</span><span class="mf">0.2</span><span class="p">,</span><span class="n">random_state</span><span class="o">=</span><span class="mi">10</span><span class="p">)</span>
</pre></div>
</div>
</div>
</div>
</div>
</div><div class="jp-Cell jp-CodeCell jp-Notebook-cell">
<div class="jp-Cell-inputWrapper" tabindex="0">
<div class="jp-Collapser jp-InputCollapser jp-Cell-inputCollapser">
</div>
<div class="jp-InputArea jp-Cell-inputArea">
<div class="jp-InputPrompt jp-InputArea-prompt">In [ ]:</div>
<div class="jp-CodeMirrorEditor jp-Editor jp-InputArea-editor" data-type="inline">
<div class="cm-editor cm-s-jupyter">
<div class="highlight hl-ipython3"><pre><span></span><span class="kn">from</span> <span class="nn">sklearn.model_selection</span> <span class="kn">import</span> <span class="n">train_test_split</span>
<span class="kn">from</span> <span class="nn">sklearn.linear_model</span> <span class="kn">import</span> <span class="n">LinearRegression</span>
<span class="n">X_train</span><span class="p">,</span> <span class="n">X_test</span><span class="p">,</span> <span class="n">y_train</span><span class="p">,</span> <span class="n">y_test</span> <span class="o">=</span> <span class="n">train_test_split</span><span class="p">(</span><span class="n">X</span><span class="p">,</span><span class="n">y</span><span class="p">,</span><span class="n">test_size</span><span class="o">=</span><span class="mf">0.2</span><span class="p">,</span><span class="n">random_state</span><span class="o">=</span><span class="mi">10</span><span class="p">)</span>
<span class="n">lr_clf</span> <span class="o">=</span> <span class="n">LinearRegression</span><span class="p">()</span>
<span class="n">lr_clf</span><span class="o">.</span><span class="n">fit</span><span class="p">(</span><span class="n">X_train</span><span class="p">,</span><span class="n">y_train</span><span class="p">)</span>
<span class="n">lr_clf</span><span class="o">.</span><span class="n">score</span><span class="p">(</span><span class="n">X_test</span><span class="p">,</span><span class="n">y_test</span><span class="p">)</span>
</pre></div>
</div>
</div>
</div>
</div>
<div class="jp-Cell-outputWrapper">
<div class="jp-Collapser jp-OutputCollapser jp-Cell-outputCollapser">
</div>
<div class="jp-OutputArea jp-Cell-outputArea">
<div class="jp-OutputArea-child jp-OutputArea-executeResult">
<div class="jp-OutputPrompt jp-OutputArea-prompt">Out[ ]:</div>
<div class="jp-RenderedText jp-OutputArea-output jp-OutputArea-executeResult" data-mime-type="text/plain" tabindex="0">
<pre>0.8452277697874332</pre>
</div>
</div>
</div>
</div>
</div><div class="jp-Cell jp-CodeCell jp-Notebook-cell">
<div class="jp-Cell-inputWrapper" tabindex="0">
<div class="jp-Collapser jp-InputCollapser jp-Cell-inputCollapser">
</div>
<div class="jp-InputArea jp-Cell-inputArea">
<div class="jp-InputPrompt jp-InputArea-prompt">In [ ]:</div>
<div class="jp-CodeMirrorEditor jp-Editor jp-InputArea-editor" data-type="inline">
<div class="cm-editor cm-s-jupyter">
<div class="highlight hl-ipython3"><pre><span></span><span class="kn">from</span> <span class="nn">sklearn.model_selection</span> <span class="kn">import</span> <span class="n">ShuffleSplit</span>
<span class="kn">from</span> <span class="nn">sklearn.model_selection</span> <span class="kn">import</span> <span class="n">cross_val_score</span>

<span class="n">cv</span> <span class="o">=</span> <span class="n">ShuffleSplit</span><span class="p">(</span><span class="n">n_splits</span><span class="o">=</span><span class="mi">5</span><span class="p">,</span> <span class="n">test_size</span><span class="o">=</span><span class="mf">0.2</span><span class="p">,</span> <span class="n">random_state</span><span class="o">=</span><span class="mi">0</span><span class="p">)</span>

<span class="n">cross_val_score</span><span class="p">(</span><span class="n">LinearRegression</span><span class="p">(),</span> <span class="n">X</span><span class="p">,</span> <span class="n">y</span><span class="p">,</span> <span class="n">cv</span><span class="o">=</span><span class="n">cv</span><span class="p">)</span>
</pre></div>
</div>
</div>
</div>
</div>
<div class="jp-Cell-outputWrapper">
<div class="jp-Collapser jp-OutputCollapser jp-Cell-outputCollapser">
</div>
<div class="jp-OutputArea jp-Cell-outputArea">
<div class="jp-OutputArea-child jp-OutputArea-executeResult">
<div class="jp-OutputPrompt jp-OutputArea-prompt">Out[ ]:</div>
<div class="jp-RenderedText jp-OutputArea-output jp-OutputArea-executeResult" data-mime-type="text/plain" tabindex="0">
<pre>array([0.82430186, 0.77166234, 0.85089567, 0.80837764, 0.83653286])</pre>
</div>
</div>
</div>
</div>
</div><div class="jp-Cell jp-CodeCell jp-Notebook-cell">
<div class="jp-Cell-inputWrapper" tabindex="0">
<div class="jp-Collapser jp-InputCollapser jp-Cell-inputCollapser">
</div>
<div class="jp-InputArea jp-Cell-inputArea">
<div class="jp-InputPrompt jp-InputArea-prompt">In [ ]:</div>
<div class="jp-CodeMirrorEditor jp-Editor jp-InputArea-editor" data-type="inline">
<div class="cm-editor cm-s-jupyter">
<div class="highlight hl-ipython3"><pre><span></span><span class="kn">from</span> <span class="nn">sklearn.model_selection</span> <span class="kn">import</span> <span class="n">GridSearchCV</span>

<span class="kn">from</span> <span class="nn">sklearn.linear_model</span> <span class="kn">import</span> <span class="n">Lasso</span>
<span class="kn">from</span> <span class="nn">sklearn.tree</span> <span class="kn">import</span> <span class="n">DecisionTreeRegressor</span>

<span class="k">def</span> <span class="nf">find_best_model_using_gridsearchcv</span><span class="p">(</span><span class="n">X</span><span class="p">,</span><span class="n">y</span><span class="p">):</span>
    <span class="n">algos</span> <span class="o">=</span> <span class="p">{</span>
        <span class="s1">'linear_regression'</span> <span class="p">:</span> <span class="p">{</span>
            <span class="s1">'model'</span><span class="p">:</span> <span class="n">LinearRegression</span><span class="p">(),</span>
            <span class="s1">'params'</span><span class="p">:</span> <span class="p">{</span>
                <span class="s1">'fit_intercept'</span><span class="p">:</span> <span class="p">[</span><span class="kc">True</span><span class="p">,</span> <span class="kc">False</span><span class="p">]</span>
            <span class="p">}</span>
        <span class="p">},</span>
        <span class="s1">'lasso'</span><span class="p">:</span> <span class="p">{</span>
            <span class="s1">'model'</span><span class="p">:</span> <span class="n">Lasso</span><span class="p">(),</span>
            <span class="s1">'params'</span><span class="p">:</span> <span class="p">{</span>
                <span class="s1">'alpha'</span><span class="p">:</span> <span class="p">[</span><span class="mi">1</span><span class="p">,</span><span class="mi">2</span><span class="p">],</span>
                <span class="s1">'selection'</span><span class="p">:</span> <span class="p">[</span><span class="s1">'random'</span><span class="p">,</span> <span class="s1">'cyclic'</span><span class="p">]</span>
            <span class="p">}</span>
        <span class="p">},</span>
        <span class="s1">'decision_tree'</span><span class="p">:</span> <span class="p">{</span>
            <span class="s1">'model'</span><span class="p">:</span> <span class="n">DecisionTreeRegressor</span><span class="p">(),</span>
            <span class="s1">'params'</span><span class="p">:</span> <span class="p">{</span>
                <span class="s1">'criterion'</span> <span class="p">:</span> <span class="p">[</span><span class="s1">'mse'</span><span class="p">,</span><span class="s1">'friedman_mse'</span><span class="p">],</span>
                <span class="s1">'splitter'</span><span class="p">:</span> <span class="p">[</span><span class="s1">'best'</span><span class="p">,</span><span class="s1">'random'</span><span class="p">]</span>
            <span class="p">}</span>
        <span class="p">}</span>
    <span class="p">}</span>
    <span class="n">scores</span> <span class="o">=</span> <span class="p">[]</span>
    <span class="n">cv</span> <span class="o">=</span> <span class="n">ShuffleSplit</span><span class="p">(</span><span class="n">n_splits</span><span class="o">=</span><span class="mi">5</span><span class="p">,</span> <span class="n">test_size</span><span class="o">=</span><span class="mf">0.2</span><span class="p">,</span> <span class="n">random_state</span><span class="o">=</span><span class="mi">0</span><span class="p">)</span>
    <span class="k">for</span> <span class="n">algo_name</span><span class="p">,</span> <span class="n">config</span> <span class="ow">in</span> <span class="n">algos</span><span class="o">.</span><span class="n">items</span><span class="p">():</span>
        <span class="n">gs</span> <span class="o">=</span>  <span class="n">GridSearchCV</span><span class="p">(</span><span class="n">config</span><span class="p">[</span><span class="s1">'model'</span><span class="p">],</span> <span class="n">config</span><span class="p">[</span><span class="s1">'params'</span><span class="p">],</span> <span class="n">cv</span><span class="o">=</span><span class="n">cv</span><span class="p">,</span> <span class="n">return_train_score</span><span class="o">=</span><span class="kc">False</span><span class="p">)</span>
        <span class="n">gs</span><span class="o">.</span><span class="n">fit</span><span class="p">(</span><span class="n">X</span><span class="p">,</span><span class="n">y</span><span class="p">)</span>
        <span class="n">scores</span><span class="o">.</span><span class="n">append</span><span class="p">({</span>
            <span class="s1">'model'</span><span class="p">:</span> <span class="n">algo_name</span><span class="p">,</span>
            <span class="s1">'best_score'</span><span class="p">:</span> <span class="n">gs</span><span class="o">.</span><span class="n">best_score_</span><span class="p">,</span>
            <span class="s1">'best_params'</span><span class="p">:</span> <span class="n">gs</span><span class="o">.</span><span class="n">best_params_</span>
        <span class="p">})</span>

    <span class="k">return</span> <span class="n">pd</span><span class="o">.</span><span class="n">DataFrame</span><span class="p">(</span><span class="n">scores</span><span class="p">,</span><span class="n">columns</span><span class="o">=</span><span class="p">[</span><span class="s1">'model'</span><span class="p">,</span><span class="s1">'best_score'</span><span class="p">,</span><span class="s1">'best_params'</span><span class="p">])</span>

<span class="n">find_best_model_using_gridsearchcv</span><span class="p">(</span><span class="n">X</span><span class="p">,</span><span class="n">y</span><span class="p">)</span>
</pre></div>
</div>
</div>
</div>
</div>
<div class="jp-Cell-outputWrapper">
<div class="jp-Collapser jp-OutputCollapser jp-Cell-outputCollapser">
</div>
<div class="jp-OutputArea jp-Cell-outputArea">
<div class="jp-OutputArea-child">
<div class="jp-OutputPrompt jp-OutputArea-prompt"></div>
<div class="jp-RenderedText jp-OutputArea-output" data-mime-type="application/vnd.jupyter.stderr" tabindex="0">
<pre>c:\Users\User\AppData\Local\Programs\Python\Python311\Lib\site-packages\sklearn\model_selection\_validation.py:542: FitFailedWarning: 
10 fits failed out of a total of 20.
The score on these train-test partitions for these parameters will be set to nan.
If these failures are not expected, you can try to debug them by setting error_score='raise'.

Below are more details about the failures:
--------------------------------------------------------------------------------
10 fits failed with the following error:
Traceback (most recent call last):
  File "c:\Users\User\AppData\Local\Programs\Python\Python311\Lib\site-packages\sklearn\model_selection\_validation.py", line 890, in _fit_and_score
    estimator.fit(X_train, y_train, **fit_params)
  File "c:\Users\User\AppData\Local\Programs\Python\Python311\Lib\site-packages\sklearn\base.py", line 1344, in wrapper
    estimator._validate_params()
  File "c:\Users\User\AppData\Local\Programs\Python\Python311\Lib\site-packages\sklearn\base.py", line 666, in _validate_params
    validate_parameter_constraints(
  File "c:\Users\User\AppData\Local\Programs\Python\Python311\Lib\site-packages\sklearn\utils\_param_validation.py", line 95, in validate_parameter_constraints
    raise InvalidParameterError(
sklearn.utils._param_validation.InvalidParameterError: The 'criterion' parameter of DecisionTreeRegressor must be a str among {'friedman_mse', 'absolute_error', 'squared_error', 'poisson'}. Got 'mse' instead.

  warnings.warn(some_fits_failed_message, FitFailedWarning)
c:\Users\User\AppData\Local\Programs\Python\Python311\Lib\site-packages\sklearn\model_selection\_search.py:1051: UserWarning: One or more of the test scores are non-finite: [       nan        nan 0.71600208 0.69817062]
  warnings.warn(
</pre>
</div>
</div>
<div class="jp-OutputArea-child jp-OutputArea-executeResult">
<div class="jp-OutputPrompt jp-OutputArea-prompt">Out[ ]:</div>
<div class="jp-RenderedHTMLCommon jp-RenderedHTML jp-OutputArea-output jp-OutputArea-executeResult" data-mime-type="text/html" tabindex="0">
<div>
<style scoped="">
    .dataframe tbody tr th:only-of-type {
        vertical-align: middle;
    }

    .dataframe tbody tr th {
        vertical-align: top;
    }

    .dataframe thead th {
        text-align: right;
    }
</style>
<table border="1" class="dataframe">
<thead>
<tr style="text-align: right;">
<th></th>
<th>model</th>
<th>best_score</th>
<th>best_params</th>
</tr>
</thead>
<tbody>
<tr>
<th>0</th>
<td>linear_regression</td>
<td>0.819001</td>
<td>{'fit_intercept': False}</td>
</tr>
<tr>
<th>1</th>
<td>lasso</td>
<td>0.687453</td>
<td>{'alpha': 1, 'selection': 'random'}</td>
</tr>
<tr>
<th>2</th>
<td>decision_tree</td>
<td>0.716002</td>
<td>{'criterion': 'friedman_mse', 'splitter': 'best'}</td>
</tr>
</tbody>
</table>
</div>
</div>
</div>
</div>
</div>
</div><div class="jp-Cell jp-CodeCell jp-Notebook-cell jp-mod-noOutputs">
<div class="jp-Cell-inputWrapper" tabindex="0">
<div class="jp-Collapser jp-InputCollapser jp-Cell-inputCollapser">
</div>
<div class="jp-InputArea jp-Cell-inputArea">
<div class="jp-InputPrompt jp-InputArea-prompt">In [ ]:</div>
<div class="jp-CodeMirrorEditor jp-Editor jp-InputArea-editor" data-type="inline">
<div class="cm-editor cm-s-jupyter">
<div class="highlight hl-ipython3"><pre><span></span><span class="k">def</span> <span class="nf">predict_price</span><span class="p">(</span><span class="n">location</span><span class="p">,</span><span class="n">sqft</span><span class="p">,</span><span class="n">bath</span><span class="p">,</span><span class="n">bhk</span><span class="p">):</span>    
    <span class="n">loc_index</span> <span class="o">=</span> <span class="n">np</span><span class="o">.</span><span class="n">where</span><span class="p">(</span><span class="n">X</span><span class="o">.</span><span class="n">columns</span><span class="o">==</span><span class="n">location</span><span class="p">)[</span><span class="mi">0</span><span class="p">][</span><span class="mi">0</span><span class="p">]</span>

    <span class="n">x</span> <span class="o">=</span> <span class="n">np</span><span class="o">.</span><span class="n">zeros</span><span class="p">(</span><span class="nb">len</span><span class="p">(</span><span class="n">X</span><span class="o">.</span><span class="n">columns</span><span class="p">))</span>
    <span class="n">x</span><span class="p">[</span><span class="mi">0</span><span class="p">]</span> <span class="o">=</span> <span class="n">sqft</span>
    <span class="n">x</span><span class="p">[</span><span class="mi">1</span><span class="p">]</span> <span class="o">=</span> <span class="n">bath</span>
    <span class="n">x</span><span class="p">[</span><span class="mi">2</span><span class="p">]</span> <span class="o">=</span> <span class="n">bhk</span>
    <span class="k">if</span> <span class="n">loc_index</span> <span class="o">&gt;=</span> <span class="mi">0</span><span class="p">:</span>
        <span class="n">x</span><span class="p">[</span><span class="n">loc_index</span><span class="p">]</span> <span class="o">=</span> <span class="mi">1</span>

    <span class="k">return</span> <span class="n">lr_clf</span><span class="o">.</span><span class="n">predict</span><span class="p">([</span><span class="n">x</span><span class="p">])[</span><span class="mi">0</span><span class="p">]</span>
</pre></div>
</div>
</div>
</div>
</div>
</div><div class="jp-Cell jp-CodeCell jp-Notebook-cell">
<div class="jp-Cell-inputWrapper" tabindex="0">
<div class="jp-Collapser jp-InputCollapser jp-Cell-inputCollapser">
</div>
<div class="jp-InputArea jp-Cell-inputArea">
<div class="jp-InputPrompt jp-InputArea-prompt">In [ ]:</div>
<div class="jp-CodeMirrorEditor jp-Editor jp-InputArea-editor" data-type="inline">
<div class="cm-editor cm-s-jupyter">
<div class="highlight hl-ipython3"><pre><span></span><span class="n">predict_price</span><span class="p">(</span><span class="s1">'1st Phase JP Nagar'</span><span class="p">,</span><span class="mi">1000</span><span class="p">,</span> <span class="mi">2</span><span class="p">,</span> <span class="mi">2</span><span class="p">)</span>
</pre></div>
</div>
</div>
</div>
</div>
<div class="jp-Cell-outputWrapper">
<div class="jp-Collapser jp-OutputCollapser jp-Cell-outputCollapser">
</div>
<div class="jp-OutputArea jp-Cell-outputArea">
<div class="jp-OutputArea-child">
<div class="jp-OutputPrompt jp-OutputArea-prompt"></div>
<div class="jp-RenderedText jp-OutputArea-output" data-mime-type="application/vnd.jupyter.stderr" tabindex="0">
<pre>c:\Users\User\AppData\Local\Programs\Python\Python311\Lib\site-packages\sklearn\base.py:493: UserWarning: X does not have valid feature names, but LinearRegression was fitted with feature names
  warnings.warn(
</pre>
</div>
</div>
<div class="jp-OutputArea-child jp-OutputArea-executeResult">
<div class="jp-OutputPrompt jp-OutputArea-prompt">Out[ ]:</div>
<div class="jp-RenderedText jp-OutputArea-output jp-OutputArea-executeResult" data-mime-type="text/plain" tabindex="0">
<pre>83.49904677188121</pre>
</div>
</div>
</div>
</div>
</div><div class="jp-Cell jp-CodeCell jp-Notebook-cell">
<div class="jp-Cell-inputWrapper" tabindex="0">
<div class="jp-Collapser jp-InputCollapser jp-Cell-inputCollapser">
</div>
<div class="jp-InputArea jp-Cell-inputArea">
<div class="jp-InputPrompt jp-InputArea-prompt">In [ ]:</div>
<div class="jp-CodeMirrorEditor jp-Editor jp-InputArea-editor" data-type="inline">
<div class="cm-editor cm-s-jupyter">
<div class="highlight hl-ipython3"><pre><span></span><span class="n">predict_price</span><span class="p">(</span><span class="s1">'1st Phase JP Nagar'</span><span class="p">,</span><span class="mi">1000</span><span class="p">,</span> <span class="mi">3</span><span class="p">,</span> <span class="mi">3</span><span class="p">)</span>
</pre></div>
</div>
</div>
</div>
</div>
<div class="jp-Cell-outputWrapper">
<div class="jp-Collapser jp-OutputCollapser jp-Cell-outputCollapser">
</div>
<div class="jp-OutputArea jp-Cell-outputArea">
<div class="jp-OutputArea-child">
<div class="jp-OutputPrompt jp-OutputArea-prompt"></div>
<div class="jp-RenderedText jp-OutputArea-output" data-mime-type="application/vnd.jupyter.stderr" tabindex="0">
<pre>c:\Users\User\AppData\Local\Programs\Python\Python311\Lib\site-packages\sklearn\base.py:493: UserWarning: X does not have valid feature names, but LinearRegression was fitted with feature names
  warnings.warn(
</pre>
</div>
</div>
<div class="jp-OutputArea-child jp-OutputArea-executeResult">
<div class="jp-OutputPrompt jp-OutputArea-prompt">Out[ ]:</div>
<div class="jp-RenderedText jp-OutputArea-output jp-OutputArea-executeResult" data-mime-type="text/plain" tabindex="0">
<pre>86.80519395214795</pre>
</div>
</div>
</div>
</div>
</div><div class="jp-Cell jp-CodeCell jp-Notebook-cell">
<div class="jp-Cell-inputWrapper" tabindex="0">
<div class="jp-Collapser jp-InputCollapser jp-Cell-inputCollapser">
</div>
<div class="jp-InputArea jp-Cell-inputArea">
<div class="jp-InputPrompt jp-InputArea-prompt">In [ ]:</div>
<div class="jp-CodeMirrorEditor jp-Editor jp-InputArea-editor" data-type="inline">
<div class="cm-editor cm-s-jupyter">
<div class="highlight hl-ipython3"><pre><span></span><span class="n">predict_price</span><span class="p">(</span><span class="s1">'Indira Nagar'</span><span class="p">,</span><span class="mi">1000</span><span class="p">,</span> <span class="mi">2</span><span class="p">,</span> <span class="mi">2</span><span class="p">)</span>
</pre></div>
</div>
</div>
</div>
</div>
<div class="jp-Cell-outputWrapper">
<div class="jp-Collapser jp-OutputCollapser jp-Cell-outputCollapser">
</div>
<div class="jp-OutputArea jp-Cell-outputArea">
<div class="jp-OutputArea-child">
<div class="jp-OutputPrompt jp-OutputArea-prompt"></div>
<div class="jp-RenderedText jp-OutputArea-output" data-mime-type="application/vnd.jupyter.stderr" tabindex="0">
<pre>c:\Users\User\AppData\Local\Programs\Python\Python311\Lib\site-packages\sklearn\base.py:493: UserWarning: X does not have valid feature names, but LinearRegression was fitted with feature names
  warnings.warn(
</pre>
</div>
</div>
<div class="jp-OutputArea-child jp-OutputArea-executeResult">
<div class="jp-OutputPrompt jp-OutputArea-prompt">Out[ ]:</div>
<div class="jp-RenderedText jp-OutputArea-output jp-OutputArea-executeResult" data-mime-type="text/plain" tabindex="0">
<pre>181.27815484006692</pre>
</div>
</div>
</div>
</div>
</div>
<div class="jp-Cell jp-MarkdownCell jp-Notebook-cell">
<div class="jp-Cell-inputWrapper" tabindex="0">
<div class="jp-Collapser jp-InputCollapser jp-Cell-inputCollapser">
</div>
<div class="jp-InputArea jp-Cell-inputArea"><div class="jp-InputPrompt jp-InputArea-prompt">
</div><div class="jp-RenderedHTMLCommon jp-RenderedMarkdown jp-MarkdownOutput" data-mime-type="text/markdown">
<h2 style="color:yellow">Export the tested model to a pickle file</h2>
</div>
</div>
</div>
</div><div class="jp-Cell jp-CodeCell jp-Notebook-cell jp-mod-noOutputs">
<div class="jp-Cell-inputWrapper" tabindex="0">
<div class="jp-Collapser jp-InputCollapser jp-Cell-inputCollapser">
</div>
<div class="jp-InputArea jp-Cell-inputArea">
<div class="jp-InputPrompt jp-InputArea-prompt">In [ ]:</div>
<div class="jp-CodeMirrorEditor jp-Editor jp-InputArea-editor" data-type="inline">
<div class="cm-editor cm-s-jupyter">
<div class="highlight hl-ipython3"><pre><span></span><span class="kn">import</span> <span class="nn">pickle</span>
<span class="k">with</span> <span class="nb">open</span><span class="p">(</span><span class="s1">'banglore_home_prices_model.pickle'</span><span class="p">,</span><span class="s1">'wb'</span><span class="p">)</span> <span class="k">as</span> <span class="n">f</span><span class="p">:</span>
    <span class="n">pickle</span><span class="o">.</span><span class="n">dump</span><span class="p">(</span><span class="n">lr_clf</span><span class="p">,</span><span class="n">f</span><span class="p">)</span>
</pre></div>
</div>
</div>
</div>
</div>
</div>
<div class="jp-Cell jp-MarkdownCell jp-Notebook-cell">
<div class="jp-Cell-inputWrapper" tabindex="0">
<div class="jp-Collapser jp-InputCollapser jp-Cell-inputCollapser">
</div>
<div class="jp-InputArea jp-Cell-inputArea"><div class="jp-InputPrompt jp-InputArea-prompt">
</div><div class="jp-RenderedHTMLCommon jp-RenderedMarkdown jp-MarkdownOutput" data-mime-type="text/markdown">
<h2 style="color:yellow">Export location and column information to a file that will be useful later on in our prediction application</h2>
</div>
</div>
</div>
</div><div class="jp-Cell jp-CodeCell jp-Notebook-cell jp-mod-noOutputs">
<div class="jp-Cell-inputWrapper" tabindex="0">
<div class="jp-Collapser jp-InputCollapser jp-Cell-inputCollapser">
</div>
<div class="jp-InputArea jp-Cell-inputArea">
<div class="jp-InputPrompt jp-InputArea-prompt">In [ ]:</div>
<div class="jp-CodeMirrorEditor jp-Editor jp-InputArea-editor" data-type="inline">
<div class="cm-editor cm-s-jupyter">
<div class="highlight hl-ipython3"><pre><span></span><span class="kn">import</span> <span class="nn">json</span>
<span class="n">columns</span> <span class="o">=</span> <span class="p">{</span>
    <span class="s1">'data_columns'</span> <span class="p">:</span> <span class="p">[</span><span class="n">col</span><span class="o">.</span><span class="n">lower</span><span class="p">()</span> <span class="k">for</span> <span class="n">col</span> <span class="ow">in</span> <span class="n">X</span><span class="o">.</span><span class="n">columns</span><span class="p">]</span>
<span class="p">}</span>
<span class="k">with</span> <span class="nb">open</span><span class="p">(</span><span class="s2">"columns.json"</span><span class="p">,</span><span class="s2">"w"</span><span class="p">)</span> <span class="k">as</span> <span class="n">f</span><span class="p">:</span>
    <span class="n">f</span><span class="o">.</span><span class="n">write</span><span class="p">(</span><span class="n">json</span><span class="o">.</span><span class="n">dumps</span><span class="p">(</span><span class="n">columns</span><span class="p">))</span>
</pre></div>
</div>
</div>
</div>
</div>
</div>
</main>
</body>
</html>
